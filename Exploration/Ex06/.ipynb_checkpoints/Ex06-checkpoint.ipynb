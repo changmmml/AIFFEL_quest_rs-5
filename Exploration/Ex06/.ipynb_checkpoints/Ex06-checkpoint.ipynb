{
 "cells": [
  {
   "cell_type": "code",
   "execution_count": 1,
   "id": "14cd27c3",
   "metadata": {},
   "outputs": [
    {
     "name": "stderr",
     "output_type": "stream",
     "text": [
      "[nltk_data] Downloading package stopwords to /aiffel/nltk_data...\n",
      "[nltk_data]   Package stopwords is already up-to-date!\n"
     ]
    }
   ],
   "source": [
    "import nltk\n",
    "nltk.download('stopwords')\n",
    "\n",
    "import numpy as np\n",
    "import pandas as pd\n",
    "import os\n",
    "import re\n",
    "import matplotlib.pyplot as plt\n",
    "from nltk.corpus import stopwords\n",
    "from bs4 import BeautifulSoup \n",
    "import matplotlib.pyplot as plt\n",
    "from tensorflow.keras.preprocessing.text import Tokenizer \n",
    "from tensorflow.keras.preprocessing.sequence import pad_sequences\n",
    "import urllib.request\n",
    "import warnings\n",
    "warnings.filterwarnings(\"ignore\", category=UserWarning, module='bs4')"
   ]
  },
  {
   "cell_type": "code",
   "execution_count": 2,
   "id": "0d63b088",
   "metadata": {},
   "outputs": [],
   "source": [
    "# text 데이터 컬럼에 true인 사전 생성\n",
    "def make_choice_dic(data, columne_name):\n",
    "    choice_list = [False for i in range(len(columne_name))]\n",
    "    lenpriorlist = []\n",
    "    for name in columne_name:\n",
    "        lencolone = len(data[name][0])\n",
    "        lenpriorlist.append(lencolone)\n",
    "    true_index = lenpriorlist.index(max(lenpriorlist))\n",
    "    choice_list[true_index] = True\n",
    "    choice_dic = {name : value for name, value in zip(columne_name, choice_list)}\n",
    "    return choice_dic\n",
    "\n",
    "# 데이터 중복 제거 및 Null값 제거\n",
    "def cut_dup_null(data, columne_name, choice_dic):\n",
    "    print('전체 샘플수 :', len(data))\n",
    "    for name in columne_name:\n",
    "        if choice_dic[name]:\n",
    "            data.drop_duplicates(subset = name, inplace=True)\n",
    "        data.replace('', np.nan, inplace=True)\n",
    "        data.dropna(axis=0, inplace=True)\n",
    "    print('전처리 이후 샘플수 :', len(data))\n",
    "    return data\n",
    "\n",
    "# 불용어 삭제 및 텍스트 정규화\n",
    "def cut_stopword(data, columne_name, choice_dic, contractions):\n",
    "    def preprocess_sentence(sentence, remove_stopwords):\n",
    "        sentence = sentence.lower()\n",
    "        sentence = BeautifulSoup(sentence, \"lxml\").text\n",
    "        sentence = re.sub(r'\\([^)]*\\)', '', sentence)\n",
    "        sentence = re.sub('\"','', sentence)\n",
    "        sentence = ' '.join([contractions[t] if t in contractions else t for t in sentence.split(\" \")])\n",
    "        sentence = re.sub(r\"'s\\b\",\"\", sentence)\n",
    "        sentence = re.sub(\"[^a-zA-Z]\", \" \", sentence)\n",
    "        sentence = re.sub('[m]{2,}', 'mm', sentence)\n",
    "        \n",
    "        if remove_stopwords:\n",
    "            tokens = ' '.join(word for word in sentence.split() if not word in stopwords.words('english') if len(word) > 1)\n",
    "            \n",
    "        else:\n",
    "            tokens = ' '.join(word for word in sentence.split() if len(word) > 1)\n",
    "            \n",
    "        return tokens\n",
    "    \n",
    "    return_data = []\n",
    "    for name in columne_name:\n",
    "        return_col = []\n",
    "        for seq in data[name]:\n",
    "            tokens = preprocess_sentence(seq, choice_dic[name])\n",
    "            return_col.append(tokens)\n",
    "        return_data.append(return_col)\n",
    "        \n",
    "    for i, name in enumerate(columne_name):\n",
    "        data[name] = return_data[i]\n",
    "        \n",
    "    data.replace('', np.nan, inplace=True)\n",
    "    data.dropna(axis=0, inplace=True)\n",
    "        \n",
    "    return data\n",
    "\n",
    "# 샘플 길이 결정을 위한 시각화 함수\n",
    "def visual_len(data, columne_name, choice_dic):\n",
    "    for name in columne_name:\n",
    "        if choice_dic[name]:\n",
    "            text_len = [len(s.split()) for s in data[name]]\n",
    "        else:\n",
    "            summary_len = [len(s.split()) for s in data[name]]\n",
    "        \n",
    "    print('텍스트의 최소 길이 : {}'.format(np.min(text_len)))\n",
    "    print('텍스트의 최대 길이 : {}'.format(np.max(text_len)))\n",
    "    print('텍스트의 평균 길이 : {}'.format(np.mean(text_len)))\n",
    "    print('텍스트의 길이 분산 : {}'.format(np.var(text_len)))\n",
    "    print('요약의 최소 길이 : {}'.format(np.min(summary_len)))\n",
    "    print('요약의 최대 길이 : {}'.format(np.max(summary_len)))\n",
    "    print('요약의 평균 길이 : {}'.format(np.mean(summary_len)))\n",
    "    print('요약의 길이 분산 : {}'.format(np.var(summary_len)))\n",
    "    \n",
    "    plt.title('Text')\n",
    "    plt.hist(text_len, bins = 40)\n",
    "    plt.xlabel('length of samples')\n",
    "    plt.ylabel('number of samples')\n",
    "    plt.show()\n",
    "    \n",
    "    plt.title('Summary')\n",
    "    plt.hist(summary_len, bins = 40)\n",
    "    plt.xlabel('length of samples')\n",
    "    plt.ylabel('number of samples')\n",
    "    plt.show()\n",
    "\n",
    "def per_len(data, choice_dic, max_len, wich_data=True):\n",
    "    reverce_choice_dic = {v:k for k,v in choice_dic.items()}\n",
    "    target_col = reverce_choice_dic[wich_data]\n",
    "    \n",
    "    cnt = 0\n",
    "    \n",
    "    for seq in data[target_col]:\n",
    "        if (len(seq.split()) <= max_len):\n",
    "            cnt = cnt + 1\n",
    "    \n",
    "    print('전체 샘플 중 길이가 %s 이하인 샘플의 비율: %s'%(max_len, (cnt / len(data[target_col]))))\n",
    "    \n",
    "    return\n",
    "\n",
    "\n",
    "def cut_long(data, columne_name, choice_dic, max_len, sub_max_len):\n",
    "    return_list = []\n",
    "    \n",
    "    for name in columne_name:\n",
    "        return_col = []\n",
    "        cut_len = 0\n",
    "        if choice_dic[name]:\n",
    "            cut_len = max_len\n",
    "        else:\n",
    "            cut_len = sub_max_len\n",
    "        for seq in data[name]:\n",
    "            if len(seq.split()) > cut_len :\n",
    "                return_seq = ''\n",
    "            else :\n",
    "                return_seq = seq\n",
    "            return_col.append(return_seq)\n",
    "        return_list.append(return_col)\n",
    "        \n",
    "    for i, name in enumerate(columne_name):\n",
    "        data[name] = return_list[i]\n",
    "        \n",
    "    data.replace('', np.nan, inplace=True)\n",
    "    data.dropna(axis=0, inplace=True)\n",
    "    \n",
    "    len_list = [max_len, sub_max_len]\n",
    "    \n",
    "    print('길이 처리 이후 샘플 수 :', (len(data)))\n",
    "    \n",
    "    return data, len_list\n",
    "\n",
    "\n",
    "def add_token_split(data, columne_name, choice_dic, spilt_rate = 0.8, surffle = True):\n",
    "    reverce_choice_dic = {v:k for k,v in choice_dic.items()}\n",
    "    text_col = reverce_choice_dic[True]\n",
    "    target_col = reverce_choice_dic[False]\n",
    "    \n",
    "    data['decoder_input'] = data[target_col].apply(lambda x : 'sostoken '+ x)\n",
    "    data['decoder_target'] = data[target_col].apply(lambda x : x + ' eostoken')\n",
    "    \n",
    "    encoder_input = np.array(data[text_col])\n",
    "    decoder_input = np.array(data['decoder_input'])\n",
    "    decoder_target = np.array(data['decoder_target'])\n",
    "    \n",
    "    if surffle == True :\n",
    "        indices = np.arange(encoder_input.shape[0])\n",
    "        np.random.shuffle(indices)\n",
    "        \n",
    "        encoder_input = encoder_input[indices]\n",
    "        decoder_input = decoder_input[indices]\n",
    "        decoder_target = decoder_target[indices]\n",
    "        \n",
    "    n_of_val = int(len(encoder_input)*spilt_rate)\n",
    "    \n",
    "    encoder_input_train = encoder_input[:-n_of_val]\n",
    "    decoder_input_train = decoder_input[:-n_of_val]\n",
    "    decoder_target_train = decoder_target[:-n_of_val]\n",
    "    \n",
    "    encoder_input_test = encoder_input[-n_of_val:]\n",
    "    decoder_input_test = decoder_input[-n_of_val:]\n",
    "    decoder_target_test = decoder_target[-n_of_val:]\n",
    "    \n",
    "    seq2seq_data = [encoder_input_train, decoder_input_train, decoder_target_train, \n",
    "                    encoder_input_test, decoder_input_test, decoder_target_test]\n",
    "    \n",
    "    return seq2seq_data"
   ]
  },
  {
   "cell_type": "code",
   "execution_count": 3,
   "id": "714441cd",
   "metadata": {},
   "outputs": [],
   "source": [
    "def check_voca_rate(seq2seq_data, e_word, d_word):\n",
    "    src_tokenizer = Tokenizer()\n",
    "    src_tokenizer.fit_on_texts(seq2seq_data[0])\n",
    "    \n",
    "    tar_tokenizer = Tokenizer()\n",
    "    tar_tokenizer.fit_on_texts(seq2seq_data[1])\n",
    "    \n",
    "    name_list = ['텍스트', '요약']\n",
    "    word_num_list = [e_word, d_word]\n",
    "    tokenizer_list = [src_tokenizer.word_index, tar_tokenizer.word_index]\n",
    "    tokenizer_word_list = [src_tokenizer.word_counts.items(), tar_tokenizer.word_counts.items()]\n",
    "    \n",
    "    for name, num, tok, toki in zip(name_list, word_num_list, tokenizer_list, tokenizer_word_list):\n",
    "        threshold = num\n",
    "        total_cnt = len(tok)\n",
    "        rare_cnt = 0\n",
    "        total_freq = 0\n",
    "        rare_freq = 0\n",
    "        \n",
    "        for key, value in toki:\n",
    "            total_freq = total_freq + value\n",
    "            if(value < threshold):\n",
    "                rare_cnt = rare_cnt + 1\n",
    "                rare_freq = rare_freq + value\n",
    "            \n",
    "        print(name + ' 단어 집합(vocabulary)의 크기 :', total_cnt)\n",
    "        print(name + ' 등장 빈도가 %s번 이하인 희귀 단어의 수: %s'%(threshold - 1, rare_cnt))\n",
    "        print(name + ' 단어 집합에서 희귀 단어를 제외시킬 경우의 단어 집합의 크기 %s'%(total_cnt - rare_cnt))\n",
    "        print(name + \" 단어 집합에서 희귀 단어의 비율:\", (rare_cnt / total_cnt)*100)\n",
    "        print(name + \" 전체 등장 빈도에서 희귀 단어 등장 빈도 비율:\", (rare_freq / total_freq)*100)\n",
    "\n",
    "        \n",
    "def encoding_voca(seq2seq_data, src_vocab, tar_vocab, len_list, padding_pyte='pre'):\n",
    "    src_tokenizer = Tokenizer(num_words=src_vocab)\n",
    "    src_tokenizer.fit_on_texts(seq2seq_data[0])\n",
    "    \n",
    "    tar_tokenizer = Tokenizer(tar_vocab)\n",
    "    tar_tokenizer.fit_on_texts(seq2seq_data[1])\n",
    "    tar_tokenizer.fit_on_texts(seq2seq_data[2])\n",
    "    \n",
    "    seq2seq_data[0] = src_tokenizer.texts_to_sequences(seq2seq_data[0])\n",
    "    seq2seq_data[3] = src_tokenizer.texts_to_sequences(seq2seq_data[3])\n",
    "    seq2seq_data[1] = tar_tokenizer.texts_to_sequences(seq2seq_data[1])\n",
    "    seq2seq_data[2] = tar_tokenizer.texts_to_sequences(seq2seq_data[2])\n",
    "    seq2seq_data[4] = tar_tokenizer.texts_to_sequences(seq2seq_data[4])\n",
    "    seq2seq_data[5] = tar_tokenizer.texts_to_sequences(seq2seq_data[5])\n",
    "    \n",
    "    drop_train = [index for index, sentence in enumerate(seq2seq_data[1]) if len(sentence) == 1]\n",
    "    drop_test = [index for index, sentence in enumerate(seq2seq_data[4]) if len(sentence) == 1]\n",
    "    \n",
    "    seq2seq_data[0] = [sentence for index, sentence in enumerate(seq2seq_data[0]) if index not in drop_train]\n",
    "    seq2seq_data[1] = [sentence for index, sentence in enumerate(seq2seq_data[1]) if index not in drop_train]\n",
    "    seq2seq_data[2] = [sentence for index, sentence in enumerate(seq2seq_data[2]) if index not in drop_train]\n",
    "    \n",
    "    seq2seq_data[3] = [sentence for index, sentence in enumerate(seq2seq_data[3]) if index not in drop_test]\n",
    "    seq2seq_data[4] = [sentence for index, sentence in enumerate(seq2seq_data[4]) if index not in drop_test]\n",
    "    seq2seq_data[5] = [sentence for index, sentence in enumerate(seq2seq_data[5]) if index not in drop_test]\n",
    "    \n",
    "    seq2seq_data[0] = pad_sequences(seq2seq_data[0], maxlen=len_list[0], padding=padding_pyte)\n",
    "    seq2seq_data[3] = pad_sequences(seq2seq_data[3], maxlen=len_list[0], padding=padding_pyte)\n",
    "    seq2seq_data[1] = pad_sequences(seq2seq_data[1], maxlen=len_list[1], padding=padding_pyte)\n",
    "    seq2seq_data[2] = pad_sequences(seq2seq_data[2], maxlen=len_list[1], padding=padding_pyte)\n",
    "    seq2seq_data[4] = pad_sequences(seq2seq_data[4], maxlen=len_list[1], padding=padding_pyte)\n",
    "    seq2seq_data[5] = pad_sequences(seq2seq_data[5], maxlen=len_list[1], padding=padding_pyte)\n",
    "    \n",
    "    voca_num = [src_vocab, tar_vocab]\n",
    "    \n",
    "    return seq2seq_data, voca_num, src_tokenizer, tar_tokenizer\n",
    "\n",
    "def decode_sequence(encoder_model, decoder_model, input_seq, tar_tokenizer, summary_max_len):\n",
    "    tar_word_to_index = tar_tokenizer.word_index\n",
    "    tar_index_to_word = tar_tokenizer.index_word\n",
    "    \n",
    "    # 입력으로부터 인코더의 상태를 얻음\n",
    "    e_out, e_h, e_c = encoder_model.predict(input_seq)\n",
    "\n",
    "     # <SOS>에 해당하는 토큰 생성\n",
    "    target_seq = np.zeros((1,1))\n",
    "    target_seq[0, 0] = tar_word_to_index['sostoken']\n",
    "\n",
    "    stop_condition = False\n",
    "    decoded_sentence = ''\n",
    "    while not stop_condition:        \n",
    "        output_tokens, h, c = decoder_model.predict([target_seq] + [e_out, e_h, e_c])\n",
    "        sampled_token_index = np.argmax(output_tokens[0, -1, :])\n",
    "        sampled_token = tar_index_to_word[sampled_token_index]\n",
    "        \n",
    "        if (sampled_token!='eostoken'):\n",
    "            decoded_sentence += ' '+sampled_token\n",
    "            \n",
    "        #  <eos>에 도달하거나 최대 길이를 넘으면 중단.\n",
    "        if (sampled_token == 'eostoken'  or len(decoded_sentence.split()) >= (summary_max_len-1)):\n",
    "            stop_condition = True\n",
    "            \n",
    "        # 길이가 1인 타겟 시퀀스를 업데이트\n",
    "        target_seq = np.zeros((1,1))\n",
    "        target_seq[0, 0] = sampled_token_index\n",
    "        \n",
    "        # 상태를 업데이트 합니다.\n",
    "        e_h, e_c = h, c\n",
    "        \n",
    "    return decoded_sentence\n",
    "\n",
    "\n",
    "def seq2text(input_seq, src_tokenizer):\n",
    "    src_index_to_word = src_tokenizer.index_word\n",
    "    \n",
    "    temp=''\n",
    "    for i in input_seq:\n",
    "        if (i!=0):\n",
    "            temp = temp + src_index_to_word[i]+' '\n",
    "    return temp\n",
    "\n",
    "def seq2summary(input_seq, tar_tokenizer):\n",
    "    tar_index_to_word = tar_tokenizer.index_word\n",
    "    temp=''\n",
    "    for i in input_seq:\n",
    "        if (i!=0):\n",
    "            temp = temp + tar_index_to_word[i]+' '\n",
    "    return temp"
   ]
  },
  {
   "cell_type": "markdown",
   "id": "11ffba8f",
   "metadata": {},
   "source": [
    "## 데이터 import 및 전처리"
   ]
  },
  {
   "cell_type": "markdown",
   "id": "bca235f2",
   "metadata": {},
   "source": [
    "### 데이터 import"
   ]
  },
  {
   "cell_type": "code",
   "execution_count": 4,
   "id": "f3bbe6fb",
   "metadata": {},
   "outputs": [],
   "source": [
    "import urllib.request\n",
    "urllib.request.urlretrieve(\"https://raw.githubusercontent.com/sunnysai12345/News_Summary/master/news_summary_more.csv\", filename=\"news_summary_more.csv\")\n",
    "data0 = pd.read_csv('news_summary_more.csv', encoding='iso-8859-1')"
   ]
  },
  {
   "cell_type": "markdown",
   "id": "cd4bf8de",
   "metadata": {},
   "source": [
    "### 불용어 및 정규화 사전 생성"
   ]
  },
  {
   "cell_type": "code",
   "execution_count": 5,
   "id": "6b67d279",
   "metadata": {
    "scrolled": true
   },
   "outputs": [
    {
     "name": "stdout",
     "output_type": "stream",
     "text": [
      "정규화 사전의 수:  120\n",
      "불용어 개수 : 179\n"
     ]
    }
   ],
   "source": [
    "contractions = {\"ain't\": \"is not\", \"aren't\": \"are not\",\"can't\": \"cannot\", \"'cause\": \"because\", \"could've\": \"could have\", \"couldn't\": \"could not\", \"didn't\": \"did not\",  \"doesn't\": \"does not\", \"don't\": \"do not\", \"hadn't\": \"had not\", \"hasn't\": \"has not\", \"haven't\": \"have not\", \"he'd\": \"he would\",\"he'll\": \"he will\", \"he's\": \"he is\", \"how'd\": \"how did\", \"how'd'y\": \"how do you\", \"how'll\": \"how will\", \"how's\": \"how is\", \"I'd\": \"I would\", \"I'd've\": \"I would have\", \"I'll\": \"I will\", \"I'll've\": \"I will have\",\"I'm\": \"I am\", \"I've\": \"I have\", \"i'd\": \"i would\", \"i'd've\": \"i would have\", \"i'll\": \"i will\",  \"i'll've\": \"i will have\",\"i'm\": \"i am\", \"i've\": \"i have\", \"isn't\": \"is not\", \"it'd\": \"it would\", \"it'd've\": \"it would have\", \"it'll\": \"it will\", \"it'll've\": \"it will have\",\"it's\": \"it is\", \"let's\": \"let us\", \"ma'am\": \"madam\", \"mayn't\": \"may not\", \"might've\": \"might have\",\"mightn't\": \"might not\",\"mightn't've\": \"might not have\", \"must've\": \"must have\", \"mustn't\": \"must not\", \"mustn't've\": \"must not have\", \"needn't\": \"need not\", \"needn't've\": \"need not have\",\"o'clock\": \"of the clock\", \"oughtn't\": \"ought not\", \"oughtn't've\": \"ought not have\", \"shan't\": \"shall not\", \"sha'n't\": \"shall not\", \"shan't've\": \"shall not have\", \"she'd\": \"she would\", \"she'd've\": \"she would have\", \"she'll\": \"she will\", \"she'll've\": \"she will have\", \"she's\": \"she is\", \"should've\": \"should have\", \"shouldn't\": \"should not\", \"shouldn't've\": \"should not have\", \"so've\": \"so have\",\"so's\": \"so as\", \"this's\": \"this is\",\"that'd\": \"that would\", \"that'd've\": \"that would have\", \"that's\": \"that is\", \"there'd\": \"there would\", \"there'd've\": \"there would have\", \"there's\": \"there is\", \"here's\": \"here is\",\"they'd\": \"they would\", \"they'd've\": \"they would have\", \"they'll\": \"they will\", \"they'll've\": \"they will have\", \"they're\": \"they are\", \"they've\": \"they have\", \"to've\": \"to have\", \"wasn't\": \"was not\", \"we'd\": \"we would\", \"we'd've\": \"we would have\", \"we'll\": \"we will\", \"we'll've\": \"we will have\", \"we're\": \"we are\", \"we've\": \"we have\", \"weren't\": \"were not\", \"what'll\": \"what will\", \"what'll've\": \"what will have\", \"what're\": \"what are\", \"what's\": \"what is\", \"what've\": \"what have\", \"when's\": \"when is\", \"when've\": \"when have\", \"where'd\": \"where did\", \"where's\": \"where is\", \"where've\": \"where have\", \"who'll\": \"who will\", \"who'll've\": \"who will have\", \"who's\": \"who is\", \"who've\": \"who have\", \"why's\": \"why is\", \"why've\": \"why have\", \"will've\": \"will have\", \"won't\": \"will not\", \"won't've\": \"will not have\", \"would've\": \"would have\", \"wouldn't\": \"would not\", \"wouldn't've\": \"would not have\", \"y'all\": \"you all\", \"y'all'd\": \"you all would\",\"y'all'd've\": \"you all would have\",\"y'all're\": \"you all are\",\"y'all've\": \"you all have\", \"you'd\": \"you would\", \"you'd've\": \"you would have\", \"you'll\": \"you will\", \"you'll've\": \"you will have\", \"you're\": \"you are\", \"you've\": \"you have\"}\n",
    "print(\"정규화 사전의 수: \", len(contractions))\n",
    "print('불용어 개수 :', len(stopwords.words('english') ))"
   ]
  },
  {
   "cell_type": "markdown",
   "id": "81b9218c",
   "metadata": {},
   "source": [
    "### 데이터 전처리(불용어, 정규화, 중복값, 결측값)"
   ]
  },
  {
   "cell_type": "code",
   "execution_count": 6,
   "id": "2eb7dbcf",
   "metadata": {},
   "outputs": [
    {
     "name": "stdout",
     "output_type": "stream",
     "text": [
      "전체 샘플수 : 98401\n",
      "전처리 이후 샘플수 : 98360\n"
     ]
    }
   ],
   "source": [
    "columne_name = ['text', 'headlines']\n",
    "\n",
    "choice_dic = make_choice_dic(data0, columne_name)\n",
    "\n",
    "data1 = data0\n",
    "\n",
    "data1 = cut_dup_null(data1, columne_name, choice_dic)\n",
    "\n",
    "data2 = data1\n",
    "\n",
    "data2 = cut_stopword(data2, columne_name, choice_dic, contractions)"
   ]
  },
  {
   "cell_type": "markdown",
   "id": "3981cb9f",
   "metadata": {},
   "source": [
    "### 데이터 분할 및 텍스트 길이 설정"
   ]
  },
  {
   "cell_type": "markdown",
   "id": "8dd00dc7",
   "metadata": {},
   "source": [
    "- 텍스트 길이를 설정하기 위해 분포 확인"
   ]
  },
  {
   "cell_type": "code",
   "execution_count": 7,
   "id": "8ef7fe98",
   "metadata": {},
   "outputs": [
    {
     "name": "stdout",
     "output_type": "stream",
     "text": [
      "텍스트의 최소 길이 : 1\n",
      "텍스트의 최대 길이 : 60\n",
      "텍스트의 평균 길이 : 35.09968483123221\n",
      "텍스트의 길이 분산 : 14.435335402905325\n",
      "요약의 최소 길이 : 1\n",
      "요약의 최대 길이 : 16\n",
      "요약의 평균 길이 : 9.299532330215534\n",
      "요약의 길이 분산 : 1.932362530369967\n"
     ]
    },
    {
     "data": {
      "image/png": "[encoded data removed]",
      "text/plain": [
       "<Figure size 432x288 with 1 Axes>"
      ]
     },
     "metadata": {
      "needs_background": "light"
     },
     "output_type": "display_data"
    },
    {
     "data": {
      "image/png": "[encoded data removed]",
      "text/plain": [
       "<Figure size 432x288 with 1 Axes>"
      ]
     },
     "metadata": {
      "needs_background": "light"
     },
     "output_type": "display_data"
    }
   ],
   "source": [
    "visual_len(data2, columne_name, choice_dic)"
   ]
  },
  {
   "cell_type": "code",
   "execution_count": 8,
   "id": "d12200d7",
   "metadata": {},
   "outputs": [
    {
     "name": "stdout",
     "output_type": "stream",
     "text": [
      "전체 샘플 중 길이가 38 이하인 샘플의 비율: 0.8163379422529483\n",
      "전체 샘플 중 길이가 10 이하인 샘플의 비율: 0.8162972753151687\n"
     ]
    }
   ],
   "source": [
    "per_len(data2, choice_dic, 38, True)\n",
    "per_len(data2, choice_dic, 10, False)"
   ]
  },
  {
   "cell_type": "markdown",
   "id": "74aa08d5",
   "metadata": {},
   "source": [
    "- 위에서 확인한 분포 기반으로 길이 설정"
   ]
  },
  {
   "cell_type": "code",
   "execution_count": 9,
   "id": "5ff3993a",
   "metadata": {},
   "outputs": [
    {
     "name": "stdout",
     "output_type": "stream",
     "text": [
      "길이 처리 이후 샘플 수 : 65295\n"
     ]
    }
   ],
   "source": [
    "data3 = data2\n",
    "data3, len_list = cut_long(data3, columne_name, choice_dic, 38, 10)"
   ]
  },
  {
   "cell_type": "markdown",
   "id": "0d53ab69",
   "metadata": {},
   "source": [
    "- 데이터 분할 및 토큰화, 패딩"
   ]
  },
  {
   "cell_type": "code",
   "execution_count": 10,
   "id": "5546578a",
   "metadata": {},
   "outputs": [],
   "source": [
    "seq2seq_data = add_token_split(data3, columne_name, choice_dic, 0.2)"
   ]
  },
  {
   "cell_type": "code",
   "execution_count": 11,
   "id": "4392003a",
   "metadata": {},
   "outputs": [
    {
     "name": "stdout",
     "output_type": "stream",
     "text": [
      "(52236,)\n",
      "(13059,)\n"
     ]
    }
   ],
   "source": [
    "print(seq2seq_data[0].shape)\n",
    "print(seq2seq_data[3].shape)"
   ]
  },
  {
   "cell_type": "markdown",
   "id": "190210f6",
   "metadata": {},
   "source": [
    "- 데이터 사전에 드문 데이터 제거"
   ]
  },
  {
   "cell_type": "code",
   "execution_count": 12,
   "id": "5237db21",
   "metadata": {},
   "outputs": [
    {
     "name": "stdout",
     "output_type": "stream",
     "text": [
      "텍스트 단어 집합(vocabulary)의 크기 : 57574\n",
      "텍스트 등장 빈도가 6번 이하인 희귀 단어의 수: 39683\n",
      "텍스트 단어 집합에서 희귀 단어를 제외시킬 경우의 단어 집합의 크기 17891\n",
      "텍스트 단어 집합에서 희귀 단어의 비율: 68.92520929586271\n",
      "텍스트 전체 등장 빈도에서 희귀 단어 등장 빈도 비율: 4.547880954718689\n",
      "요약 단어 집합(vocabulary)의 크기 : 25850\n",
      "요약 등장 빈도가 5번 이하인 희귀 단어의 수: 17411\n",
      "요약 단어 집합에서 희귀 단어를 제외시킬 경우의 단어 집합의 크기 8439\n",
      "요약 단어 집합에서 희귀 단어의 비율: 67.35396518375242\n",
      "요약 전체 등장 빈도에서 희귀 단어 등장 빈도 비율: 6.483525261006699\n"
     ]
    }
   ],
   "source": [
    "check_voca_rate(seq2seq_data, 7, 6)"
   ]
  },
  {
   "cell_type": "code",
   "execution_count": 13,
   "id": "af6beada",
   "metadata": {},
   "outputs": [],
   "source": [
    "seq2seq_data, voca_num, src_tokenizer, tar_tokenizer = encoding_voca(seq2seq_data, 18000, 8000, len_list)"
   ]
  },
  {
   "attachments": {
    "image-2.png": {
     "image/png": "[encoded data removed]"
    },
    "image-3.png": {
     "image/png": "[encoded data removed]"
    },
    "image.png": {
     "image/png": "[encoded data removed]"
    }
   },
   "cell_type": "markdown",
   "id": "3f1460f4",
   "metadata": {},
   "source": [
    "![image.png](attachment:image.png)\n",
    "![image-2.png](attachment:image-2.png)\n",
    "- 변수명으로 인하여 지속적으로 오류가 있었음\n",
    "\n",
    "![image-3.png](attachment:image-3.png)\n",
    "(정상 결과)\n",
    "\n",
    "\n",
    "- 변수를 리스트로 함축하여 함수에 넣을 수 있다면 수정이 더 편이할 것"
   ]
  },
  {
   "cell_type": "markdown",
   "id": "59206077",
   "metadata": {},
   "source": [
    "## 모델 구축 및 모델 학습"
   ]
  },
  {
   "cell_type": "code",
   "execution_count": 14,
   "id": "52718286",
   "metadata": {},
   "outputs": [],
   "source": [
    "from tensorflow.keras.layers import Input, LSTM, Embedding, Dense, Concatenate, TimeDistributed\n",
    "from tensorflow.keras.models import Model\n",
    "from tensorflow.keras.callbacks import EarlyStopping, ModelCheckpoint\n",
    "from tensorflow.keras.layers import AdditiveAttention"
   ]
  },
  {
   "cell_type": "markdown",
   "id": "ac49734a",
   "metadata": {},
   "source": [
    "### 모델 구축\n",
    "\n",
    "- 3층 구조 인코더 구조 구축\n",
    "    - src_voca 및 max_len 값은 위에서 전처리 과정중 모두 저장해 둘 수 있게 해두었음\n",
    "    \n",
    "- 단일층 디코더 구조 구축\n",
    "    - tar_vocab도 위 내용과 동일 준비하였음\n",
    "\n",
    "- 어텐션 층 구축"
   ]
  },
  {
   "cell_type": "code",
   "execution_count": 15,
   "id": "8d7c455d",
   "metadata": {},
   "outputs": [],
   "source": [
    "embedding_dim = 128\n",
    "hidden_size = 256\n",
    "src_vocab = voca_num[0]\n",
    "tar_vocab = voca_num[1]\n",
    "text_max_len = len_list[0]\n",
    "summary_max_len = len_list[0]"
   ]
  },
  {
   "cell_type": "code",
   "execution_count": 16,
   "id": "02c3d057",
   "metadata": {},
   "outputs": [],
   "source": [
    "e_x_train = seq2seq_data[0]\n",
    "d_x_train = seq2seq_data[1]\n",
    "d_l_train = seq2seq_data[2]\n",
    "e_x_test = seq2seq_data[3]\n",
    "d_x_test = seq2seq_data[4]\n",
    "d_l_test = seq2seq_data[5]"
   ]
  },
  {
   "cell_type": "code",
   "execution_count": 17,
   "id": "6fd12446",
   "metadata": {},
   "outputs": [],
   "source": [
    "# 인코더\n",
    "encoder_inputs = Input(shape=(text_max_len,))\n",
    "enc_emb = Embedding(src_vocab, embedding_dim)(encoder_inputs)\n",
    "\n",
    "encoder_lstm1 = LSTM(hidden_size, return_sequences=True, return_state=True ,dropout = 0.4)\n",
    "encoder_output1, state_h1, state_c1 = encoder_lstm1(enc_emb)\n",
    "\n",
    "encoder_lstm2 = LSTM(hidden_size, return_sequences=True, return_state=True ,dropout = 0.4)\n",
    "encoder_output2, state_h2, state_c2 = encoder_lstm2(encoder_output1)\n",
    "\n",
    "encoder_lstm3 = LSTM(hidden_size, return_sequences=True, return_state=True ,dropout = 0.4)\n",
    "encoder_outputs, state_h, state_c = encoder_lstm3(encoder_output2)"
   ]
  },
  {
   "cell_type": "code",
   "execution_count": 18,
   "id": "bc367e20",
   "metadata": {},
   "outputs": [],
   "source": [
    "# 디코더\n",
    "decoder_inputs = Input(shape=(None,))\n",
    "\n",
    "dec_emb_layer = Embedding(tar_vocab, embedding_dim)\n",
    "dec_emb = dec_emb_layer(decoder_inputs)\n",
    "\n",
    "decoder_lstm = LSTM(hidden_size, return_sequences=True, return_state=True, dropout=0.4)\n",
    "decoder_outputs, _, _ = decoder_lstm(dec_emb, initial_state=[state_h, state_c])"
   ]
  },
  {
   "cell_type": "code",
   "execution_count": 19,
   "id": "ceaed272",
   "metadata": {},
   "outputs": [],
   "source": [
    "# 어텐션 층\n",
    "attn_layer = AdditiveAttention(name='attention_layer')\n",
    "\n",
    "attn_out = attn_layer([decoder_outputs, encoder_outputs])\n",
    "\n",
    "decoder_concat_input = Concatenate(axis=-1, name='concat_layer')([decoder_outputs, attn_out])"
   ]
  },
  {
   "cell_type": "code",
   "execution_count": 20,
   "id": "52a40a35",
   "metadata": {},
   "outputs": [
    {
     "name": "stdout",
     "output_type": "stream",
     "text": [
      "Model: \"model\"\n",
      "__________________________________________________________________________________________________\n",
      "Layer (type)                    Output Shape         Param #     Connected to                     \n",
      "==================================================================================================\n",
      "input_1 (InputLayer)            [(None, 38)]         0                                            \n",
      "__________________________________________________________________________________________________\n",
      "embedding (Embedding)           (None, 38, 128)      2304000     input_1[0][0]                    \n",
      "__________________________________________________________________________________________________\n",
      "lstm (LSTM)                     [(None, 38, 256), (N 394240      embedding[0][0]                  \n",
      "__________________________________________________________________________________________________\n",
      "input_2 (InputLayer)            [(None, None)]       0                                            \n",
      "__________________________________________________________________________________________________\n",
      "lstm_1 (LSTM)                   [(None, 38, 256), (N 525312      lstm[0][0]                       \n",
      "__________________________________________________________________________________________________\n",
      "embedding_1 (Embedding)         (None, None, 128)    1024000     input_2[0][0]                    \n",
      "__________________________________________________________________________________________________\n",
      "lstm_2 (LSTM)                   [(None, 38, 256), (N 525312      lstm_1[0][0]                     \n",
      "__________________________________________________________________________________________________\n",
      "lstm_3 (LSTM)                   [(None, None, 256),  394240      embedding_1[0][0]                \n",
      "                                                                 lstm_2[0][1]                     \n",
      "                                                                 lstm_2[0][2]                     \n",
      "__________________________________________________________________________________________________\n",
      "attention_layer (AdditiveAttent (None, None, 256)    256         lstm_3[0][0]                     \n",
      "                                                                 lstm_2[0][0]                     \n",
      "__________________________________________________________________________________________________\n",
      "concat_layer (Concatenate)      (None, None, 512)    0           lstm_3[0][0]                     \n",
      "                                                                 attention_layer[0][0]            \n",
      "__________________________________________________________________________________________________\n",
      "dense (Dense)                   (None, None, 8000)   4104000     concat_layer[0][0]               \n",
      "==================================================================================================\n",
      "Total params: 9,271,360\n",
      "Trainable params: 9,271,360\n",
      "Non-trainable params: 0\n",
      "__________________________________________________________________________________________________\n"
     ]
    }
   ],
   "source": [
    "# 디코더 출력층\n",
    "decoder_softmax_layer = Dense(tar_vocab, activation='softmax')\n",
    "decoder_softmax_outputs = decoder_softmax_layer(decoder_concat_input) \n",
    "\n",
    "# 모델 정의\n",
    "model = Model([encoder_inputs, decoder_inputs], decoder_softmax_outputs)\n",
    "model.summary()"
   ]
  },
  {
   "attachments": {
    "image-2.png": {
     "image/png": "[encoded data removed]"
    },
    "image.png": {
     "image/png": "[encoded data removed]"
    }
   },
   "cell_type": "markdown",
   "id": "11699efc",
   "metadata": {},
   "source": [
    "- 추론 모델에서 추론이 안되는 문제가 발생\n",
    "    - 어텐션이 적용되지 않은 모델을 정의하고 있었음\n",
    "    ![image.png](attachment:image.png)\n",
    "    (수정전)\n",
    "    ![image-2.png](attachment:image-2.png)\n",
    "    (수정후)"
   ]
  },
  {
   "cell_type": "markdown",
   "id": "deb9b4b0",
   "metadata": {},
   "source": [
    "### 모델 학습"
   ]
  },
  {
   "cell_type": "code",
   "execution_count": 21,
   "id": "6033cd90",
   "metadata": {},
   "outputs": [
    {
     "name": "stdout",
     "output_type": "stream",
     "text": [
      "Epoch 1/30\n",
      "205/205 [==============================] - 23s 77ms/step - loss: 6.1637 - val_loss: 5.8114\n",
      "Epoch 2/30\n",
      "205/205 [==============================] - 15s 72ms/step - loss: 5.8037 - val_loss: 5.6778\n",
      "Epoch 3/30\n",
      "205/205 [==============================] - 15s 73ms/step - loss: 5.6195 - val_loss: 5.5150\n",
      "Epoch 4/30\n",
      "205/205 [==============================] - 15s 74ms/step - loss: 5.3706 - val_loss: 5.2301\n",
      "Epoch 5/30\n",
      "205/205 [==============================] - 15s 76ms/step - loss: 5.1150 - val_loss: 5.0420\n",
      "Epoch 6/30\n",
      "205/205 [==============================] - 16s 77ms/step - loss: 4.8954 - val_loss: 4.9163\n",
      "Epoch 7/30\n",
      "205/205 [==============================] - 16s 77ms/step - loss: 4.6971 - val_loss: 4.7715\n",
      "Epoch 8/30\n",
      "205/205 [==============================] - 16s 76ms/step - loss: 4.5193 - val_loss: 4.6644\n",
      "Epoch 9/30\n",
      "205/205 [==============================] - 16s 76ms/step - loss: 4.3608 - val_loss: 4.5850\n",
      "Epoch 10/30\n",
      "205/205 [==============================] - 16s 76ms/step - loss: 4.2177 - val_loss: 4.5058\n",
      "Epoch 11/30\n",
      "205/205 [==============================] - 16s 77ms/step - loss: 4.0859 - val_loss: 4.4412\n",
      "Epoch 12/30\n",
      "205/205 [==============================] - 16s 77ms/step - loss: 3.9629 - val_loss: 4.3942\n",
      "Epoch 13/30\n",
      "205/205 [==============================] - 16s 77ms/step - loss: 3.8508 - val_loss: 4.3238\n",
      "Epoch 14/30\n",
      "205/205 [==============================] - 16s 77ms/step - loss: 3.7481 - val_loss: 4.3056\n",
      "Epoch 15/30\n",
      "205/205 [==============================] - 16s 76ms/step - loss: 3.6535 - val_loss: 4.2721\n",
      "Epoch 16/30\n",
      "205/205 [==============================] - 16s 77ms/step - loss: 3.5594 - val_loss: 4.2449\n",
      "Epoch 17/30\n",
      "205/205 [==============================] - 16s 76ms/step - loss: 3.4761 - val_loss: 4.2199\n",
      "Epoch 18/30\n",
      "205/205 [==============================] - 16s 77ms/step - loss: 3.3962 - val_loss: 4.2344\n",
      "Epoch 19/30\n",
      "205/205 [==============================] - 16s 77ms/step - loss: 3.3234 - val_loss: 4.1935\n",
      "Epoch 20/30\n",
      "205/205 [==============================] - 16s 77ms/step - loss: 3.2519 - val_loss: 4.1971\n",
      "Epoch 21/30\n",
      "205/205 [==============================] - 16s 76ms/step - loss: 3.1819 - val_loss: 4.1582\n",
      "Epoch 22/30\n",
      "205/205 [==============================] - 16s 77ms/step - loss: 3.1177 - val_loss: 4.1659\n",
      "Epoch 23/30\n",
      "205/205 [==============================] - 16s 77ms/step - loss: 3.0552 - val_loss: 4.1721\n",
      "Epoch 24/30\n",
      "205/205 [==============================] - 16s 77ms/step - loss: 2.9953 - val_loss: 4.1690\n",
      "Epoch 25/30\n",
      "205/205 [==============================] - 16s 77ms/step - loss: 2.9414 - val_loss: 4.1758\n",
      "Epoch 26/30\n",
      "205/205 [==============================] - 16s 77ms/step - loss: 2.8885 - val_loss: 4.1879\n",
      "Epoch 27/30\n",
      "205/205 [==============================] - 16s 76ms/step - loss: 2.8336 - val_loss: 4.1682\n",
      "Epoch 28/30\n",
      "205/205 [==============================] - 16s 77ms/step - loss: 2.7833 - val_loss: 4.1973\n",
      "Epoch 29/30\n",
      "205/205 [==============================] - 16s 77ms/step - loss: 2.7387 - val_loss: 4.1691\n",
      "Epoch 30/30\n",
      "205/205 [==============================] - 16s 77ms/step - loss: 2.6944 - val_loss: 4.2003\n"
     ]
    }
   ],
   "source": [
    "model.compile(optimizer='rmsprop', loss='sparse_categorical_crossentropy')\n",
    "es = EarlyStopping(monitor='val_loss', patience=2, verbose=1)\n",
    "history = model.fit(x=[e_x_train, d_x_train], y=d_l_train, \\\n",
    "          validation_data=([e_x_test, d_x_test], d_l_test), \\\n",
    "          batch_size=256, epochs=30)"
   ]
  },
  {
   "cell_type": "markdown",
   "id": "94ce4792",
   "metadata": {},
   "source": [
    "- 결과 확인"
   ]
  },
  {
   "cell_type": "code",
   "execution_count": 22,
   "id": "e39a932e",
   "metadata": {},
   "outputs": [
    {
     "data": {
      "image/png": "[encoded data removed]",
      "text/plain": [
       "<Figure size 432x288 with 1 Axes>"
      ]
     },
     "metadata": {
      "needs_background": "light"
     },
     "output_type": "display_data"
    }
   ],
   "source": [
    "plt.plot(history.history['loss'], label='train')\n",
    "plt.plot(history.history['val_loss'], label='test')\n",
    "plt.legend()\n",
    "plt.show()"
   ]
  },
  {
   "cell_type": "markdown",
   "id": "0b5365c6",
   "metadata": {},
   "source": [
    "## 추론 모델 제작"
   ]
  },
  {
   "cell_type": "markdown",
   "id": "b69cac79",
   "metadata": {},
   "source": [
    "### 모델 구축"
   ]
  },
  {
   "cell_type": "code",
   "execution_count": 23,
   "id": "a2faa223",
   "metadata": {},
   "outputs": [],
   "source": [
    "# 인코더\n",
    "encoder_model = Model(inputs=encoder_inputs, outputs=[encoder_outputs, state_h, state_c])"
   ]
  },
  {
   "cell_type": "code",
   "execution_count": 24,
   "id": "de0b3c45",
   "metadata": {},
   "outputs": [],
   "source": [
    "# 디코더\n",
    "# 이전 시점의 상태들을 저장하는 텐서\n",
    "decoder_state_input_h = Input(shape=(hidden_size,))\n",
    "decoder_state_input_c = Input(shape=(hidden_size,))\n",
    "\n",
    "# 디코더 층 (출력 문장에 길이에 따른 반복 구조를 위함)\n",
    "dec_emb2 = dec_emb_layer(decoder_inputs)\n",
    "decoder_outputs2, state_h2, state_c2 = decoder_lstm(dec_emb2, initial_state=[decoder_state_input_h, decoder_state_input_c])"
   ]
  },
  {
   "cell_type": "code",
   "execution_count": 25,
   "id": "fa3cb14d",
   "metadata": {},
   "outputs": [],
   "source": [
    "# 어텐션 층\n",
    "decoder_hidden_state_input = Input(shape=(text_max_len, hidden_size))\n",
    "attn_out_inf = attn_layer([decoder_outputs2, decoder_hidden_state_input])\n",
    "decoder_inf_concat = Concatenate(axis=-1, name='concat')([decoder_outputs2, attn_out_inf])"
   ]
  },
  {
   "cell_type": "code",
   "execution_count": 26,
   "id": "06b6e965",
   "metadata": {},
   "outputs": [],
   "source": [
    "# 디코더 출력\n",
    "decoder_outputs2 = decoder_softmax_layer(decoder_inf_concat)\n",
    "\n",
    "# 모델 정의\n",
    "decoder_model = Model(\n",
    "    [decoder_inputs] + [decoder_hidden_state_input,decoder_state_input_h, decoder_state_input_c],\n",
    "    [decoder_outputs2] + [state_h2, state_c2])"
   ]
  },
  {
   "cell_type": "markdown",
   "id": "7281a644",
   "metadata": {},
   "source": [
    "### 추론 모델 구동"
   ]
  },
  {
   "cell_type": "code",
   "execution_count": 28,
   "id": "6d6e4c4b",
   "metadata": {},
   "outputs": [
    {
     "name": "stdout",
     "output_type": "stream",
     "text": [
      "원문 : tourism minister kj alphons thursday said forcing foreigners take selfies right thing intrusion privacy referring recent attack swiss couple fatehpur sikri minister questioned leave tourists alone obsessed white skin \n",
      "실제 요약 : sostoken asking foreigners for selfies of privacy minister \n",
      "예측 요약 :  no plans to clean people for not it minister\n",
      "\n",
      "\n",
      "원문 : hollywood actor james franco digitally removed cover vanity fair annual hollywood issue sexual harassment allegations confirmed magazine spokesperson franco originally positioned michael shannon harrison ford cover actor accused sexually behaviour five women \n",
      "실제 요약 : sostoken removed from fair cover over sexual harassment \n",
      "예측 요약 :  comedian accuses singer of sexual harassment by sexual harassment\n",
      "\n",
      "\n",
      "원문 : year old girl allegedly gang raped three four accused men thrown drain jharkhand friday girl returning home maternal uncle residence alone accused started following committed crime girl rescued drain screamed help consciousness \n",
      "실제 요약 : girl thrown into drain after being gang raped in jharkhand \n",
      "예측 요약 :  year old gangraped by men in madhya pradesh arrested\n",
      "\n",
      "\n",
      "원문 : actor anupam kher tweeted newspaper report actor whose name kept anonymous claimed report stated veteran actor suffered heart related ailment gone attend awards show new york recently \n",
      "실제 요약 : anupam kher claims an anonymous news report was about him \n",
      "예측 요약 :  anupam kher to be probed for not anupam kher\n",
      "\n",
      "\n",
      "원문 : facebook launched messenger day feature india allows users post photos videos within facebook messenger disappear hours users able control see updates reply different text stickers frames could added updates \n",
      "실제 요약 : sostoken messenger updates that in hrs launched in india \n",
      "예측 요약 :  facebook to feature in messenger for india in india\n",
      "\n",
      "\n",
      "원문 : girls made top scorers list jee advanced exam results declared earlier month furthermore girls among top scorers exam last year girls among top scorers exam \n",
      "실제 요약 : sostoken only girls in top of jee advanced exam \n",
      "예측 요약 :  india tops list of neet neet candidates for jee\n",
      "\n",
      "\n",
      "원문 : man tried commit suicide uttar pradesh saharanpur monday allegedly thrashed forced drink urine assaulted village panchayat accused illicit relationships girl seeking police action man said accused illicit relations girl even know \n",
      "실제 요약 : up man attempts suicide after being forced to drink urine \n",
      "예측 요약 :  woman kills self after being beaten by in up\n",
      "\n",
      "\n",
      "원문 : speaking veere di wedding slammed showing female characters use words actor sumeet vyas questioned people wrong women use foul language film four women daily lives regular thing men women use abusive words added \n",
      "실제 요약 : sostoken what is wrong if women use language sumeet vyas \n",
      "예측 요약 :  sonam slams india for not not marrying india reports\n",
      "\n",
      "\n",
      "원문 : us company recalled lakh half cartons milk product may contain actual milk listed label one reported case reaction require medical treatment product safe consume unless milk allergy sensitivity company said \n",
      "실제 요약 : sostoken milk recalled in us for containing milk \n",
      "예측 요약 :  lakh to pay lakh for lakh in years ago\n",
      "\n",
      "\n",
      "원문 : days three policemen kidnapped killed state police chief singh said huge number applications recruitment force amid reports six special police officers resigned wake colleagues killing singh said giving big incentives terms salary insurance \n",
      "실제 요약 : sostoken huge number of for recruitment police chief \n",
      "예측 요약 :  maoists killed in kashmir over security forces in kashmir\n",
      "\n",
      "\n",
      "원문 : delhi high court attributed stubble burning punjab haryana main villain leading rise pollution levels delhi ncr adding bringing stubble burning complete halt take time court suggested delhi government neighbouring states enforce regulations mitigate construction dust generation damage control \n",
      "실제 요약 : sostoken stubble burning main villain behind delhi pollution hc \n",
      "예측 요약 :  delhi hc stays delhi metro fare to jawans hike\n",
      "\n",
      "\n",
      "원문 : santosh singh supervisor personnel team rescue meghalaya miners trapped since december said divers gone inside pit since monday crane operator turned christmas divers reported foul smell mine awaiting stronger pumps would delivered days \n",
      "실제 요약 : sostoken operator takes christmas leave as miners stuck for weeks \n",
      "예측 요약 :  army rescues indian army to take trapped in days\n",
      "\n",
      "\n",
      "원문 : mumbai traffic police personnel suspended video showed away car woman breastfeeding infant inside released counter video incident new video reportedly shows woman sat car infant car towed \n",
      "실제 요약 : sostoken mumbai cop suspended for car releases counter video \n",
      "예측 요약 :  cop suspended for taking selfie with woman in mumbai\n",
      "\n",
      "\n",
      "원문 : ex england batsman boycott player scored hundred match matches test history boycott achieved feat playing west indies followed first innings ball boycott turns today scored hundreds test career \n",
      "실제 요약 : only player has hit and in same match in tests \n",
      "예측 요약 :  dhoni hit match in match match scored in cricket\n",
      "\n",
      "\n",
      "원문 : five teenage boys traced handed parents school monday threatening join militancy said police parents approached police receiving calls teenagers following special team formed police said teenagers active association found outfit \n",
      "실제 요약 : sostoken police boys who school to join militancy \n",
      "예측 요약 :  school student assaulted by school in school in noida\n",
      "\n",
      "\n",
      "원문 : croatian automaker unveiled electric hypercar company claims accelerate mph seconds called two car top speed kmph features butterfly doors car also horsepower engine run km single charge capacity two passengers \n",
      "실제 요약 : sostoken firm electric car can go from in sec \n",
      "예측 요약 :  kmph concept unveils concept that can make kmph unveiled\n",
      "\n",
      "\n",
      "원문 : indigo accused threatening use security force group passengers allegedly refused vacate aircraft patna airport december passenger alleged three flights cancelled six boarding passes issued single journey however indigo claimed passengers cooperated except group despite requested \n",
      "실제 요약 : sostoken indigo staff accused of threatening flyers at patna airport \n",
      "예측 요약 :  indigo flight suspended for smuggling passenger in delhi airport\n",
      "\n",
      "\n",
      "원문 : pakistan supreme court acquitted year old christian woman asia bibi given death sentence alleged blasphemy asia bibi angered fellow muslim farm workers taking water cup demanded convert islam refused prompting mob later allege insulted prophet mohammed \n",
      "실제 요약 : sostoken pakistan overturns blasphemy death sentence for christian woman \n",
      "예측 요약 :  pak court sentenced to life for raping un soldiers\n",
      "\n",
      "\n",
      "원문 : residential government school principal husband hyderabad booked allegedly groping year old girl diwali festival last year case registered last week teams set search accused currently absconding reportedly school principal suspended \n",
      "실제 요약 : sostoken principal husband booked for groping student in hyderabad \n",
      "예측 요약 :  year old girl booked for raping year old girl\n",
      "\n",
      "\n",
      "원문 : year old pune man arrested allegedly repeatedly raping year old stepdaughter since november accused runs snacks stall works part time dance teacher raped minor threatening kill mother minor confided teacher following police complaint lodged arrested \n",
      "실제 요약 : sostoken pune man held for repeatedly raping year old \n",
      "예측 요약 :  man arrested for raping year old woman in years\n",
      "\n",
      "\n",
      "원문 : letter pm narendra modi rss affiliate swadeshi manch said walmart billion deal majority stake flipkart lead entry retail sector adding kill make india dream communist party india also criticised deal stating make india become make india \n",
      "실제 요약 : sostoken flipkart walmart deal will kill make in india rss \n",
      "예측 요약 :  flipkart to get bn from flipkart for billion reports\n",
      "\n",
      "\n",
      "원문 : veil clad person wearing shirt word love weapons including hand grenade warned rise aftermath manchester attack live tv broadcast uk person claimed good muslim friends everyone interact know good muslim \n",
      "실제 요약 : sostoken person wearing love shirt warns against in uk \n",
      "예측 요약 :  uk prince harry slammed for live pic in uk\n",
      "\n",
      "\n",
      "원문 : facebook announced million community leadership program award users building interactive groups platform million awarded five community leaders specific community initiatives comes facebook faced criticism allowing groups use platform hate speech harmful content \n",
      "실제 요약 : sostoken fb to award mn to users for building groups \n"
     ]
    },
    {
     "name": "stdout",
     "output_type": "stream",
     "text": [
      "예측 요약 :  facebook to shut down by amazon in india report\n",
      "\n",
      "\n",
      "원문 : former kingfisher airlines employee said vijay mallya first consider plight undergone employees think little bit humanity left within first clear dues stated way honours enjoys watching indian matches similarly honour indian judiciary run away added \n",
      "실제 요약 : sostoken mallya should clear staff dues first ex kingfisher employee \n",
      "예측 요약 :  india to be force india to london board chief\n",
      "\n",
      "\n",
      "원문 : afghanistan cricket board announced first ever afghanistan premier league take place uae october year tournament played five teams auction purchase teams held march many non afghan cricketers expressed interest participating tournament \n",
      "실제 요약 : sostoken afghanistan launches its own league \n",
      "예측 요약 :  afghanistan afghan team to test for afghan in afghanistan\n",
      "\n",
      "\n",
      "원문 : case registered shopkeeper town madhya pradesh district allegedly refusing accept coins shopkeeper charged order public servant complaint filed man offered shopkeeper two coins buy \n",
      "실제 요약 : sostoken case against mp for not accepting coins \n",
      "예측 요약 :  haryana man orders bribe to pay for months ago\n",
      "\n",
      "\n",
      "원문 : wife year old dalit christian murdered telangana last week accused father getting husband killed adding father capable woman reportedly five month pregnant also claimed father asked undergo abortion victim hacked death front \n",
      "실제 요약 : woman accuses father of killing husband asking to abort child \n",
      "예측 요약 :  mother of father of father death in rajasthan case\n",
      "\n",
      "\n",
      "원문 : us citizen fighting isis syria surrendered syrian democratic forces us backed alliance turned us forces officials said us citizen legally detained known enemy officials added reportedly taken custody battle ez region \n",
      "실제 요약 : sostoken us citizen fighting for isis surrenders in syria \n",
      "예측 요약 :  us election not threat to us election syria us\n",
      "\n",
      "\n",
      "원문 : andhra pradesh district police officers association secretary madhav thursday said let known politician insults force cut nowadays become habit mlas mps talk police hurtful way madhav added \n",
      "실제 요약 : sostoken will cut politicians if they insult us andhra cop \n",
      "예측 요약 :  andhra pradesh to probe up police for two staff\n",
      "\n",
      "\n",
      "원문 : bengaluru based student lending startup secured licence reserve bank india startup co founder rajan bajaj confirmed tweeting regulatory comfort run aggressively towards goal founded lets students make purchases online monthly without collateral \n",
      "실제 요약 : sostoken bengaluru student lending startup gets licence \n",
      "예측 요약 :  startup shares fall from rival for stock worth lakh\n",
      "\n",
      "\n",
      "원문 : italian luxury brand versace realty firm unity group partnered develop delhi tallest building crore investment storey twin towers tallest approved building delhi height metres unity group director harsh vardhan bansal said branded luxury towers interiors designed versace home \n",
      "실제 요약 : sostoken unity group to build delhi tallest tower at cr \n",
      "예측 요약 :  india to get cr to buy cities near airport\n",
      "\n",
      "\n",
      "원문 : following reshuffle jammu kashmir cabinet monday state chief minister mehbooba mufti said new team young educated people hope work better old team also done good work added gupta sworn new deputy chief minister following nirmal singh resignation \n",
      "실제 요약 : sostoken hope new team will work better cm on cabinet \n",
      "예측 요약 :  people are not even of social media deputy cm\n",
      "\n",
      "\n",
      "원문 : deepa malik considered year khel ratna award requested sports ministry reconsider case haryana cm ml khattar backing need win one medal age given award asked malik first indian woman win medal paralympics \n",
      "실제 요약 : sostoken medalist malik appeals for ratna \n",
      "예측 요약 :  ex cm singh appointed india minister for abusing india\n",
      "\n",
      "\n",
      "원문 : american hedge fund tiger global management led million series funding round us based startup founded vishal agarwal startup helps small medium sized restaurants connect multiple online ordering platforms also enables restaurants offer customers mobile ordering payment \n",
      "실제 요약 : sostoken tiger global invests mn in us based startup \n",
      "예측 요약 :  startup raises mn funding from rival rival for mn\n",
      "\n",
      "\n",
      "원문 : man uttar pradesh arrested allegedly raping nine year old niece learning difficulties washing blood stains clothes destroy evidence incident came light girl complained stomach ache mother narrated incident mother asked blood undergarments \n",
      "실제 요약 : sostoken man held for raping year old niece destroying evidence \n",
      "예측 요약 :  arrested for raping year old woman in uttar pradesh\n",
      "\n",
      "\n",
      "원문 : jnu dean students umesh ashok kadam tuesday filed fir students including jnu students union president geeta kumari alleging assaulted university administration claimed students protesting hostel fee hike last week barged dean office manhandled verbally abused \n",
      "실제 요약 : sostoken jnu dean files fir against students for assaulting him \n",
      "예측 요약 :  jnu students expelled for students from class student exam\n",
      "\n",
      "\n",
      "원문 : madras high court ruled mentioning father name birth certificates optional court hearing petition woman gave birth baby municipal corporation issued birth certificate sperm donor name father court ordered tmc correct error \n",
      "실제 요약 : sostoken father name in birth certificate madras hc \n",
      "예측 요약 :  sc orders plea to make parents of father birth\n",
      "\n",
      "\n",
      "원문 : actor wearing silicone mask modelled us president donald trump punching picture german chancellor angela merkel unveiled madame tussauds museum berlin relationship two leaders strained us president consistently attacking germany trade nato budget contribution \n",
      "실제 요약 : sostoken madame tussauds features trump live figure punching merkel \n",
      "예측 요약 :  trump gets first ever statue of trump at delhi\n",
      "\n",
      "\n",
      "원문 : uk duchess kate middleton uncle gary fined lakh hitting wife slapped argument last month year old also given month community order including rehabilitation sessions spared jail term assault apologised said deeply ashamed behaviour \n",
      "실제 요약 : sostoken uk kate uncle fined after hitting wife \n",
      "예측 요약 :  prince charles to pay compensation for helping royal couple\n",
      "\n",
      "\n",
      "원문 : army police personnel assam friday saved three lynched mob hundreds suspicion child lifters june two youths lynched mob based rumours child lifting leading massive outrage state home ministry asked states check incidents based rumours \n",
      "실제 요약 : sostoken army cops rescue from being lynched by assam mob \n",
      "예측 요약 :  cops to get married in police custody in days\n",
      "\n",
      "\n",
      "원문 : england captain joe root played guitar celebrating side test series win sri lanka england cricket board official account tweeted video celebrations captioning means become first england team complete clean sweep asia england players seen singing video \n",
      "실제 요약 : sostoken england captain plays while celebrating series win \n",
      "예측 요약 :  australia to play australia australia in test cricket cricket\n",
      "\n",
      "\n",
      "원문 : nasa lunar reconnaissance orbiter identified bright areas near moon south pole cold enough provide evidence surface analysis made studying surface temperatures laser light reflected surface evidence found temperatures remain could preserve millions years nasa said \n",
      "실제 요약 : sostoken nasa finds new evidence of on moon surface \n",
      "예측 요약 :  nasa spacecraft to find mars landing in atmosphere atmosphere\n",
      "\n",
      "\n",
      "원문 : actor riteish deshmukh took instagram share picture actress lara dutta occasion th birthday happy birthday lara stay blessed keep smiling loads love wrote photo caption riteish lara worked together several films including housefull \n",
      "실제 요약 : sostoken riteish shares pic with lara dutta on her day \n",
      "예측 요약 :  abhishek shares pic with his first birthday in up\n",
      "\n",
      "\n",
      "원문 : bigg boss contestant patel claimed farmer lied name profession according reports worked assistant casting director production houses sharma bag films per reports casting director khan reportedly confirmed name worked \n",
      "실제 요약 : sostoken bigg boss patel lying about name report \n",
      "예측 요약 :  bigg boss contestant accuses bigg boss over bigg boss\n",
      "\n",
      "\n",
      "원문 : assam police clarified notice asking retired indian army officer mohammad haque prove citizenship sent due mistaken identity notice termed haque illegal bangladeshi immigrant falling category voters meant sent police added \n",
      "실제 요약 : sostoken army officer bangladeshi due to mistaken identity \n",
      "예측 요약 :  army officers booked for islamic state in army chief\n",
      "\n",
      "\n",
      "원문 : nasa advisors claimed technology elon musk led spacex uses could put human lives risk spacex loads rockets lift keep fuel compressed extremely cold temperatures tanks carry fuel approach called load go risks setting explosion people aboard rocket \n",
      "실제 요약 : sostoken spacex rocket technology could put lives at risk nasa \n"
     ]
    },
    {
     "name": "stdout",
     "output_type": "stream",
     "text": [
      "예측 요약 :  elon musk to build people in space in paris\n",
      "\n",
      "\n",
      "원문 : india judges per lakh people average according data law ministry states lower courts shortage judicial officers high courts currently vacancies meanwhile supreme court sanctioned strength judges six vacancies nnnn \n",
      "실제 요약 : sostoken india has judges per lakh people law ministry data \n",
      "예측 요약 :  india to increase in cases of in years cases\n",
      "\n",
      "\n",
      "원문 : uber fired eric alexander president uber business asia pacific accessing medical records woman raped ride india according carried information year shared ceo travis kalanick alexander view rape incident competitor ola work \n",
      "실제 요약 : sostoken uber fires man for indian rape victim records \n",
      "예측 요약 :  uber sued for crore in uber ride for product\n",
      "\n",
      "\n",
      "원문 : actress pooja bhatt shared post social media mark eight months quitting alcohol said quit drinking christmas last year earlier pooja said stopped drinking first acknowledging drinking problem adding daughter alcoholic makes four times becoming one \n",
      "실제 요약 : pooja bhatt shares post to mark months of quitting alcohol \n",
      "예측 요약 :  anushka is the biggest of the future says anushka\n",
      "\n",
      "\n",
      "원문 : mit undergraduate students produced concrete stronger conventional concrete adding discarded plastic team exposed plastic radiation adding concrete technology takes plastic landfill uses less cement makes fewer carbon dioxide emissions said assistant professor michael short \n",
      "실제 요약 : sostoken mit students strengthen concrete by adding plastic \n",
      "예측 요약 :  iit plastic surgery to be made at human system\n",
      "\n",
      "\n"
     ]
    }
   ],
   "source": [
    "for i in range(50, 100):\n",
    "    print(\"원문 :\", seq2text(e_x_test[i], src_tokenizer))\n",
    "    print(\"실제 요약 :\", seq2summary(d_x_test[i], tar_tokenizer))\n",
    "    print(\"예측 요약 :\", decode_sequence(encoder_model, decoder_model, e_x_test[i].reshape(1, text_max_len), tar_tokenizer, summary_max_len))\n",
    "    print(\"\\n\")"
   ]
  },
  {
   "attachments": {
    "image-2.png": {
     "image/png": "[encoded data removed]"
    },
    "image-3.png": {
     "image/png": "[encoded data removed]"
    },
    "image.png": {
     "image/png": "[encoded data removed]"
    }
   },
   "cell_type": "markdown",
   "id": "6c1be169",
   "metadata": {},
   "source": [
    "- 패딩으로 인하여 원문이 안나오는 상황이 발생함\n",
    "![image-2.png](attachment:image-2.png)\n",
    "![image.png](attachment:image.png)\n",
    "\n",
    "- 확인해보니 패딩의 문제가 아니라 함수의 return 위치가 잘 못 되었음\n",
    "![image-3.png](attachment:image-3.png)"
   ]
  },
  {
   "cell_type": "markdown",
   "id": "a84b425c",
   "metadata": {},
   "source": [
    "## summa 추출적 요약"
   ]
  },
  {
   "cell_type": "code",
   "execution_count": 29,
   "id": "8c8ffc62",
   "metadata": {},
   "outputs": [],
   "source": [
    "from summa.summarizer import summarize"
   ]
  },
  {
   "cell_type": "code",
   "execution_count": 33,
   "id": "0a69c4d8",
   "metadata": {},
   "outputs": [],
   "source": [
    "data_s = pd.read_csv('news_summary_more.csv', encoding='iso-8859-1')"
   ]
  },
  {
   "cell_type": "code",
   "execution_count": 34,
   "id": "5313e433",
   "metadata": {},
   "outputs": [],
   "source": [
    "summa_data = []\n",
    "\n",
    "for seq in data_s['text']:\n",
    "    sigle_summa_data = summarize(seq, words=10)\n",
    "    summa_data.append(sigle_summa_data)"
   ]
  },
  {
   "cell_type": "code",
   "execution_count": 35,
   "id": "a2e3ae47",
   "metadata": {},
   "outputs": [
    {
     "data": {
      "text/html": [
       "<div>\n",
       "<style scoped>\n",
       "    .dataframe tbody tr th:only-of-type {\n",
       "        vertical-align: middle;\n",
       "    }\n",
       "\n",
       "    .dataframe tbody tr th {\n",
       "        vertical-align: top;\n",
       "    }\n",
       "\n",
       "    .dataframe thead th {\n",
       "        text-align: right;\n",
       "    }\n",
       "</style>\n",
       "<table border=\"1\" class=\"dataframe\">\n",
       "  <thead>\n",
       "    <tr style=\"text-align: right;\">\n",
       "      <th></th>\n",
       "      <th>headlines</th>\n",
       "      <th>text</th>\n",
       "      <th>summa</th>\n",
       "    </tr>\n",
       "  </thead>\n",
       "  <tbody>\n",
       "    <tr>\n",
       "      <th>0</th>\n",
       "      <td>upGrad learner switches to career in ML &amp; Al w...</td>\n",
       "      <td>Saurav Kant, an alumnus of upGrad and IIIT-B's...</td>\n",
       "      <td>upGrad's Online Power Learning has powered 3 l...</td>\n",
       "    </tr>\n",
       "    <tr>\n",
       "      <th>1</th>\n",
       "      <td>Delhi techie wins free food from Swiggy for on...</td>\n",
       "      <td>Kunal Shah's credit card bill payment platform...</td>\n",
       "      <td></td>\n",
       "    </tr>\n",
       "    <tr>\n",
       "      <th>2</th>\n",
       "      <td>New Zealand end Rohit Sharma-led India's 12-ma...</td>\n",
       "      <td>New Zealand defeated India by 8 wickets in the...</td>\n",
       "      <td>The match witnessed India getting all out for ...</td>\n",
       "    </tr>\n",
       "    <tr>\n",
       "      <th>3</th>\n",
       "      <td>Aegon life iTerm insurance plan helps customer...</td>\n",
       "      <td>With Aegon Life iTerm Insurance plan, customer...</td>\n",
       "      <td></td>\n",
       "    </tr>\n",
       "    <tr>\n",
       "      <th>4</th>\n",
       "      <td>Have known Hirani for yrs, what if MeToo claim...</td>\n",
       "      <td>Speaking about the sexual harassment allegatio...</td>\n",
       "      <td></td>\n",
       "    </tr>\n",
       "  </tbody>\n",
       "</table>\n",
       "</div>"
      ],
      "text/plain": [
       "                                           headlines  \\\n",
       "0  upGrad learner switches to career in ML & Al w...   \n",
       "1  Delhi techie wins free food from Swiggy for on...   \n",
       "2  New Zealand end Rohit Sharma-led India's 12-ma...   \n",
       "3  Aegon life iTerm insurance plan helps customer...   \n",
       "4  Have known Hirani for yrs, what if MeToo claim...   \n",
       "\n",
       "                                                text  \\\n",
       "0  Saurav Kant, an alumnus of upGrad and IIIT-B's...   \n",
       "1  Kunal Shah's credit card bill payment platform...   \n",
       "2  New Zealand defeated India by 8 wickets in the...   \n",
       "3  With Aegon Life iTerm Insurance plan, customer...   \n",
       "4  Speaking about the sexual harassment allegatio...   \n",
       "\n",
       "                                               summa  \n",
       "0  upGrad's Online Power Learning has powered 3 l...  \n",
       "1                                                     \n",
       "2  The match witnessed India getting all out for ...  \n",
       "3                                                     \n",
       "4                                                     "
      ]
     },
     "execution_count": 35,
     "metadata": {},
     "output_type": "execute_result"
    }
   ],
   "source": [
    "data_s['summa'] = summa_data\n",
    "\n",
    "data_s.head()"
   ]
  },
  {
   "cell_type": "markdown",
   "id": "45ebd316",
   "metadata": {},
   "source": [
    "## 추가 실험"
   ]
  },
  {
   "cell_type": "markdown",
   "id": "bef5ce22",
   "metadata": {},
   "source": [
    "- 다층 디코더 구조"
   ]
  },
  {
   "cell_type": "markdown",
   "id": "71e95d03",
   "metadata": {},
   "source": [
    "- 모델 구축 (최종 context가 각 디코더 층에 전해지도록)"
   ]
  },
  {
   "cell_type": "code",
   "execution_count": 36,
   "id": "1df37755",
   "metadata": {},
   "outputs": [],
   "source": [
    "# 인코더\n",
    "encoder_inputs = Input(shape=(text_max_len,))\n",
    "enc_emb = Embedding(src_vocab, embedding_dim)(encoder_inputs)\n",
    "\n",
    "encoder_lstm1 = LSTM(hidden_size, return_sequences=True, return_state=True ,dropout = 0.4)\n",
    "encoder_output1, state_h1, state_c1 = encoder_lstm1(enc_emb)\n",
    "\n",
    "encoder_lstm2 = LSTM(hidden_size, return_sequences=True, return_state=True ,dropout = 0.4)\n",
    "encoder_output2, state_h2, state_c2 = encoder_lstm2(encoder_output1)\n",
    "\n",
    "encoder_lstm3 = LSTM(hidden_size, return_sequences=True, return_state=True ,dropout = 0.4)\n",
    "encoder_outputs, state_h, state_c = encoder_lstm3(encoder_output2)"
   ]
  },
  {
   "cell_type": "code",
   "execution_count": 37,
   "id": "08006c0f",
   "metadata": {},
   "outputs": [],
   "source": [
    "# 디코더\n",
    "decoder_inputs = Input(shape=(None,))\n",
    "\n",
    "dec_emb_layer = Embedding(tar_vocab, embedding_dim)\n",
    "dec_emb = dec_emb_layer(decoder_inputs)\n",
    "\n",
    "decoder_lstm1 = LSTM(hidden_size, return_sequences=True, return_state=True, dropout=0.4)\n",
    "decoder_outputs1, _, _ = decoder_lstm1(dec_emb, initial_state=[state_h, state_c])\n",
    "\n",
    "decoder_lstm2 = LSTM(hidden_size, return_sequences=True, return_state=True, dropout=0.4)\n",
    "decoder_outputs2, _, _ = decoder_lstm2(decoder_outputs1, initial_state=[state_h, state_c])\n",
    "\n",
    "decoder_lstm3 = LSTM(hidden_size, return_sequences=True, return_state=True, dropout=0.4)\n",
    "decoder_outputs, _, _ = decoder_lstm3(decoder_outputs2, initial_state=[state_h, state_c])"
   ]
  },
  {
   "cell_type": "code",
   "execution_count": 38,
   "id": "9a07085c",
   "metadata": {},
   "outputs": [],
   "source": [
    "# 어텐션 층\n",
    "attn_layer = AdditiveAttention(name='attention_layer')\n",
    "\n",
    "attn_out = attn_layer([decoder_outputs, encoder_outputs])\n",
    "\n",
    "decoder_concat_input = Concatenate(axis=-1, name='concat_layer')([decoder_outputs, attn_out])"
   ]
  },
  {
   "cell_type": "code",
   "execution_count": 39,
   "id": "bb3fdb74",
   "metadata": {},
   "outputs": [
    {
     "name": "stdout",
     "output_type": "stream",
     "text": [
      "Model: \"model_3\"\n",
      "__________________________________________________________________________________________________\n",
      "Layer (type)                    Output Shape         Param #     Connected to                     \n",
      "==================================================================================================\n",
      "input_6 (InputLayer)            [(None, 38)]         0                                            \n",
      "__________________________________________________________________________________________________\n",
      "embedding_2 (Embedding)         (None, 38, 128)      2304000     input_6[0][0]                    \n",
      "__________________________________________________________________________________________________\n",
      "lstm_4 (LSTM)                   [(None, 38, 256), (N 394240      embedding_2[0][0]                \n",
      "__________________________________________________________________________________________________\n",
      "input_7 (InputLayer)            [(None, None)]       0                                            \n",
      "__________________________________________________________________________________________________\n",
      "lstm_5 (LSTM)                   [(None, 38, 256), (N 525312      lstm_4[0][0]                     \n",
      "__________________________________________________________________________________________________\n",
      "embedding_3 (Embedding)         (None, None, 128)    1024000     input_7[0][0]                    \n",
      "__________________________________________________________________________________________________\n",
      "lstm_6 (LSTM)                   [(None, 38, 256), (N 525312      lstm_5[0][0]                     \n",
      "__________________________________________________________________________________________________\n",
      "lstm_7 (LSTM)                   [(None, None, 256),  394240      embedding_3[0][0]                \n",
      "                                                                 lstm_6[0][1]                     \n",
      "                                                                 lstm_6[0][2]                     \n",
      "__________________________________________________________________________________________________\n",
      "lstm_8 (LSTM)                   [(None, None, 256),  525312      lstm_7[0][0]                     \n",
      "                                                                 lstm_6[0][1]                     \n",
      "                                                                 lstm_6[0][2]                     \n",
      "__________________________________________________________________________________________________\n",
      "lstm_9 (LSTM)                   [(None, None, 256),  525312      lstm_8[0][0]                     \n",
      "                                                                 lstm_6[0][1]                     \n",
      "                                                                 lstm_6[0][2]                     \n",
      "__________________________________________________________________________________________________\n",
      "attention_layer (AdditiveAttent (None, None, 256)    256         lstm_9[0][0]                     \n",
      "                                                                 lstm_6[0][0]                     \n",
      "__________________________________________________________________________________________________\n",
      "concat_layer (Concatenate)      (None, None, 512)    0           lstm_9[0][0]                     \n",
      "                                                                 attention_layer[0][0]            \n",
      "__________________________________________________________________________________________________\n",
      "dense_1 (Dense)                 (None, None, 8000)   4104000     concat_layer[0][0]               \n",
      "==================================================================================================\n",
      "Total params: 10,321,984\n",
      "Trainable params: 10,321,984\n",
      "Non-trainable params: 0\n",
      "__________________________________________________________________________________________________\n"
     ]
    }
   ],
   "source": [
    "# 디코더 출력층\n",
    "decoder_softmax_layer = Dense(tar_vocab, activation='softmax')\n",
    "decoder_softmax_outputs = decoder_softmax_layer(decoder_concat_input) \n",
    "\n",
    "# 모델 정의\n",
    "model = Model([encoder_inputs, decoder_inputs], decoder_softmax_outputs)\n",
    "model.summary()"
   ]
  },
  {
   "cell_type": "code",
   "execution_count": 40,
   "id": "299725e3",
   "metadata": {},
   "outputs": [
    {
     "name": "stdout",
     "output_type": "stream",
     "text": [
      "Epoch 1/30\n",
      "205/205 [==============================] - 28s 94ms/step - loss: 6.2507 - val_loss: 5.8493\n",
      "Epoch 2/30\n",
      "205/205 [==============================] - 17s 85ms/step - loss: 5.8472 - val_loss: 5.7026\n",
      "Epoch 3/30\n",
      "205/205 [==============================] - 17s 84ms/step - loss: 5.7116 - val_loss: 5.6302\n",
      "Epoch 4/30\n",
      "205/205 [==============================] - 17s 83ms/step - loss: 5.5658 - val_loss: 5.4885\n",
      "Epoch 5/30\n",
      "205/205 [==============================] - 17s 85ms/step - loss: 5.3629 - val_loss: 5.2774\n",
      "Epoch 6/30\n",
      "205/205 [==============================] - 17s 85ms/step - loss: 5.1043 - val_loss: 5.0764\n",
      "Epoch 7/30\n",
      "205/205 [==============================] - 17s 84ms/step - loss: 4.9053 - val_loss: 4.9754\n",
      "Epoch 8/30\n",
      "205/205 [==============================] - 17s 84ms/step - loss: 4.7418 - val_loss: 4.9277\n",
      "Epoch 9/30\n",
      "205/205 [==============================] - 17s 84ms/step - loss: 4.5927 - val_loss: 4.8129\n",
      "Epoch 10/30\n",
      "205/205 [==============================] - 17s 84ms/step - loss: 4.4604 - val_loss: 4.7030\n",
      "Epoch 11/30\n",
      "205/205 [==============================] - 17s 85ms/step - loss: 4.3461 - val_loss: 4.7334\n",
      "Epoch 12/30\n",
      "205/205 [==============================] - 17s 84ms/step - loss: 4.2389 - val_loss: 4.6084\n",
      "Epoch 13/30\n",
      "205/205 [==============================] - 17s 84ms/step - loss: 4.1328 - val_loss: 4.5651\n",
      "Epoch 14/30\n",
      "205/205 [==============================] - 17s 84ms/step - loss: 4.0432 - val_loss: 4.5122\n",
      "Epoch 15/30\n",
      "205/205 [==============================] - 17s 84ms/step - loss: 3.9505 - val_loss: 4.5060\n",
      "Epoch 16/30\n",
      "205/205 [==============================] - 17s 85ms/step - loss: 3.8672 - val_loss: 4.4680\n",
      "Epoch 17/30\n",
      "205/205 [==============================] - 17s 85ms/step - loss: 3.7854 - val_loss: 4.4408\n",
      "Epoch 18/30\n",
      "205/205 [==============================] - 17s 85ms/step - loss: 3.7109 - val_loss: 4.4150\n",
      "Epoch 19/30\n",
      "205/205 [==============================] - 17s 84ms/step - loss: 3.6365 - val_loss: 4.4074\n",
      "Epoch 20/30\n",
      "205/205 [==============================] - 17s 84ms/step - loss: 3.5630 - val_loss: 4.3991\n",
      "Epoch 21/30\n",
      "205/205 [==============================] - 17s 84ms/step - loss: 3.5004 - val_loss: 4.3832\n",
      "Epoch 22/30\n",
      "205/205 [==============================] - 17s 85ms/step - loss: 3.4344 - val_loss: 4.4285\n",
      "Epoch 23/30\n",
      "205/205 [==============================] - 17s 84ms/step - loss: 3.3826 - val_loss: 4.3626\n",
      "Epoch 24/30\n",
      "205/205 [==============================] - 17s 84ms/step - loss: 3.3251 - val_loss: 4.3558\n",
      "Epoch 25/30\n",
      "205/205 [==============================] - 17s 84ms/step - loss: 3.2723 - val_loss: 4.3566\n",
      "Epoch 26/30\n",
      "205/205 [==============================] - 17s 84ms/step - loss: 3.2153 - val_loss: 4.3542\n",
      "Epoch 27/30\n",
      "205/205 [==============================] - 17s 85ms/step - loss: 3.1667 - val_loss: 4.3517\n",
      "Epoch 28/30\n",
      "205/205 [==============================] - 17s 84ms/step - loss: 3.1149 - val_loss: 4.3518\n",
      "Epoch 29/30\n",
      "205/205 [==============================] - 17s 84ms/step - loss: 3.0673 - val_loss: 4.3582\n",
      "Epoch 30/30\n",
      "205/205 [==============================] - 17s 84ms/step - loss: 3.0218 - val_loss: 4.3572\n"
     ]
    }
   ],
   "source": [
    "model.compile(optimizer='rmsprop', loss='sparse_categorical_crossentropy')\n",
    "es = EarlyStopping(monitor='val_loss', patience=2, verbose=1)\n",
    "history = model.fit(x=[e_x_train, d_x_train], y=d_l_train, \\\n",
    "          validation_data=([e_x_test, d_x_test], d_l_test), \\\n",
    "          batch_size=256, epochs=30)"
   ]
  },
  {
   "cell_type": "markdown",
   "id": "542d8f32",
   "metadata": {},
   "source": [
    "- 추론 모델 구축 및 추론 (기존과 동일)"
   ]
  },
  {
   "cell_type": "code",
   "execution_count": 43,
   "id": "27348b93",
   "metadata": {},
   "outputs": [],
   "source": [
    "# 인코더\n",
    "encoder_model = Model(inputs=encoder_inputs, outputs=[encoder_outputs, state_h, state_c])"
   ]
  },
  {
   "cell_type": "code",
   "execution_count": 44,
   "id": "04f6c4a4",
   "metadata": {},
   "outputs": [],
   "source": [
    "# 디코더\n",
    "# 이전 시점의 상태들을 저장하는 텐서\n",
    "decoder_state_input_h = Input(shape=(hidden_size,))\n",
    "decoder_state_input_c = Input(shape=(hidden_size,))\n",
    "\n",
    "# 디코더 층 (출력 문장에 길이에 따른 반복 구조를 위함)\n",
    "dec_emb2 = dec_emb_layer(decoder_inputs)\n",
    "decoder_outputs2, state_h2, state_c2 = decoder_lstm(dec_emb2, initial_state=[decoder_state_input_h, decoder_state_input_c])"
   ]
  },
  {
   "cell_type": "code",
   "execution_count": 45,
   "id": "f728aaad",
   "metadata": {},
   "outputs": [],
   "source": [
    "# 어텐션 층\n",
    "decoder_hidden_state_input = Input(shape=(text_max_len, hidden_size))\n",
    "attn_out_inf = attn_layer([decoder_outputs2, decoder_hidden_state_input])\n",
    "decoder_inf_concat = Concatenate(axis=-1, name='concat')([decoder_outputs2, attn_out_inf])"
   ]
  },
  {
   "cell_type": "code",
   "execution_count": 46,
   "id": "e29cab88",
   "metadata": {},
   "outputs": [],
   "source": [
    "# 디코더 출력\n",
    "decoder_outputs2 = decoder_softmax_layer(decoder_inf_concat)\n",
    "\n",
    "# 모델 정의\n",
    "decoder_model = Model(\n",
    "    [decoder_inputs] + [decoder_hidden_state_input,decoder_state_input_h, decoder_state_input_c],\n",
    "    [decoder_outputs2] + [state_h2, state_c2])"
   ]
  },
  {
   "cell_type": "code",
   "execution_count": 47,
   "id": "add1bca8",
   "metadata": {},
   "outputs": [
    {
     "name": "stdout",
     "output_type": "stream",
     "text": [
      "원문 : tourism minister kj alphons thursday said forcing foreigners take selfies right thing intrusion privacy referring recent attack swiss couple fatehpur sikri minister questioned leave tourists alone obsessed white skin \n",
      "실제 요약 : sostoken asking foreigners for selfies of privacy minister \n",
      "예측 요약 :  to to to govt govt govt govt minister minister minister minister minister govt minister minister minister minister minister minister minister minister minister of minister minister minister govt govt minister minister media minister minister govt minister minister minister\n",
      "\n",
      "\n",
      "원문 : hollywood actor james franco digitally removed cover vanity fair annual hollywood issue sexual harassment allegations confirmed magazine spokesperson franco originally positioned michael shannon harrison ford cover actor accused sexually behaviour five women \n",
      "실제 요약 : sostoken removed from fair cover over sexual harassment \n",
      "예측 요약 :  to to to sex to sex sexual silent engaged\n",
      "\n",
      "\n",
      "원문 : year old girl allegedly gang raped three four accused men thrown drain jharkhand friday girl returning home maternal uncle residence alone accused started following committed crime girl rescued drain screamed help consciousness \n",
      "실제 요약 : girl thrown into drain after being gang raped in jharkhand \n",
      "예측 요약 :  to year year to year year year year year year to year to year year to raped year to year to year year year year year year year year year to year year to year year year\n",
      "\n",
      "\n",
      "원문 : actor anupam kher tweeted newspaper report actor whose name kept anonymous claimed report stated veteran actor suffered heart related ailment gone attend awards show new york recently \n",
      "실제 요약 : anupam kher claims an anonymous news report was about him \n",
      "예측 요약 :  to to to to to woman hits engaged hits\n",
      "\n",
      "\n",
      "원문 : facebook launched messenger day feature india allows users post photos videos within facebook messenger disappear hours users able control see updates reply different text stickers frames could added updates \n",
      "실제 요약 : sostoken messenger updates that in hrs launched in india \n"
     ]
    },
    {
     "ename": "KeyError",
     "evalue": "0",
     "output_type": "error",
     "traceback": [
      "\u001b[0;31m---------------------------------------------------------------------------\u001b[0m",
      "\u001b[0;31mKeyError\u001b[0m                                  Traceback (most recent call last)",
      "\u001b[0;32m/tmp/ipykernel_12140/3804322547.py\u001b[0m in \u001b[0;36m<module>\u001b[0;34m\u001b[0m\n\u001b[1;32m      2\u001b[0m     \u001b[0mprint\u001b[0m\u001b[0;34m(\u001b[0m\u001b[0;34m\"원문 :\"\u001b[0m\u001b[0;34m,\u001b[0m \u001b[0mseq2text\u001b[0m\u001b[0;34m(\u001b[0m\u001b[0me_x_test\u001b[0m\u001b[0;34m[\u001b[0m\u001b[0mi\u001b[0m\u001b[0;34m]\u001b[0m\u001b[0;34m,\u001b[0m \u001b[0msrc_tokenizer\u001b[0m\u001b[0;34m)\u001b[0m\u001b[0;34m)\u001b[0m\u001b[0;34m\u001b[0m\u001b[0;34m\u001b[0m\u001b[0m\n\u001b[1;32m      3\u001b[0m     \u001b[0mprint\u001b[0m\u001b[0;34m(\u001b[0m\u001b[0;34m\"실제 요약 :\"\u001b[0m\u001b[0;34m,\u001b[0m \u001b[0mseq2summary\u001b[0m\u001b[0;34m(\u001b[0m\u001b[0md_x_test\u001b[0m\u001b[0;34m[\u001b[0m\u001b[0mi\u001b[0m\u001b[0;34m]\u001b[0m\u001b[0;34m,\u001b[0m \u001b[0mtar_tokenizer\u001b[0m\u001b[0;34m)\u001b[0m\u001b[0;34m)\u001b[0m\u001b[0;34m\u001b[0m\u001b[0;34m\u001b[0m\u001b[0m\n\u001b[0;32m----> 4\u001b[0;31m     \u001b[0mprint\u001b[0m\u001b[0;34m(\u001b[0m\u001b[0;34m\"예측 요약 :\"\u001b[0m\u001b[0;34m,\u001b[0m \u001b[0mdecode_sequence\u001b[0m\u001b[0;34m(\u001b[0m\u001b[0mencoder_model\u001b[0m\u001b[0;34m,\u001b[0m \u001b[0mdecoder_model\u001b[0m\u001b[0;34m,\u001b[0m \u001b[0me_x_test\u001b[0m\u001b[0;34m[\u001b[0m\u001b[0mi\u001b[0m\u001b[0;34m]\u001b[0m\u001b[0;34m.\u001b[0m\u001b[0mreshape\u001b[0m\u001b[0;34m(\u001b[0m\u001b[0;36m1\u001b[0m\u001b[0;34m,\u001b[0m \u001b[0mtext_max_len\u001b[0m\u001b[0;34m)\u001b[0m\u001b[0;34m,\u001b[0m \u001b[0mtar_tokenizer\u001b[0m\u001b[0;34m,\u001b[0m \u001b[0msummary_max_len\u001b[0m\u001b[0;34m)\u001b[0m\u001b[0;34m)\u001b[0m\u001b[0;34m\u001b[0m\u001b[0;34m\u001b[0m\u001b[0m\n\u001b[0m\u001b[1;32m      5\u001b[0m     \u001b[0mprint\u001b[0m\u001b[0;34m(\u001b[0m\u001b[0;34m\"\\n\"\u001b[0m\u001b[0;34m)\u001b[0m\u001b[0;34m\u001b[0m\u001b[0;34m\u001b[0m\u001b[0m\n",
      "\u001b[0;32m/tmp/ipykernel_12140/2489246410.py\u001b[0m in \u001b[0;36mdecode_sequence\u001b[0;34m(encoder_model, decoder_model, input_seq, tar_tokenizer, summary_max_len)\u001b[0m\n\u001b[1;32m     84\u001b[0m         \u001b[0moutput_tokens\u001b[0m\u001b[0;34m,\u001b[0m \u001b[0mh\u001b[0m\u001b[0;34m,\u001b[0m \u001b[0mc\u001b[0m \u001b[0;34m=\u001b[0m \u001b[0mdecoder_model\u001b[0m\u001b[0;34m.\u001b[0m\u001b[0mpredict\u001b[0m\u001b[0;34m(\u001b[0m\u001b[0;34m[\u001b[0m\u001b[0mtarget_seq\u001b[0m\u001b[0;34m]\u001b[0m \u001b[0;34m+\u001b[0m \u001b[0;34m[\u001b[0m\u001b[0me_out\u001b[0m\u001b[0;34m,\u001b[0m \u001b[0me_h\u001b[0m\u001b[0;34m,\u001b[0m \u001b[0me_c\u001b[0m\u001b[0;34m]\u001b[0m\u001b[0;34m)\u001b[0m\u001b[0;34m\u001b[0m\u001b[0;34m\u001b[0m\u001b[0m\n\u001b[1;32m     85\u001b[0m         \u001b[0msampled_token_index\u001b[0m \u001b[0;34m=\u001b[0m \u001b[0mnp\u001b[0m\u001b[0;34m.\u001b[0m\u001b[0margmax\u001b[0m\u001b[0;34m(\u001b[0m\u001b[0moutput_tokens\u001b[0m\u001b[0;34m[\u001b[0m\u001b[0;36m0\u001b[0m\u001b[0;34m,\u001b[0m \u001b[0;34m-\u001b[0m\u001b[0;36m1\u001b[0m\u001b[0;34m,\u001b[0m \u001b[0;34m:\u001b[0m\u001b[0;34m]\u001b[0m\u001b[0;34m)\u001b[0m\u001b[0;34m\u001b[0m\u001b[0;34m\u001b[0m\u001b[0m\n\u001b[0;32m---> 86\u001b[0;31m         \u001b[0msampled_token\u001b[0m \u001b[0;34m=\u001b[0m \u001b[0mtar_index_to_word\u001b[0m\u001b[0;34m[\u001b[0m\u001b[0msampled_token_index\u001b[0m\u001b[0;34m]\u001b[0m\u001b[0;34m\u001b[0m\u001b[0;34m\u001b[0m\u001b[0m\n\u001b[0m\u001b[1;32m     87\u001b[0m \u001b[0;34m\u001b[0m\u001b[0m\n\u001b[1;32m     88\u001b[0m         \u001b[0;32mif\u001b[0m \u001b[0;34m(\u001b[0m\u001b[0msampled_token\u001b[0m\u001b[0;34m!=\u001b[0m\u001b[0;34m'eostoken'\u001b[0m\u001b[0;34m)\u001b[0m\u001b[0;34m:\u001b[0m\u001b[0;34m\u001b[0m\u001b[0;34m\u001b[0m\u001b[0m\n",
      "\u001b[0;31mKeyError\u001b[0m: 0"
     ]
    }
   ],
   "source": [
    "for i in range(50, 60):\n",
    "    print(\"원문 :\", seq2text(e_x_test[i], src_tokenizer))\n",
    "    print(\"실제 요약 :\", seq2summary(d_x_test[i], tar_tokenizer))\n",
    "    print(\"예측 요약 :\", decode_sequence(encoder_model, decoder_model, e_x_test[i].reshape(1, text_max_len), tar_tokenizer, summary_max_len))\n",
    "    print(\"\\n\")"
   ]
  },
  {
   "cell_type": "markdown",
   "id": "d11cbe71",
   "metadata": {},
   "source": [
    "- 모델 구축 2 (각 인코더 층의 context가 디코더 층에 전달되도록)"
   ]
  },
  {
   "cell_type": "code",
   "execution_count": 48,
   "id": "74997e49",
   "metadata": {},
   "outputs": [],
   "source": [
    "# 인코더\n",
    "encoder_inputs = Input(shape=(text_max_len,))\n",
    "enc_emb = Embedding(src_vocab, embedding_dim)(encoder_inputs)\n",
    "\n",
    "encoder_lstm1 = LSTM(hidden_size, return_sequences=True, return_state=True ,dropout = 0.4)\n",
    "encoder_output1, state_h1, state_c1 = encoder_lstm1(enc_emb)\n",
    "\n",
    "encoder_lstm2 = LSTM(hidden_size, return_sequences=True, return_state=True ,dropout = 0.4)\n",
    "encoder_output2, state_h2, state_c2 = encoder_lstm2(encoder_output1)\n",
    "\n",
    "encoder_lstm3 = LSTM(hidden_size, return_sequences=True, return_state=True ,dropout = 0.4)\n",
    "encoder_output3, state_h3, state_c3 = encoder_lstm3(encoder_output2)"
   ]
  },
  {
   "cell_type": "code",
   "execution_count": 49,
   "id": "cbe75fbf",
   "metadata": {},
   "outputs": [],
   "source": [
    "# 디코더\n",
    "decoder_inputs = Input(shape=(None,))\n",
    "\n",
    "dec_emb_layer = Embedding(tar_vocab, embedding_dim)\n",
    "dec_emb = dec_emb_layer(decoder_inputs)\n",
    "\n",
    "decoder_lstm1 = LSTM(hidden_size, return_sequences=True, return_state=True, dropout=0.4)\n",
    "decoder_outputs1, _, _ = decoder_lstm1(dec_emb, initial_state=[state_h1, state_c1])\n",
    "\n",
    "decoder_lstm2 = LSTM(hidden_size, return_sequences=True, return_state=True, dropout=0.4)\n",
    "decoder_outputs2, _, _ = decoder_lstm2(decoder_outputs1, initial_state=[state_h2, state_c2])\n",
    "\n",
    "decoder_lstm3 = LSTM(hidden_size, return_sequences=True, return_state=True, dropout=0.4)\n",
    "decoder_outputs3, _, _ = decoder_lstm3(decoder_outputs2, initial_state=[state_h3, state_c3])"
   ]
  },
  {
   "cell_type": "code",
   "execution_count": 50,
   "id": "c4b85963",
   "metadata": {},
   "outputs": [],
   "source": [
    "# 어텐션 층\n",
    "attn_layer = AdditiveAttention(name='attention_layer')\n",
    "\n",
    "attn_out = attn_layer([decoder_outputs3, encoder_output3])\n",
    "\n",
    "decoder_concat_input = Concatenate(axis=-1, name='concat_layer')([decoder_outputs3, attn_out])"
   ]
  },
  {
   "cell_type": "code",
   "execution_count": 51,
   "id": "b998b46b",
   "metadata": {},
   "outputs": [
    {
     "name": "stdout",
     "output_type": "stream",
     "text": [
      "Model: \"model_6\"\n",
      "__________________________________________________________________________________________________\n",
      "Layer (type)                    Output Shape         Param #     Connected to                     \n",
      "==================================================================================================\n",
      "input_11 (InputLayer)           [(None, 38)]         0                                            \n",
      "__________________________________________________________________________________________________\n",
      "input_12 (InputLayer)           [(None, None)]       0                                            \n",
      "__________________________________________________________________________________________________\n",
      "embedding_4 (Embedding)         (None, 38, 128)      2304000     input_11[0][0]                   \n",
      "__________________________________________________________________________________________________\n",
      "embedding_5 (Embedding)         (None, None, 128)    1024000     input_12[0][0]                   \n",
      "__________________________________________________________________________________________________\n",
      "lstm_10 (LSTM)                  [(None, 38, 256), (N 394240      embedding_4[0][0]                \n",
      "__________________________________________________________________________________________________\n",
      "lstm_13 (LSTM)                  [(None, None, 256),  394240      embedding_5[0][0]                \n",
      "                                                                 lstm_10[0][1]                    \n",
      "                                                                 lstm_10[0][2]                    \n",
      "__________________________________________________________________________________________________\n",
      "lstm_11 (LSTM)                  [(None, 38, 256), (N 525312      lstm_10[0][0]                    \n",
      "__________________________________________________________________________________________________\n",
      "lstm_14 (LSTM)                  [(None, None, 256),  525312      lstm_13[0][0]                    \n",
      "                                                                 lstm_11[0][1]                    \n",
      "                                                                 lstm_11[0][2]                    \n",
      "__________________________________________________________________________________________________\n",
      "lstm_12 (LSTM)                  [(None, 38, 256), (N 525312      lstm_11[0][0]                    \n",
      "__________________________________________________________________________________________________\n",
      "lstm_15 (LSTM)                  [(None, None, 256),  525312      lstm_14[0][0]                    \n",
      "                                                                 lstm_12[0][1]                    \n",
      "                                                                 lstm_12[0][2]                    \n",
      "__________________________________________________________________________________________________\n",
      "attention_layer (AdditiveAttent (None, None, 256)    256         lstm_15[0][0]                    \n",
      "                                                                 lstm_12[0][0]                    \n",
      "__________________________________________________________________________________________________\n",
      "concat_layer (Concatenate)      (None, None, 512)    0           lstm_15[0][0]                    \n",
      "                                                                 attention_layer[0][0]            \n",
      "__________________________________________________________________________________________________\n",
      "dense_2 (Dense)                 (None, None, 8000)   4104000     concat_layer[0][0]               \n",
      "==================================================================================================\n",
      "Total params: 10,321,984\n",
      "Trainable params: 10,321,984\n",
      "Non-trainable params: 0\n",
      "__________________________________________________________________________________________________\n"
     ]
    }
   ],
   "source": [
    "# 디코더 출력층\n",
    "decoder_softmax_layer = Dense(tar_vocab, activation='softmax')\n",
    "decoder_softmax_outputs = decoder_softmax_layer(decoder_concat_input) \n",
    "\n",
    "# 모델 정의\n",
    "model = Model([encoder_inputs, decoder_inputs], decoder_softmax_outputs)\n",
    "model.summary()"
   ]
  },
  {
   "cell_type": "code",
   "execution_count": 52,
   "id": "ed6c5d66",
   "metadata": {},
   "outputs": [
    {
     "name": "stdout",
     "output_type": "stream",
     "text": [
      "Epoch 1/30\n",
      "205/205 [==============================] - 27s 94ms/step - loss: 6.2754 - val_loss: 5.9241\n",
      "Epoch 2/30\n",
      "205/205 [==============================] - 17s 85ms/step - loss: 5.8889 - val_loss: 5.7232\n",
      "Epoch 3/30\n",
      "205/205 [==============================] - 18s 86ms/step - loss: 5.7356 - val_loss: 5.6252\n",
      "Epoch 4/30\n",
      "205/205 [==============================] - 17s 85ms/step - loss: 5.5645 - val_loss: 5.4773\n",
      "Epoch 5/30\n",
      "205/205 [==============================] - 17s 84ms/step - loss: 5.4011 - val_loss: 5.3313\n",
      "Epoch 6/30\n",
      "205/205 [==============================] - 17s 85ms/step - loss: 5.2377 - val_loss: 5.2048\n",
      "Epoch 7/30\n",
      "205/205 [==============================] - 17s 85ms/step - loss: 5.0217 - val_loss: 5.1166\n",
      "Epoch 8/30\n",
      "205/205 [==============================] - 17s 85ms/step - loss: 4.8278 - val_loss: 4.9449\n",
      "Epoch 9/30\n",
      "205/205 [==============================] - 17s 84ms/step - loss: 4.6613 - val_loss: 4.8827\n",
      "Epoch 10/30\n",
      "205/205 [==============================] - 17s 85ms/step - loss: 4.5215 - val_loss: 4.7437\n",
      "Epoch 11/30\n",
      "205/205 [==============================] - 17s 85ms/step - loss: 4.3952 - val_loss: 4.7212\n",
      "Epoch 12/30\n",
      "205/205 [==============================] - 17s 85ms/step - loss: 4.2814 - val_loss: 4.6176\n",
      "Epoch 13/30\n",
      "205/205 [==============================] - 17s 85ms/step - loss: 4.1676 - val_loss: 4.6079\n",
      "Epoch 14/30\n",
      "205/205 [==============================] - 17s 85ms/step - loss: 4.0672 - val_loss: 4.5545\n",
      "Epoch 15/30\n",
      "205/205 [==============================] - 17s 85ms/step - loss: 3.9708 - val_loss: 4.5075\n",
      "Epoch 16/30\n",
      "205/205 [==============================] - 17s 85ms/step - loss: 3.8819 - val_loss: 4.4769\n",
      "Epoch 17/30\n",
      "205/205 [==============================] - 17s 85ms/step - loss: 3.7928 - val_loss: 4.4783\n",
      "Epoch 18/30\n",
      "205/205 [==============================] - 17s 85ms/step - loss: 3.7145 - val_loss: 4.4227\n",
      "Epoch 19/30\n",
      "205/205 [==============================] - 17s 85ms/step - loss: 3.6401 - val_loss: 4.4205\n",
      "Epoch 20/30\n",
      "205/205 [==============================] - 18s 85ms/step - loss: 3.5705 - val_loss: 4.4071\n",
      "Epoch 21/30\n",
      "205/205 [==============================] - 17s 85ms/step - loss: 3.5036 - val_loss: 4.4133\n",
      "Epoch 22/30\n",
      "205/205 [==============================] - 17s 85ms/step - loss: 3.4415 - val_loss: 4.4091\n",
      "Epoch 23/30\n",
      "205/205 [==============================] - 17s 85ms/step - loss: 3.3794 - val_loss: 4.4057\n",
      "Epoch 24/30\n",
      "205/205 [==============================] - 17s 85ms/step - loss: 3.3213 - val_loss: 4.3492\n",
      "Epoch 25/30\n",
      "205/205 [==============================] - 17s 85ms/step - loss: 3.2650 - val_loss: 4.3464\n",
      "Epoch 26/30\n",
      "205/205 [==============================] - 17s 85ms/step - loss: 3.2142 - val_loss: 4.3521\n",
      "Epoch 27/30\n",
      "205/205 [==============================] - 17s 85ms/step - loss: 3.1648 - val_loss: 4.3615\n",
      "Epoch 28/30\n",
      "205/205 [==============================] - 17s 85ms/step - loss: 3.1161 - val_loss: 4.3522\n",
      "Epoch 29/30\n",
      "205/205 [==============================] - 17s 85ms/step - loss: 3.0670 - val_loss: 4.3354\n",
      "Epoch 30/30\n",
      "205/205 [==============================] - 17s 85ms/step - loss: 3.0206 - val_loss: 4.3784\n"
     ]
    }
   ],
   "source": [
    "model.compile(optimizer='rmsprop', loss='sparse_categorical_crossentropy')\n",
    "es = EarlyStopping(monitor='val_loss', patience=2, verbose=1)\n",
    "history = model.fit(x=[e_x_train, d_x_train], y=d_l_train, \\\n",
    "          validation_data=([e_x_test, d_x_test], d_l_test), \\\n",
    "          batch_size=256, epochs=30)"
   ]
  },
  {
   "cell_type": "markdown",
   "id": "87e83438",
   "metadata": {},
   "source": [
    "- 추론 모델 구축 및 추론"
   ]
  },
  {
   "cell_type": "code",
   "execution_count": 53,
   "id": "2640026a",
   "metadata": {},
   "outputs": [],
   "source": [
    "# 인코더\n",
    "encoder_model = Model(inputs=encoder_inputs, outputs=[encoder_output3, state_h3, state_c3])"
   ]
  },
  {
   "cell_type": "code",
   "execution_count": 54,
   "id": "2248b76e",
   "metadata": {},
   "outputs": [],
   "source": [
    "# 디코더\n",
    "# 이전 시점의 상태들을 저장하는 텐서\n",
    "decoder_state_input_h = Input(shape=(hidden_size,))\n",
    "decoder_state_input_c = Input(shape=(hidden_size,))\n",
    "\n",
    "# 디코더 층 (출력 문장에 길이에 따른 반복 구조를 위함)\n",
    "dec_emb2 = dec_emb_layer(decoder_inputs)\n",
    "decoder_outputs2, state_h2, state_c2 = decoder_lstm(dec_emb2, initial_state=[decoder_state_input_h, decoder_state_input_c])"
   ]
  },
  {
   "cell_type": "code",
   "execution_count": 55,
   "id": "9f3f58e7",
   "metadata": {},
   "outputs": [],
   "source": [
    "# 어텐션 층\n",
    "decoder_hidden_state_input = Input(shape=(text_max_len, hidden_size))\n",
    "attn_out_inf = attn_layer([decoder_outputs2, decoder_hidden_state_input])\n",
    "decoder_inf_concat = Concatenate(axis=-1, name='concat')([decoder_outputs2, attn_out_inf])"
   ]
  },
  {
   "cell_type": "code",
   "execution_count": 56,
   "id": "0f5a051a",
   "metadata": {},
   "outputs": [
    {
     "name": "stdout",
     "output_type": "stream",
     "text": [
      "Model: \"model_8\"\n",
      "__________________________________________________________________________________________________\n",
      "Layer (type)                    Output Shape         Param #     Connected to                     \n",
      "==================================================================================================\n",
      "input_11 (InputLayer)           [(None, 38)]         0                                            \n",
      "__________________________________________________________________________________________________\n",
      "input_12 (InputLayer)           [(None, None)]       0                                            \n",
      "__________________________________________________________________________________________________\n",
      "embedding_4 (Embedding)         (None, 38, 128)      2304000     input_11[0][0]                   \n",
      "__________________________________________________________________________________________________\n",
      "embedding_5 (Embedding)         (None, None, 128)    1024000     input_12[0][0]                   \n",
      "__________________________________________________________________________________________________\n",
      "lstm_10 (LSTM)                  [(None, 38, 256), (N 394240      embedding_4[0][0]                \n",
      "__________________________________________________________________________________________________\n",
      "lstm_13 (LSTM)                  [(None, None, 256),  394240      embedding_5[0][0]                \n",
      "                                                                 lstm_10[0][1]                    \n",
      "                                                                 lstm_10[0][2]                    \n",
      "__________________________________________________________________________________________________\n",
      "lstm_11 (LSTM)                  [(None, 38, 256), (N 525312      lstm_10[0][0]                    \n",
      "__________________________________________________________________________________________________\n",
      "lstm_14 (LSTM)                  [(None, None, 256),  525312      lstm_13[0][0]                    \n",
      "                                                                 lstm_11[0][1]                    \n",
      "                                                                 lstm_11[0][2]                    \n",
      "__________________________________________________________________________________________________\n",
      "lstm_12 (LSTM)                  [(None, 38, 256), (N 525312      lstm_11[0][0]                    \n",
      "__________________________________________________________________________________________________\n",
      "lstm_15 (LSTM)                  [(None, None, 256),  525312      lstm_14[0][0]                    \n",
      "                                                                 lstm_12[0][1]                    \n",
      "                                                                 lstm_12[0][2]                    \n",
      "__________________________________________________________________________________________________\n",
      "attention_layer (AdditiveAttent (None, None, 256)    256         lstm_15[0][0]                    \n",
      "                                                                 lstm_12[0][0]                    \n",
      "__________________________________________________________________________________________________\n",
      "concat_layer (Concatenate)      (None, None, 512)    0           lstm_15[0][0]                    \n",
      "                                                                 attention_layer[0][0]            \n",
      "__________________________________________________________________________________________________\n",
      "dense_3 (Dense)                 (None, None, 8000)   4104000     concat_layer[0][0]               \n",
      "==================================================================================================\n",
      "Total params: 10,321,984\n",
      "Trainable params: 10,321,984\n",
      "Non-trainable params: 0\n",
      "__________________________________________________________________________________________________\n"
     ]
    }
   ],
   "source": [
    "# 디코더 출력층\n",
    "decoder_softmax_layer = Dense(tar_vocab, activation='softmax')\n",
    "decoder_softmax_outputs = decoder_softmax_layer(decoder_concat_input) \n",
    "\n",
    "# 모델 정의\n",
    "model = Model([encoder_inputs, decoder_inputs], decoder_softmax_outputs)\n",
    "model.summary()"
   ]
  },
  {
   "cell_type": "code",
   "execution_count": 57,
   "id": "ee305e83",
   "metadata": {},
   "outputs": [
    {
     "name": "stdout",
     "output_type": "stream",
     "text": [
      "원문 : tourism minister kj alphons thursday said forcing foreigners take selfies right thing intrusion privacy referring recent attack swiss couple fatehpur sikri minister questioned leave tourists alone obsessed white skin \n",
      "실제 요약 : sostoken asking foreigners for selfies of privacy minister \n",
      "예측 요약 :  chops chops chops chops bump molesting molesting molesting molesting molesting molesting chops chops contestant awardee awardee milind milind stabs stabs carries produce kidnap headless headless stabs stabs stabs stabs stabs headless stabs stabs stabs stabs stabs stabs\n",
      "\n",
      "\n",
      "원문 : hollywood actor james franco digitally removed cover vanity fair annual hollywood issue sexual harassment allegations confirmed magazine spokesperson franco originally positioned michael shannon harrison ford cover actor accused sexually behaviour five women \n",
      "실제 요약 : sostoken removed from fair cover over sexual harassment \n",
      "예측 요약 : \n",
      "\n",
      "\n",
      "원문 : year old girl allegedly gang raped three four accused men thrown drain jharkhand friday girl returning home maternal uncle residence alone accused started following committed crime girl rescued drain screamed help consciousness \n",
      "실제 요약 : girl thrown into drain after being gang raped in jharkhand \n",
      "예측 요약 :  develop least zealand zealand rapes convoy rapes odisha odisha odisha rapes rapes derails derails derails develop derails derails derails derails blames convoy rapes derails rapes derails rapes convoy convoy convoy rapes jem death murder murder murder death\n",
      "\n",
      "\n",
      "원문 : actor anupam kher tweeted newspaper report actor whose name kept anonymous claimed report stated veteran actor suffered heart related ailment gone attend awards show new york recently \n",
      "실제 요약 : anupam kher claims an anonymous news report was about him \n",
      "예측 요약 :  probably senate envoy senate envoy envoy up up up up envoy in envoy envoy up up up up backs backs imposes backs\n",
      "\n",
      "\n",
      "원문 : facebook launched messenger day feature india allows users post photos videos within facebook messenger disappear hours users able control see updates reply different text stickers frames could added updates \n",
      "실제 요약 : sostoken messenger updates that in hrs launched in india \n",
      "예측 요약 :  sad wilful wilful unilever sabha testify repay extradite epfo attaches attaches attaches repay legalise extradite extradite banknotes bureaucrats bureaucrats testify disappointed aayog epfo extradite epfo epfo disappointed epfo extradite tolerate tolerate bureaucrats selena disappointed epfo aayog tolerate\n",
      "\n",
      "\n",
      "원문 : girls made top scorers list jee advanced exam results declared earlier month furthermore girls among top scorers exam last year girls among top scorers exam \n",
      "실제 요약 : sostoken only girls in top of jee advanced exam \n",
      "예측 요약 :  fest fest dosanjh kom chouhan vijayan vijayan\n",
      "\n",
      "\n",
      "원문 : man tried commit suicide uttar pradesh saharanpur monday allegedly thrashed forced drink urine assaulted village panchayat accused illicit relationships girl seeking police action man said accused illicit relations girl even know \n",
      "실제 요약 : up man attempts suicide after being forced to drink urine \n",
      "예측 요약 :  murdering inspiration soman soman brd murdering brd brd invades invades invades invades invades pagla pagla pagla smashes invades invades thrashes thrashes thrashes screened screened smashes imprisonment di thrashes thrashes thrashes thrashes thrashes showstopper prem prem crowned crowned\n",
      "\n",
      "\n",
      "원문 : speaking veere di wedding slammed showing female characters use words actor sumeet vyas questioned people wrong women use foul language film four women daily lives regular thing men women use abusive words added \n",
      "실제 요약 : sostoken what is wrong if women use language sumeet vyas \n",
      "예측 요약 :  expect goair deploys deploys ballistic ballistic policies trump trump policies sees sees sees ballistic davidson davidson davidson vulnerable uses trump backed backed capable fi capable capable trump trump backed backed\n",
      "\n",
      "\n",
      "원문 : us company recalled lakh half cartons milk product may contain actual milk listed label one reported case reaction require medical treatment product safe consume unless milk allergy sensitivity company said \n",
      "실제 요약 : sostoken milk recalled in us for containing milk \n",
      "예측 요약 :  davidson davidson davidson davidson powered benz benz benz benz davidson driverless smartwatch benz benz discovers displays displays displays adds displays displays stream stream destination destination mahal tussauds tussauds adds displays litres stabs aged nashik abort toyota blackberry\n",
      "\n",
      "\n",
      "원문 : days three policemen kidnapped killed state police chief singh said huge number applications recruitment force amid reports six special police officers resigned wake colleagues killing singh said giving big incentives terms salary insurance \n",
      "실제 요약 : sostoken huge number of for recruitment police chief \n",
      "예측 요약 :  weightlifter thrashes headmaster thrashes thrashes thrashes thrashes thrashes invades invades invades invades invades pagla pagla pagla thrashes thrashes thrashes thrashes thrashes thrashes prem prem prem prem murdering murdering murdering murdering murdering thrashes thrashes prem murdering murdering murdering\n",
      "\n",
      "\n"
     ]
    }
   ],
   "source": [
    "for i in range(50, 60):\n",
    "    print(\"원문 :\", seq2text(e_x_test[i], src_tokenizer))\n",
    "    print(\"실제 요약 :\", seq2summary(d_x_test[i], tar_tokenizer))\n",
    "    print(\"예측 요약 :\", decode_sequence(encoder_model, decoder_model, e_x_test[i].reshape(1, text_max_len), tar_tokenizer, summary_max_len))\n",
    "    print(\"\\n\")"
   ]
  },
  {
   "attachments": {
    "image-2.png": {
     "image/png": "[encoded data removed]"
    },
    "image-3.png": {
     "image/png": "[encoded data removed]"
    },
    "image.png": {
     "image/png": "[encoded data removed]"
    }
   },
   "cell_type": "markdown",
   "id": "15f85762",
   "metadata": {},
   "source": [
    "## 회고\n",
    "\n",
    "- 루브릭에 관하여\n",
    "    - 함수형으로 작성을 하다보니 오히려 복잡해진 부분이 있으며, 당 함수가 타 데이터에서 범용적으로 작동할까 의심스러움\n",
    "    - 코드를 작성하는데 있어서 다량의 실수가 있었는데 해당사항을 다시 되짚어 보는 것이 필요할 것 같음\n",
    "    - seq2seq, attention, 추출성 요약 간의 비교를 면밀히 해보는 것이 좋을 것 같음\n",
    "    - 향후에 추가 optimazer도 고려해보고, 사용자 정의 callback도 고려해봐야 함\n",
    "    - 행후에 추출성 요약의 평가지표를 구축하고 평가를 시도해 볼 예정\n",
    "- 추가 실험에 대하여\n",
    "    - 우선 seq2seq 구조에 디코더 층이 다수 일 때에 관련한 사항에 대하여 조사가 더 필요함\n",
    "    - 최종 요약문에서 단어가 반복해서 나오는데 seq2seq 구조와 함께 더 고찰해볼 필요가 있음\n",
    "    - 아래 사진에서 확인 가능하듯 디코더를 3층을 쌓았을 때는 기본 문장에서 3번째 오는 단어부터 나오는 것을 알 수 있음, 아마 동일한 문맥에 입력을 3번 적용하여 3번째 단어가 나온 것으로 확인됨. 또한 각 층이 서로 다른 인코더 층의 문맥을 받았을 때는 완전히 다른 단어가 배치되는 것을 확인하였음. 이는 입력에 서로 다른 문맥이 3번 적용되어 대답과 동떨어진 문장이 나온 것으로 사려됨.\n",
    "    - 위 사항 외에 3번 반복되는 것은 코드상 문제일 것으로 추측됨.\n",
    "    ![image.png](attachment:image.png)\n",
    "    - 원본 모델 결과 (위)\n",
    "    ![image-2.png](attachment:image-2.png)\n",
    "    - 3단 디코더 모델 결과 (위)\n",
    "    ![image-3.png](attachment:image-3.png)\n",
    "    - 3단 디코더, 3단 Z 모델 결과 (위)"
   ]
  }
 ],
 "metadata": {
  "kernelspec": {
   "display_name": "Python 3 (ipykernel)",
   "language": "python",
   "name": "python3"
  },
  "language_info": {
   "codemirror_mode": {
    "name": "ipython",
    "version": 3
   },
   "file_extension": ".py",
   "mimetype": "text/x-python",
   "name": "python",
   "nbconvert_exporter": "python",
   "pygments_lexer": "ipython3",
   "version": "3.9.7"
  }
 },
 "nbformat": 4,
 "nbformat_minor": 5
}
