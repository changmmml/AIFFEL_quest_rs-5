{
 "cells": [
  {
   "cell_type": "code",
   "execution_count": 345,
   "id": "20800199",
   "metadata": {},
   "outputs": [],
   "source": [
    "import os\n",
    "import re\n",
    "import json\n",
    "import numpy as np\n",
    "import pandas as pd\n",
    "import tensorflow as tf\n",
    "from konlpy.tag import Okt\n",
    "from bs4 import BeautifulSoup\n",
    "import matplotlib.pyplot as plt\n",
    "import tensorflow_datasets as tfds"
   ]
  },
  {
   "cell_type": "markdown",
   "id": "dfaeac31",
   "metadata": {},
   "source": [
    "## 데이터 전처리 및 사전 생성"
   ]
  },
  {
   "cell_type": "code",
   "execution_count": 346,
   "id": "1d1daf2b",
   "metadata": {},
   "outputs": [],
   "source": [
    "# 데이터 import\n",
    "def import_data(data_name):\n",
    "    imported_data = 0\n",
    "    data_path = os.getenv('HOME')+'/aiffel/transformer_chatbot/data/'+data_name\n",
    "    imported_data = pd.read_csv(data_path)\n",
    "    return imported_data\n",
    "\n",
    "\n",
    "# 불용어 제거를 위한 함수\n",
    "def cleaning_sentence(sentence):\n",
    "        sentence = sentence.lower()\n",
    "        sentence = BeautifulSoup(sentence, \"lxml\").text\n",
    "        sentence = re.sub(r\"([?.!,])\", r\" \\1 \", sentence)\n",
    "        sentence = re.sub(r'\\([^)]*\\)', '', sentence)\n",
    "        sentence = re.sub(r'[\" \"]+', \" \", sentence)\n",
    "        sentence = re.sub(\"[^가-힣a-zA-Z0-9\\.\\?\\!,]+\", \" \", sentence)\n",
    "        sentence = sentence.strip()\n",
    "        return sentence\n",
    "\n",
    "\n",
    "# 불용어 제거\n",
    "def preprocess_sentence(data_list):\n",
    "    retrun_list = []\n",
    "    \n",
    "    if isinstance(data_list, list):\n",
    "        for sentence_frame in data_list:\n",
    "            single_list = []\n",
    "            for sentence in sentence_frame:\n",
    "                cleaned_sentence = cleaning_sentence(sentence)\n",
    "                single_list.append(cleaned_sentence)\n",
    "            retrun_list.append(single_list)\n",
    "    else:\n",
    "        cleaned_sentence = cleaning_sentence(data_list)\n",
    "        retrun_list = cleaned_sentence\n",
    "        \n",
    "    return retrun_list\n",
    "\n",
    "\n",
    "# 토크나이저 기반 단어장 생성\n",
    "def make_voca(data_list):\n",
    "    questions = data_list[0]\n",
    "    answers = data_list[1]\n",
    "    tokenizer = tfds.deprecated.text.SubwordTextEncoder.build_from_corpus(questions + answers, target_vocab_size=2**13)\n",
    "    START_TOKEN, END_TOKEN = [tokenizer.vocab_size], [tokenizer.vocab_size + 1]\n",
    "    st_token = [START_TOKEN, END_TOKEN]\n",
    "    return tokenizer, st_token\n",
    "\n",
    "\n",
    "# 생성된 단어장 기반으로 문장 토큰화\n",
    "def tokenizer_encoding(data_list, tokenizer, st_token):\n",
    "    encoding_data = []\n",
    "    for sentence_list in data_list:\n",
    "        encoding_sentence = []\n",
    "        for sentence in sentence_list:\n",
    "            a_sentence = st_token[0] + tokenizer.encode(sentence) + st_token[1]\n",
    "            encoding_sentence.append(a_sentence)\n",
    "        encoding_data.append(encoding_sentence)\n",
    "        \n",
    "    encoded_data = {'question' : encoding_data[0], 'answer' : encoding_data[1]}\n",
    "    \n",
    "    return encoded_data\n",
    "\n",
    "\n",
    "# 문장 적정 길이 계산을 위한 함수\n",
    "def visual_len(data_dic, q_rato, a_rato):\n",
    "    question_len = [len(s) for s in data_dic['question']]\n",
    "    answer_len = [len(s) for s in data_dic['answer']]\n",
    "    print('question len. max :', np.max(question_len), ', min :', np.min(question_len), ', aver :', np.mean(question_len), ', var :', np.var(question_len))\n",
    "    print('answer len. max :', np.max(answer_len), ', min :', np.min(answer_len), ', aver :', np.mean(answer_len), ', var :', np.var(answer_len))\n",
    "    \n",
    "    question_len = sorted(question_len)\n",
    "    q_rato_index = int(len(question_len)*q_rato)\n",
    "    answer_len = sorted(answer_len)\n",
    "    a_rato_index = int(len(answer_len)*a_rato)\n",
    "    print('your question rate set as : ', question_len[q_rato_index])\n",
    "    print('your answer rate set as : ', answer_len[a_rato_index])\n",
    "    return\n",
    "\n",
    "\n",
    "# 문장 길이 정규화 및 패딩\n",
    "def take_padding(data_dic, max_len):\n",
    "    return_dic = {}\n",
    "    cutten_dic = {}\n",
    "    \n",
    "    for name in ['question', 'answer']:\n",
    "        single_cutten_list = []\n",
    "        for single_list in data_dic[name]:\n",
    "            if len(single_list) > max_len :\n",
    "                return_list = 'del'\n",
    "            else :\n",
    "                return_list = single_list\n",
    "            single_cutten_list.append(return_list)\n",
    "        cutten_dic[name] = single_cutten_list\n",
    "        \n",
    "    cutten_df = pd.DataFrame.from_dict(cutten_dic)\n",
    "    cutten_df.replace('del', np.nan, inplace=True)\n",
    "    cutten_df.dropna(axis=0, inplace=True)\n",
    "    return_dic = cutten_df.to_dict('list')\n",
    "    \n",
    "    inputs = tf.keras.preprocessing.sequence.pad_sequences(return_dic['question'], maxlen=max_len, padding='post')\n",
    "    outputs = tf.keras.preprocessing.sequence.pad_sequences(return_dic['answer'], maxlen=max_len, padding='post')\n",
    "    return [inputs, outputs], max_len"
   ]
  },
  {
   "cell_type": "markdown",
   "id": "e82953ed",
   "metadata": {},
   "source": [
    "## 모델 구축에 관련한 함수"
   ]
  },
  {
   "cell_type": "code",
   "execution_count": 139,
   "id": "b4528749",
   "metadata": {},
   "outputs": [],
   "source": [
    "# 어텐션 점곱 계산 식\n",
    "def scaled_dot_product_attention(query, key, value, mask):\n",
    "    matmul_qk = tf.matmul(query, key, transpose_b=True)\n",
    "    depth = tf.cast(tf.shape(key)[-1], tf.float32)\n",
    "    logits = matmul_qk / tf.math.sqrt(depth)\n",
    "    if mask is not None:\n",
    "        logits += (mask * -1e9)    \n",
    "    attention_weights = tf.nn.softmax(logits, axis=-1)\n",
    "    output = tf.matmul(attention_weights, value)\n",
    "    return output\n",
    "\n",
    "\n",
    "# 패딩 마스크 생성을 위한 함수 (패딩된 부분을 1로 표시한)\n",
    "def create_padding_mask(x):\n",
    "    mask = tf.cast(tf.math.equal(x, 0), tf.float32)\n",
    "    return mask[:, tf.newaxis, tf.newaxis, :]\n",
    "\n",
    "\n",
    "# 룩 어헤드 마스크 생성을 위한 함수 (디코더 셀프 마스크 어텐션시)\n",
    "def create_look_ahead_mask(x):\n",
    "    seq_len = tf.shape(x)[1]\n",
    "    look_ahead_mask = 1 - tf.linalg.band_part(tf.ones((seq_len, seq_len)), -1, 0)\n",
    "    padding_mask = create_padding_mask(x)\n",
    "    return tf.maximum(look_ahead_mask, padding_mask)\n",
    "\n",
    "\n",
    "# loss 및 metric 함수\n",
    "def loss_function(y_true, y_pred, max_len = max_len):\n",
    "    y_true = tf.reshape(y_true, shape=(-1, max_len - 1))\n",
    "    loss = tf.keras.losses.SparseCategoricalCrossentropy(\n",
    "        from_logits=True, reduction='none')(y_true, y_pred)\n",
    "    mask = tf.cast(tf.not_equal(y_true, 0), tf.float32)\n",
    "    loss = tf.multiply(loss, mask)\n",
    "    return tf.reduce_mean(loss)\n",
    "\n",
    "def accuracy(y_true, y_pred, max_len = max_len):\n",
    "    y_true = tf.reshape(y_true, shape=(-1, max_len - 1))\n",
    "    return tf.keras.metrics.sparse_categorical_accuracy(y_true, y_pred)\n",
    "\n",
    "\n",
    "# 교사 강요를 위한 데이터셋을 제작하는 함수\n",
    "def teacher_extortion(data_list, BATCH_SIZE, BUFFER_SIZE):\n",
    "    question = data_list[0]\n",
    "    answer = data_list[1]\n",
    "    dataset = tf.data.Dataset.from_tensor_slices((\n",
    "        {\n",
    "            'inputs': question,\n",
    "            'dec_inputs': answer[:, :-1]\n",
    "        },\n",
    "        {\n",
    "            'outputs': answer[:, 1:]\n",
    "        },\n",
    "    ))\n",
    "    \n",
    "    dataset = dataset.cache()\n",
    "    dataset = dataset.shuffle(BUFFER_SIZE)\n",
    "    dataset = dataset.batch(BATCH_SIZE)\n",
    "    dataset = dataset.prefetch(tf.data.experimental.AUTOTUNE)\n",
    "    return dataset"
   ]
  },
  {
   "cell_type": "markdown",
   "id": "21b89a83",
   "metadata": {},
   "source": [
    "## 포지셔널 인코딩"
   ]
  },
  {
   "cell_type": "code",
   "execution_count": 118,
   "id": "580a6b1f",
   "metadata": {},
   "outputs": [],
   "source": [
    "class PositionalEncoding(tf.keras.layers.Layer):\n",
    "    def __init__(self, position, d_model):\n",
    "        super(PositionalEncoding, self).__init__()\n",
    "        self.pos_encoding = self.positional_encoding(position, d_model)\n",
    "        \n",
    "    def get_angles(self, position, i, d_model):\n",
    "        angles = 1 / tf.pow(10000, (2 * (i // 2)) / tf.cast(d_model, tf.float32))\n",
    "        return position * angles\n",
    "    \n",
    "    def positional_encoding(self, position, d_model):\n",
    "        angle_rads = self.get_angles(\n",
    "            position=tf.range(position, dtype=tf.float32)[:, tf.newaxis],\n",
    "            i=tf.range(d_model, dtype=tf.float32)[tf.newaxis, :],\n",
    "            d_model=d_model)\n",
    "        \n",
    "        sines = tf.math.sin(angle_rads[:, 0::2])\n",
    "        cosines = tf.math.cos(angle_rads[:, 1::2])\n",
    "        \n",
    "        pos_encoding = tf.stack([sines, cosines], axis=0)\n",
    "        pos_encoding = tf.transpose(pos_encoding,[1, 2, 0]) \n",
    "        pos_encoding = tf.reshape(pos_encoding, [position, d_model])\n",
    "        \n",
    "        pos_encoding = pos_encoding[tf.newaxis, ...]\n",
    "        return tf.cast(pos_encoding, tf.float32)\n",
    "    \n",
    "    def call(self, inputs):\n",
    "        return inputs + self.pos_encoding[:, :tf.shape(inputs)[1], :]"
   ]
  },
  {
   "cell_type": "markdown",
   "id": "960679cc",
   "metadata": {},
   "source": [
    "## 멀티 헤드 어텐션"
   ]
  },
  {
   "cell_type": "code",
   "execution_count": 119,
   "id": "9caace84",
   "metadata": {},
   "outputs": [],
   "source": [
    "class MultiHeadAttention(tf.keras.layers.Layer):\n",
    "    def __init__(self, d_model, num_heads, name=\"multi_head_attention\"):\n",
    "        super(MultiHeadAttention, self).__init__(name=name)\n",
    "        self.num_heads = num_heads\n",
    "        self.d_model = d_model\n",
    "    \n",
    "        assert d_model % self.num_heads == 0\n",
    "        \n",
    "        self.depth = d_model // self.num_heads\n",
    "        \n",
    "        self.query_dense = tf.keras.layers.Dense(units=d_model)\n",
    "        self.key_dense = tf.keras.layers.Dense(units=d_model)\n",
    "        self.value_dense = tf.keras.layers.Dense(units=d_model)\n",
    "        \n",
    "        self.dense = tf.keras.layers.Dense(units=d_model)\n",
    "        \n",
    "    def split_heads(self, inputs, batch_size):\n",
    "        inputs = tf.reshape(inputs, shape=(batch_size, -1, self.num_heads, self.depth))\n",
    "        return tf.transpose(inputs, perm=[0, 2, 1, 3])\n",
    "    \n",
    "    def call(self, inputs):\n",
    "        query, key, value, mask = inputs['query'], inputs['key'], inputs['value'], inputs['mask']\n",
    "        batch_size = tf.shape(query)[0]\n",
    "        \n",
    "        query = self.query_dense(query)\n",
    "        key = self.key_dense(key)\n",
    "        value =  self.value_dense(value)\n",
    "        \n",
    "        query = self.split_heads(query, batch_size)\n",
    "        key = self.split_heads(key, batch_size)\n",
    "        value = self.split_heads(value, batch_size)\n",
    "        \n",
    "        scaled_attention = scaled_dot_product_attention(query, key, value, mask)\n",
    "        \n",
    "        scaled_attention = tf.transpose(scaled_attention, perm=[0, 2, 1, 3])\n",
    "        \n",
    "        concat_attention = tf.reshape(scaled_attention,(batch_size, -1, self.d_model))\n",
    "        \n",
    "        outputs = self.dense(concat_attention)\n",
    "        return outputs"
   ]
  },
  {
   "cell_type": "markdown",
   "id": "1910ddbe",
   "metadata": {},
   "source": [
    "## 커스텀 learning rate"
   ]
  },
  {
   "cell_type": "code",
   "execution_count": 120,
   "id": "7d04fb9f",
   "metadata": {},
   "outputs": [],
   "source": [
    "class CustomSchedule(tf.keras.optimizers.schedules.LearningRateSchedule):\n",
    "    def __init__(self, d_model, warmup_steps=4000):\n",
    "        super(CustomSchedule, self).__init__()\n",
    "        \n",
    "        self.d_model = d_model\n",
    "        self.d_model = tf.cast(self.d_model, tf.float32)\n",
    "        \n",
    "        self.warmup_steps = warmup_steps\n",
    "        \n",
    "    def __call__(self, step):\n",
    "        arg1 = tf.math.rsqrt(step)\n",
    "        arg2 = step * (self.warmup_steps**-1.5)\n",
    "        \n",
    "        return tf.math.rsqrt(self.d_model) * tf.math.minimum(arg1, arg2)"
   ]
  },
  {
   "cell_type": "markdown",
   "id": "798fba14",
   "metadata": {},
   "source": [
    "## 인코더 레이어 구축"
   ]
  },
  {
   "cell_type": "code",
   "execution_count": 121,
   "id": "32ea82f7",
   "metadata": {},
   "outputs": [],
   "source": [
    "def encoder_layer(units, d_model, num_heads, dropout, name=\"encoder_layer\"):\n",
    "    inputs = tf.keras.Input(shape=(None, d_model), name=\"inputs\")\n",
    "    padding_mask = tf.keras.Input(shape=(1, 1, None), name=\"padding_mask\")\n",
    "    \n",
    "    attention = MultiHeadAttention(\n",
    "        d_model, num_heads, name=\"attention\")({\n",
    "        'query': inputs,\n",
    "        'key': inputs,\n",
    "        'value': inputs,\n",
    "        'mask': padding_mask\n",
    "    })\n",
    "    \n",
    "    attention = tf.keras.layers.Dropout(rate=dropout)(attention)\n",
    "    attention = tf.keras.layers.LayerNormalization(epsilon=1e-6)(inputs + attention)\n",
    "    \n",
    "    outputs = tf.keras.layers.Dense(units=units, activation='relu')(attention)\n",
    "    outputs = tf.keras.layers.Dense(units=d_model)(outputs)\n",
    "    \n",
    "    outputs = tf.keras.layers.Dropout(rate=dropout)(outputs)\n",
    "    outputs = tf.keras.layers.LayerNormalization(\n",
    "        epsilon=1e-6)(attention + outputs)\n",
    "    \n",
    "    return tf.keras.Model(inputs=[inputs, padding_mask], outputs=outputs, name=name)\n",
    "\n",
    "def encoder(vocab_size,\n",
    "            num_layers,\n",
    "            units,\n",
    "            d_model,\n",
    "            num_heads,\n",
    "            dropout,\n",
    "            name=\"encoder\"):\n",
    "    inputs = tf.keras.Input(shape=(None,), name=\"inputs\")\n",
    "    \n",
    "    padding_mask = tf.keras.Input(shape=(1, 1, None), name=\"padding_mask\")\n",
    "    \n",
    "    embeddings = tf.keras.layers.Embedding(vocab_size, d_model)(inputs)\n",
    "    embeddings *= tf.math.sqrt(tf.cast(d_model, tf.float32))\n",
    "    \n",
    "    embeddings = PositionalEncoding(vocab_size, d_model)(embeddings)\n",
    "    \n",
    "    outputs = tf.keras.layers.Dropout(rate=dropout)(embeddings)\n",
    "    \n",
    "    for i in range(num_layers):\n",
    "        outputs = encoder_layer(\n",
    "            units=units,\n",
    "            d_model=d_model,\n",
    "            num_heads=num_heads,\n",
    "            dropout=dropout,\n",
    "            name=\"encoder_layer_{}\".format(i),\n",
    "        )([outputs, padding_mask])\n",
    "        \n",
    "        return tf.keras.Model(inputs=[inputs, padding_mask], outputs=outputs, name=name)"
   ]
  },
  {
   "cell_type": "markdown",
   "id": "6022d716",
   "metadata": {},
   "source": [
    "## 디코더 레이어 구축"
   ]
  },
  {
   "cell_type": "code",
   "execution_count": 122,
   "id": "33f8dd4c",
   "metadata": {},
   "outputs": [],
   "source": [
    "def decoder_layer(units, d_model, num_heads, dropout, name=\"decoder_layer\"):\n",
    "    inputs = tf.keras.Input(shape=(None, d_model), name=\"inputs\")\n",
    "    enc_outputs = tf.keras.Input(shape=(None, d_model), name=\"encoder_outputs\")\n",
    "    look_ahead_mask = tf.keras.Input(shape=(1, None, None), name=\"look_ahead_mask\")\n",
    "    padding_mask = tf.keras.Input(shape=(1, 1, None), name='padding_mask')\n",
    "    \n",
    "    attention1 = MultiHeadAttention(\n",
    "        d_model, num_heads, name=\"attention_1\")(inputs={\n",
    "        'query': inputs,\n",
    "        'key': inputs,\n",
    "        'value': inputs,\n",
    "        'mask': look_ahead_mask\n",
    "    })\n",
    "    \n",
    "    attention1 = tf.keras.layers.LayerNormalization(epsilon=1e-6)(attention1 + inputs)\n",
    "    \n",
    "    attention2 = MultiHeadAttention(\n",
    "        d_model, num_heads, name=\"attention_2\")(inputs={\n",
    "        'query': attention1,\n",
    "        'key': enc_outputs,\n",
    "        'value': enc_outputs,\n",
    "        'mask': padding_mask\n",
    "    })\n",
    "    \n",
    "    attention2 = tf.keras.layers.Dropout(rate=dropout)(attention2)\n",
    "    attention2 = tf.keras.layers.LayerNormalization(epsilon=1e-6)(attention2 + attention1)\n",
    "    \n",
    "    outputs = tf.keras.layers.Dense(units=units, activation='relu')(attention2)\n",
    "    outputs = tf.keras.layers.Dense(units=d_model)(outputs)\n",
    "    \n",
    "    outputs = tf.keras.layers.Dropout(rate=dropout)(outputs)\n",
    "    outputs = tf.keras.layers.LayerNormalization(epsilon=1e-6)(outputs + attention2)\n",
    "    \n",
    "    return tf.keras.Model(inputs=[inputs, enc_outputs, look_ahead_mask, padding_mask],outputs=outputs,name=name)\n",
    "\n",
    "def decoder(vocab_size,\n",
    "            num_layers,\n",
    "            units,\n",
    "            d_model,\n",
    "            num_heads,\n",
    "            dropout,\n",
    "            name='decoder'):\n",
    "    inputs = tf.keras.Input(shape=(None,), name='inputs')\n",
    "    enc_outputs = tf.keras.Input(shape=(None, d_model), name='encoder_outputs')\n",
    "    look_ahead_mask = tf.keras.Input(shape=(1, None, None), name='look_ahead_mask')\n",
    "    \n",
    "    padding_mask = tf.keras.Input(shape=(1, 1, None), name='padding_mask')\n",
    "    \n",
    "    embeddings = tf.keras.layers.Embedding(vocab_size, d_model)(inputs)\n",
    "    embeddings *= tf.math.sqrt(tf.cast(d_model, tf.float32))\n",
    "    \n",
    "    embeddings = PositionalEncoding(vocab_size, d_model)(embeddings)\n",
    "    \n",
    "    outputs = tf.keras.layers.Dropout(rate=dropout)(embeddings)\n",
    "    \n",
    "    for i in range(num_layers):\n",
    "        outputs = decoder_layer(\n",
    "            units=units,\n",
    "            d_model=d_model,\n",
    "            num_heads=num_heads,\n",
    "            dropout=dropout,\n",
    "            name='decoder_layer_{}'.format(i),\n",
    "        )(inputs=[outputs, enc_outputs, look_ahead_mask, padding_mask])\n",
    "        \n",
    "        return tf.keras.Model(\n",
    "            inputs=[inputs, enc_outputs, look_ahead_mask, padding_mask],\n",
    "            outputs=outputs,\n",
    "            name=name)"
   ]
  },
  {
   "cell_type": "markdown",
   "id": "5d8e79fc",
   "metadata": {},
   "source": [
    "## 트랜스포머 전체 모델 구축"
   ]
  },
  {
   "cell_type": "code",
   "execution_count": 123,
   "id": "0dad3c3d",
   "metadata": {},
   "outputs": [],
   "source": [
    "def transformer(vocab_size,\n",
    "                num_layers,\n",
    "                units,\n",
    "                d_model,\n",
    "                num_heads,\n",
    "                dropout,\n",
    "                name=\"transformer\"):\n",
    "    inputs = tf.keras.Input(shape=(None,), name=\"inputs\")\n",
    "    dec_inputs = tf.keras.Input(shape=(None,), name=\"dec_inputs\")\n",
    "    \n",
    "    enc_padding_mask = tf.keras.layers.Lambda(create_padding_mask, output_shape=(1, 1, None), name='enc_padding_mask')(inputs)\n",
    "    \n",
    "    look_ahead_mask = tf.keras.layers.Lambda(\n",
    "        create_look_ahead_mask,\n",
    "        output_shape=(1, None, None),\n",
    "        name='look_ahead_mask')(dec_inputs)\n",
    "    \n",
    "    dec_padding_mask = tf.keras.layers.Lambda(create_padding_mask, output_shape=(1, 1, None), name='dec_padding_mask')(inputs)\n",
    "    \n",
    "    enc_outputs = encoder(\n",
    "        vocab_size=vocab_size,\n",
    "        num_layers=num_layers,\n",
    "        units=units,\n",
    "        d_model=d_model,\n",
    "        num_heads=num_heads,\n",
    "        dropout=dropout,\n",
    "    )(inputs=[inputs, enc_padding_mask])\n",
    "    \n",
    "    dec_outputs = decoder(\n",
    "        vocab_size=vocab_size,\n",
    "        num_layers=num_layers,\n",
    "        units=units,\n",
    "        d_model=d_model,\n",
    "        num_heads=num_heads,\n",
    "        dropout=dropout,\n",
    "    )(inputs=[dec_inputs, enc_outputs, look_ahead_mask, dec_padding_mask])\n",
    "    \n",
    "    outputs = tf.keras.layers.Dense(units=vocab_size, name=\"outputs\")(dec_outputs)\n",
    "    \n",
    "    return tf.keras.Model(inputs=[inputs, dec_inputs], outputs=outputs, name=name)"
   ]
  },
  {
   "cell_type": "markdown",
   "id": "d8f377f0",
   "metadata": {},
   "source": [
    "## 인퍼런스 모델 구축"
   ]
  },
  {
   "cell_type": "code",
   "execution_count": 327,
   "id": "980a7125",
   "metadata": {},
   "outputs": [],
   "source": [
    "def decoder_inference(sentence, tokenizer, st_token, max_len, top_k):\n",
    "    START_TOKEN = st_token[0]\n",
    "    END_TOKEN = st_token[1]\n",
    "    \n",
    "    sentence = preprocess_sentence(sentence)\n",
    "    \n",
    "    sentence = tf.expand_dims(START_TOKEN + tokenizer.encode(sentence) + END_TOKEN, axis=0)\n",
    "    \n",
    "    output_sequence = tf.expand_dims(START_TOKEN, 0)\n",
    "    \n",
    "    for i in range(max_len):\n",
    "        predictions = model(inputs=[sentence, output_sequence], training=False)\n",
    "        predictions = predictions[:, -1:, :]\n",
    "        \n",
    "        if top_k > 0:\n",
    "            predictions = tf.squeeze(predictions, axis=1)\n",
    "            top_k_values, top_k_indices = tf.nn.top_k(predictions, k=top_k)\n",
    "            top_k_probabilities = tf.nn.softmax(top_k_values)\n",
    "            sampled_index = tf.random.categorical(tf.math.log(top_k_probabilities), num_samples=1)\n",
    "            predicted_id = tf.gather(top_k_indices[0], sampled_index[0][0])\n",
    "        else:\n",
    "            predicted_id = tf.argmax(predictions, axis=-1)\n",
    "            predicted_id = predicted_id[0][0]\n",
    "                \n",
    "        predicted_id = tf.cast(predicted_id, tf.int32)\n",
    "        predicted_id = tf.expand_dims(predicted_id, axis=0)\n",
    "        \n",
    "        if tf.equal(predicted_id, END_TOKEN):\n",
    "            break\n",
    "        \n",
    "        predicted_id = tf.expand_dims(predicted_id, axis=0)\n",
    "        output_sequence = tf.concat([output_sequence, predicted_id], axis=-1)\n",
    "    return tf.squeeze(output_sequence, axis=0)\n",
    "\n",
    "def sentence_generation(sentence,  tokenizer, st_token, max_len, temperature=0.1):\n",
    "    prediction = decoder_inference(sentence,  tokenizer, st_token, max_len, temperature)\n",
    "    predicted_sentence = tokenizer.decode([i for i in prediction if i < tokenizer.vocab_size])\n",
    "    \n",
    "    print('입력 : {}'.format(sentence))\n",
    "    print('출력 : {}'.format(predicted_sentence))\n",
    "    \n",
    "    return predicted_sentence"
   ]
  },
  {
   "cell_type": "markdown",
   "id": "29586650",
   "metadata": {},
   "source": [
    "# 데이터기반 학습-예측"
   ]
  },
  {
   "cell_type": "markdown",
   "id": "0fc59d30",
   "metadata": {},
   "source": [
    "## ChatbotData"
   ]
  },
  {
   "cell_type": "markdown",
   "id": "74d84325",
   "metadata": {},
   "source": [
    "### 데이터 import"
   ]
  },
  {
   "cell_type": "code",
   "execution_count": 318,
   "id": "f8364569",
   "metadata": {},
   "outputs": [],
   "source": [
    "data = import_data('ChatbotData .csv')\n",
    "data_list = [data['Q'], data['A']]"
   ]
  },
  {
   "cell_type": "markdown",
   "id": "3d96fbc3",
   "metadata": {},
   "source": [
    "### 데이터 전처리 (정규화, 토큰화, 인코딩, 패딩, 교사 강요)"
   ]
  },
  {
   "cell_type": "code",
   "execution_count": 319,
   "id": "55998409",
   "metadata": {},
   "outputs": [],
   "source": [
    "preprocessed_data_list = preprocess_sentence(data_list)\n",
    "\n",
    "tokenizer, st_token = make_voca(preprocessed_data_list)\n",
    "\n",
    "encoded_data = tokenizer_encoding(preprocessed_data_list, tokenizer, st_token)"
   ]
  },
  {
   "cell_type": "code",
   "execution_count": 320,
   "id": "6ff96679",
   "metadata": {},
   "outputs": [
    {
     "name": "stdout",
     "output_type": "stream",
     "text": [
      "question len. max : 23 , min : 3 , aver : 7.484986889960247 , var : 6.268889890295859\n",
      "answer len. max : 31 , min : 3 , aver : 7.818404804195213 , var : 6.775701185368106\n",
      "your question rate set as :  9\n",
      "your answer rate set as :  10\n"
     ]
    }
   ],
   "source": [
    "visual_len(encoded_data, 0.8, 0.8)"
   ]
  },
  {
   "cell_type": "code",
   "execution_count": 321,
   "id": "091a21bc",
   "metadata": {},
   "outputs": [],
   "source": [
    "padding_data, max_len = take_padding(encoded_data, 10)\n",
    "\n",
    "dataset = teacher_extortion(padding_data, 64, 20000)"
   ]
  },
  {
   "cell_type": "markdown",
   "id": "ae8f5fb8",
   "metadata": {},
   "source": [
    "### 모델 구축"
   ]
  },
  {
   "cell_type": "code",
   "execution_count": 322,
   "id": "d9bf6dd2",
   "metadata": {},
   "outputs": [],
   "source": [
    "tf.keras.backend.clear_session()\n",
    "\n",
    "VOCAB_SIZE = tokenizer.vocab_size + 2\n",
    "NUM_LAYERS = 2\n",
    "D_MODEL = 256\n",
    "NUM_HEADS = 8\n",
    "UNITS = 512\n",
    "DROPOUT = 0.1"
   ]
  },
  {
   "cell_type": "code",
   "execution_count": 323,
   "id": "06a9223d",
   "metadata": {},
   "outputs": [
    {
     "name": "stdout",
     "output_type": "stream",
     "text": [
      "Model: \"transformer\"\n",
      "__________________________________________________________________________________________________\n",
      "Layer (type)                    Output Shape         Param #     Connected to                     \n",
      "==================================================================================================\n",
      "inputs (InputLayer)             [(None, None)]       0                                            \n",
      "__________________________________________________________________________________________________\n",
      "dec_inputs (InputLayer)         [(None, None)]       0                                            \n",
      "__________________________________________________________________________________________________\n",
      "enc_padding_mask (Lambda)       (None, 1, 1, None)   0           inputs[0][0]                     \n",
      "__________________________________________________________________________________________________\n",
      "encoder (Functional)            (None, None, 256)    2617088     inputs[0][0]                     \n",
      "                                                                 enc_padding_mask[0][0]           \n",
      "__________________________________________________________________________________________________\n",
      "look_ahead_mask (Lambda)        (None, 1, None, None 0           dec_inputs[0][0]                 \n",
      "__________________________________________________________________________________________________\n",
      "dec_padding_mask (Lambda)       (None, 1, 1, None)   0           inputs[0][0]                     \n",
      "__________________________________________________________________________________________________\n",
      "decoder (Functional)            (None, None, 256)    2880768     dec_inputs[0][0]                 \n",
      "                                                                 encoder[0][0]                    \n",
      "                                                                 look_ahead_mask[0][0]            \n",
      "                                                                 dec_padding_mask[0][0]           \n",
      "__________________________________________________________________________________________________\n",
      "outputs (Dense)                 (None, None, 8164)   2098148     decoder[0][0]                    \n",
      "==================================================================================================\n",
      "Total params: 7,596,004\n",
      "Trainable params: 7,596,004\n",
      "Non-trainable params: 0\n",
      "__________________________________________________________________________________________________\n"
     ]
    }
   ],
   "source": [
    "model = transformer(\n",
    "    vocab_size=VOCAB_SIZE,\n",
    "    num_layers=NUM_LAYERS,\n",
    "    units=UNITS,\n",
    "    d_model=D_MODEL,\n",
    "    num_heads=NUM_HEADS,\n",
    "    dropout=DROPOUT)\n",
    "\n",
    "model.summary()"
   ]
  },
  {
   "cell_type": "code",
   "execution_count": 324,
   "id": "595e119d",
   "metadata": {},
   "outputs": [],
   "source": [
    "learning_rate = CustomSchedule(D_MODEL)\n",
    "optimizer = tf.keras.optimizers.Adam(learning_rate, beta_1=0.9, beta_2=0.98, epsilon=1e-9)\n",
    "\n",
    "model.compile(optimizer=optimizer, loss=loss_function, metrics=[accuracy])"
   ]
  },
  {
   "cell_type": "code",
   "execution_count": 325,
   "id": "2dbe0d5e",
   "metadata": {},
   "outputs": [
    {
     "name": "stdout",
     "output_type": "stream",
     "text": [
      "Epoch 1/30\n",
      "143/143 [==============================] - 6s 20ms/step - loss: 5.6765 - accuracy: 0.0830\n",
      "Epoch 2/30\n",
      "143/143 [==============================] - 3s 19ms/step - loss: 4.7528 - accuracy: 0.2109\n",
      "Epoch 3/30\n",
      "143/143 [==============================] - 3s 19ms/step - loss: 3.9283 - accuracy: 0.2152\n",
      "Epoch 4/30\n",
      "143/143 [==============================] - 3s 19ms/step - loss: 3.4922 - accuracy: 0.2206\n",
      "Epoch 5/30\n",
      "143/143 [==============================] - 3s 19ms/step - loss: 3.2514 - accuracy: 0.2314\n",
      "Epoch 6/30\n",
      "143/143 [==============================] - 3s 19ms/step - loss: 3.0457 - accuracy: 0.2441\n",
      "Epoch 7/30\n",
      "143/143 [==============================] - 3s 19ms/step - loss: 2.8401 - accuracy: 0.2635\n",
      "Epoch 8/30\n",
      "143/143 [==============================] - 3s 19ms/step - loss: 2.6119 - accuracy: 0.2910\n",
      "Epoch 9/30\n",
      "143/143 [==============================] - 3s 19ms/step - loss: 2.3555 - accuracy: 0.3215\n",
      "Epoch 10/30\n",
      "143/143 [==============================] - 3s 19ms/step - loss: 2.0766 - accuracy: 0.3545\n",
      "Epoch 11/30\n",
      "143/143 [==============================] - 3s 19ms/step - loss: 1.7910 - accuracy: 0.3867\n",
      "Epoch 12/30\n",
      "143/143 [==============================] - 3s 18ms/step - loss: 1.4977 - accuracy: 0.4243\n",
      "Epoch 13/30\n",
      "143/143 [==============================] - 3s 18ms/step - loss: 1.2192 - accuracy: 0.4615\n",
      "Epoch 14/30\n",
      "143/143 [==============================] - 3s 19ms/step - loss: 0.9542 - accuracy: 0.5039\n",
      "Epoch 15/30\n",
      "143/143 [==============================] - 3s 18ms/step - loss: 0.7201 - accuracy: 0.5422\n",
      "Epoch 16/30\n",
      "143/143 [==============================] - 3s 18ms/step - loss: 0.5184 - accuracy: 0.5774\n",
      "Epoch 17/30\n",
      "143/143 [==============================] - 3s 19ms/step - loss: 0.3572 - accuracy: 0.6087\n",
      "Epoch 18/30\n",
      "143/143 [==============================] - 3s 19ms/step - loss: 0.2365 - accuracy: 0.6294\n",
      "Epoch 19/30\n",
      "143/143 [==============================] - 3s 19ms/step - loss: 0.1543 - accuracy: 0.6430\n",
      "Epoch 20/30\n",
      "143/143 [==============================] - 3s 18ms/step - loss: 0.1106 - accuracy: 0.6482\n",
      "Epoch 21/30\n",
      "143/143 [==============================] - 3s 19ms/step - loss: 0.0829 - accuracy: 0.6518\n",
      "Epoch 22/30\n",
      "143/143 [==============================] - 3s 18ms/step - loss: 0.0701 - accuracy: 0.6528\n",
      "Epoch 23/30\n",
      "143/143 [==============================] - 3s 19ms/step - loss: 0.0621 - accuracy: 0.6539\n",
      "Epoch 24/30\n",
      "143/143 [==============================] - 3s 18ms/step - loss: 0.0598 - accuracy: 0.6537\n",
      "Epoch 25/30\n",
      "143/143 [==============================] - 3s 18ms/step - loss: 0.0564 - accuracy: 0.6540\n",
      "Epoch 26/30\n",
      "143/143 [==============================] - 3s 18ms/step - loss: 0.0532 - accuracy: 0.6549\n",
      "Epoch 27/30\n",
      "143/143 [==============================] - 3s 18ms/step - loss: 0.0527 - accuracy: 0.6549\n",
      "Epoch 28/30\n",
      "143/143 [==============================] - 3s 18ms/step - loss: 0.0509 - accuracy: 0.6551\n",
      "Epoch 29/30\n",
      "143/143 [==============================] - 3s 18ms/step - loss: 0.0484 - accuracy: 0.6554\n",
      "Epoch 30/30\n",
      "143/143 [==============================] - 3s 18ms/step - loss: 0.0434 - accuracy: 0.6565\n"
     ]
    },
    {
     "data": {
      "text/plain": [
       "<keras.callbacks.History at 0x7ba1116680a0>"
      ]
     },
     "execution_count": 325,
     "metadata": {},
     "output_type": "execute_result"
    }
   ],
   "source": [
    "model.fit(dataset, epochs=30, verbose=1)"
   ]
  },
  {
   "cell_type": "markdown",
   "id": "436de46f",
   "metadata": {},
   "source": [
    "### 추론 모델 구동"
   ]
  },
  {
   "cell_type": "code",
   "execution_count": 328,
   "id": "f62665b2",
   "metadata": {
    "scrolled": false
   },
   "outputs": [
    {
     "name": "stdout",
     "output_type": "stream",
     "text": [
      "입력 : 반가워\n",
      "출력 : 반갑습니다 .\n"
     ]
    },
    {
     "data": {
      "text/plain": [
       "'반갑습니다 .'"
      ]
     },
     "execution_count": 328,
     "metadata": {},
     "output_type": "execute_result"
    }
   ],
   "source": [
    "sentence_generation(\"반가워\",  tokenizer, st_token, max_len, 3)"
   ]
  },
  {
   "cell_type": "code",
   "execution_count": 329,
   "id": "4d989dc8",
   "metadata": {},
   "outputs": [
    {
     "name": "stdout",
     "output_type": "stream",
     "text": [
      "입력 : 오늘 기분은 어때?\n",
      "출력 : 숨 쉴만 했으면 좋겠네요 .\n"
     ]
    },
    {
     "data": {
      "text/plain": [
       "'숨 쉴만 했으면 좋겠네요 .'"
      ]
     },
     "execution_count": 329,
     "metadata": {},
     "output_type": "execute_result"
    }
   ],
   "source": [
    "sentence_generation(\"오늘 기분은 어때?\",  tokenizer, st_token, max_len, 0)"
   ]
  },
  {
   "cell_type": "code",
   "execution_count": 330,
   "id": "bffec2ca",
   "metadata": {},
   "outputs": [
    {
     "name": "stdout",
     "output_type": "stream",
     "text": [
      "입력 : 행복한 하루 보내\n",
      "출력 : 매일매일 행복한 일이 생기죠\n"
     ]
    },
    {
     "data": {
      "text/plain": [
       "'매일매일 행복한 일이 생기죠'"
      ]
     },
     "execution_count": 330,
     "metadata": {},
     "output_type": "execute_result"
    }
   ],
   "source": [
    "sentence_generation(\"행복한 하루 보내\",  tokenizer, st_token, max_len, 1)"
   ]
  },
  {
   "cell_type": "code",
   "execution_count": 331,
   "id": "b20989e3",
   "metadata": {},
   "outputs": [
    {
     "name": "stdout",
     "output_type": "stream",
     "text": [
      "입력 : 데카르트가 정의한 행복은 뭘까?\n",
      "출력 : 너무 무리하지는 마세요 .\n"
     ]
    },
    {
     "data": {
      "text/plain": [
       "'너무 무리하지는 마세요 .'"
      ]
     },
     "execution_count": 331,
     "metadata": {},
     "output_type": "execute_result"
    }
   ],
   "source": [
    "sentence_generation(\"데카르트가 정의한 행복은 뭘까?\",  tokenizer, st_token, max_len, 1)"
   ]
  },
  {
   "cell_type": "code",
   "execution_count": 332,
   "id": "31e41ee3",
   "metadata": {},
   "outputs": [
    {
     "name": "stdout",
     "output_type": "stream",
     "text": [
      "입력 : 소크라테스가 정의한 행복은 뭘까?\n",
      "출력 : 우선 꾸준히 연락하고 잘해줘보세요 .\n"
     ]
    },
    {
     "data": {
      "text/plain": [
       "'우선 꾸준히 연락하고 잘해줘보세요 .'"
      ]
     },
     "execution_count": 332,
     "metadata": {},
     "output_type": "execute_result"
    }
   ],
   "source": [
    "sentence_generation(\"소크라테스가 정의한 행복은 뭘까?\",  tokenizer, st_token, max_len, 1)"
   ]
  },
  {
   "attachments": {
    "image-3.png": {
     "image/png": "[encoded data removed]"
    },
    "image-4.png": {
     "image/png": "[encoded data removed]"
    },
    "image-5.png": {
     "image/png": "[encoded data removed]"
    },
    "image-6.png": {
     "image/png": "[encoded data removed]"
    },
    "image-7.png": {
     "image/png": "[encoded data removed]"
    },
    "image-8.png": {
     "image/png": "[encoded data removed]"
    },
    "image.png": {
     "image/png": "[encoded data removed]"
    }
   },
   "cell_type": "markdown",
   "id": "6bbe3291",
   "metadata": {},
   "source": [
    "### 디버그 사항\n",
    "- 아래 사진과 같은 문제가 발생하였으며, 단어 중복을 피하귀 위해 softmax temperature를 조절해보았음\n",
    "![image.png](attachment:image.png)\n",
    "\n",
    "- 마침표가 나오는 경우 end_token으로 연결되지 않는 문제가 있는 것으로 확인됨\n",
    "![image-3.png](attachment:image-3.png)\n",
    "\n",
    "- 차원 문제 때문에 (predicted_id의 경우 3D 텐서) 중단이 안되는 것으로 판단하여, 해당사항을 수정함\n",
    "![image-4.png](attachment:image-4.png)\n",
    "\n",
    "- (수정정 코드)\n",
    "![image-5.png](attachment:image-5.png)\n",
    "- (수정된 코드)\n",
    "![image-6.png](attachment:image-6.png)\n",
    "\n",
    "- 수정하였음에도 반복되어 확인하여 보니, 8162 인덱스가 말미에 반복되는 것으로 확인함\n",
    "- 아래 코드가 문제인 것으로 확인함.. (뒤에 있는 st_token[0] -> st_token[1]이어야함)\n",
    "![image-7.png](attachment:image-7.png)\n",
    "\n",
    "- 수정이후 정상적으로 나오는 것을 확인\n",
    "![image-8.png](attachment:image-8.png)"
   ]
  },
  {
   "cell_type": "markdown",
   "id": "a6d80b68",
   "metadata": {},
   "source": [
    "# 회고\n",
    "\n",
    "- 효율성 고려\n",
    "    - 중간에 디버깅에 너무 많은 시간을 소요하였음\n",
    "    - 형태소 분석기 등 다양한 토크나이저를 사용할 시 새로 함수를 작성해야함\n",
    "    - 전반적으로 함수의 범용성이 없으며, 각 함수마다 들어가는 인자가 너무 많음\n",
    "    - 전처리 과정에서 문장을 자세하게 분석하지 않았음 --> 동사 변형마다 다른 토큰이 생김\n",
    "    - 빈도가 높지 않은 특수 단어를 제거하지 않았음\n",
    "    - 패딩 시 길이를 너무 짧게 준 부분이 있음\n",
    "\n",
    "- 추가 실험 고려\n",
    "    - 주어진 데이터가 아닌 다양한 데이터에서도 구동 필요\n",
    "    - 특히 규모가 큰 데이터를 이용해볼 필요가 있음\n",
    "        (본 데이터의 경우 규모가 적어 학습이 지나치게 빠르고, 다양한 대답 혹은 문장이 길어지면 대답을 잘 못함)\n",
    "    - 형태소 분석기 등 전처리에 대한 부분을 더 깊게 고민해 볼 필요가 있음\n",
    "    - BLEU/ROGUE score 등 다양한 평가지표를 사용해볼 필요가 있음"
   ]
  },
  {
   "cell_type": "markdown",
   "id": "9634c433",
   "metadata": {},
   "source": [
    "# 추가 실험"
   ]
  },
  {
   "cell_type": "markdown",
   "id": "4d3dc744",
   "metadata": {},
   "source": [
    "## 형태소 분석기 사용 (미완)"
   ]
  },
  {
   "cell_type": "code",
   "execution_count": null,
   "id": "5f79a5a4",
   "metadata": {},
   "outputs": [],
   "source": [
    "def using_okt(data_list):\n",
    "    okt = Okt()\n",
    "    tokenizer = Tokenizer()\n",
    "    okted_sentence = []\n",
    "    for data in data_list"
   ]
  },
  {
   "cell_type": "markdown",
   "id": "4f4c5cd0",
   "metadata": {},
   "source": [
    "## 다른 데이터 셋 활용 (미완)"
   ]
  },
  {
   "cell_type": "markdown",
   "id": "f8d36f11",
   "metadata": {},
   "source": [
    "- 아래 데이터는 ai_hub(https://www.aihub.or.kr/)에서 제공받은 데이터이며, 질문과 응답으로 구성되어있음\n",
    "- 다만 주어진 'context' 기반의 질의 응답이라, 구현 방법을 더 고민해보아야 할 것 같음\n",
    "- 데이터 출처는 아래와 같음\n",
    "- https://www.aihub.or.kr/aihubdata/data/view.do?currMenu=115&topMenu=100&aihubDataSe=realm&dataSetSn=89 (ai_hub, 한국어 기계독해 데이터)"
   ]
  },
  {
   "cell_type": "code",
   "execution_count": 342,
   "id": "60b16cd4",
   "metadata": {},
   "outputs": [],
   "source": [
    "data_path = os.getenv('HOME')+'/aiffel/ai_hub/data/'+'ko_nia_normal_squad_all.json'\n",
    "with open(data_path) as f:\n",
    "    js = json.loads(f.read())\n",
    "korean_data = pd.DataFrame(js)"
   ]
  },
  {
   "cell_type": "code",
   "execution_count": 344,
   "id": "43b22b59",
   "metadata": {},
   "outputs": [
    {
     "data": {
      "text/plain": [
       "{'title': '20180305114044000',\n",
       " 'paragraphs': [{'context': '중국의 한 여성 경찰이 아파트에서 추락하던 3세 아이를 살리고 자신은 혼수상태에 빠졌습니다. 의인(義人)의 소식이 알려지자 각박한 중국 사회에 큰 반향을 일으키고 있습니다. 5일 귀주도시망 등 중국 현지 언론에 따르면 구이저우성 카일리시에 보조 교통 경찰로 일하는 천중핑(49)은 지난달 28일 한 아파트에서 비상 상황이 발생했다는 연락을 받고 현장으로 향했습니다. 도착했을 때 아파트 4층 창문에서 여자 아이가 매달려 있었습니다. 곧이어 아이는 손에 힘이 빠지면서 밑으로 추락했습니다. 천중핑과 다른 세명의 이웃들이 달려갔습니다. 그리고 아이는 바닥이 아니라 천중핑의 팔에 떨어졌습니다. 중간 비막이 천막 때문에 속도가 줄기는 했지만 추락의 충격은 천중핑이 고스란히 감당해야 했습니다. 아이는 즉시 병원으로 옮겨져 치료를 받았습니다. 다리 골절로 그리 심각한 상황은 아니라고 합니다. 하지만 생명의 은인이자 영웅은 커다란 댓가를 치러야 했다. 뇌출혈로 인한 의식불명 상태에 빠진 것이다. 다행히 이틀 간의 코마 상태 이후 의식을 회복해 지난 2일부터 중환자실에서 치료를 받고 있습니다. 아이는 열쇠공이 문을 따는 소리에 겁을 먹고 창문 밖으로 도망을 치려다 사고를 당한 것으로 전해졌습니다. 아이가 잠든 사이 돌보던 아이의 할머니가 쓰레기를 버리러 나갔다가 문이 잠기는 바람에 열쇠공을 불렀던 것입니다. 아이의 엄마는 “천중핑의 도움이 없었다면 아이는 죽었을 것”이라며 딸을 구해준 천중핑에게 감사의 뜻을 전했습다. 카일리시 정부 대표와 공안부 관계자들도 천중핑이 입원한 병원을 찾아 위로하고 회복될때까지 도움을 아끼지 않겠다고 밝혔습니다. 천중핑의 선행 사실을 접한 중국 기업 알리바바도 ‘중국의 좋은 이웃상’과 함께 상금 1만 위안(약 170만원)을 수여하기로 했습니다. [아직 살만한 세상]은 점점 각박해지는 세상에 희망과 믿음을 주는 이들의 이야기입니다. 힘들고 지칠 때 아직 살만한 세상을 만들어가는 ‘아살세’ 사람들의 목소리를 들어보세요. 따뜻한 세상을 꿈꾸는 독자 여러분의 제보를 기다립니다. 맹경환 기자 khmaeng@kmib.co.kr',\n",
       "   'qas': [{'question': '중국에서 아파트에서 추락하던 3세 아이를 살리고 자신은 혼수상태에 빠진 사람은 누구야?',\n",
       "     'answers': [{'answer_start': 134, 'text': '보조 교통 경찰로 일하는 천중핑'}],\n",
       "     'id': 'c1_151305-1',\n",
       "     'classtype': 'work_who'},\n",
       "    {'question': '천중핑씨가 추락하는 아이를 구하고 뇌출혈로 인한 의식불명 상태에  빠진건 언제야?',\n",
       "     'answers': [{'answer_start': 157, 'text': '지난달 28일'}],\n",
       "     'id': 'c1_151306-1',\n",
       "     'classtype': 'work_when'},\n",
       "    {'question': '천중핑씨가 보조 교통 경찰로 일하는 곳은 어디야?',\n",
       "     'answers': [{'answer_start': 122, 'text': '구이저우성 카일리시'}],\n",
       "     'id': 'c1_151307-1',\n",
       "     'classtype': 'work_where'},\n",
       "    {'question': '천중핑의 선행 사실을 접한 중국 기업 알리바바는 무엇을 하기로 했어?',\n",
       "     'answers': [{'answer_start': 835,\n",
       "       'text': '‘중국의 좋은 이웃상’과 함께 상금 1만 위안(약 170만원)을 수여'}],\n",
       "     'id': 'c1_151308-1',\n",
       "     'classtype': 'work_what'},\n",
       "    {'question': '천중핑씨의 상태는 어때?',\n",
       "     'answers': [{'answer_start': 502,\n",
       "       'text': '이틀 간의 코마 상태 이후 의식을 회복해 지난 2일부터 중환자실에서 치료를 받고 있습니다'}],\n",
       "     'id': 'c1_151309-1',\n",
       "     'classtype': 'work_how'},\n",
       "    {'question': '3세 아이는 왜 4층 창문에 매달려 있었어?',\n",
       "     'answers': [{'answer_start': 557,\n",
       "       'text': '열쇠공이 문을 따는 소리에 겁을 먹고 창문 밖으로 도망을 치려다'}],\n",
       "     'id': 'c1_151310-1',\n",
       "     'classtype': 'work_why'},\n",
       "    {'question': '열쇠공은 왜 잠긴 문을 따려고 한거야?',\n",
       "     'answers': [{'answer_start': 612,\n",
       "       'text': '아이가 잠든 사이 돌보던 아이의 할머니가 쓰레기를 버리러 나갔다가 문이 잠기는 바람에 열쇠공을 불렀던 것'}],\n",
       "     'id': 'c1_151311-1',\n",
       "     'classtype': 'work_why'}]}],\n",
       " 'source': 4}"
      ]
     },
     "execution_count": 344,
     "metadata": {},
     "output_type": "execute_result"
    }
   ],
   "source": [
    "korean_data['data'][2]"
   ]
  }
 ],
 "metadata": {
  "kernelspec": {
   "display_name": "Python 3 (ipykernel)",
   "language": "python",
   "name": "python3"
  },
  "language_info": {
   "codemirror_mode": {
    "name": "ipython",
    "version": 3
   },
   "file_extension": ".py",
   "mimetype": "text/x-python",
   "name": "python",
   "nbconvert_exporter": "python",
   "pygments_lexer": "ipython3",
   "version": "3.9.7"
  }
 },
 "nbformat": 4,
 "nbformat_minor": 5
}
