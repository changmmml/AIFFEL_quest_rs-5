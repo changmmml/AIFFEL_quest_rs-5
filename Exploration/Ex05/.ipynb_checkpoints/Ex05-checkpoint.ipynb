{
 "cells": [
  {
   "cell_type": "code",
   "execution_count": 154,
   "id": "f8501827",
   "metadata": {},
   "outputs": [],
   "source": [
    "import os\n",
    "import math\n",
    "import konlpy\n",
    "import gensim\n",
    "import numpy as np\n",
    "import pandas as pd\n",
    "import tensorflow as tf\n",
    "from konlpy.tag import Mecab\n",
    "from collections import Counter\n",
    "import matplotlib.pyplot as plt\n",
    "from gensim.models import KeyedVectors\n",
    "from tensorflow.keras.initializers import Constant\n",
    "from gensim.models.keyedvectors import Word2VecKeyedVectors"
   ]
  },
  {
   "cell_type": "code",
   "execution_count": 160,
   "id": "bd9ed3dd",
   "metadata": {},
   "outputs": [],
   "source": [
    "def import_data(data_name):\n",
    "    if isinstance(data_name, list) == True :\n",
    "        imported_data = []\n",
    "        for name in data_name:\n",
    "            data_path = os.getenv('HOME')+'/aiffel/workplace/Exploration/Ex05/data/'+name\n",
    "            im_data = pd.read_table(data_path)\n",
    "            imported_data.append(im_data)\n",
    "    else :\n",
    "        imported_data = 0\n",
    "        data_path = os.getenv('HOME')+'/aiffel/workplace/Exploration/Ex05/data/'+data_name\n",
    "        imported_data = pd.read_table(data_path)\n",
    "    return imported_data\n",
    "\n",
    "\n",
    "def token_voca_dic(train_data, test_data, stopword, num_words=10000):\n",
    "    train_data.drop_duplicates(subset=['document'], inplace=True)\n",
    "    train_data = train_data.dropna(how = 'any') \n",
    "    test_data.drop_duplicates(subset=['document'], inplace=True)\n",
    "    test_data = test_data.dropna(how = 'any') \n",
    "    \n",
    "    X_train = []\n",
    "    for sentence in train_data['document']:\n",
    "        temp_X = tokenizer.morphs(sentence)\n",
    "        temp_X = [word for word in temp_X if not word in stopwords]\n",
    "        X_train.append(temp_X)\n",
    "    \n",
    "    X_test = []\n",
    "    for sentence in test_data['document']:\n",
    "        temp_X = tokenizer.morphs(sentence) # 토큰화\n",
    "        temp_X = [word for word in temp_X if not word in stopwords] # 불용어 제거\n",
    "        X_test.append(temp_X)\n",
    "    \n",
    "    words = np.concatenate(X_train).tolist()\n",
    "    counter = Counter(words)\n",
    "    counter = counter.most_common(10000-4)\n",
    "    vocab = ['', '', '', ''] + [key for key, _ in counter]\n",
    "    word_to_index = {word:index for index, word in enumerate(vocab)}\n",
    "    \n",
    "    index_to_word = {index:word for word, index in word_to_index.items()}\n",
    "    \n",
    "    word_to_index[\"<PAD>\"] = 0\n",
    "    word_to_index[\"<BOS>\"] = 1\n",
    "    word_to_index[\"<UNK>\"] = 2 \n",
    "    word_to_index[\"<UNUSED>\"] = 3\n",
    "    \n",
    "    return X_train, np.array(list(train_data['label'])), X_test, np.array(list(test_data['label'])), word_to_index, index_to_word\n",
    "\n",
    "\n",
    "def word_index_changer(change_text , word_to_index, index_to_word):\n",
    "    user_value = None\n",
    "    user_type = None\n",
    "    output_sentence = []\n",
    "    \n",
    "    def wordlist_to_indexlist(wordlist, word_to_index):\n",
    "        return [word_to_index[word] if word in word_to_index else word_to_index['<UNK>'] for word in wordlist]\n",
    "    def get_encoded_sentence(sentence, word_to_index):\n",
    "        return [word_to_index['<BOS>']]+[word_to_index[word] if word in word_to_index else word_to_index['<UNK>'] for word in sentence.split()]\n",
    "    def get_decoded_sentence(encoded_sentence, index_to_word):\n",
    "        return ' '.join(index_to_word[index] if index in index_to_word else '<UNK>' for index in encoded_sentence[1:])\n",
    "        \n",
    "    while True:\n",
    "        user_input = input(\"insert w2i or i2w (press q is quit): \")\n",
    "        \n",
    "        if user_input.lower() == 'q':\n",
    "            break\n",
    "            \n",
    "        try:\n",
    "            user_value = user_input\n",
    "            print(f\"your choice :\" + user_value)\n",
    "            break\n",
    "            \n",
    "        except ValueError:\n",
    "            print(\"error\")\n",
    "    \n",
    "    if user_value == 'w2i':\n",
    "        if isinstance(change_text[0], list) == True :\n",
    "            for wordlist in change_text:\n",
    "                sigle_output = wordlist_to_indexlist(wordlist, word_to_index)\n",
    "                output_sentence.append(sigle_output)\n",
    "            \n",
    "        else :\n",
    "            for sentence in change_text:\n",
    "                sigle_output = get_encoded_sentence(sentence, word_to_index)\n",
    "                output_sentence.append(sigle_output)\n",
    "                \n",
    "            \n",
    "    elif user_value == 'i2w':\n",
    "        for sentence in change_text:\n",
    "            sigle_output = get_decoded_sentence(sentence, word_to_index)\n",
    "            output_sentence.append(sigle_output)\n",
    "    \n",
    "    else :\n",
    "        print(\"you got error\")\n",
    "            \n",
    "    return output_sentence\n",
    "\n",
    "\n",
    "def got_padding(x_train, x_test, length_type='aver+', padding_type='pre'):\n",
    "    maxlen = 0\n",
    "    \n",
    "    total_data_text = list(x_train) + list(x_test)\n",
    "    num_tokens = [len(tokens) for tokens in total_data_text]\n",
    "    num_tokens = np.array(num_tokens)\n",
    "    \n",
    "    print('aver length : ', int(np.mean(num_tokens)))\n",
    "    print('max length : ', int(np.max(num_tokens)))\n",
    "    print('aver+ length : ', int(np.mean(num_tokens) + 2*np.std(num_tokens)))\n",
    "    \n",
    "    if length_type == 'aver':\n",
    "        print('your paddinf length is ' + length_type + ' : ', int(np.mean(num_tokens)))\n",
    "        maxlen = int(np.mean(num_tokens))\n",
    "        \n",
    "    elif length_type == 'max':\n",
    "        print('your paddinf length is ' + length_type + ' : ', int(np.max(num_tokens)))\n",
    "        maxlen = int(np.max(num_tokens))\n",
    "        \n",
    "    else :\n",
    "        print('your paddinf length is aver+ : ', int(np.mean(num_tokens) + 2*np.std(num_tokens)))\n",
    "        maxlen = int(np.mean(num_tokens) + 2*np.std(num_tokens))\n",
    "        \n",
    "    print('your paddinf type is ' + padding_type)\n",
    "    \n",
    "    x_train = tf.keras.preprocessing.sequence.pad_sequences(x_train,\n",
    "                                                        value=word_to_index[\"<PAD>\"],\n",
    "                                                        padding=padding_type,\n",
    "                                                        maxlen=maxlen)\n",
    "    \n",
    "    x_test = tf.keras.preprocessing.sequence.pad_sequences(x_test,\n",
    "                                                           value=word_to_index[\"<PAD>\"],\n",
    "                                                           padding=padding_type,\n",
    "                                                           maxlen=maxlen)\n",
    "    return x_train, x_test, maxlen"
   ]
  },
  {
   "cell_type": "code",
   "execution_count": 171,
   "id": "cdeb07db",
   "metadata": {},
   "outputs": [],
   "source": [
    "def make_model(model_type = 'RNN', embedding='defalt', embedding_matrix = None, maxlen = None, layer=1, unit = 16 , num_words=10000, word_vector_dim = 30):\n",
    "    if embedding == 'word2vec':\n",
    "        if model_type == 'Dence':\n",
    "            model = tf.keras.Sequential()\n",
    "            model.add(tf.keras.layers.Embedding(num_words, word_vector_dim, embeddings_initializer=Constant(embedding_matrix),\n",
    "                                                input_length=maxlen, trainable=True))\n",
    "            model.add(tf.keras.layers.GlobalMaxPooling1D())\n",
    "            for i in range(layer):\n",
    "                model.add(tf.keras.layers.Dense(unit, activation='relu'))\n",
    "            model.add(tf.keras.layers.Dense(1, activation='sigmoid'))\n",
    "            \n",
    "        elif model_type == '1D_conv':\n",
    "            model = tf.keras.Sequential()\n",
    "            model.add(tf.keras.layers.Embedding(num_words, word_vector_dim, embeddings_initializer=Constant(embedding_matrix),\n",
    "                                                input_length=maxlen, trainable=True))\n",
    "            for i in range(layer):\n",
    "                model.add(tf.keras.layers.Conv1D(unit, 3, activation='relu'))\n",
    "                model.add(tf.keras.layers.MaxPooling1D(2))\n",
    "            model.add(tf.keras.layers.Conv1D(unit, 7, activation='relu'))\n",
    "            model.add(tf.keras.layers.GlobalMaxPooling1D())\n",
    "            model.add(tf.keras.layers.Dense(unit, activation='relu'))\n",
    "            model.add(tf.keras.layers.Dense(1, activation='sigmoid'))\n",
    "            \n",
    "        else :\n",
    "            model = tf.keras.Sequential()\n",
    "            model.add(tf.keras.layers.Embedding(num_words, word_vector_dim, embeddings_initializer=Constant(embedding_matrix),\n",
    "                                                input_length=maxlen, trainable=True))\n",
    "            for i in range(layer):\n",
    "                if i < layer - 1:\n",
    "                    model.add(tf.keras.layers.LSTM(unit, return_sequences=True))\n",
    "                else:\n",
    "                    model.add(tf.keras.layers.LSTM(unit))\n",
    "            model.add(tf.keras.layers.Dense(unit, activation='relu'))\n",
    "            model.add(tf.keras.layers.Dense(1, activation='sigmoid'))\n",
    "            \n",
    "    else :\n",
    "        if model_type == 'Dence':\n",
    "            model = tf.keras.Sequential()\n",
    "            model.add(tf.keras.layers.Embedding(num_words, word_vector_dim, input_shape=(None,)))\n",
    "            model.add(tf.keras.layers.GlobalMaxPooling1D())\n",
    "            for i in range(layer):\n",
    "                model.add(tf.keras.layers.Dense(unit, activation='relu'))\n",
    "            model.add(tf.keras.layers.Dense(1, activation='sigmoid'))\n",
    "            \n",
    "        elif model_type == '1D_conv':\n",
    "            model = tf.keras.Sequential()\n",
    "            model.add(tf.keras.layers.Embedding(num_words, word_vector_dim, input_shape=(None,)))\n",
    "            for i in range(layer):\n",
    "                model.add(tf.keras.layers.Conv1D(unit, 3, activation='relu'))\n",
    "                model.add(tf.keras.layers.MaxPooling1D(2))\n",
    "            model.add(tf.keras.layers.Conv1D(unit, 7, activation='relu'))\n",
    "            model.add(tf.keras.layers.GlobalMaxPooling1D())\n",
    "            model.add(tf.keras.layers.Dense(unit, activation='relu'))\n",
    "            model.add(tf.keras.layers.Dense(1, activation='sigmoid'))\n",
    "            \n",
    "        else :\n",
    "            model = tf.keras.Sequential()\n",
    "            model.add(tf.keras.layers.Embedding(num_words, word_vector_dim, input_shape=(None,)))\n",
    "            for i in range(layer):\n",
    "                if i < layer - 1:\n",
    "                    model.add(tf.keras.layers.LSTM(unit, return_sequences=True))\n",
    "                else:\n",
    "                    model.add(tf.keras.layers.LSTM(unit))\n",
    "            model.add(tf.keras.layers.Dense(unit, activation='relu'))\n",
    "            model.add(tf.keras.layers.Dense(1, activation='sigmoid'))\n",
    "            \n",
    "    model.summary()\n",
    "            \n",
    "    return model\n",
    "\n",
    "def learn_model(model, x_train, y_train, x_test, y_test, split_rate = 0.8, epochs=20, batch_sizes=512):\n",
    "    model.compile(optimizer='adam',\n",
    "                  loss='binary_crossentropy',\n",
    "                  metrics=['accuracy'])\n",
    "    \n",
    "    split_size = int(len(x_train)*split_rate)\n",
    "    partial_x_train = x_train[:split_size]\n",
    "    partial_y_train = y_train[:split_size]\n",
    "    x_val = x_train[split_size:]\n",
    "    y_val = y_train[split_size:]\n",
    "    \n",
    "    \n",
    "    \n",
    "    history = model.fit(partial_x_train,\n",
    "                        partial_y_train,\n",
    "                        epochs=epochs,\n",
    "                        batch_size=batch_sizes,\n",
    "                        validation_data=(x_val, y_val),\n",
    "                        verbose=1)\n",
    "    \n",
    "    results = model.evaluate(x_test,  y_test, verbose=2)\n",
    "    \n",
    "    print('results is \\n')\n",
    "    print(results)\n",
    "    \n",
    "    return history\n",
    "\n",
    "def drow_plt(history, score='accuracy'):\n",
    "    plt.clf()\n",
    "    \n",
    "    valscore = 'val_'+score\n",
    "    history_dict = history.history\n",
    "    score = history_dict[score]\n",
    "    val_score = history_dict[valscore]\n",
    "    \n",
    "    plt_epochs = range(1, len(score) + 1)\n",
    "    \n",
    "    plt.plot(plt_epochs, score, 'bo', label='Training acc')\n",
    "    plt.plot(plt_epochs, val_score, 'b', label='Validation acc')\n",
    "    plt.title('Training and validation accuracy')\n",
    "    plt.xlabel('Epochs')\n",
    "    plt.ylabel('Accuracy')\n",
    "    plt.legend()\n",
    "    \n",
    "    plt.show()"
   ]
  },
  {
   "cell_type": "code",
   "execution_count": 161,
   "id": "627a967d",
   "metadata": {},
   "outputs": [],
   "source": [
    "def save_embedding(model, name, index_to_word, num_words=10000, word_vector_dim = 30):    \n",
    "    embedding_layer = model.layers[0]\n",
    "    weights = embedding_layer.get_weights()[0]\n",
    "    \n",
    "    word2vec_file_path = os.getenv('HOME')+'/aiffel/workplace/Exploration/Ex05/embedding/'+name\n",
    "    f = open(word2vec_file_path, 'w')\n",
    "    f.write('{} {}\\n'.format(num_words-4, word_vector_dim))\n",
    "    \n",
    "    vectors = model.get_weights()[0]\n",
    "    for i in range(4,num_words):\n",
    "        f.write('{} {}\\n'.format(index_to_word[i], ' '.join(map(str, list(vectors[i, :])))))\n",
    "        \n",
    "    f.close()\n",
    "    return word2vec_file_path"
   ]
  },
  {
   "cell_type": "markdown",
   "id": "b08349d0",
   "metadata": {},
   "source": [
    "## 데이터 전처리"
   ]
  },
  {
   "cell_type": "markdown",
   "id": "ac0265c3",
   "metadata": {},
   "source": [
    "### 데이터 불러오기"
   ]
  },
  {
   "cell_type": "code",
   "execution_count": 20,
   "id": "6aed7ded",
   "metadata": {},
   "outputs": [],
   "source": [
    "imported_data = import_data(['ratings_train.txt', 'ratings_test.txt'])"
   ]
  },
  {
   "cell_type": "code",
   "execution_count": 21,
   "id": "c4b6ce90",
   "metadata": {},
   "outputs": [],
   "source": [
    "stopwords = ['의','가','이','은','들','는','좀','잘','걍','과','도','를','으로','자','에','와','한','하다']\n",
    "tokenizer = Mecab()"
   ]
  },
  {
   "cell_type": "markdown",
   "id": "4ddec38c",
   "metadata": {},
   "source": [
    "### 데이터 토큰화 및 인코딩"
   ]
  },
  {
   "cell_type": "code",
   "execution_count": 162,
   "id": "8e8caa93",
   "metadata": {},
   "outputs": [],
   "source": [
    "X_train, Y_train, X_test, Y_test, word_to_index, index_to_word = token_voca_dic(imported_data[0], imported_data[1], stopwords, 10000)"
   ]
  },
  {
   "cell_type": "code",
   "execution_count": 164,
   "id": "7e1a9385",
   "metadata": {
    "scrolled": true
   },
   "outputs": [
    {
     "name": "stdout",
     "output_type": "stream",
     "text": [
      "insert w2i or i2w (press q is quit): w2i\n",
      "your choice :w2i\n"
     ]
    }
   ],
   "source": [
    "X_train_index = word_index_changer(X_train, word_to_index, index_to_word)"
   ]
  },
  {
   "cell_type": "code",
   "execution_count": 165,
   "id": "624200a5",
   "metadata": {
    "scrolled": true
   },
   "outputs": [
    {
     "name": "stdout",
     "output_type": "stream",
     "text": [
      "insert w2i or i2w (press q is quit): w2i\n",
      "your choice :w2i\n"
     ]
    }
   ],
   "source": [
    "X_test_index = word_index_changer(X_test, word_to_index, index_to_word)"
   ]
  },
  {
   "cell_type": "markdown",
   "id": "41d5dc0e",
   "metadata": {},
   "source": [
    "### 데이터 패딩"
   ]
  },
  {
   "cell_type": "code",
   "execution_count": 166,
   "id": "43c1bdd8",
   "metadata": {},
   "outputs": [
    {
     "name": "stdout",
     "output_type": "stream",
     "text": [
      "aver length :  15\n",
      "max length :  116\n",
      "aver+ length :  41\n",
      "your paddinf length is aver+ :  41\n",
      "your paddinf type is pre\n"
     ]
    }
   ],
   "source": [
    "X_train_padding, X_test_padding, maxlen = got_padding(X_train_index, X_test_index)"
   ]
  },
  {
   "cell_type": "markdown",
   "id": "817cbda0",
   "metadata": {},
   "source": [
    "## 모델 구축 및 모델 훈련 평가"
   ]
  },
  {
   "cell_type": "markdown",
   "id": "83ebac4a",
   "metadata": {},
   "source": [
    "### 임베딩 defalt"
   ]
  },
  {
   "cell_type": "markdown",
   "id": "754ec8b5",
   "metadata": {},
   "source": [
    "- dence 모델 (global max pooling 적용)"
   ]
  },
  {
   "cell_type": "code",
   "execution_count": 71,
   "id": "f5169449",
   "metadata": {},
   "outputs": [
    {
     "name": "stdout",
     "output_type": "stream",
     "text": [
      "Model: \"sequential_4\"\n",
      "_________________________________________________________________\n",
      "Layer (type)                 Output Shape              Param #   \n",
      "=================================================================\n",
      "embedding_4 (Embedding)      (None, None, 30)          300000    \n",
      "_________________________________________________________________\n",
      "global_max_pooling1d_2 (Glob (None, 30)                0         \n",
      "_________________________________________________________________\n",
      "dense_10 (Dense)             (None, 16)                496       \n",
      "_________________________________________________________________\n",
      "dense_11 (Dense)             (None, 16)                272       \n",
      "_________________________________________________________________\n",
      "dense_12 (Dense)             (None, 16)                272       \n",
      "_________________________________________________________________\n",
      "dense_13 (Dense)             (None, 16)                272       \n",
      "_________________________________________________________________\n",
      "dense_14 (Dense)             (None, 1)                 17        \n",
      "=================================================================\n",
      "Total params: 301,329\n",
      "Trainable params: 301,329\n",
      "Non-trainable params: 0\n",
      "_________________________________________________________________\n"
     ]
    }
   ],
   "source": [
    "model_Dence = make_model(model_type='Dence', layer=4)"
   ]
  },
  {
   "cell_type": "code",
   "execution_count": 72,
   "id": "64bd157d",
   "metadata": {},
   "outputs": [
    {
     "name": "stdout",
     "output_type": "stream",
     "text": [
      "Epoch 1/20\n",
      "229/229 [==============================] - 1s 4ms/step - loss: 0.4816 - accuracy: 0.7811 - val_loss: 0.3604 - val_accuracy: 0.8438\n",
      "Epoch 2/20\n",
      "229/229 [==============================] - 1s 4ms/step - loss: 0.3220 - accuracy: 0.8623 - val_loss: 0.3502 - val_accuracy: 0.8473\n",
      "Epoch 3/20\n",
      "229/229 [==============================] - 1s 4ms/step - loss: 0.2840 - accuracy: 0.8811 - val_loss: 0.3561 - val_accuracy: 0.8465\n",
      "Epoch 4/20\n",
      "229/229 [==============================] - 1s 4ms/step - loss: 0.2565 - accuracy: 0.8948 - val_loss: 0.3727 - val_accuracy: 0.8428\n",
      "Epoch 5/20\n",
      "229/229 [==============================] - 1s 4ms/step - loss: 0.2326 - accuracy: 0.9084 - val_loss: 0.3935 - val_accuracy: 0.8398\n",
      "Epoch 6/20\n",
      "229/229 [==============================] - 1s 4ms/step - loss: 0.2114 - accuracy: 0.9187 - val_loss: 0.4060 - val_accuracy: 0.8389\n",
      "Epoch 7/20\n",
      "229/229 [==============================] - 1s 4ms/step - loss: 0.1931 - accuracy: 0.9271 - val_loss: 0.4328 - val_accuracy: 0.8374\n",
      "Epoch 8/20\n",
      "229/229 [==============================] - 1s 4ms/step - loss: 0.1760 - accuracy: 0.9354 - val_loss: 0.4596 - val_accuracy: 0.8312\n",
      "Epoch 9/20\n",
      "229/229 [==============================] - 1s 4ms/step - loss: 0.1605 - accuracy: 0.9428 - val_loss: 0.4728 - val_accuracy: 0.8297\n",
      "Epoch 10/20\n",
      "229/229 [==============================] - 1s 4ms/step - loss: 0.1473 - accuracy: 0.9485 - val_loss: 0.4984 - val_accuracy: 0.8280\n",
      "Epoch 11/20\n",
      "229/229 [==============================] - 1s 4ms/step - loss: 0.1372 - accuracy: 0.9530 - val_loss: 0.5200 - val_accuracy: 0.8274\n",
      "Epoch 12/20\n",
      "229/229 [==============================] - 1s 4ms/step - loss: 0.1258 - accuracy: 0.9578 - val_loss: 0.5301 - val_accuracy: 0.8262\n",
      "Epoch 13/20\n",
      "229/229 [==============================] - 1s 4ms/step - loss: 0.1182 - accuracy: 0.9611 - val_loss: 0.5496 - val_accuracy: 0.8257\n",
      "Epoch 14/20\n",
      "229/229 [==============================] - 1s 4ms/step - loss: 0.1102 - accuracy: 0.9641 - val_loss: 0.5786 - val_accuracy: 0.8248\n",
      "Epoch 15/20\n",
      "229/229 [==============================] - 1s 4ms/step - loss: 0.1038 - accuracy: 0.9665 - val_loss: 0.5984 - val_accuracy: 0.8233\n",
      "Epoch 16/20\n",
      "229/229 [==============================] - 1s 4ms/step - loss: 0.0977 - accuracy: 0.9691 - val_loss: 0.6037 - val_accuracy: 0.8200\n",
      "Epoch 17/20\n",
      "229/229 [==============================] - 1s 4ms/step - loss: 0.0926 - accuracy: 0.9707 - val_loss: 0.6396 - val_accuracy: 0.8205\n",
      "Epoch 18/20\n",
      "229/229 [==============================] - 1s 4ms/step - loss: 0.0885 - accuracy: 0.9722 - val_loss: 0.6494 - val_accuracy: 0.8206\n",
      "Epoch 19/20\n",
      "229/229 [==============================] - 1s 4ms/step - loss: 0.0842 - accuracy: 0.9735 - val_loss: 0.6744 - val_accuracy: 0.8184\n",
      "Epoch 20/20\n",
      "229/229 [==============================] - 1s 4ms/step - loss: 0.0797 - accuracy: 0.9757 - val_loss: 0.6708 - val_accuracy: 0.8184\n",
      "1537/1537 - 2s - loss: 0.6829 - accuracy: 0.8130\n",
      "results is \n",
      "\n",
      "[0.6828875541687012, 0.8129666447639465]\n"
     ]
    }
   ],
   "source": [
    "history_Dence = learn_model(model_Dence, X_train_padding, Y_train, X_test_padding, Y_test)"
   ]
  },
  {
   "cell_type": "code",
   "execution_count": 73,
   "id": "1d8fce43",
   "metadata": {},
   "outputs": [
    {
     "data": {
      "image/png": "[encoded data removed]",
      "text/plain": [
       "<Figure size 432x288 with 1 Axes>"
      ]
     },
     "metadata": {
      "needs_background": "light"
     },
     "output_type": "display_data"
    }
   ],
   "source": [
    "drow_plt(history_Dence, score='loss')"
   ]
  },
  {
   "cell_type": "code",
   "execution_count": 74,
   "id": "7ded5d25",
   "metadata": {},
   "outputs": [
    {
     "data": {
      "image/png": "[encoded data removed]",
      "text/plain": [
       "<Figure size 432x288 with 1 Axes>"
      ]
     },
     "metadata": {
      "needs_background": "light"
     },
     "output_type": "display_data"
    }
   ],
   "source": [
    "drow_plt(history_Dence, score='accuracy')"
   ]
  },
  {
   "cell_type": "markdown",
   "id": "205e48d6",
   "metadata": {},
   "source": [
    "- 1D-conv 모델"
   ]
  },
  {
   "cell_type": "code",
   "execution_count": 96,
   "id": "cef99365",
   "metadata": {},
   "outputs": [
    {
     "name": "stdout",
     "output_type": "stream",
     "text": [
      "Model: \"sequential_12\"\n",
      "_________________________________________________________________\n",
      "Layer (type)                 Output Shape              Param #   \n",
      "=================================================================\n",
      "embedding_12 (Embedding)     (None, None, 30)          300000    \n",
      "_________________________________________________________________\n",
      "conv1d_21 (Conv1D)           (None, None, 16)          1456      \n",
      "_________________________________________________________________\n",
      "max_pooling1d_14 (MaxPooling (None, None, 16)          0         \n",
      "_________________________________________________________________\n",
      "conv1d_22 (Conv1D)           (None, None, 16)          784       \n",
      "_________________________________________________________________\n",
      "max_pooling1d_15 (MaxPooling (None, None, 16)          0         \n",
      "_________________________________________________________________\n",
      "conv1d_23 (Conv1D)           (None, None, 16)          1808      \n",
      "_________________________________________________________________\n",
      "global_max_pooling1d_10 (Glo (None, 16)                0         \n",
      "_________________________________________________________________\n",
      "dense_29 (Dense)             (None, 16)                272       \n",
      "_________________________________________________________________\n",
      "dense_30 (Dense)             (None, 1)                 17        \n",
      "=================================================================\n",
      "Total params: 304,337\n",
      "Trainable params: 304,337\n",
      "Non-trainable params: 0\n",
      "_________________________________________________________________\n"
     ]
    }
   ],
   "source": [
    "model_1D = make_model(model_type='1D_conv', layer=2)"
   ]
  },
  {
   "cell_type": "code",
   "execution_count": 97,
   "id": "86697725",
   "metadata": {},
   "outputs": [
    {
     "name": "stdout",
     "output_type": "stream",
     "text": [
      "Epoch 1/20\n",
      "229/229 [==============================] - 4s 7ms/step - loss: 0.5709 - accuracy: 0.6823 - val_loss: 0.4495 - val_accuracy: 0.7863\n",
      "Epoch 2/20\n",
      "229/229 [==============================] - 1s 5ms/step - loss: 0.4093 - accuracy: 0.8064 - val_loss: 0.4235 - val_accuracy: 0.7988\n",
      "Epoch 3/20\n",
      "229/229 [==============================] - 1s 5ms/step - loss: 0.3663 - accuracy: 0.8285 - val_loss: 0.4249 - val_accuracy: 0.8002\n",
      "Epoch 4/20\n",
      "229/229 [==============================] - 1s 5ms/step - loss: 0.3307 - accuracy: 0.8478 - val_loss: 0.4361 - val_accuracy: 0.7959\n",
      "Epoch 5/20\n",
      "229/229 [==============================] - 1s 5ms/step - loss: 0.2905 - accuracy: 0.8700 - val_loss: 0.4697 - val_accuracy: 0.7936\n",
      "Epoch 6/20\n",
      "229/229 [==============================] - 1s 5ms/step - loss: 0.2500 - accuracy: 0.8894 - val_loss: 0.5130 - val_accuracy: 0.7901\n",
      "Epoch 7/20\n",
      "229/229 [==============================] - 1s 5ms/step - loss: 0.2152 - accuracy: 0.9046 - val_loss: 0.5698 - val_accuracy: 0.7859\n",
      "Epoch 8/20\n",
      "229/229 [==============================] - 1s 5ms/step - loss: 0.1849 - accuracy: 0.9181 - val_loss: 0.6320 - val_accuracy: 0.7812\n",
      "Epoch 9/20\n",
      "229/229 [==============================] - 1s 5ms/step - loss: 0.1604 - accuracy: 0.9287 - val_loss: 0.6978 - val_accuracy: 0.7791\n",
      "Epoch 10/20\n",
      "229/229 [==============================] - 1s 5ms/step - loss: 0.1439 - accuracy: 0.9354 - val_loss: 0.7547 - val_accuracy: 0.7786\n",
      "Epoch 11/20\n",
      "229/229 [==============================] - 1s 5ms/step - loss: 0.1312 - accuracy: 0.9400 - val_loss: 0.8157 - val_accuracy: 0.7710\n",
      "Epoch 12/20\n",
      "229/229 [==============================] - 1s 5ms/step - loss: 0.1212 - accuracy: 0.9436 - val_loss: 0.9019 - val_accuracy: 0.7750\n",
      "Epoch 13/20\n",
      "229/229 [==============================] - 1s 5ms/step - loss: 0.1120 - accuracy: 0.9469 - val_loss: 0.9617 - val_accuracy: 0.7719\n",
      "Epoch 14/20\n",
      "229/229 [==============================] - 1s 5ms/step - loss: 0.1049 - accuracy: 0.9495 - val_loss: 1.0262 - val_accuracy: 0.7711\n",
      "Epoch 15/20\n",
      "229/229 [==============================] - 1s 5ms/step - loss: 0.1007 - accuracy: 0.9514 - val_loss: 1.0746 - val_accuracy: 0.7670\n",
      "Epoch 16/20\n",
      "229/229 [==============================] - 1s 5ms/step - loss: 0.0971 - accuracy: 0.9527 - val_loss: 1.1110 - val_accuracy: 0.7691\n",
      "Epoch 17/20\n",
      "229/229 [==============================] - 1s 5ms/step - loss: 0.0936 - accuracy: 0.9540 - val_loss: 1.2065 - val_accuracy: 0.7647\n",
      "Epoch 18/20\n",
      "229/229 [==============================] - 1s 5ms/step - loss: 0.0905 - accuracy: 0.9550 - val_loss: 1.2944 - val_accuracy: 0.7649\n",
      "Epoch 19/20\n",
      "229/229 [==============================] - 1s 5ms/step - loss: 0.0902 - accuracy: 0.9548 - val_loss: 1.2779 - val_accuracy: 0.7658\n",
      "Epoch 20/20\n",
      "229/229 [==============================] - 1s 5ms/step - loss: 0.0907 - accuracy: 0.9550 - val_loss: 1.2979 - val_accuracy: 0.7670\n",
      "1537/1537 - 3s - loss: 1.3205 - accuracy: 0.7622\n",
      "results is \n",
      "\n",
      "[1.3205240964889526, 0.7621905207633972]\n"
     ]
    }
   ],
   "source": [
    "history_1D = learn_model(model_1D, X_train_padding, Y_train, X_test_padding, Y_test)"
   ]
  },
  {
   "cell_type": "code",
   "execution_count": 99,
   "id": "a6987a52",
   "metadata": {},
   "outputs": [
    {
     "data": {
      "image/png": "[encoded data removed]",
      "text/plain": [
       "<Figure size 432x288 with 1 Axes>"
      ]
     },
     "metadata": {
      "needs_background": "light"
     },
     "output_type": "display_data"
    }
   ],
   "source": [
    "drow_plt(history_1D, score='loss')"
   ]
  },
  {
   "cell_type": "code",
   "execution_count": 100,
   "id": "469db15e",
   "metadata": {},
   "outputs": [
    {
     "data": {
      "image/png": "[encoded data removed]",
      "text/plain": [
       "<Figure size 432x288 with 1 Axes>"
      ]
     },
     "metadata": {
      "needs_background": "light"
     },
     "output_type": "display_data"
    }
   ],
   "source": [
    "drow_plt(history_1D, score='accuracy')"
   ]
  },
  {
   "cell_type": "markdown",
   "id": "b44d0bd0",
   "metadata": {},
   "source": [
    "- LSTM 모델"
   ]
  },
  {
   "cell_type": "code",
   "execution_count": 102,
   "id": "ac10fa3c",
   "metadata": {},
   "outputs": [
    {
     "name": "stdout",
     "output_type": "stream",
     "text": [
      "Model: \"sequential_14\"\n",
      "_________________________________________________________________\n",
      "Layer (type)                 Output Shape              Param #   \n",
      "=================================================================\n",
      "embedding_14 (Embedding)     (None, None, 30)          300000    \n",
      "_________________________________________________________________\n",
      "lstm_10 (LSTM)               (None, None, 16)          3008      \n",
      "_________________________________________________________________\n",
      "lstm_11 (LSTM)               (None, 16)                2112      \n",
      "_________________________________________________________________\n",
      "dense_33 (Dense)             (None, 16)                272       \n",
      "_________________________________________________________________\n",
      "dense_34 (Dense)             (None, 1)                 17        \n",
      "=================================================================\n",
      "Total params: 305,409\n",
      "Trainable params: 305,409\n",
      "Non-trainable params: 0\n",
      "_________________________________________________________________\n"
     ]
    }
   ],
   "source": [
    "model_LSTM = make_model(layer=2)"
   ]
  },
  {
   "cell_type": "code",
   "execution_count": 103,
   "id": "d208eed7",
   "metadata": {
    "scrolled": false
   },
   "outputs": [
    {
     "name": "stdout",
     "output_type": "stream",
     "text": [
      "Epoch 1/20\n",
      "229/229 [==============================] - 5s 10ms/step - loss: 0.4698 - accuracy: 0.7805 - val_loss: 0.3686 - val_accuracy: 0.8386\n",
      "Epoch 2/20\n",
      "229/229 [==============================] - 2s 7ms/step - loss: 0.3370 - accuracy: 0.8564 - val_loss: 0.3482 - val_accuracy: 0.8495\n",
      "Epoch 3/20\n",
      "229/229 [==============================] - 2s 8ms/step - loss: 0.3141 - accuracy: 0.8679 - val_loss: 0.3473 - val_accuracy: 0.8497\n",
      "Epoch 4/20\n",
      "229/229 [==============================] - 2s 8ms/step - loss: 0.2988 - accuracy: 0.8756 - val_loss: 0.3468 - val_accuracy: 0.8521\n",
      "Epoch 5/20\n",
      "229/229 [==============================] - 2s 7ms/step - loss: 0.2839 - accuracy: 0.8822 - val_loss: 0.3486 - val_accuracy: 0.8526\n",
      "Epoch 6/20\n",
      "229/229 [==============================] - 2s 7ms/step - loss: 0.2685 - accuracy: 0.8899 - val_loss: 0.3472 - val_accuracy: 0.8495\n",
      "Epoch 7/20\n",
      "229/229 [==============================] - 2s 7ms/step - loss: 0.2524 - accuracy: 0.8967 - val_loss: 0.3513 - val_accuracy: 0.8519\n",
      "Epoch 8/20\n",
      "229/229 [==============================] - 2s 7ms/step - loss: 0.2360 - accuracy: 0.9044 - val_loss: 0.3679 - val_accuracy: 0.8497\n",
      "Epoch 9/20\n",
      "229/229 [==============================] - 2s 7ms/step - loss: 0.2188 - accuracy: 0.9118 - val_loss: 0.3740 - val_accuracy: 0.8503\n",
      "Epoch 10/20\n",
      "229/229 [==============================] - 2s 8ms/step - loss: 0.2028 - accuracy: 0.9179 - val_loss: 0.3970 - val_accuracy: 0.8485\n",
      "Epoch 11/20\n",
      "229/229 [==============================] - 2s 7ms/step - loss: 0.1864 - accuracy: 0.9260 - val_loss: 0.4228 - val_accuracy: 0.8450\n",
      "Epoch 12/20\n",
      "229/229 [==============================] - 2s 7ms/step - loss: 0.1741 - accuracy: 0.9315 - val_loss: 0.4962 - val_accuracy: 0.8458\n",
      "Epoch 13/20\n",
      "229/229 [==============================] - 2s 7ms/step - loss: 0.1602 - accuracy: 0.9370 - val_loss: 0.4908 - val_accuracy: 0.8457\n",
      "Epoch 14/20\n",
      "229/229 [==============================] - 2s 7ms/step - loss: 0.1511 - accuracy: 0.9411 - val_loss: 0.5064 - val_accuracy: 0.8387\n",
      "Epoch 15/20\n",
      "229/229 [==============================] - 2s 8ms/step - loss: 0.1418 - accuracy: 0.9448 - val_loss: 0.5582 - val_accuracy: 0.8388\n",
      "Epoch 16/20\n",
      "229/229 [==============================] - 2s 7ms/step - loss: 0.1350 - accuracy: 0.9482 - val_loss: 0.5766 - val_accuracy: 0.8393\n",
      "Epoch 17/20\n",
      "229/229 [==============================] - 2s 7ms/step - loss: 0.1270 - accuracy: 0.9517 - val_loss: 0.6165 - val_accuracy: 0.8379\n",
      "Epoch 18/20\n",
      "229/229 [==============================] - 2s 7ms/step - loss: 0.1231 - accuracy: 0.9531 - val_loss: 0.6137 - val_accuracy: 0.8327\n",
      "Epoch 19/20\n",
      "229/229 [==============================] - 2s 7ms/step - loss: 0.1168 - accuracy: 0.9563 - val_loss: 0.6167 - val_accuracy: 0.8278\n",
      "Epoch 20/20\n",
      "229/229 [==============================] - 2s 7ms/step - loss: 0.1105 - accuracy: 0.9587 - val_loss: 0.6705 - val_accuracy: 0.8310\n",
      "1537/1537 - 4s - loss: 0.6732 - accuracy: 0.8300\n",
      "results is \n",
      "\n",
      "[0.6731873750686646, 0.8299733400344849]\n"
     ]
    }
   ],
   "source": [
    "history_LSTM = learn_model(model_LSTM, X_train_f, Y_train, X_test_f, Y_test)"
   ]
  },
  {
   "cell_type": "code",
   "execution_count": 104,
   "id": "3aebefa0",
   "metadata": {},
   "outputs": [
    {
     "data": {
      "image/png": "[encoded data removed]",
      "text/plain": [
       "<Figure size 432x288 with 1 Axes>"
      ]
     },
     "metadata": {
      "needs_background": "light"
     },
     "output_type": "display_data"
    }
   ],
   "source": [
    "drow_plt(history_LSTM, score='loss')"
   ]
  },
  {
   "cell_type": "code",
   "execution_count": 105,
   "id": "62b4ed2c",
   "metadata": {},
   "outputs": [
    {
     "data": {
      "image/png": "[encoded data removed]",
      "text/plain": [
       "<Figure size 432x288 with 1 Axes>"
      ]
     },
     "metadata": {
      "needs_background": "light"
     },
     "output_type": "display_data"
    }
   ],
   "source": [
    "drow_plt(history_LSTM, score='accuracy')"
   ]
  },
  {
   "cell_type": "markdown",
   "id": "5181cd9d",
   "metadata": {},
   "source": [
    "## 임베딩 비교"
   ]
  },
  {
   "cell_type": "markdown",
   "id": "89be6332",
   "metadata": {},
   "source": [
    "- 이전 학습한 임베딩 벡터 저장"
   ]
  },
  {
   "cell_type": "code",
   "execution_count": 122,
   "id": "c185f50b",
   "metadata": {},
   "outputs": [],
   "source": [
    "word2vec_file_path = save_embedding(model_LSTM, 'word2vec.txt', word_to_index)"
   ]
  },
  {
   "cell_type": "code",
   "execution_count": 132,
   "id": "2404f578",
   "metadata": {},
   "outputs": [],
   "source": [
    "word_vector = Word2VecKeyedVectors.load_word2vec_format(word2vec_file_path, binary=False)"
   ]
  },
  {
   "cell_type": "markdown",
   "id": "976a1a30",
   "metadata": {},
   "source": [
    "- 외부 word2vec 파일 import"
   ]
  },
  {
   "cell_type": "code",
   "execution_count": 141,
   "id": "67ca35b2",
   "metadata": {},
   "outputs": [],
   "source": [
    "word2vec_path = os.getenv('HOME')+'/aiffel/workplace/Exploration/Ex05/embedding/word2vec_ko.model'\n",
    "word2vec = Word2VecKeyedVectors.load(word2vec_path)"
   ]
  },
  {
   "cell_type": "markdown",
   "id": "3408fbdc",
   "metadata": {},
   "source": [
    "- 유사단어 찾기를 통해 각 임베딩 벡터 비교"
   ]
  },
  {
   "cell_type": "code",
   "execution_count": 148,
   "id": "211a2d6c",
   "metadata": {},
   "outputs": [
    {
     "data": {
      "text/plain": [
       "[('묘미', 0.6163142919540405),\n",
       " ('취미', 0.6034970283508301),\n",
       " ('흥미', 0.5939850211143494),\n",
       " ('유머', 0.5888698101043701),\n",
       " ('보람', 0.5689517259597778),\n",
       " ('즐거움', 0.5631207823753357),\n",
       " ('개그', 0.5552946329116821),\n",
       " ('이야기', 0.5536993741989136),\n",
       " ('연애', 0.552293598651886),\n",
       " ('열의', 0.546456515789032)]"
      ]
     },
     "execution_count": 148,
     "metadata": {},
     "output_type": "execute_result"
    }
   ],
   "source": [
    "word2vec.wv.similar_by_word(\"재미\")"
   ]
  },
  {
   "cell_type": "code",
   "execution_count": 139,
   "id": "ac6ae734",
   "metadata": {},
   "outputs": [
    {
     "data": {
      "text/plain": [
       "[('만들', 0.8180307745933533),\n",
       " ('스릴', 0.7854105830192566),\n",
       " ('몰입', 0.7801478505134583),\n",
       " ('배울', 0.7512766718864441),\n",
       " ('소설', 0.7394455671310425),\n",
       " ('진', 0.7338664531707764),\n",
       " ('공감', 0.7279624938964844),\n",
       " ('이영화', 0.724348783493042),\n",
       " ('정서', 0.7204018235206604),\n",
       " ('집중', 0.720039963722229)]"
      ]
     },
     "execution_count": 139,
     "metadata": {},
     "output_type": "execute_result"
    }
   ],
   "source": [
    "word_vector.similar_by_word(\"재미\")"
   ]
  },
  {
   "cell_type": "markdown",
   "id": "3ea632b7",
   "metadata": {},
   "source": [
    "- 제작한 임베딩의 경우 데이터 특성과 유사한 단어들과 연관성이 있는 반면, 외부 임베딩의 경우 특정 단어에 대하여 보편적인 관련성이 있는 단어와 유사도를 보이고 있음.\n",
    "- 실제로 스릴의 경우 재미있다는 표현으로 많이 사용되나 스릴이라는 단어가 무조건 영화의 재미와 완전 연계된 개념은 아님. 영화와 연계를 지어 놓는다고 가정했을 때, 제작 임베딩의 스릴보다 외부 임베딩의 흥미, 즐거움 등이 재미와 더 연관이 깊다고 사려됨\n",
    "- 만일 언어의 보편적인 상황을 고려하지 않고, 입력된 데이터의 특수 맥락에 한하여 학습을 진행한다고 하면, 제작된 임베딩이 더 유용성이 있을 수도 있짐만, 언어는 다수의 상념의 보편성에 기인한 것으로 절대적인 대다수의 경우에 다량의 데이터로 학습한 외부 임베딩이 더 좋을 성능을 보일 것 같음"
   ]
  },
  {
   "cell_type": "markdown",
   "id": "700f604d",
   "metadata": {},
   "source": [
    "## 불러온 임베딩을 이용하여 모델 학습"
   ]
  },
  {
   "cell_type": "code",
   "execution_count": 169,
   "id": "9216d9f0",
   "metadata": {},
   "outputs": [],
   "source": [
    "embedding_matrixs = np.random.rand(10000, 100)\n",
    "\n",
    "for i in range(4,10000):\n",
    "    if index_to_word[i] in word2vec.wv:\n",
    "        embedding_matrixs[i] = word2vec.wv[index_to_word[i]]\n"
   ]
  },
  {
   "cell_type": "code",
   "execution_count": 173,
   "id": "37e6c63e",
   "metadata": {},
   "outputs": [
    {
     "name": "stdout",
     "output_type": "stream",
     "text": [
      "Model: \"sequential_17\"\n",
      "_________________________________________________________________\n",
      "Layer (type)                 Output Shape              Param #   \n",
      "=================================================================\n",
      "embedding_17 (Embedding)     (None, 41, 100)           1000000   \n",
      "_________________________________________________________________\n",
      "lstm_14 (LSTM)               (None, 41, 16)            7488      \n",
      "_________________________________________________________________\n",
      "lstm_15 (LSTM)               (None, 16)                2112      \n",
      "_________________________________________________________________\n",
      "dense_37 (Dense)             (None, 16)                272       \n",
      "_________________________________________________________________\n",
      "dense_38 (Dense)             (None, 1)                 17        \n",
      "=================================================================\n",
      "Total params: 1,009,889\n",
      "Trainable params: 1,009,889\n",
      "Non-trainable params: 0\n",
      "_________________________________________________________________\n"
     ]
    }
   ],
   "source": [
    "model_LSTM_w2v = make_model(embedding='word2vec', embedding_matrix = embedding_matrixs, maxlen = maxlen, layer=2, num_words=10000, word_vector_dim = 100)"
   ]
  },
  {
   "cell_type": "code",
   "execution_count": 175,
   "id": "7ff8636a",
   "metadata": {},
   "outputs": [
    {
     "name": "stdout",
     "output_type": "stream",
     "text": [
      "Epoch 1/20\n",
      "229/229 [==============================] - 5s 11ms/step - loss: 0.3376 - accuracy: 0.8534 - val_loss: 0.3577 - val_accuracy: 0.8418\n",
      "Epoch 2/20\n",
      "229/229 [==============================] - 2s 8ms/step - loss: 0.3154 - accuracy: 0.8643 - val_loss: 0.3433 - val_accuracy: 0.8505\n",
      "Epoch 3/20\n",
      "229/229 [==============================] - 2s 8ms/step - loss: 0.2973 - accuracy: 0.8738 - val_loss: 0.3351 - val_accuracy: 0.8550\n",
      "Epoch 4/20\n",
      "229/229 [==============================] - 2s 8ms/step - loss: 0.2855 - accuracy: 0.8790 - val_loss: 0.3342 - val_accuracy: 0.8559\n",
      "Epoch 5/20\n",
      "229/229 [==============================] - 2s 8ms/step - loss: 0.2723 - accuracy: 0.8864 - val_loss: 0.3348 - val_accuracy: 0.8565\n",
      "Epoch 6/20\n",
      "229/229 [==============================] - 2s 8ms/step - loss: 0.2612 - accuracy: 0.8922 - val_loss: 0.3351 - val_accuracy: 0.8563\n",
      "Epoch 7/20\n",
      "229/229 [==============================] - 2s 8ms/step - loss: 0.2516 - accuracy: 0.8971 - val_loss: 0.3418 - val_accuracy: 0.8554\n",
      "Epoch 8/20\n",
      "229/229 [==============================] - 2s 8ms/step - loss: 0.2424 - accuracy: 0.9015 - val_loss: 0.3492 - val_accuracy: 0.8574\n",
      "Epoch 9/20\n",
      "229/229 [==============================] - 2s 8ms/step - loss: 0.2335 - accuracy: 0.9061 - val_loss: 0.3426 - val_accuracy: 0.8551\n",
      "Epoch 10/20\n",
      "229/229 [==============================] - 2s 8ms/step - loss: 0.2259 - accuracy: 0.9095 - val_loss: 0.3492 - val_accuracy: 0.8557\n",
      "Epoch 11/20\n",
      "229/229 [==============================] - 2s 8ms/step - loss: 0.2160 - accuracy: 0.9148 - val_loss: 0.3673 - val_accuracy: 0.8565\n",
      "Epoch 12/20\n",
      "229/229 [==============================] - 2s 8ms/step - loss: 0.2083 - accuracy: 0.9187 - val_loss: 0.3699 - val_accuracy: 0.8527\n",
      "Epoch 13/20\n",
      "229/229 [==============================] - 2s 8ms/step - loss: 0.1988 - accuracy: 0.9234 - val_loss: 0.3874 - val_accuracy: 0.8489\n",
      "Epoch 14/20\n",
      "229/229 [==============================] - 2s 8ms/step - loss: 0.1923 - accuracy: 0.9265 - val_loss: 0.3878 - val_accuracy: 0.8528\n",
      "Epoch 15/20\n",
      "229/229 [==============================] - 2s 8ms/step - loss: 0.1836 - accuracy: 0.9309 - val_loss: 0.4099 - val_accuracy: 0.8516\n",
      "Epoch 16/20\n",
      "229/229 [==============================] - 2s 8ms/step - loss: 0.1755 - accuracy: 0.9346 - val_loss: 0.4148 - val_accuracy: 0.8500\n",
      "Epoch 17/20\n",
      "229/229 [==============================] - 2s 8ms/step - loss: 0.1690 - accuracy: 0.9377 - val_loss: 0.4287 - val_accuracy: 0.8492\n",
      "Epoch 18/20\n",
      "229/229 [==============================] - 2s 8ms/step - loss: 0.1622 - accuracy: 0.9405 - val_loss: 0.4376 - val_accuracy: 0.8472\n",
      "Epoch 19/20\n",
      "229/229 [==============================] - 2s 8ms/step - loss: 0.1567 - accuracy: 0.9433 - val_loss: 0.4454 - val_accuracy: 0.8473\n",
      "Epoch 20/20\n",
      "229/229 [==============================] - 2s 8ms/step - loss: 0.1495 - accuracy: 0.9464 - val_loss: 0.4610 - val_accuracy: 0.8450\n",
      "1537/1537 - 4s - loss: 0.4584 - accuracy: 0.8426\n",
      "results is \n",
      "\n",
      "[0.4584141671657562, 0.8426470160484314]\n"
     ]
    }
   ],
   "source": [
    "history_LSTM_w2v = learn_model(model_LSTM, X_train_f, Y_train, X_test_f, Y_test)"
   ]
  },
  {
   "cell_type": "code",
   "execution_count": 176,
   "id": "9584d111",
   "metadata": {},
   "outputs": [
    {
     "data": {
      "image/png": "[encoded data removed]",
      "text/plain": [
       "<Figure size 432x288 with 1 Axes>"
      ]
     },
     "metadata": {
      "needs_background": "light"
     },
     "output_type": "display_data"
    }
   ],
   "source": [
    "drow_plt(history_LSTM_w2v, score='loss')"
   ]
  },
  {
   "cell_type": "code",
   "execution_count": 177,
   "id": "d884eef0",
   "metadata": {},
   "outputs": [
    {
     "data": {
      "image/png": "[encoded data removed]",
      "text/plain": [
       "<Figure size 432x288 with 1 Axes>"
      ]
     },
     "metadata": {
      "needs_background": "light"
     },
     "output_type": "display_data"
    }
   ],
   "source": [
    "drow_plt(history_LSTM, score='accuracy')"
   ]
  },
  {
   "cell_type": "markdown",
   "id": "fa14020a",
   "metadata": {},
   "source": [
    "## 회고\n",
    "\n",
    "- 모델 보완의 측면\n",
    "    - 모델 callback에 checkpoint를 사용하여 과대적합이 일어나기 전 최적 값을 저장하는 부분 추가 필요\n",
    "    - 함수를 통해 1D conv 모델의 레이어를 추가할 수 있도록 제작하였는데, 레이어가 축소되어 기존의 커널 크기로 연산이 되지 않는 문제가 있었음.\n",
    "    - 위 문제의 해결을 위해 padding = same을 적용하였지만 결과는 동일 하였음. 아마 MaxPooling에 문제가 있었던 것으로 사려됨.\n",
    "    - 주석을 열심히 달아야 겠다\n",
    "- 정확도 향상 방안의 측면\n",
    "    - 토큰화 과정에서 '더빙'을 '더'와 '빙'으로 나누어 토큰화를 진행하였는데, 더빙의 경우 드문 데이터일 가능성이 높아서 문제가 되지는 않지만, 한국어 특성상 많은 단어가 한자어의 구성으로 이루어져 있음으로 만일 중요 단어가 (예 정부 > 정, 부) 토큰화 과정에서 쪼개지면 정확도에 문제가 생길 수도 있음\n",
    "    - 불용어를 제거할 때 마침표를 제거하지 않는데, 이로 인하여 단어 빈도가 가장 높은 단어가 마침표가 되었음. 모든 문장에 분별없이 존재함으로 큰 성능의 차이는 보이지 않을 것으로 예상되나, 가능하면 제거하는 것이 좋을 것 같음"
   ]
  },
  {
   "cell_type": "code",
   "execution_count": null,
   "id": "e63232ea",
   "metadata": {},
   "outputs": [],
   "source": []
  }
 ],
 "metadata": {
  "kernelspec": {
   "display_name": "Python 3 (ipykernel)",
   "language": "python",
   "name": "python3"
  },
  "language_info": {
   "codemirror_mode": {
    "name": "ipython",
    "version": 3
   },
   "file_extension": ".py",
   "mimetype": "text/x-python",
   "name": "python",
   "nbconvert_exporter": "python",
   "pygments_lexer": "ipython3",
   "version": "3.9.7"
  }
 },
 "nbformat": 4,
 "nbformat_minor": 5
}
