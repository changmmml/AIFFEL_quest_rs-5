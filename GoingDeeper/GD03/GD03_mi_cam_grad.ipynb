{
 "cells": [
  {
   "cell_type": "code",
   "execution_count": 67,
   "id": "246dcc48",
   "metadata": {},
   "outputs": [],
   "source": [
    "import os\n",
    "import json\n",
    "import copy\n",
    "import random\n",
    "import cv2\n",
    "import numpy as np\n",
    "import pandas as pd\n",
    "from PIL import Image\n",
    "import tensorflow as tf\n",
    "from tensorflow import keras\n",
    "from scipy.stats import norm\n",
    "import matplotlib.pyplot as plt\n",
    "from scipy.stats import rankdata\n",
    "import tensorflow_datasets as tfds"
   ]
  },
  {
   "cell_type": "code",
   "execution_count": 68,
   "id": "d9e42bb0",
   "metadata": {
    "scrolled": true
   },
   "outputs": [
    {
     "data": {
      "text/plain": [
       "[PhysicalDevice(name='/physical_device:GPU:0', device_type='GPU')]"
      ]
     },
     "execution_count": 68,
     "metadata": {},
     "output_type": "execute_result"
    }
   ],
   "source": [
    "tf.config.list_physical_devices('GPU')"
   ]
  },
  {
   "cell_type": "markdown",
   "id": "21e60d91",
   "metadata": {},
   "source": [
    "## 데이터 import"
   ]
  },
  {
   "cell_type": "code",
   "execution_count": 102,
   "id": "a06e34dc",
   "metadata": {},
   "outputs": [],
   "source": [
    "(ds_train, ds_test), ds_info = tfds.load(\n",
    "    'stanford_dogs',\n",
    "    split=['train', 'test'],\n",
    "    as_supervised=False,\n",
    "    with_info=True,\n",
    ")"
   ]
  },
  {
   "cell_type": "code",
   "execution_count": 103,
   "id": "d470bff9",
   "metadata": {},
   "outputs": [],
   "source": [
    "def extract_dataset(sample):\n",
    "    image = sample['image']\n",
    "    label = sample['label']\n",
    "    return image, label\n",
    "\n",
    "def extract_image(sample):\n",
    "    return sample['image']\n",
    "\n",
    "def extract_label(sample):\n",
    "    return sample['label']\n",
    "\n",
    "def extract_bbox(sample):\n",
    "    bboxes = sample['objects']['bbox']\n",
    "    return bboxes"
   ]
  },
  {
   "cell_type": "code",
   "execution_count": 104,
   "id": "38ad0c52",
   "metadata": {},
   "outputs": [],
   "source": [
    "def make_data_set(ds, data_num):\n",
    "    ds_random = ds.take(data_num)\n",
    "    \n",
    "    ds_dataset = ds_random.map(extract_dataset)\n",
    "    ds_bbox = ds_random.map(extract_bbox)\n",
    "    \n",
    "    ds_image = []\n",
    "    ds_box = []\n",
    "    for sample1, sample2 in zip(ds_dataset, ds_bbox):\n",
    "        ds_img = sample1[0]\n",
    "        bbox = np.array(sample2).tolist()[0]\n",
    "        ds_image.append(ds_img)\n",
    "        ds_box.append(bbox)\n",
    "        \n",
    "    return ds_dataset, ds_image, ds_box"
   ]
  },
  {
   "cell_type": "code",
   "execution_count": 105,
   "id": "f9d93094",
   "metadata": {},
   "outputs": [],
   "source": [
    "ds_dataset, ds_image, ds_box = make_data_set(ds_train, 480)"
   ]
  },
  {
   "cell_type": "markdown",
   "id": "1743fc98",
   "metadata": {},
   "source": [
    "## 주요 함수 선언"
   ]
  },
  {
   "cell_type": "code",
   "execution_count": 7,
   "id": "ea48c7bc",
   "metadata": {
    "scrolled": true
   },
   "outputs": [],
   "source": [
    "num_classes = ds_info.features[\"label\"].num_classes"
   ]
  },
  {
   "cell_type": "code",
   "execution_count": 8,
   "id": "628fd9df",
   "metadata": {},
   "outputs": [],
   "source": [
    "def normalize_and_resize_img(image, label):\n",
    "    image = tf.image.resize(image, [224, 224])\n",
    "    return tf.cast(image, tf.float32) / 255., label"
   ]
  },
  {
   "cell_type": "code",
   "execution_count": 9,
   "id": "1d86934c",
   "metadata": {},
   "outputs": [],
   "source": [
    "def onehot(image, label):\n",
    "    label = tf.one_hot(label, num_classes)\n",
    "    return image, label"
   ]
  },
  {
   "cell_type": "code",
   "execution_count": 10,
   "id": "16ad9d46",
   "metadata": {},
   "outputs": [],
   "source": [
    "# function for mixup\n",
    "def mixup_2_images(image_a, image_b, label_a, label_b):\n",
    "    ratio = tf.random.uniform([], 0, 1)\n",
    "    \n",
    "    if len(label_a.shape)==0:\n",
    "        label_a = tf.one_hot(label_a, num_classes)\n",
    "    if len(label_b.shape)==0:\n",
    "        label_b = tf.one_hot(label_b, num_classes)\n",
    "    mixed_image= (1-ratio)*image_a + ratio*image_b\n",
    "    mixed_label = (1-ratio)*label_a + ratio*label_b\n",
    "    \n",
    "    return mixed_image, mixed_label"
   ]
  },
  {
   "cell_type": "code",
   "execution_count": 11,
   "id": "c14e5e4e",
   "metadata": {},
   "outputs": [],
   "source": [
    "def mixup(image, label, prob=1.0, batch_size=16, img_size=224, num_classes=120):\n",
    "    mixed_imgs = []\n",
    "    mixed_labels = []\n",
    "\n",
    "    for i in range(batch_size):\n",
    "        j = batch_size\n",
    "        while j != i and j != batch_size :\n",
    "            j = tf.cast(tf.random.uniform([],0,batch_size), tf.int32)\n",
    "            \n",
    "        image_a = image[i]\n",
    "        label_a = label[i]\n",
    "        image_b = image[j]\n",
    "        label_b = label[j]\n",
    "        mixed_img, mixed_label = mixup_2_images(image_a, image_b, label_a, label_b)\n",
    "        mixed_imgs.append(mixed_img)\n",
    "        mixed_labels.append(mixed_label)\n",
    "\n",
    "    mixed_imgs = tf.reshape(tf.stack(mixed_imgs), (batch_size, img_size, img_size, 3))\n",
    "    mixed_labels = tf.reshape(tf.stack(mixed_labels), (batch_size, num_classes))\n",
    "    return mixed_imgs, mixed_labels"
   ]
  },
  {
   "cell_type": "code",
   "execution_count": 12,
   "id": "bad8d9e4",
   "metadata": {},
   "outputs": [],
   "source": [
    "def apply_normalize_on_dataset(ds, batch_size=16, with_mixup=False):\n",
    "    ds = ds.map(\n",
    "        normalize_and_resize_img,\n",
    "        num_parallel_calls=2\n",
    "    )\n",
    "    ds = ds.map(\n",
    "        onehot,\n",
    "        num_parallel_calls=2\n",
    "    )\n",
    "    ds = ds.batch(batch_size)\n",
    "    if with_mixup:\n",
    "        ds_mixup = ds.map(\n",
    "            mixup,\n",
    "            num_parallel_calls=2\n",
    "        )\n",
    "    ds = ds.prefetch(tf.data.experimental.AUTOTUNE)\n",
    "    return ds"
   ]
  },
  {
   "cell_type": "code",
   "execution_count": 13,
   "id": "571fec63",
   "metadata": {},
   "outputs": [],
   "source": [
    "def normal_cam(dataset, cam_model, class_weights, batch_size=16, data_count=3200):\n",
    "    cam_image = []\n",
    "    for ima_num in range(0, data_count, batch_size):\n",
    "        width = []\n",
    "        height = []\n",
    "        \n",
    "        batch_data = dataset.skip(ima_num).take(batch_size)\n",
    "        \n",
    "        for raw_sample in batch_data:\n",
    "            width.append(raw_sample[0].shape[1])\n",
    "            height.append(raw_sample[0].shape[0])\n",
    "            \n",
    "        norm_data = apply_normalize_on_dataset(batch_data, with_mixup=False)\n",
    "        \n",
    "        for skip_num in range(batch_size):\n",
    "            for sample in norm_data.skip(skip_num).take(1):\n",
    "                img_tensor = sample[0]\n",
    "                class_idx = sample[1]\n",
    "                \n",
    "                for k, (img, idx) in enumerate(zip(img_tensor, class_idx)):\n",
    "                    conv_outputs, predictions = cam_model(tf.expand_dims(img, 0))\n",
    "                    conv_outputs = conv_outputs[0, :, :, :]\n",
    "                    \n",
    "                    idx = np.array(idx).argmax()\n",
    "                    \n",
    "                    single_cam_image = np.zeros(dtype=np.float32, shape=conv_outputs.shape[0:2])\n",
    "                    for i, w in enumerate(class_weights[:, idx]):\n",
    "                        single_cam_image += w * conv_outputs[:, :, i]\n",
    "                    \n",
    "                    single_cam_image /= np.max(single_cam_image)\n",
    "                    single_cam_image = single_cam_image.numpy()\n",
    "                    single_cam_image = cv2.resize(single_cam_image, (width[k], height[k]))\n",
    "                    cam_image.append(single_cam_image)\n",
    "    return cam_image"
   ]
  },
  {
   "cell_type": "code",
   "execution_count": 14,
   "id": "16cfd433",
   "metadata": {},
   "outputs": [],
   "source": [
    "def normal_grad_cam(dataset, cam_model, batch_size=16, data_count=3200):\n",
    "    cam_image = []\n",
    "    for ima_num in range(0, data_count, batch_size):\n",
    "        width = []\n",
    "        height = []\n",
    "        \n",
    "        batch_data = dataset.skip(ima_num).take(batch_size)\n",
    "        \n",
    "        for raw_sample in batch_data:\n",
    "            width.append(raw_sample[0].shape[1])\n",
    "            height.append(raw_sample[0].shape[0])\n",
    "            \n",
    "        norm_data = apply_normalize_on_dataset(batch_data, with_mixup=False)\n",
    "        \n",
    "        for skip_num in range(batch_size):\n",
    "            for sample in norm_data.skip(skip_num).take(1):\n",
    "                img_tensor = sample[0]\n",
    "                class_idx = sample[1]\n",
    "                \n",
    "                for k, (img, idx) in enumerate(zip(img_tensor, class_idx)):\n",
    "                    with tf.GradientTape() as tape:\n",
    "                        conv_output, pred = cam_model(tf.expand_dims(img, 0))\n",
    "                        \n",
    "                        idx = np.array(idx).argmax()\n",
    "                        loss = pred[:, idx]\n",
    "                        output = conv_output[0]\n",
    "                        grad_val = tape.gradient(loss, conv_output)[0]\n",
    "                        \n",
    "                    weights = np.mean(grad_val, axis=(0, 1))\n",
    "                    single_cam_image = np.zeros(dtype=np.float32, shape=conv_output.shape[0:2])\n",
    "                    \n",
    "                    for i, w in enumerate(weights):\n",
    "                        single_cam_image += w * output[:, :, i]\n",
    "                    \n",
    "                    single_cam_image = tf.math.maximum(0, single_cam_image)\n",
    "                    single_cam_image /= np.max(single_cam_image)\n",
    "                    single_cam_image = single_cam_image.numpy()\n",
    "                    single_cam_image = cv2.resize(single_cam_image, (width[k], height[k]))\n",
    "                    cam_image.append(single_cam_image)\n",
    "    return cam_image"
   ]
  },
  {
   "cell_type": "code",
   "execution_count": 15,
   "id": "9bfca96a",
   "metadata": {},
   "outputs": [],
   "source": [
    "def generate_cam(dataset, cam_model, class_weights, batch_size=16, data_count=480):\n",
    "    cam_image = normal_cam(dataset, cam_model, class_weights, batch_size, data_count)\n",
    "    return cam_image"
   ]
  },
  {
   "cell_type": "code",
   "execution_count": 16,
   "id": "d4b8fed7",
   "metadata": {},
   "outputs": [],
   "source": [
    "def generate_grad_cam(dataset, cam_model, batch_size=16, data_count=480):\n",
    "    cam_image = normal_grad_cam(dataset, cam_model, batch_size, data_count)\n",
    "    return cam_image"
   ]
  },
  {
   "cell_type": "code",
   "execution_count": 17,
   "id": "e319b8fd",
   "metadata": {},
   "outputs": [],
   "source": [
    "def get_bbox(cam_image, score_thresh=0.05):\n",
    "    low_indicies = cam_image <= score_thresh\n",
    "    cam_image[low_indicies] = 0\n",
    "    cam_image = (cam_image*255).astype(np.uint8)\n",
    "    \n",
    "    contours,_ = cv2.findContours(cam_image, cv2.RETR_TREE, cv2.CHAIN_APPROX_SIMPLE)\n",
    "    cnt = contours[0]\n",
    "    rotated_rect = cv2.minAreaRect(cnt)\n",
    "    rect = cv2.boxPoints(rotated_rect)\n",
    "    rect = np.int0(rect)\n",
    "    return rect"
   ]
  },
  {
   "cell_type": "code",
   "execution_count": 18,
   "id": "94fe699e",
   "metadata": {},
   "outputs": [],
   "source": [
    "def rect_to_minmax(rect, image):\n",
    "    bbox = [\n",
    "        rect[:,1].min()/float(image.shape[0]),\n",
    "        rect[:,0].min()/float(image.shape[1]),\n",
    "        rect[:,1].max()/float(image.shape[0]),\n",
    "        rect[:,0].max()/float(image.shape[1])\n",
    "    ]\n",
    "    return bbox"
   ]
  },
  {
   "cell_type": "code",
   "execution_count": 19,
   "id": "1849d0e3",
   "metadata": {},
   "outputs": [],
   "source": [
    "def get_iou(boxA, boxB):\n",
    "    y_min = max(boxA[0], boxB[0])\n",
    "    x_min= max(boxA[1], boxB[1])\n",
    "    y_max = min(boxA[2], boxB[2])\n",
    "    x_max = min(boxA[3], boxB[3])\n",
    "    \n",
    "    interArea = max(0, x_max - x_min) * max(0, y_max - y_min)\n",
    "    boxAArea = (boxA[2] - boxA[0]) * (boxA[3] - boxA[1])\n",
    "    boxBArea = (boxB[2] - boxB[0]) * (boxB[3] - boxB[1])\n",
    "    iou = interArea / float(boxAArea + boxBArea - interArea)\n",
    "\n",
    "    return iou"
   ]
  },
  {
   "cell_type": "code",
   "execution_count": 20,
   "id": "ef7c3bcf",
   "metadata": {},
   "outputs": [],
   "source": [
    "def altinative_iou(cam_image, image, bbox):\n",
    "    cam_rect = []\n",
    "    cam_bbox = []\n",
    "    return_list = []\n",
    "    \n",
    "    for single_cam in cam_image:\n",
    "        single_cam_rect = get_bbox(single_cam)\n",
    "        cam_rect.append(single_cam_rect)\n",
    "    \n",
    "    for single_rect, single_image in zip(cam_rect, image):\n",
    "        single_cam_bbox = rect_to_minmax(single_rect, single_image)\n",
    "        cam_bbox.append(single_cam_bbox)\n",
    "    \n",
    "    for single_cam_box, single_real_box in zip(cam_bbox, bbox):\n",
    "        single_iou = get_iou(single_cam_box, single_real_box)\n",
    "        return_list.append(single_iou)\n",
    "        \n",
    "    print('Aver IoU is : ', sum(return_list) / len(return_list))\n",
    "    print('Max IoU is : ', max(return_list), 'and index is : ', return_list.index(max(return_list)))\n",
    "    \n",
    "    return return_list"
   ]
  },
  {
   "cell_type": "code",
   "execution_count": 21,
   "id": "d76f9327",
   "metadata": {},
   "outputs": [],
   "source": [
    "def plot_iou_distribution(iou_list):\n",
    "    normalized_iou = (iou_list - np.min(iou_list)) / (np.max(iou_list) - np.min(iou_list))\n",
    "    \n",
    "    plt.figure(figsize=(8, 6))\n",
    "    \n",
    "    mean, std = np.mean(normalized_iou), np.std(normalized_iou)\n",
    "    \n",
    "    xmin, xmax = 0, 1\n",
    "    x = np.linspace(xmin, xmax, 100)\n",
    "    p = norm.pdf(x, mean, std)\n",
    "    plt.plot(x, p, 'k', linewidth=2)\n",
    "    \n",
    "    plt.title('IoU Distribution with Normal Distribution Fit', fontsize=14)\n",
    "    plt.xlabel('Normalized IoU', fontsize=12)\n",
    "    plt.ylabel('Density', fontsize=12)\n",
    "    plt.grid(True)\n",
    "    plt.show()"
   ]
  },
  {
   "cell_type": "code",
   "execution_count": 22,
   "id": "40e3d0c2",
   "metadata": {},
   "outputs": [],
   "source": [
    "def visualize_cam_on_image(image, cam_image, rato):\n",
    "    merged_image = None\n",
    "    a = rato\n",
    "    b = 1.0 - a\n",
    "    merged_image = cv2.addWeighted(cam_image, a, image, b, 0)\n",
    "    return merged_image"
   ]
  },
  {
   "cell_type": "code",
   "execution_count": 119,
   "id": "90ba140d",
   "metadata": {},
   "outputs": [],
   "source": [
    "def visualize_random(cam_image, image, file_path, data_count=3200):\n",
    "    choice_list = [random.randint(0, data_count) for value in range(0, 10)]\n",
    "    \n",
    "    for i in choice_list:\n",
    "        origin_image = image[i].numpy().astype(np.uint8)\n",
    "        cam_image_3channel = np.stack([cam_image[i]*255]*3, axis=-1).astype(np.uint8)\n",
    "        blended_image = visualize_cam_on_image(cam_image_3channel, origin_image, 0.3)\n",
    "        save_path = file_path+f\"image_{i}.jpg\"\n",
    "        cv2.imwrite(save_path, blended_image)"
   ]
  },
  {
   "cell_type": "markdown",
   "id": "7cc2cc71",
   "metadata": {},
   "source": [
    "## 모델 추론 및 평가"
   ]
  },
  {
   "cell_type": "code",
   "execution_count": 24,
   "id": "9109fd42",
   "metadata": {},
   "outputs": [],
   "source": [
    "model_path = os.getenv('HOME')+'/aiffel/model_weight/GD03/cam_model1.h5'\n",
    "model = tf.keras.models.load_model(model_path)"
   ]
  },
  {
   "cell_type": "code",
   "execution_count": 25,
   "id": "90102517",
   "metadata": {},
   "outputs": [],
   "source": [
    "cam_model = tf.keras.models.Model([model.inputs], [model.layers[-3].output, model.output])"
   ]
  },
  {
   "cell_type": "code",
   "execution_count": 26,
   "id": "37b1769f",
   "metadata": {},
   "outputs": [],
   "source": [
    "class_weights = model.layers[-1].get_weights()[0]"
   ]
  },
  {
   "cell_type": "code",
   "execution_count": 109,
   "id": "90cd1310",
   "metadata": {},
   "outputs": [],
   "source": [
    "finaly_cam = generate_cam(ds_dataset, cam_model, class_weights, 16, 32)"
   ]
  },
  {
   "cell_type": "code",
   "execution_count": 110,
   "id": "cb80262b",
   "metadata": {},
   "outputs": [],
   "source": [
    "finaly_grad_cam = generate_grad_cam(ds_dataset, cam_model, 16, 32)"
   ]
  },
  {
   "cell_type": "code",
   "execution_count": 111,
   "id": "7a0de881",
   "metadata": {},
   "outputs": [
    {
     "name": "stdout",
     "output_type": "stream",
     "text": [
      "Aver IoU is :  0.5999212492712294\n",
      "Max IoU is :  0.9459193269612833 and index is :  3\n"
     ]
    }
   ],
   "source": [
    "IoU_cam_list = altinative_iou(finaly_cam, ds_image, ds_box)"
   ]
  },
  {
   "cell_type": "code",
   "execution_count": 112,
   "id": "a1e3f400",
   "metadata": {
    "scrolled": false
   },
   "outputs": [
    {
     "name": "stdout",
     "output_type": "stream",
     "text": [
      "Aver IoU is :  0.5073648976483767\n",
      "Max IoU is :  0.916828925431538 and index is :  18\n"
     ]
    }
   ],
   "source": [
    "IoU_grad_list = altinative_iou(finaly_grad_cam, ds_image, ds_box)"
   ]
  },
  {
   "cell_type": "code",
   "execution_count": 113,
   "id": "7adce98f",
   "metadata": {},
   "outputs": [
    {
     "data": {
      "image/png": "[encoded data removed]",
      "text/plain": [
       "<Figure size 576x432 with 1 Axes>"
      ]
     },
     "metadata": {
      "needs_background": "light"
     },
     "output_type": "display_data"
    }
   ],
   "source": [
    "plot_iou_distribution(IoU_cam_list)"
   ]
  },
  {
   "cell_type": "code",
   "execution_count": 114,
   "id": "d4965fbf",
   "metadata": {},
   "outputs": [
    {
     "data": {
      "image/png": "[encoded data removed]",
      "text/plain": [
       "<Figure size 576x432 with 1 Axes>"
      ]
     },
     "metadata": {
      "needs_background": "light"
     },
     "output_type": "display_data"
    }
   ],
   "source": [
    "plot_iou_distribution(IoU_grad_list)"
   ]
  },
  {
   "cell_type": "code",
   "execution_count": 120,
   "id": "1009148e",
   "metadata": {},
   "outputs": [],
   "source": [
    "visualize_random(finaly_cam, ds_image, 'images/mixup/imagenet_cam', 32)"
   ]
  },
  {
   "cell_type": "code",
   "execution_count": 123,
   "id": "07880719",
   "metadata": {},
   "outputs": [],
   "source": [
    "visualize_random(finaly_grad_cam, ds_image, 'images/mixup/imagenet_grad', 32)"
   ]
  },
  {
   "cell_type": "markdown",
   "id": "e375dfd4",
   "metadata": {},
   "source": [
    "## 매우 중요한 디버그\n",
    "\n",
    "### 셔플 때문에 허망무맹한 시간을 보냈다\n",
    "    - 아래 코드에서 불러올 때나\n",
    "        (ds_train, ds_test), ds_info = tfds.load(\n",
    "            'stanford_dogs',\n",
    "            split=['train', 'test'],\n",
    "            as_supervised=False,\n",
    "            shuffle_files=True,\n",
    "            with_info=True,\n",
    "        )\n",
    "    - 아래 코드처럼 셔플을 하면\n",
    "    ds_random = ds.shuffle(buffer_size=10).take(data_num)\n",
    "    - 셔플된 인덱스가 그대로 남아 사진 비교가 불가능하다\n",
    "    - 약 5~6시간 고생하고 나서야 앍았다.\n",
    "    \n",
    "    해결방안\n",
    "        - 주기적으로 텐서 shape 확인 必\n",
    "        - 작게작게 돌려가며 이상한 부분이 없는지 체크 必\n",
    "        \n",
    "## 본 ipynb 파일은\n",
    "## mixup fine-turning 모델의 cam-grad-cam 시험 파일임\n",
    "## 사용 모델은 Resnet_50이고 가중치는 없음"
   ]
  }
 ],
 "metadata": {
  "kernelspec": {
   "display_name": "Python 3 (ipykernel)",
   "language": "python",
   "name": "python3"
  },
  "language_info": {
   "codemirror_mode": {
    "name": "ipython",
    "version": 3
   },
   "file_extension": ".py",
   "mimetype": "text/x-python",
   "name": "python",
   "nbconvert_exporter": "python",
   "pygments_lexer": "ipython3",
   "version": "3.9.7"
  }
 },
 "nbformat": 4,
 "nbformat_minor": 5
}
