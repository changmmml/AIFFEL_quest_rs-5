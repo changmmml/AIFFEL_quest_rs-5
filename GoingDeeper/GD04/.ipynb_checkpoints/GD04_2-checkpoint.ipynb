{
 "cells": [
  {
   "cell_type": "code",
   "execution_count": 1,
   "id": "61a09bec",
   "metadata": {},
   "outputs": [],
   "source": [
    "import os\n",
    "import cv2\n",
    "import PIL\n",
    "import math\n",
    "import numpy as np\n",
    "import tensorflow as tf\n",
    "\n",
    "from IPython.display import display\n",
    "from keras_ocr.detection import Detector"
   ]
  },
  {
   "cell_type": "code",
   "execution_count": 2,
   "id": "d89d5ec7",
   "metadata": {},
   "outputs": [
    {
     "name": "stdout",
     "output_type": "stream",
     "text": [
      "Looking for /aiffel/.keras-ocr/craft_mlt_25k.h5\n"
     ]
    }
   ],
   "source": [
    "HOME_DIR = os.getenv('HOME')+'/aiffel/node_data/GD04/ocr'\n",
    "SAMPLE_IMG_PATH = HOME_DIR + '/data/sample.jpg'\n",
    "\n",
    "detector = Detector()"
   ]
  },
  {
   "cell_type": "code",
   "execution_count": 3,
   "id": "c2b53a29",
   "metadata": {},
   "outputs": [],
   "source": [
    "NUMBERS = \"0123456789\"\n",
    "ENG_CHAR_UPPER = \"ABCDEFGHIJKLMNOPQRSTUVWXYZ\"\n",
    "TARGET_CHARACTERS = ENG_CHAR_UPPER + NUMBERS"
   ]
  },
  {
   "cell_type": "code",
   "execution_count": 4,
   "id": "9abf3971",
   "metadata": {},
   "outputs": [],
   "source": [
    "def detect_text(img_path):\n",
    "    img = cv2.imread(img_path)\n",
    "    img = cv2.cvtColor(img, cv2.COLOR_BGR2RGB)\n",
    "    img_pil = PIL.Image.fromarray(img)\n",
    "    img_draw = PIL.ImageDraw.Draw(img_pil)\n",
    "    result_img = img_pil.copy()\n",
    "    \n",
    "    img = np.expand_dims(img, axis=0)\n",
    "    detection_result = detector.detect(img)\n",
    "    ocr_result = detection_result[0]\n",
    "    \n",
    "    cropped_imgs = []\n",
    "    for text_result in ocr_result:\n",
    "        img_draw.polygon(text_result, outline='red')\n",
    "        x_min = text_result[:,0].min() - 5\n",
    "        x_max = text_result[:,0].max() + 5\n",
    "        y_min = text_result[:,1].min() - 5\n",
    "        y_max = text_result[:,1].max() + 5\n",
    "        word_box = [x_min, y_min, x_max, y_max]\n",
    "        cropped_imgs.append(img_pil.crop(word_box))\n",
    "        \n",
    "    return result_img, cropped_imgs"
   ]
  },
  {
   "cell_type": "code",
   "execution_count": 5,
   "id": "f5190647",
   "metadata": {},
   "outputs": [],
   "source": [
    "def ctc_lambda_func(args):\n",
    "    labels, y_pred, label_length, input_length = args\n",
    "    y_pred = y_pred[:, 2:, :]\n",
    "    return tf.keras.backend.ctc_batch_cost(labels, y_pred, input_length, label_length)"
   ]
  },
  {
   "cell_type": "code",
   "execution_count": 6,
   "id": "a8d90e96",
   "metadata": {},
   "outputs": [],
   "source": [
    "def build_crnn_model(input_shape=(100,32,3), characters=TARGET_CHARACTERS):\n",
    "    num_chars = len(characters)+2\n",
    "    image_input = tf.keras.layers.Input(shape=input_shape, dtype='float32', name='input_image')\n",
    "    \n",
    "    # Build CRNN model\n",
    "    conv = tf.keras.layers.Conv2D(64, (3, 3), activation='relu', padding='same', kernel_initializer='he_normal')(image_input)\n",
    "    conv = tf.keras.layers.MaxPooling2D(pool_size=(2, 2))(conv)\n",
    "    conv = tf.keras.layers.Conv2D(128, (3, 3), activation='relu', padding='same', kernel_initializer='he_normal')(conv)\n",
    "    conv = tf.keras.layers.MaxPooling2D(pool_size=(2, 2))(conv)\n",
    "    conv = tf.keras.layers.Conv2D(256, (3, 3), activation='relu', padding='same', kernel_initializer='he_normal')(conv)\n",
    "    conv = tf.keras.layers.Conv2D(256, (3, 3), activation='relu', padding='same', kernel_initializer='he_normal')(conv)\n",
    "    conv = tf.keras.layers.MaxPooling2D(pool_size=(1, 2))(conv)\n",
    "    conv = tf.keras.layers.Conv2D(512, (3, 3), activation='relu', padding='same', kernel_initializer='he_normal')(conv)\n",
    "    conv = tf.keras.layers.BatchNormalization()(conv)\n",
    "    conv = tf.keras.layers.Conv2D(512, (3, 3), activation='relu', padding='same', kernel_initializer='he_normal')(conv)\n",
    "    conv = tf.keras.layers.BatchNormalization()(conv)\n",
    "    conv = tf.keras.layers.MaxPooling2D(pool_size=(1, 2))(conv)     \n",
    "    feature = tf.keras.layers.Conv2D(512, (2, 2), activation='relu', kernel_initializer='he_normal')(conv)\n",
    "    sequnce = tf.keras.layers.Reshape(target_shape=(24, 512))(feature)\n",
    "    sequnce = tf.keras.layers.Dense(64, activation='relu')(sequnce)\n",
    "    sequnce = tf.keras.layers.Bidirectional(tf.keras.layers.LSTM(256, return_sequences=True))(sequnce)\n",
    "    sequnce = tf.keras.layers.Bidirectional(tf.keras.layers.LSTM(256, return_sequences=True))(sequnce)\n",
    "    y_pred = tf.keras.layers.Dense(num_chars, activation='softmax', name='output')(sequnce)\n",
    "\n",
    "    labels = tf.keras.layers.Input(shape=[22], dtype='int64', name='label')\n",
    "    input_length = tf.keras.layers.Input(shape=[1], dtype='int64', name='input_length')\n",
    "    label_length = tf.keras.layers.Input(shape=[1], dtype='int64', name='label_length')\n",
    "    loss_out = tf.keras.layers.Lambda(ctc_lambda_func, output_shape=(1,), name=\"ctc\")(\n",
    "        [labels, y_pred, label_length, input_length]\n",
    "    )\n",
    "    model_input = [image_input, labels, input_length, label_length]\n",
    "    model = tf.keras.Model(\n",
    "        inputs=model_input,\n",
    "        outputs=loss_out\n",
    "    )\n",
    "    return model"
   ]
  },
  {
   "cell_type": "code",
   "execution_count": 13,
   "id": "9a4ddc97",
   "metadata": {},
   "outputs": [],
   "source": [
    "def decode_predict_ctc(out, chars = TARGET_CHARACTERS):\n",
    "    chars += ' '\n",
    "    results = []\n",
    "    indexes = tf.keras.backend.get_value(\n",
    "        tf.keras.backend.ctc_decode(\n",
    "            out, input_length=np.ones(out.shape[0]) * out.shape[1],\n",
    "            greedy=False , beam_width=5, top_paths=1\n",
    "        )[0][0]\n",
    "    )[0]\n",
    "    text = \"\"\n",
    "    for index in indexes:\n",
    "        text += chars[index]\n",
    "    results.append(text)\n",
    "    return results"
   ]
  },
  {
   "cell_type": "code",
   "execution_count": 29,
   "id": "c2f5d211",
   "metadata": {},
   "outputs": [],
   "source": [
    "def recognize_img(model, pil_img, input_img_size=(100,32)):\n",
    "    pil_imgs = pil_img.copy()\n",
    "    img = pil_imgs.resize(input_img_size, PIL.Image.ANTIALIAS)\n",
    "    img_array = np.array(img).astype(np.float32)\n",
    "    if len(img_array.shape) == 2: img_array = np.expand_dims(img_array, axis=-1)\n",
    "    img_array = np.transpose(img_array, (1, 0, 2))\n",
    "    img_input = np.expand_dims(img_array, axis=0)\n",
    "\n",
    "    output = model.predict(img_input)\n",
    "    result = decode_predict_ctc(output, chars=\"-\"+TARGET_CHARACTERS)[0].replace('-','')\n",
    "    print(\"Result: \\t\", result)\n",
    "    display(PIL.Image.fromarray(img_input[0].transpose(1,0,2).astype(np.uint8)))"
   ]
  },
  {
   "cell_type": "code",
   "execution_count": 30,
   "id": "d292f3a9",
   "metadata": {},
   "outputs": [],
   "source": [
    "result_img, cropped_imgs = detect_text(SAMPLE_IMG_PATH)"
   ]
  },
  {
   "cell_type": "code",
   "execution_count": 31,
   "id": "a79a3443",
   "metadata": {},
   "outputs": [],
   "source": [
    "checkpoint_path = HOME_DIR + '/data/model_checkpoint.hdf5'\n",
    "\n",
    "model = build_crnn_model()\n",
    "model.load_weights(checkpoint_path)\n",
    "\n",
    "input_data = model.get_layer('input_image').output\n",
    "y_pred = model.get_layer('output').output\n",
    "model_pred = tf.keras.Model(inputs=input_data, outputs=y_pred)"
   ]
  },
  {
   "cell_type": "code",
   "execution_count": 32,
   "id": "e1be2dd0",
   "metadata": {},
   "outputs": [],
   "source": [
    "img_pil, cropped_img = detect_text(SAMPLE_IMG_PATH)"
   ]
  },
  {
   "cell_type": "code",
   "execution_count": 33,
   "id": "b4ae0ac3",
   "metadata": {
    "scrolled": true
   },
   "outputs": [
    {
     "name": "stdout",
     "output_type": "stream",
     "text": [
      "Result: \t SVRUPRUA                \n"
     ]
    },
    {
     "data": {
      "image/png": "[encoded data removed]",
      "text/plain": [
       "<PIL.Image.Image image mode=RGB size=100x32 at 0x78D75C6DB7C0>"
      ]
     },
     "metadata": {},
     "output_type": "display_data"
    },
    {
     "name": "stdout",
     "output_type": "stream",
     "text": [
      "Result: \t SLEEPER                \n"
     ]
    },
    {
     "data": {
      "image/png": "[encoded data removed]",
      "text/plain": [
       "<PIL.Image.Image image mode=RGB size=100x32 at 0x78D75D2D2940>"
      ]
     },
     "metadata": {},
     "output_type": "display_data"
    }
   ],
   "source": [
    "for _img in cropped_img:\n",
    "    recognize_img(model_pred, _img)"
   ]
  }
 ],
 "metadata": {
  "kernelspec": {
   "display_name": "Python 3 (ipykernel)",
   "language": "python",
   "name": "python3"
  },
  "language_info": {
   "codemirror_mode": {
    "name": "ipython",
    "version": 3
   },
   "file_extension": ".py",
   "mimetype": "text/x-python",
   "name": "python",
   "nbconvert_exporter": "python",
   "pygments_lexer": "ipython3",
   "version": "3.9.7"
  }
 },
 "nbformat": 4,
 "nbformat_minor": 5
}
