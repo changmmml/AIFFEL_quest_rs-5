{
 "cells": [
  {
   "cell_type": "markdown",
   "id": "a90c1256",
   "metadata": {},
   "source": [
    "# 중국어 OCR 모델"
   ]
  },
  {
   "cell_type": "code",
   "execution_count": 20,
   "id": "9d65cc42",
   "metadata": {},
   "outputs": [],
   "source": [
    "import os\n",
    "import re\n",
    "import six\n",
    "import PIL\n",
    "import lmdb\n",
    "import math\n",
    "import pickle\n",
    "import zipfile\n",
    "import tarfile\n",
    "import numpy as np\n",
    "import pandas as pd\n",
    "import tensorflow as tf\n",
    "import matplotlib.pyplot as plt\n",
    "from IPython.display import display\n",
    "\n",
    "from tensorflow.keras.utils import Sequence\n",
    "from tensorflow.keras.models import load_model"
   ]
  },
  {
   "cell_type": "code",
   "execution_count": 24,
   "id": "a370b94a",
   "metadata": {},
   "outputs": [],
   "source": [
    "def download_and_extract_tar(url, extract_path):\n",
    "    os.makedirs(extract_path, exist_ok=True)\n",
    "    tar_file_path = os.path.join(extract_path, \"dataset.tar.gz\")\n",
    "    try:\n",
    "        print(f\"Downloading dataset from {url}...\")\n",
    "        response = requests.get(url, stream=True)\n",
    "        response.raise_for_status()\n",
    "        with open(tar_file_path, 'wb') as file:\n",
    "            for chunk in response.iter_content(chunk_size=8192):\n",
    "                file.write(chunk)\n",
    "        print(f\"Downloaded file saved to {tar_file_path}\")\n",
    "        print(\"Extracting files...\")\n",
    "        with tarfile.open(tar_file_path, 'r:gz') as tar:\n",
    "            tar.extractall(path=extract_path)\n",
    "        print(f\"Extraction completed. Files are available at {extract_path}\")\n",
    "    except requests.exceptions.RequestException as e:\n",
    "        print(f\"Error downloading the file: {e}\")\n",
    "    except tarfile.TarError as e:\n",
    "        print(f\"Error extracting the file: {e}\")\n",
    "    finally:\n",
    "        if os.path.exists(tar_file_path):\n",
    "            os.remove(tar_file_path)\n",
    "            print(f\"Temporary file {tar_file_path} removed.\")"
   ]
  },
  {
   "cell_type": "code",
   "execution_count": 21,
   "id": "98330fed",
   "metadata": {},
   "outputs": [],
   "source": [
    "def download_and_extract_lmdb(url, extract_path):\n",
    "    os.makedirs(extract_path, exist_ok=True)\n",
    "    tar_file_path = os.path.join(extract_path, \"dataset.tar\")\n",
    "\n",
    "    try:\n",
    "        print(f\"Downloading dataset from {url}...\")\n",
    "        response = requests.get(url, stream=True)\n",
    "        response.raise_for_status()\n",
    "        with open(tar_file_path, 'wb') as tar_file:\n",
    "            for chunk in response.iter_content(chunk_size=8192):\n",
    "                if chunk:\n",
    "                    tar_file.write(chunk)\n",
    "        print(\"Download completed. Extracting files...\")\n",
    "        with tarfile.open(tar_file_path, 'r') as tar:\n",
    "            tar.extractall(path=extract_path)\n",
    "        print(f\"Extraction completed. Files are available at {extract_path}\")\n",
    "    except Exception as e:\n",
    "        print(f\"Error: {e}\")\n",
    "    finally:\n",
    "        if os.path.exists(tar_file_path):\n",
    "            os.remove(tar_file_path)"
   ]
  },
  {
   "cell_type": "code",
   "execution_count": 22,
   "id": "e970b14c",
   "metadata": {},
   "outputs": [],
   "source": [
    "def read_lmdb(lmdb_path):\n",
    "    env = lmdb.open(lmdb_path, readonly=True, lock=False)\n",
    "    with env.begin() as txn:\n",
    "        num_samples = int(txn.get('num-samples'.encode()))\n",
    "        print(f\"Total number of samples: {num_samples}\")\n",
    "        index = 1  # Example index\n",
    "        image_key = f\"image-{index:09d}\".encode()\n",
    "        label_key = f\"label-{index:09d}\".encode()\n",
    "        image_data = txn.get(image_key)\n",
    "        label_data = txn.get(label_key)\n",
    "        print(f\"Sample {index} label: {label_data.decode()}\")"
   ]
  },
  {
   "cell_type": "code",
   "execution_count": 45,
   "id": "6971549d",
   "metadata": {},
   "outputs": [],
   "source": [
    "def collect_labels_from_env(env):\n",
    "    unique_characters = set('0123456789')\n",
    "\n",
    "    with env.begin(write=False) as txn:\n",
    "        num_samples = txn.get('num-samples'.encode())\n",
    "        if num_samples is None:\n",
    "            print(\"Error: 'num-samples' key not found in LMDB.\")\n",
    "            return\n",
    "        num_samples = int(num_samples)\n",
    "        for index in range(1, num_samples + 1):  # 1부터 num_samples까지\n",
    "            label_key = 'label-%09d'.encode() % index\n",
    "            label = txn.get(label_key)\n",
    "            if label is None:\n",
    "                print(f\"Warning: No label found for index {index}\")\n",
    "                continue\n",
    "            label = label.decode('utf-8')\n",
    "            unique_characters.update(label)\n",
    "    unique_characters -= set('0123456789')\n",
    "    unique_characters_str = ''.join(sorted(unique_characters))\n",
    "    return unique_characters_str"
   ]
  },
  {
   "cell_type": "markdown",
   "id": "1dff996a",
   "metadata": {},
   "source": [
    "## 데이터 import"
   ]
  },
  {
   "cell_type": "code",
   "execution_count": 26,
   "id": "47c80a6e",
   "metadata": {},
   "outputs": [
    {
     "name": "stdout",
     "output_type": "stream",
     "text": [
      "Downloading dataset from https://storage.googleapis.com/esun-ai/TCSynth.tar.gz...\n",
      "Downloaded file saved to /aiffel/aiffel/node_data/GD04/dataset.tar.gz\n",
      "Extracting files...\n",
      "Extraction completed. Files are available at /aiffel/aiffel/node_data/GD04/\n",
      "Temporary file /aiffel/aiffel/node_data/GD04/dataset.tar.gz removed.\n"
     ]
    }
   ],
   "source": [
    "dataset_url = \"https://storage.googleapis.com/esun-ai/TCSynth.tar.gz\"\n",
    "save_directory = os.getenv('HOME')+\"/aiffel/node_data/GD04/\" #\"/aiffel/workspace/GoingDeeper/GD04/chinese/\"\n",
    "download_and_extract_tar(dataset_url, save_directory)"
   ]
  },
  {
   "cell_type": "code",
   "execution_count": 48,
   "id": "27f8159d",
   "metadata": {},
   "outputs": [
    {
     "name": "stdout",
     "output_type": "stream",
     "text": [
      "Downloading dataset from https://storage.googleapis.com/esun-ai/TCSynth-VAL.tar.gz...\n",
      "Downloaded file saved to /aiffel/aiffel/node_data/GD04/dataset.tar.gz\n",
      "Extracting files...\n",
      "Extraction completed. Files are available at /aiffel/aiffel/node_data/GD04/\n",
      "Temporary file /aiffel/aiffel/node_data/GD04/dataset.tar.gz removed.\n"
     ]
    }
   ],
   "source": [
    "dataset_url = \"https://storage.googleapis.com/esun-ai/TCSynth-VAL.tar.gz\"\n",
    "save_directory = os.getenv('HOME')+\"/aiffel/node_data/GD04/\" #\"/aiffel/workspace/GoingDeeper/GD04/chinese/\"\n",
    "download_and_extract_tar(dataset_url, save_directory)"
   ]
  },
  {
   "cell_type": "code",
   "execution_count": 33,
   "id": "1bb202c7",
   "metadata": {},
   "outputs": [],
   "source": [
    "THE_PATH = os.getenv('HOME')+\"/aiffel/node_data/GD04/TCSynth\"\n",
    "\n",
    "env = lmdb.open(THE_PATH, \n",
    "                max_readers=32, \n",
    "                readonly=True, \n",
    "                lock=False, \n",
    "                readahead=False, \n",
    "                meminit=False)"
   ]
  },
  {
   "cell_type": "code",
   "execution_count": 49,
   "id": "183b4563",
   "metadata": {},
   "outputs": [],
   "source": [
    "THE_PATH_VAL = os.getenv('HOME')+\"/aiffel/node_data/GD04/TCSynth-VAL\"\n",
    "\n",
    "envv = lmdb.open(THE_PATH_VAL, \n",
    "                max_readers=32, \n",
    "                readonly=True, \n",
    "                lock=False, \n",
    "                readahead=False, \n",
    "                meminit=False)"
   ]
  },
  {
   "cell_type": "code",
   "execution_count": 51,
   "id": "e70cb504",
   "metadata": {},
   "outputs": [],
   "source": [
    "unique_characters = collect_labels_from_env(env)\n",
    "unique_characters_v = collect_labels_from_env(envv)\n",
    "\n",
    "unique_character = set(unique_characters_v + unique_characters)\n",
    "unique_character_str = ''.join(sorted(unique_character))"
   ]
  },
  {
   "cell_type": "code",
   "execution_count": 58,
   "id": "26eeae11",
   "metadata": {},
   "outputs": [
    {
     "data": {
      "text/plain": [
       "12109"
      ]
     },
     "execution_count": 58,
     "metadata": {},
     "output_type": "execute_result"
    }
   ],
   "source": [
    "len(unique_characters)"
   ]
  },
  {
   "cell_type": "markdown",
   "id": "df6ef8f2",
   "metadata": {},
   "source": [
    "# 주요 함수 선언"
   ]
  },
  {
   "cell_type": "markdown",
   "id": "5eade6b8",
   "metadata": {},
   "source": [
    "### 검출할 문자의 인코딩 사전 구성"
   ]
  },
  {
   "cell_type": "code",
   "execution_count": 59,
   "id": "6509fd08",
   "metadata": {},
   "outputs": [],
   "source": [
    "NUMBERS = \"0123456789\"\n",
    "TARGET_CHARACTERS = unique_characters + NUMBERS"
   ]
  },
  {
   "cell_type": "markdown",
   "id": "2949027c",
   "metadata": {},
   "source": [
    "### lmdb 데이터를 import, 훈련용 데이터 셋 객체로 구성"
   ]
  },
  {
   "cell_type": "code",
   "execution_count": 60,
   "id": "b3a982ff",
   "metadata": {},
   "outputs": [],
   "source": [
    "class MJDatasetSequence(Sequence):\n",
    "    # 객체를 초기화 할 때 lmdb를 열어 env에 준비해둡니다\n",
    "    # 또, lmdb에 있는 데이터 수를 미리 파악해둡니다\n",
    "    def __init__(self, \n",
    "                 dataset_path,\n",
    "                 label_converter,\n",
    "                 batch_size=1,\n",
    "                 img_size=(100,32),\n",
    "                 max_text_len=22,\n",
    "                 is_train=False,\n",
    "                 character='') :\n",
    "        \n",
    "        self.label_converter = label_converter\n",
    "        self.batch_size = batch_size\n",
    "        self.img_size = img_size\n",
    "        self.max_text_len = max_text_len\n",
    "        self.character = character\n",
    "        self.is_train = is_train\n",
    "        self.divide_length = 100\n",
    "\n",
    "        self.env = lmdb.open(dataset_path, max_readers=32, readonly=True, lock=False, readahead=False, meminit=False)\n",
    "        with self.env.begin(write=False) as txn:\n",
    "            self.num_samples = int(txn.get('num-samples'.encode()))\n",
    "            self.index_list = [index + 1 for index in range(self.num_samples)]\n",
    "        \n",
    "\n",
    "    def __len__(self):\n",
    "        return math.ceil(self.num_samples/self.batch_size/self.divide_length)\n",
    "    \n",
    "    # index에 해당하는 image와 label을 읽어옵니다\n",
    "    # 위에서 사용한 코드와 매우 유사합니다\n",
    "    # label을 조금 더 다듬는 것이 약간 다릅니다\n",
    "    def _get_img_label(self, index):\n",
    "        with self.env.begin(write=False) as txn:\n",
    "            label_key = 'label-%09d'.encode() % index\n",
    "            label = txn.get(label_key).decode('utf-8')\n",
    "            img_key = 'image-%09d'.encode() % index\n",
    "            imgbuf = txn.get(img_key)\n",
    "\n",
    "            buf = six.BytesIO()\n",
    "            buf.write(imgbuf)\n",
    "            buf.seek(0)\n",
    "            try:\n",
    "                img = PIL.Image.open(buf).convert('RGB')\n",
    "\n",
    "            except IOError:\n",
    "                img = PIL.Image.new('RGB', self.img_size)\n",
    "                label = '-'\n",
    "            width, height = img.size\n",
    "            \n",
    "            target_width = min(int(width*self.img_size[1]/height), self.img_size[0])\n",
    "            target_img_size = (target_width, self.img_size[1])\n",
    "            img = np.array(img.resize(target_img_size)).transpose(1,0,2)\n",
    "            # label을 약간 더 다듬습니다\n",
    "            label = label.upper()\n",
    "            out_of_char = f'[^{self.character}]'\n",
    "            label = re.sub(out_of_char, '', label)\n",
    "            label = label[:self.max_text_len]\n",
    "\n",
    "        return (img, label)\n",
    "    \n",
    "    # __getitem__은 약속되어있는 메서드입니다\n",
    "    # 이 부분을 작성하면 slice할 수 있습니다\n",
    "    # 자세히 알고 싶다면 아래 문서를 참고하세요\n",
    "    # https://docs.python.org/3/reference/datamodel.html#object.__getitem__\n",
    "    # \n",
    "    # 1. idx에 해당하는 index_list만큼 데이터를 불러\n",
    "    # 2. image와 label을 불러오고 \n",
    "    # 3. 사용하기 좋은 inputs과 outputs형태로 반환합니다\n",
    "    def __getitem__(self, idx):\n",
    "        # 1.\n",
    "        batch_indicies = self.index_list[\n",
    "            idx*self.batch_size:\n",
    "            (idx+1)*self.batch_size\n",
    "        ]\n",
    "        input_images = np.zeros([self.batch_size, *self.img_size, 3])\n",
    "        labels = np.zeros([self.batch_size, self.max_text_len], dtype='int64')\n",
    "\n",
    "        input_length = np.ones([self.batch_size], dtype='int64') * self.max_text_len\n",
    "        label_length = np.ones([self.batch_size], dtype='int64')\n",
    "\n",
    "        # 2.\n",
    "        for i, index in enumerate(batch_indicies):\n",
    "            img, label = self._get_img_label(index)\n",
    "            encoded_label = self.label_converter.encode(label)\n",
    "            # 인코딩 과정에서 '-'이 추가되면 max_text_len보다 길어질 수 있어요\n",
    "            if len(encoded_label) > self.max_text_len:\n",
    "                continue\n",
    "            width = img.shape[0]\n",
    "            input_images[i,:width,:,:] = img\n",
    "            labels[i,0:len(encoded_label)] = encoded_label\n",
    "            label_length[i] = len(encoded_label)\n",
    "        \n",
    "        # 3.\n",
    "        inputs = {\n",
    "            'input_image': input_images,\n",
    "            'label': labels,\n",
    "            'input_length': input_length,\n",
    "            'label_length': label_length,\n",
    "        }\n",
    "        outputs = {'ctc': np.zeros([self.batch_size, 1])}\n",
    "\n",
    "        return inputs, outputs"
   ]
  },
  {
   "cell_type": "markdown",
   "id": "b6fbb8fb",
   "metadata": {},
   "source": [
    "### 인코딩 라벨 객체 구성 (중복문에는 -를 넣도록 구성)"
   ]
  },
  {
   "cell_type": "code",
   "execution_count": 61,
   "id": "2dd028fd",
   "metadata": {},
   "outputs": [],
   "source": [
    "class LabelConverter(object):\n",
    "    def __init__(self, character):\n",
    "        self.character = \"-\" + character\n",
    "        self.label_map = dict()\n",
    "        for i, char in enumerate(self.character):\n",
    "            self.label_map[char] = i\n",
    "    \n",
    "    def encode(self, text):\n",
    "        encoded_label = []\n",
    "        for i, char in enumerate(text):\n",
    "            if i > 0 and char == text[i - 1]:\n",
    "                encoded_label.append(0)\n",
    "            encoded_label.append(self.label_map[char])\n",
    "        return np.array(encoded_label)\n",
    "    \n",
    "    def decode(self, encoded_label):\n",
    "        target_characters = list(self.character)\n",
    "        decoded_label = \"\"\n",
    "        for encode in encoded_label:\n",
    "            decoded_label += self.character[encode]\n",
    "        return decoded_label"
   ]
  },
  {
   "cell_type": "markdown",
   "id": "8782a704",
   "metadata": {},
   "source": [
    "### ctc 알고리즘 구축"
   ]
  },
  {
   "cell_type": "code",
   "execution_count": 62,
   "id": "52ab1710",
   "metadata": {},
   "outputs": [],
   "source": [
    "def ctc_lambda_func(args):\n",
    "    labels, y_pred, label_length, input_length = args\n",
    "    y_pred = y_pred[:, 2:, :]\n",
    "    return tf.keras.backend.ctc_batch_cost(labels, y_pred, input_length, label_length)"
   ]
  },
  {
   "cell_type": "markdown",
   "id": "08cb4af5",
   "metadata": {},
   "source": [
    "### 모델 구축 함수 선언"
   ]
  },
  {
   "cell_type": "code",
   "execution_count": 63,
   "id": "13fd6be5",
   "metadata": {},
   "outputs": [],
   "source": [
    "def build_crnn_model(input_shape=(100,32,3), characters=TARGET_CHARACTERS):\n",
    "    num_chars = len(characters)+2\n",
    "    image_input = tf.keras.layers.Input(shape=input_shape, dtype='float32', name='input_image')\n",
    "    \n",
    "    # Build CRNN model\n",
    "    conv = tf.keras.layers.Conv2D(64, (3, 3), activation='relu', padding='same', kernel_initializer='he_normal')(image_input)\n",
    "    conv = tf.keras.layers.MaxPooling2D(pool_size=(2, 2))(conv)\n",
    "    conv = tf.keras.layers.Conv2D(128, (3, 3), activation='relu', padding='same', kernel_initializer='he_normal')(conv)\n",
    "    conv = tf.keras.layers.MaxPooling2D(pool_size=(2, 2))(conv)\n",
    "    conv = tf.keras.layers.Conv2D(256, (3, 3), activation='relu', padding='same', kernel_initializer='he_normal')(conv)\n",
    "    conv = tf.keras.layers.Conv2D(256, (3, 3), activation='relu', padding='same', kernel_initializer='he_normal')(conv)\n",
    "    conv = tf.keras.layers.MaxPooling2D(pool_size=(1, 2))(conv)\n",
    "    conv = tf.keras.layers.Conv2D(512, (3, 3), activation='relu', padding='same', kernel_initializer='he_normal')(conv)\n",
    "    conv = tf.keras.layers.BatchNormalization()(conv)\n",
    "    conv = tf.keras.layers.Conv2D(512, (3, 3), activation='relu', padding='same', kernel_initializer='he_normal')(conv)\n",
    "    conv = tf.keras.layers.BatchNormalization()(conv)\n",
    "    conv = tf.keras.layers.MaxPooling2D(pool_size=(1, 2))(conv)     \n",
    "    feature = tf.keras.layers.Conv2D(512, (2, 2), activation='relu', kernel_initializer='he_normal')(conv)\n",
    "    sequnce = tf.keras.layers.Reshape(target_shape=(24, 512))(feature)\n",
    "    sequnce = tf.keras.layers.Dense(64, activation='relu')(sequnce)\n",
    "    sequnce = tf.keras.layers.Bidirectional(tf.keras.layers.LSTM(256, return_sequences=True))(sequnce)\n",
    "    sequnce = tf.keras.layers.Bidirectional(tf.keras.layers.LSTM(256, return_sequences=True))(sequnce)\n",
    "    y_pred = tf.keras.layers.Dense(num_chars, activation='softmax', name='output')(sequnce)\n",
    "\n",
    "    labels = tf.keras.layers.Input(shape=[22], dtype='int64', name='label')\n",
    "    input_length = tf.keras.layers.Input(shape=[1], dtype='int64', name='input_length')\n",
    "    label_length = tf.keras.layers.Input(shape=[1], dtype='int64', name='label_length')\n",
    "    loss_out = tf.keras.layers.Lambda(ctc_lambda_func, output_shape=(1,), name=\"ctc\")(\n",
    "        [labels, y_pred, label_length, input_length]\n",
    "    )\n",
    "    model_input = [image_input, labels, input_length, label_length]\n",
    "    model = tf.keras.Model(\n",
    "        inputs=model_input,\n",
    "        outputs=loss_out\n",
    "    )\n",
    "    return model"
   ]
  },
  {
   "cell_type": "markdown",
   "id": "be36dba4",
   "metadata": {},
   "source": [
    "### 학습된 모델 시험을 위한 함수 선언"
   ]
  },
  {
   "cell_type": "code",
   "execution_count": 64,
   "id": "1abcf958",
   "metadata": {},
   "outputs": [],
   "source": [
    "def decode_predict_ctc(out, chars = TARGET_CHARACTERS):\n",
    "    chars += ' '\n",
    "    results = []\n",
    "    indexes = tf.keras.backend.get_value(\n",
    "        tf.keras.backend.ctc_decode(\n",
    "            out, input_length=np.ones(out.shape[0]) * out.shape[1],\n",
    "            greedy=False , beam_width=5, top_paths=1\n",
    "        )[0][0]\n",
    "    )[0]\n",
    "    text = \"\"\n",
    "    for index in indexes:\n",
    "        text += chars[index]\n",
    "    results.append(text)\n",
    "    return results"
   ]
  },
  {
   "cell_type": "code",
   "execution_count": 65,
   "id": "dd788231",
   "metadata": {},
   "outputs": [],
   "source": [
    "def check_inference(model, dataset, index = 5):\n",
    "    for i in range(index):\n",
    "        inputs, outputs = dataset[i]\n",
    "        img = dataset[i][0]['input_image'][70:71,:,:,:]\n",
    "        output = model.predict(img)\n",
    "        result = decode_predict_ctc(output, chars=\"-\"+TARGET_CHARACTERS)[0].replace('-','')\n",
    "        print(\"Result: \\t\", result)\n",
    "        display(PIL.Image.fromarray(img[0].transpose(1,0,2).astype(np.uint8)))"
   ]
  },
  {
   "cell_type": "markdown",
   "id": "56f9b0c3",
   "metadata": {},
   "source": [
    "# 모델 학습"
   ]
  },
  {
   "cell_type": "code",
   "execution_count": 68,
   "id": "9d20d702",
   "metadata": {},
   "outputs": [],
   "source": [
    "BATCH_SIZE = 128\n",
    "label_converter = LabelConverter(TARGET_CHARACTERS)"
   ]
  },
  {
   "cell_type": "markdown",
   "id": "873f6a67",
   "metadata": {},
   "source": [
    "### 학습 및 검증용 데이터 셋 import"
   ]
  },
  {
   "cell_type": "code",
   "execution_count": 69,
   "id": "1ce89f3f",
   "metadata": {},
   "outputs": [],
   "source": [
    "THE_PATH = os.getenv('HOME')+\"/aiffel/node_data/GD04/TCSynth\"\n",
    "THE_PATH_VAL = os.getenv('HOME')+\"/aiffel/node_data/GD04/TCSynth-VAL\""
   ]
  },
  {
   "cell_type": "code",
   "execution_count": 70,
   "id": "fb696af6",
   "metadata": {},
   "outputs": [],
   "source": [
    "train_set = MJDatasetSequence(THE_PATH, label_converter, batch_size=BATCH_SIZE, character=TARGET_CHARACTERS, is_train=True)\n",
    "val_set = MJDatasetSequence(THE_PATH_VAL, label_converter, batch_size=BATCH_SIZE, character=TARGET_CHARACTERS)"
   ]
  },
  {
   "cell_type": "markdown",
   "id": "424bcb68",
   "metadata": {},
   "source": [
    "### 모델 구축 및 컴파일"
   ]
  },
  {
   "cell_type": "code",
   "execution_count": 71,
   "id": "098e28ab",
   "metadata": {},
   "outputs": [],
   "source": [
    "model = build_crnn_model()\n",
    "\n",
    "optimizer = tf.keras.optimizers.Adadelta(learning_rate=0.1, clipnorm=5)\n",
    "model.compile(loss={'ctc': lambda y_true, y_pred: y_pred}, optimizer=optimizer)"
   ]
  },
  {
   "cell_type": "markdown",
   "id": "9ff8f7ea",
   "metadata": {},
   "source": [
    "### 모델 학습 및 저장"
   ]
  },
  {
   "cell_type": "code",
   "execution_count": 73,
   "id": "61c157c3",
   "metadata": {
    "scrolled": false
   },
   "outputs": [
    {
     "name": "stdout",
     "output_type": "stream",
     "text": [
      "Epoch 1/20\n",
      "1683/1683 [==============================] - 697s 414ms/step - loss: 39.8212 - val_loss: 33.6490\n",
      "\n",
      "Epoch 00001: val_loss improved from inf to 33.64899, saving model to /aiffel/aiffel/model_weight/GD04/ocr_chi.keras\n",
      "Epoch 2/20\n",
      "1683/1683 [==============================] - 675s 401ms/step - loss: 35.5590 - val_loss: 33.1154\n",
      "\n",
      "Epoch 00002: val_loss improved from 33.64899 to 33.11544, saving model to /aiffel/aiffel/model_weight/GD04/ocr_chi.keras\n",
      "Epoch 3/20\n",
      "1683/1683 [==============================] - 674s 401ms/step - loss: 34.8772 - val_loss: 32.5115\n",
      "\n",
      "Epoch 00003: val_loss improved from 33.11544 to 32.51150, saving model to /aiffel/aiffel/model_weight/GD04/ocr_chi.keras\n",
      "Epoch 4/20\n",
      "1683/1683 [==============================] - 674s 401ms/step - loss: 34.3425 - val_loss: 32.2695\n",
      "\n",
      "Epoch 00004: val_loss improved from 32.51150 to 32.26954, saving model to /aiffel/aiffel/model_weight/GD04/ocr_chi.keras\n",
      "Epoch 5/20\n",
      "1683/1683 [==============================] - 674s 401ms/step - loss: 33.9671 - val_loss: 32.2226\n",
      "\n",
      "Epoch 00005: val_loss improved from 32.26954 to 32.22263, saving model to /aiffel/aiffel/model_weight/GD04/ocr_chi.keras\n",
      "Epoch 6/20\n",
      "1683/1683 [==============================] - 674s 401ms/step - loss: 33.7060 - val_loss: 32.1272\n",
      "\n",
      "Epoch 00006: val_loss improved from 32.22263 to 32.12720, saving model to /aiffel/aiffel/model_weight/GD04/ocr_chi.keras\n",
      "Epoch 7/20\n",
      "1683/1683 [==============================] - 674s 400ms/step - loss: 33.5049 - val_loss: 32.0385\n",
      "\n",
      "Epoch 00007: val_loss improved from 32.12720 to 32.03851, saving model to /aiffel/aiffel/model_weight/GD04/ocr_chi.keras\n",
      "Epoch 8/20\n",
      "1683/1683 [==============================] - 674s 401ms/step - loss: 33.3218 - val_loss: 32.0820\n",
      "\n",
      "Epoch 00008: val_loss did not improve from 32.03851\n",
      "Epoch 9/20\n",
      "1683/1683 [==============================] - 674s 400ms/step - loss: 33.1793 - val_loss: 31.9482\n",
      "\n",
      "Epoch 00009: val_loss improved from 32.03851 to 31.94822, saving model to /aiffel/aiffel/model_weight/GD04/ocr_chi.keras\n",
      "Epoch 10/20\n",
      "1683/1683 [==============================] - 674s 400ms/step - loss: 33.0395 - val_loss: 31.8851\n",
      "\n",
      "Epoch 00010: val_loss improved from 31.94822 to 31.88510, saving model to /aiffel/aiffel/model_weight/GD04/ocr_chi.keras\n",
      "Epoch 11/20\n",
      "1683/1683 [==============================] - 674s 400ms/step - loss: 32.8957 - val_loss: 31.9104\n",
      "\n",
      "Epoch 00011: val_loss did not improve from 31.88510\n",
      "Epoch 12/20\n",
      "1683/1683 [==============================] - 674s 401ms/step - loss: 32.7288 - val_loss: 32.0392\n",
      "\n",
      "Epoch 00012: val_loss did not improve from 31.88510\n",
      "Epoch 13/20\n",
      "1683/1683 [==============================] - 674s 400ms/step - loss: 32.5864 - val_loss: 31.7384\n",
      "\n",
      "Epoch 00013: val_loss improved from 31.88510 to 31.73836, saving model to /aiffel/aiffel/model_weight/GD04/ocr_chi.keras\n",
      "Epoch 14/20\n",
      "1683/1683 [==============================] - 674s 401ms/step - loss: 32.3935 - val_loss: 31.5726\n",
      "\n",
      "Epoch 00014: val_loss improved from 31.73836 to 31.57259, saving model to /aiffel/aiffel/model_weight/GD04/ocr_chi.keras\n",
      "Epoch 15/20\n",
      "1683/1683 [==============================] - 674s 400ms/step - loss: 32.2312 - val_loss: 31.5330\n",
      "\n",
      "Epoch 00015: val_loss improved from 31.57259 to 31.53298, saving model to /aiffel/aiffel/model_weight/GD04/ocr_chi.keras\n",
      "Epoch 16/20\n",
      "1683/1683 [==============================] - 674s 401ms/step - loss: 31.9937 - val_loss: 31.4053\n",
      "\n",
      "Epoch 00016: val_loss improved from 31.53298 to 31.40530, saving model to /aiffel/aiffel/model_weight/GD04/ocr_chi.keras\n",
      "Epoch 17/20\n",
      "1683/1683 [==============================] - 674s 401ms/step - loss: 31.7776 - val_loss: 31.3535\n",
      "\n",
      "Epoch 00017: val_loss improved from 31.40530 to 31.35351, saving model to /aiffel/aiffel/model_weight/GD04/ocr_chi.keras\n",
      "Epoch 18/20\n",
      "1683/1683 [==============================] - 674s 401ms/step - loss: 31.5128 - val_loss: 31.2883\n",
      "\n",
      "Epoch 00018: val_loss improved from 31.35351 to 31.28830, saving model to /aiffel/aiffel/model_weight/GD04/ocr_chi.keras\n",
      "Epoch 19/20\n",
      "1683/1683 [==============================] - 675s 401ms/step - loss: 31.2378 - val_loss: 31.3340\n",
      "\n",
      "Epoch 00019: val_loss did not improve from 31.28830\n",
      "Epoch 20/20\n",
      "1683/1683 [==============================] - 675s 401ms/step - loss: 30.9624 - val_loss: 31.1268\n",
      "\n",
      "Epoch 00020: val_loss improved from 31.28830 to 31.12685, saving model to /aiffel/aiffel/model_weight/GD04/ocr_chi.keras\n"
     ]
    }
   ],
   "source": [
    "checkpoint = tf.keras.callbacks.ModelCheckpoint(os.getenv('HOME')+\"/aiffel/model_weight/GD04/ocr_chi.keras\", monitor='val_loss', verbose=1, save_best_only=True, mode='min', save_weights_only=True)\n",
    "\n",
    "history_chi = model.fit(train_set,\n",
    "          steps_per_epoch=len(train_set),\n",
    "          epochs=20,\n",
    "          validation_data=val_set,\n",
    "          validation_steps=len(val_set),\n",
    "          callbacks=[checkpoint]\n",
    ")"
   ]
  },
  {
   "cell_type": "code",
   "execution_count": 74,
   "id": "49c26a90",
   "metadata": {},
   "outputs": [],
   "source": [
    "model.save_weights(os.getenv('HOME')+'/aiffel/model_weight/GD04/ocr_chi_weight.keras')"
   ]
  },
  {
   "cell_type": "code",
   "execution_count": 75,
   "id": "14ccdaab",
   "metadata": {},
   "outputs": [],
   "source": [
    "with open('history/history_chi.json', 'w') as f:\n",
    "    pd.DataFrame(history_chi.history).to_json(f)"
   ]
  },
  {
   "cell_type": "code",
   "execution_count": 76,
   "id": "79c95014",
   "metadata": {
    "scrolled": false
   },
   "outputs": [
    {
     "data": {
      "image/png": "[encoded data removed]",
      "text/plain": [
       "<Figure size 1008x720 with 1 Axes>"
      ]
     },
     "metadata": {
      "needs_background": "light"
     },
     "output_type": "display_data"
    }
   ],
   "source": [
    "plt.figure(figsize=(14, 10))\n",
    "\n",
    "plt.plot(history_chi.history['loss'], 'r')\n",
    "plt.plot(history_chi.history['val_loss'], 'b')\n",
    "plt.title('Model loss')\n",
    "plt.ylabel('Loss')\n",
    "plt.xlabel('Epoch')\n",
    "plt.legend(['train', 'validation'], loc='upper left')\n",
    "plt.show()"
   ]
  },
  {
   "cell_type": "markdown",
   "id": "147e6ef2",
   "metadata": {},
   "source": [
    "### 모델 시연"
   ]
  },
  {
   "cell_type": "markdown",
   "id": "931a2f1a",
   "metadata": {},
   "source": [
    "- 모델을 불러올 경우"
   ]
  },
  {
   "cell_type": "code",
   "execution_count": 20,
   "id": "cacfe241",
   "metadata": {},
   "outputs": [],
   "source": [
    "HOME_DIR = os.getenv('HOME')+'/aiffel/node_data/GD04/ocr'\n",
    "checkpoint_path = os.getenv('HOME') + '/aiffel/model_weight/GD04/ocr_eng_weight.keras'\n",
    "\n",
    "BATCH_SIZE = 128\n",
    "\n",
    "model = build_crnn_model()\n",
    "model.load_weights(checkpoint_path)"
   ]
  },
  {
   "cell_type": "markdown",
   "id": "2949f2fc",
   "metadata": {},
   "source": [
    "- 시연 모델을 위한 모델 생성"
   ]
  },
  {
   "cell_type": "code",
   "execution_count": 77,
   "id": "74f9dec3",
   "metadata": {},
   "outputs": [],
   "source": [
    "input_data = model.get_layer('input_image').output\n",
    "y_pred = model.get_layer('output').output\n",
    "model_pred = tf.keras.Model(inputs=input_data, outputs=y_pred)"
   ]
  },
  {
   "cell_type": "code",
   "execution_count": 78,
   "id": "20a9c357",
   "metadata": {},
   "outputs": [],
   "source": [
    "THE_PATH_VAL = os.getenv('HOME')+\"/aiffel/node_data/GD04/TCSynth-VAL\"\n",
    "test_set = MJDatasetSequence(THE_PATH_VAL, label_converter, batch_size=BATCH_SIZE, character=TARGET_CHARACTERS)"
   ]
  },
  {
   "cell_type": "code",
   "execution_count": 79,
   "id": "402e5931",
   "metadata": {
    "scrolled": false
   },
   "outputs": [
    {
     "name": "stdout",
     "output_type": "stream",
     "text": [
      "Result: \t 卡南學                     \n"
     ]
    },
    {
     "data": {
      "image/png": "[encoded data removed]",
      "text/plain": [
       "<PIL.Image.Image image mode=RGB size=100x32 at 0x7F45F4597B50>"
      ]
     },
     "metadata": {},
     "output_type": "display_data"
    },
    {
     "name": "stdout",
     "output_type": "stream",
     "text": [
      "Result: \t 卡國斯國大學                  \n"
     ]
    },
    {
     "data": {
      "image/png": "[encoded data removed]",
      "text/plain": [
       "<PIL.Image.Image image mode=RGB size=100x32 at 0x7F613EC744C0>"
      ]
     },
     "metadata": {},
     "output_type": "display_data"
    },
    {
     "name": "stdout",
     "output_type": "stream",
     "text": [
      "Result: \t 三一大學                    \n"
     ]
    },
    {
     "data": {
      "image/png": "[encoded data removed]",
      "text/plain": [
       "<PIL.Image.Image image mode=RGB size=100x32 at 0x7F613EC1D490>"
      ]
     },
     "metadata": {},
     "output_type": "display_data"
    },
    {
     "name": "stdout",
     "output_type": "stream",
     "text": [
      "Result: \t 卡南爾山                    \n"
     ]
    },
    {
     "data": {
      "image/png": "[encoded data removed]",
      "text/plain": [
       "<PIL.Image.Image image mode=RGB size=100x32 at 0x7F613EC665B0>"
      ]
     },
     "metadata": {},
     "output_type": "display_data"
    },
    {
     "name": "stdout",
     "output_type": "stream",
     "text": [
      "Result: \t 卡國斯國斯爾事                 \n"
     ]
    },
    {
     "data": {
      "image/png": "[encoded data removed]",
      "text/plain": [
       "<PIL.Image.Image image mode=RGB size=100x32 at 0x7F613EC1D2B0>"
      ]
     },
     "metadata": {},
     "output_type": "display_data"
    },
    {
     "name": "stdout",
     "output_type": "stream",
     "text": [
      "Result: \t 南卡山                     \n"
     ]
    },
    {
     "data": {
      "image/png": "[encoded data removed]",
      "text/plain": [
       "<PIL.Image.Image image mode=RGB size=100x32 at 0x7F613EC324C0>"
      ]
     },
     "metadata": {},
     "output_type": "display_data"
    },
    {
     "name": "stdout",
     "output_type": "stream",
     "text": [
      "Result: \t 卡南爾                     \n"
     ]
    },
    {
     "data": {
      "image/png": "[encoded data removed]",
      "text/plain": [
       "<PIL.Image.Image image mode=RGB size=100x32 at 0x7F613EC41790>"
      ]
     },
     "metadata": {},
     "output_type": "display_data"
    },
    {
     "name": "stdout",
     "output_type": "stream",
     "text": [
      "Result: \t 南卡爾                     \n"
     ]
    },
    {
     "data": {
      "image/png": "[encoded data removed]",
      "text/plain": [
       "<PIL.Image.Image image mode=RGB size=100x32 at 0x7F613EC410D0>"
      ]
     },
     "metadata": {},
     "output_type": "display_data"
    },
    {
     "name": "stdout",
     "output_type": "stream",
     "text": [
      "Result: \t 卡三爾街                    \n"
     ]
    },
    {
     "data": {
      "image/png": "[encoded data removed]",
      "text/plain": [
       "<PIL.Image.Image image mode=RGB size=100x32 at 0x7F613EC084C0>"
      ]
     },
     "metadata": {},
     "output_type": "display_data"
    },
    {
     "name": "stdout",
     "output_type": "stream",
     "text": [
      "Result: \t 三一大學                    \n"
     ]
    },
    {
     "data": {
      "image/png": "[encoded data removed]",
      "text/plain": [
       "<PIL.Image.Image image mode=RGB size=100x32 at 0x7F613EC18D90>"
      ]
     },
     "metadata": {},
     "output_type": "display_data"
    }
   ],
   "source": [
    "check_inference(model_pred, test_set, index=10)"
   ]
  },
  {
   "cell_type": "code",
   "execution_count": null,
   "id": "a5a09a66",
   "metadata": {},
   "outputs": [],
   "source": []
  }
 ],
 "metadata": {
  "kernelspec": {
   "display_name": "Python 3 (ipykernel)",
   "language": "python",
   "name": "python3"
  },
  "language_info": {
   "codemirror_mode": {
    "name": "ipython",
    "version": 3
   },
   "file_extension": ".py",
   "mimetype": "text/x-python",
   "name": "python",
   "nbconvert_exporter": "python",
   "pygments_lexer": "ipython3",
   "version": "3.9.7"
  }
 },
 "nbformat": 4,
 "nbformat_minor": 5
}
