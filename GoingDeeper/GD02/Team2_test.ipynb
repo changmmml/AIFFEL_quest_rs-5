{
 "cells": [
  {
   "cell_type": "code",
   "execution_count": 1,
   "id": "cf39d120",
   "metadata": {
    "id": "393df693",
    "outputId": "d0293e08-77f7-49ac-a803-86ab74b185ea"
   },
   "outputs": [
    {
     "name": "stdout",
     "output_type": "stream",
     "text": [
      "2.6.0\n",
      "1.21.4\n"
     ]
    }
   ],
   "source": [
    "# TensorFlow and tf.keras\n",
    "import tensorflow as tf\n",
    "from tensorflow import keras\n",
    "\n",
    "# Helper libraries\n",
    "import numpy as np\n",
    "import matplotlib.pyplot as plt\n",
    "\n",
    "import tensorflow_datasets as tfds\n",
    "\n",
    "print(tf.__version__)\n",
    "print(np.__version__)"
   ]
  },
  {
   "cell_type": "code",
   "execution_count": 2,
   "id": "7717c15b",
   "metadata": {
    "id": "45c47ce2"
   },
   "outputs": [],
   "source": [
    "# Out Of Memory 문제 방지 (메모리 청소)\n",
    "\n",
    "tf.keras.backend.clear_session()"
   ]
  },
  {
   "cell_type": "code",
   "execution_count": 3,
   "id": "f1bb2bfe",
   "metadata": {
    "id": "dbf96836",
    "outputId": "13154681-684c-446b-80f6-912bdf2b8176"
   },
   "outputs": [
    {
     "data": {
      "text/plain": [
       "[PhysicalDevice(name='/physical_device:GPU:0', device_type='GPU')]"
      ]
     },
     "execution_count": 3,
     "metadata": {},
     "output_type": "execute_result"
    }
   ],
   "source": [
    "# Tensorflow가 활용할 GPU가 장착되어 있는지 확인\n",
    "tf.config.list_physical_devices('GPU')"
   ]
  },
  {
   "cell_type": "markdown",
   "id": "7d8d97d1",
   "metadata": {
    "id": "1dd5ad86"
   },
   "source": [
    "## 1. Augmentation 적용한 데이터셋 만들기"
   ]
  },
  {
   "cell_type": "code",
   "execution_count": 4,
   "id": "04cb0b74",
   "metadata": {
    "colab": {
     "referenced_widgets": [
      "39041d97e4f7473cabdb3622dcba0be7",
      "736bf015a1274c768a1e62ac0d8652b5",
      "4841af9dee11482899dbb6a7161c348e",
      "86b0a20e845a4b79849457536a4296e4",
      "86a3775da5174cc2acde16aa08739a59",
      ""
     ]
    },
    "id": "032f5714",
    "outputId": "c6fc3434-e9ad-4e21-f603-1f9e4ce50209"
   },
   "outputs": [],
   "source": [
    "from collections import Counter\n",
    "\n",
    "# Define a function to shuffle with a fixed seed\n",
    "def shuffle_with_seed(dataset, seed):\n",
    "    return dataset.shuffle(buffer_size=1000, seed=seed, reshuffle_each_iteration=False)\n",
    "\n",
    "# Load the dataset\n",
    "(ds_train, ds_test), ds_info = tfds.load(\n",
    "    'stanford_dogs',\n",
    "    split=['train', 'test'],\n",
    "    as_supervised=True,\n",
    "    shuffle_files=False,\n",
    "    with_info=True\n",
    ")\n",
    "\n",
    "# Apply the shuffle function with a fixed seed\n",
    "RANDOM_SEED = 42\n",
    "ds_train = shuffle_with_seed(ds_train, RANDOM_SEED)\n",
    "ds_test = shuffle_with_seed(ds_test, RANDOM_SEED)"
   ]
  },
  {
   "cell_type": "markdown",
   "id": "7542f960",
   "metadata": {
    "id": "b705233c"
   },
   "source": [
    "### mixup 구현하기"
   ]
  },
  {
   "cell_type": "code",
   "execution_count": 5,
   "id": "84e1ec25",
   "metadata": {
    "id": "29ce5ca1"
   },
   "outputs": [],
   "source": [
    "# num classes 변수 미리 지정\n",
    "num_classes = ds_info.features[\"label\"].num_classes"
   ]
  },
  {
   "cell_type": "code",
   "execution_count": 6,
   "id": "632c0a8c",
   "metadata": {
    "id": "5c3974b5"
   },
   "outputs": [],
   "source": [
    "# clip box 활용하여 2개의 이미지 섞기\n",
    "def mix_2_images(image_a, image_b, x_min, y_min, x_max, y_max):\n",
    "    # image.shape = (height, width, channel)\n",
    "    image_size_x = image_a.shape[1]\n",
    "    image_size_y = image_a.shape[0]\n",
    "\n",
    "    middle_left = image_a[y_min:y_max, 0:x_min, :] # image_b의 왼쪽 바깥 영역\n",
    "    middle_center = image_b[y_min:y_max, x_min:x_max, :]  # image_b의 안쪽 영역\n",
    "    middle_right = image_a[y_min:y_max, x_max:image_size_x, :] # image_b의 오른쪽 바깥 영역\n",
    "    middle = tf.concat([middle_left,middle_center,middle_right], axis=1)\n",
    "    top = image_a[0:y_min, :, :]\n",
    "    bottom = image_a[y_max:image_size_y, :, :]\n",
    "    mixed_img = tf.concat([top, middle, bottom],axis=0)\n",
    "\n",
    "    return mixed_img"
   ]
  },
  {
   "cell_type": "code",
   "execution_count": 7,
   "id": "9c018e93",
   "metadata": {
    "id": "d0274945"
   },
   "outputs": [],
   "source": [
    "# mix two labels\n",
    "def mix_2_labels(image_a, image_b, label_a, label_b, x_min, y_min, x_max, y_max, num_classes=num_classes):\n",
    "    # image.shape = (height, width, channel)\n",
    "    image_size_x = image_a.shape[1]\n",
    "    image_size_y = image_a.shape[0]\n",
    "\n",
    "    mixed_area = (x_max-x_min)*(y_max-y_min)\n",
    "    total_area = image_size_x*image_size_y\n",
    "    ratio = tf.cast(mixed_area/total_area, tf.float32)    # cutmix 비율 만큼 label mix\n",
    "\n",
    "    # 원핫 인코딩 처리하기\n",
    "    if len(label_a.shape)==0:\n",
    "        label_a = tf.one_hot(label_a, num_classes)\n",
    "    if len(label_b.shape)==0:\n",
    "        label_b = tf.one_hot(label_b, num_classes)\n",
    "    mixed_label = (1-ratio)*label_a + ratio*label_b\n",
    "\n",
    "    return mixed_label"
   ]
  },
  {
   "cell_type": "code",
   "execution_count": 8,
   "id": "20d9898d",
   "metadata": {
    "id": "48d31422"
   },
   "outputs": [],
   "source": [
    "# Cutmix 함수 구현\n",
    "\n",
    "def cutmix(images, labels, img_size=224, batch_size=16, num_classes=num_classes):\n",
    "    mixed_images = []\n",
    "    mixed_labels = []\n",
    "\n",
    "    for i in range(batch_size):\n",
    "        # 배치에서 각 이미지와 라벨 추출\n",
    "        image_a = images[i]\n",
    "        label_a = labels[i]\n",
    "\n",
    "        # 랜덤 인덱스 생성\n",
    "        j = tf.random.uniform([], 0, batch_size, dtype=tf.int32)\n",
    "        image_b = images[j]\n",
    "        label_b = labels[j]\n",
    "\n",
    "        # 클리핑 박스 계산\n",
    "        x_min, y_min, x_max, y_max = get_clip_box(image_a, image_b)\n",
    "\n",
    "        mixed_image = mix_2_images(image_a, image_b, x_min, y_min, x_max, y_max)\n",
    "        mixed_label = mix_2_labels(image_a, image_b, label_a, label_b, x_min, y_min, x_max, y_max)\n",
    "\n",
    "        # 이미지와 라벨 혼합, 결과 리스트에 추가\n",
    "        mixed_images.append(mixed_image)\n",
    "        mixed_labels.append(mixed_label)\n",
    "\n",
    "\n",
    "    # 배치 크기에 맞게 텐서로 변환\n",
    "    mixed_images = tf.reshape(tf.stack(mixed_images), (batch_size, img_size, img_size, 3))\n",
    "    mixed_labels = tf.reshape(tf.stack(mixed_labels), (batch_size, num_classes))\n",
    "\n",
    "    return mixed_images, mixed_labels"
   ]
  },
  {
   "cell_type": "code",
   "execution_count": 9,
   "id": "baf134a2",
   "metadata": {
    "id": "986cc469"
   },
   "outputs": [],
   "source": [
    "# function for mixup\n",
    "def mixup(image, label, img_size=224, batch_size=16, num_classes=num_classes):\n",
    "\n",
    "    ratio = tf.random.uniform([], 0, 1)\n",
    "\n",
    "    mixed_images = []\n",
    "    mixed_labels = []\n",
    "\n",
    "    for i in range(batch_size):\n",
    "        # 배치에서 각 이미지와 라벨 추출\n",
    "        image_a = image[i]\n",
    "        label_a = label[i]\n",
    "        # 랜덤 인덱스 생성\n",
    "        j = tf.cast(tf.random.uniform([],0, batch_size),tf.int32)\n",
    "        image_b = image[j]\n",
    "        label_b = label[j]\n",
    "\n",
    "        # 원핫 인코딩 처리하기\n",
    "        if len(label_a.shape)==0:\n",
    "            label_a = tf.one_hot(label_a, num_classes)\n",
    "        if len(label_b.shape)==0:\n",
    "            label_b = tf.one_hot(label_b, num_classes)\n",
    "\n",
    "        # 비율에 맞게 이미지와 라벨 혼합\n",
    "        mixed_image= (1-ratio)*image_a + ratio*image_b\n",
    "        mixed_label = (1-ratio)*label_a + ratio*label_b\n",
    "\n",
    "        # 결과 리스트에 추가\n",
    "        mixed_images.append(mixed_image)\n",
    "        mixed_labels.append(mixed_label)\n",
    "\n",
    "    # 배치 크기에 맞게 텐서로 변환\n",
    "    mixed_images = tf.reshape(tf.stack(mixed_images), (batch_size, img_size, img_size, 3))\n",
    "    mixed_labels = tf.reshape(tf.stack(mixed_labels), (batch_size, num_classes))\n",
    "\n",
    "\n",
    "    return mixed_images, mixed_labels"
   ]
  },
  {
   "cell_type": "code",
   "execution_count": 12,
   "id": "39b5fdcd",
   "metadata": {
    "id": "e5fd3f65"
   },
   "outputs": [],
   "source": [
    "def normalize_and_resize_img(image, label):\n",
    "    # Normalizes images: `uint8` -> `float32`\n",
    "    image = tf.image.resize(image, [224, 224])\n",
    "    return tf.cast(image, tf.float32) / 255., label\n",
    "\n",
    "def onehot(image, label):\n",
    "    label = tf.cast(label, tf.int32)\n",
    "    label = tf.one_hot(label, num_classes)\n",
    "    return image, label\n",
    "\n",
    "# 메인함수\n",
    "def apply_normalize_on_dataset(ds,is_test=False,batch_size=16, with_mixup=False):\n",
    "    ds = ds.map(\n",
    "        normalize_and_resize_img,\n",
    "        num_parallel_calls=tf.data.experimental.AUTOTUNE\n",
    "    )\n",
    "    ds = ds.batch(batch_size)\n",
    "    if not is_test and with_mixup:\n",
    "        ds = ds.map(\n",
    "            mixup,\n",
    "            num_parallel_calls=tf.data.experimental.AUTOTUNE\n",
    "        )\n",
    "    else:\n",
    "        ds = ds.map(\n",
    "            onehot,\n",
    "            num_parallel_calls=tf.data.experimental.AUTOTUNE\n",
    "        )\n",
    "    if not is_test:\n",
    "        ds = ds.repeat()\n",
    "    ds = ds.prefetch(tf.data.experimental.AUTOTUNE)\n",
    "    return ds"
   ]
  },
  {
   "cell_type": "code",
   "execution_count": 13,
   "id": "28eb70c2",
   "metadata": {
    "id": "505c2fda"
   },
   "outputs": [],
   "source": [
    "# augmentation 적용하기\n",
    "ds_train_mixup = apply_normalize_on_dataset(ds_train, with_mixup=True)\n",
    "ds_test = apply_normalize_on_dataset(ds_test, is_test=True)"
   ]
  },
  {
   "cell_type": "markdown",
   "id": "3981011f",
   "metadata": {
    "id": "e36c5f33"
   },
   "source": [
    "## 2. 모델 만들기"
   ]
  },
  {
   "cell_type": "code",
   "execution_count": 14,
   "id": "837a4e3e",
   "metadata": {
    "id": "e633cdd3"
   },
   "outputs": [],
   "source": [
    "# 4. Mixup 모델\n",
    "\n",
    "mixup_resnet50 = keras.models.Sequential([\n",
    "    keras.applications.resnet.ResNet50(\n",
    "        include_top=False,\n",
    "        weights='imagenet',\n",
    "        input_shape=(224,224,3),\n",
    "        pooling='avg',\n",
    "    ),\n",
    "    keras.layers.Dense(num_classes, activation='softmax')\n",
    "])"
   ]
  },
  {
   "cell_type": "markdown",
   "id": "38e7056e",
   "metadata": {
    "id": "cd4700f4"
   },
   "source": [
    "## 3. 모델 학습"
   ]
  },
  {
   "cell_type": "markdown",
   "id": "3fcff59d",
   "metadata": {
    "id": "3384a73d"
   },
   "source": [
    "일반 데이터셋 모델"
   ]
  },
  {
   "cell_type": "code",
   "execution_count": 15,
   "id": "9b51cf93",
   "metadata": {
    "id": "742bdc24"
   },
   "outputs": [],
   "source": [
    "EPOCH = 100"
   ]
  },
  {
   "cell_type": "markdown",
   "id": "49e0599f",
   "metadata": {
    "id": "3ee49c33"
   },
   "source": [
    "Mixup 데이터셋 모델"
   ]
  },
  {
   "cell_type": "code",
   "execution_count": null,
   "id": "269dee00",
   "metadata": {
    "id": "773b141d",
    "outputId": "0fde0c58-c746-4baa-989e-be92d77dc7aa",
    "scrolled": true
   },
   "outputs": [
    {
     "name": "stdout",
     "output_type": "stream",
     "text": [
      "Epoch 1/100\n",
      "750/750 [==============================] - 199s 211ms/step - loss: 3.6865 - accuracy: 0.2482 - val_loss: 3.6663 - val_accuracy: 0.1735\n",
      "\n",
      "Epoch 00001: val_loss improved from inf to 3.66626, saving model to history/mixup_resnet50.h5\n"
     ]
    },
    {
     "name": "stderr",
     "output_type": "stream",
     "text": [
      "/opt/conda/lib/python3.9/site-packages/keras/utils/generic_utils.py:494: CustomMaskWarning: Custom mask layers require a config and must override get_config. When loading, the custom mask layer must be passed to the custom_objects argument.\n",
      "  warnings.warn('Custom mask layers require a config and must override '\n"
     ]
    },
    {
     "name": "stdout",
     "output_type": "stream",
     "text": [
      "Epoch 2/100\n",
      "750/750 [==============================] - 158s 210ms/step - loss: 2.7991 - accuracy: 0.5138 - val_loss: 1.6673 - val_accuracy: 0.5479\n",
      "\n",
      "Epoch 00002: val_loss improved from 3.66626 to 1.66729, saving model to history/mixup_resnet50.h5\n",
      "Epoch 3/100\n",
      "750/750 [==============================] - 158s 210ms/step - loss: 2.4867 - accuracy: 0.6328 - val_loss: 1.4343 - val_accuracy: 0.6011\n",
      "\n",
      "Epoch 00003: val_loss improved from 1.66729 to 1.43433, saving model to history/mixup_resnet50.h5\n",
      "Epoch 4/100\n",
      "750/750 [==============================] - 157s 210ms/step - loss: 2.3579 - accuracy: 0.6911 - val_loss: 1.5431 - val_accuracy: 0.5813\n",
      "\n",
      "Epoch 00004: val_loss did not improve from 1.43433\n",
      "Epoch 5/100\n",
      "750/750 [==============================] - 158s 210ms/step - loss: 2.1824 - accuracy: 0.7458 - val_loss: 1.4314 - val_accuracy: 0.6129\n",
      "\n",
      "Epoch 00005: val_loss improved from 1.43433 to 1.43136, saving model to history/mixup_resnet50.h5\n",
      "Epoch 6/100\n",
      "750/750 [==============================] - 157s 210ms/step - loss: 2.1034 - accuracy: 0.7775 - val_loss: 1.2508 - val_accuracy: 0.6486\n",
      "\n",
      "Epoch 00006: val_loss improved from 1.43136 to 1.25075, saving model to history/mixup_resnet50.h5\n",
      "Epoch 7/100\n",
      "750/750 [==============================] - 157s 210ms/step - loss: 2.0024 - accuracy: 0.8079 - val_loss: 1.3081 - val_accuracy: 0.6568\n",
      "\n",
      "Epoch 00007: val_loss did not improve from 1.25075\n",
      "Epoch 8/100\n",
      "750/750 [==============================] - 157s 210ms/step - loss: 1.9735 - accuracy: 0.8194 - val_loss: 1.3840 - val_accuracy: 0.6437\n",
      "\n",
      "Epoch 00008: val_loss did not improve from 1.25075\n",
      "Epoch 9/100\n",
      "750/750 [==============================] - 157s 210ms/step - loss: 1.9394 - accuracy: 0.8288 - val_loss: 1.5467 - val_accuracy: 0.6044\n",
      "\n",
      "Epoch 00009: val_loss did not improve from 1.25075\n",
      "Epoch 10/100\n",
      "750/750 [==============================] - 157s 210ms/step - loss: 1.9081 - accuracy: 0.8322 - val_loss: 1.3925 - val_accuracy: 0.6370\n",
      "\n",
      "Epoch 00010: val_loss did not improve from 1.25075\n",
      "Epoch 11/100\n",
      "750/750 [==============================] - 157s 210ms/step - loss: 1.8119 - accuracy: 0.8656 - val_loss: 1.2536 - val_accuracy: 0.6732\n",
      "\n",
      "Epoch 00011: val_loss did not improve from 1.25075\n",
      "Epoch 12/100\n",
      "750/750 [==============================] - 157s 210ms/step - loss: 1.8165 - accuracy: 0.8576 - val_loss: 1.3006 - val_accuracy: 0.6637\n",
      "\n",
      "Epoch 00012: val_loss did not improve from 1.25075\n",
      "Epoch 13/100\n",
      "750/750 [==============================] - 157s 210ms/step - loss: 1.7796 - accuracy: 0.8674 - val_loss: 1.2750 - val_accuracy: 0.6813\n",
      "\n",
      "Epoch 00013: val_loss did not improve from 1.25075\n",
      "Epoch 14/100\n",
      "750/750 [==============================] - 157s 210ms/step - loss: 1.7893 - accuracy: 0.8636 - val_loss: 1.4228 - val_accuracy: 0.6470\n",
      "\n",
      "Epoch 00014: val_loss did not improve from 1.25075\n",
      "Epoch 15/100\n",
      "750/750 [==============================] - 157s 210ms/step - loss: 1.8021 - accuracy: 0.8524 - val_loss: 1.3223 - val_accuracy: 0.6650\n",
      "\n",
      "Epoch 00015: val_loss did not improve from 1.25075\n",
      "Epoch 16/100\n",
      "750/750 [==============================] - 171s 228ms/step - loss: 1.7493 - accuracy: 0.8659 - val_loss: 1.4745 - val_accuracy: 0.6356\n",
      "\n",
      "Epoch 00016: val_loss did not improve from 1.25075\n",
      "Epoch 17/100\n",
      "750/750 [==============================] - 158s 210ms/step - loss: 1.7034 - accuracy: 0.8704 - val_loss: 1.4393 - val_accuracy: 0.6392\n",
      "\n",
      "Epoch 00017: val_loss did not improve from 1.25075\n",
      "Epoch 18/100\n",
      "750/750 [==============================] - 157s 210ms/step - loss: 1.7067 - accuracy: 0.8814 - val_loss: 1.3850 - val_accuracy: 0.6574\n",
      "\n",
      "Epoch 00018: val_loss did not improve from 1.25075\n",
      "Epoch 19/100\n",
      "750/750 [==============================] - 157s 209ms/step - loss: 1.7078 - accuracy: 0.8748 - val_loss: 1.3720 - val_accuracy: 0.6610\n",
      "\n",
      "Epoch 00019: val_loss did not improve from 1.25075\n",
      "Epoch 20/100\n",
      "750/750 [==============================] - 157s 210ms/step - loss: 1.6961 - accuracy: 0.8742 - val_loss: 1.4248 - val_accuracy: 0.6503\n",
      "\n",
      "Epoch 00020: val_loss did not improve from 1.25075\n",
      "Epoch 21/100\n",
      "750/750 [==============================] - 157s 210ms/step - loss: 1.6536 - accuracy: 0.8895 - val_loss: 1.6060 - val_accuracy: 0.6200\n",
      "\n",
      "Epoch 00021: val_loss did not improve from 1.25075\n",
      "Epoch 22/100\n",
      "750/750 [==============================] - 157s 210ms/step - loss: 1.6597 - accuracy: 0.8837 - val_loss: 1.5410 - val_accuracy: 0.6288\n",
      "\n",
      "Epoch 00022: val_loss did not improve from 1.25075\n",
      "Epoch 23/100\n",
      "750/750 [==============================] - 157s 210ms/step - loss: 1.7090 - accuracy: 0.8745 - val_loss: 1.3221 - val_accuracy: 0.6734\n",
      "\n",
      "Epoch 00023: val_loss did not improve from 1.25075\n",
      "Epoch 24/100\n",
      "750/750 [==============================] - 157s 210ms/step - loss: 1.6171 - accuracy: 0.8864 - val_loss: 1.3516 - val_accuracy: 0.6714\n",
      "\n",
      "Epoch 00024: val_loss did not improve from 1.25075\n",
      "Epoch 25/100\n",
      "750/750 [==============================] - 157s 210ms/step - loss: 1.6779 - accuracy: 0.8777 - val_loss: 1.4977 - val_accuracy: 0.6379\n",
      "\n",
      "Epoch 00025: val_loss did not improve from 1.25075\n",
      "Epoch 26/100\n",
      "750/750 [==============================] - 157s 210ms/step - loss: 1.5943 - accuracy: 0.8866 - val_loss: 1.4056 - val_accuracy: 0.6590\n",
      "\n",
      "Epoch 00026: val_loss did not improve from 1.25075\n",
      "Epoch 27/100\n",
      "750/750 [==============================] - 157s 210ms/step - loss: 1.6122 - accuracy: 0.8903 - val_loss: 1.3531 - val_accuracy: 0.6804\n",
      "\n",
      "Epoch 00027: val_loss did not improve from 1.25075\n",
      "Epoch 28/100\n",
      "750/750 [==============================] - 157s 210ms/step - loss: 1.5934 - accuracy: 0.8932 - val_loss: 1.4035 - val_accuracy: 0.6706\n",
      "\n",
      "Epoch 00028: val_loss did not improve from 1.25075\n",
      "Epoch 29/100\n",
      "558/750 [=====================>........] - ETA: 33s - loss: 1.5697 - accuracy: 0.8977"
     ]
    }
   ],
   "source": [
    "mixup_resnet50.compile(\n",
    "    loss='categorical_crossentropy',\n",
    "    optimizer=tf.keras.optimizers.SGD(learning_rate=0.01),\n",
    "    metrics=['accuracy'],\n",
    ")\n",
    "\n",
    "callbacks=tf.keras.callbacks.ModelCheckpoint(\n",
    "    'history/mixup_resnet50.h5',\n",
    "    monitor='val_loss',\n",
    "    verbose=1,\n",
    "    save_best_only=True)\n",
    "\n",
    "history_resnet50_mixup100 = mixup_resnet50.fit(\n",
    "    ds_train_mixup, # mixup 적용한 데이터셋 사용\n",
    "    steps_per_epoch=int(ds_info.splits['train'].num_examples/16),\n",
    "    validation_steps=int(ds_info.splits['test'].num_examples/16),\n",
    "    epochs=EPOCH,\n",
    "    validation_data=ds_test,\n",
    "    callbacks=[callbacks],\n",
    "    verbose=1)"
   ]
  },
  {
   "cell_type": "markdown",
   "id": "06b87374",
   "metadata": {
    "id": "c10bb009"
   },
   "source": [
    "학습 후 히스토리 저장하기"
   ]
  },
  {
   "cell_type": "code",
   "execution_count": null,
   "id": "a5996bce",
   "metadata": {
    "id": "ee43d8a3"
   },
   "outputs": [],
   "source": [
    "import pandas as pd\n",
    "import json\n",
    "\n",
    "with open('history/history_resnet50_mixup100.json', 'w') as f:\n",
    "    pd.DataFrame(history_resnet50_mixup100.history).to_json(f)"
   ]
  },
  {
   "cell_type": "code",
   "execution_count": null,
   "id": "19cb4004",
   "metadata": {
    "id": "98e461fa"
   },
   "outputs": [],
   "source": [
    "def history_conv(history):\n",
    "    return_history = {'loss' : list(history['loss'].values()),\n",
    "                      'accuracy' : list(history['accuracy'].values()),\n",
    "                      'val_loss' : list(history['val_loss'].values()),\n",
    "                      'val_accuracy' : list(history['val_accuracy'].values())}\n",
    "\n",
    "    return return_history"
   ]
  },
  {
   "cell_type": "code",
   "execution_count": null,
   "id": "371aeb21",
   "metadata": {
    "id": "720d95c3",
    "scrolled": false
   },
   "outputs": [],
   "source": [
    "# 저장된 히스토리 불러오기\n",
    "import pandas as pd\n",
    "import json\n",
    "\n",
    "with open('history/history_resnet50_mixup.json', 'r') as f:\n",
    "    history_resnet50_mixup = json.load(f)\n",
    "\n",
    "history_resnet50_mixup = history_conv(history_resnet50_mixup)"
   ]
  },
  {
   "cell_type": "markdown",
   "id": "a9838b20",
   "metadata": {
    "id": "9f6456ec"
   },
   "source": [
    "## 4. 시각화 하기"
   ]
  },
  {
   "cell_type": "code",
   "execution_count": null,
   "id": "78c06c2e",
   "metadata": {
    "id": "e7f271ad",
    "outputId": "e72fb921-dd83-45ca-c4a4-6f8f2b254d06",
    "scrolled": false
   },
   "outputs": [
    {
     "data": {
      "image/png": "[encoded data removed]",
      "text/plain": [
       "<Figure size 432x288 with 1 Axes>"
      ]
     },
     "metadata": {
      "needs_background": "light"
     },
     "output_type": "display_data"
    }
   ],
   "source": [
    "import matplotlib.pyplot as plt\n",
    "\n",
    "plt.plot(history_resnet50_no_aug['val_accuracy'], 'r')\n",
    "plt.plot(history_resnet50_aug['val_accuracy'], 'b')\n",
    "plt.plot(history_resnet50_cutmix['val_accuracy'], 'g')\n",
    "plt.plot(history_resnet50_mixup['val_accuracy'], 'y')\n",
    "plt.title('Model validation accuracy')\n",
    "plt.ylabel('Accuracy')\n",
    "plt.xlabel('Epoch')\n",
    "plt.legend(['No Augmentation', 'With Augmentation','Cutmix', 'Mixup'], loc='best')\n",
    "plt.show()"
   ]
  },
  {
   "cell_type": "code",
   "execution_count": null,
   "id": "69f903bf",
   "metadata": {
    "id": "f031ade7",
    "outputId": "81fa27ee-3c86-433c-cd0c-2fc7790b5c19"
   },
   "outputs": [
    {
     "data": {
      "image/png": "[encoded data removed]",
      "text/plain": [
       "<Figure size 432x288 with 1 Axes>"
      ]
     },
     "metadata": {
      "needs_background": "light"
     },
     "output_type": "display_data"
    }
   ],
   "source": [
    "# 확대해보기\n",
    "plt.plot(history_resnet50_no_aug['val_accuracy'], 'r')\n",
    "plt.plot(history_resnet50_aug['val_accuracy'], 'b')\n",
    "plt.plot(history_resnet50_cutmix['val_accuracy'], 'g')\n",
    "plt.plot(history_resnet50_mixup['val_accuracy'], 'y')\n",
    "plt.title('Model validation accuracy')\n",
    "plt.ylabel('Accuracy')\n",
    "plt.xlabel('Epoch')\n",
    "plt.legend(['No Augmentation', 'With Augmentation','Cutmix', 'Mixup'], loc='best')\n",
    "plt.grid(True)\n",
    "# plt.ylim(0.50, 0.80)    # 출력하고자 하는  Accuracy 범위를 지정해 주세요.\n",
    "plt.ylim(0.62, 0.76)  # EPOCH=20으로 진행한다면 이 범위가 적당합니다.\n",
    "plt.show()"
   ]
  },
  {
   "cell_type": "markdown",
   "id": "90f7911f",
   "metadata": {
    "id": "eeb49a94"
   },
   "source": [
    "## + 추가실험  "
   ]
  },
  {
   "cell_type": "code",
   "execution_count": null,
   "id": "b3ba69ac",
   "metadata": {
    "id": "8d525627"
   },
   "outputs": [],
   "source": []
  }
 ],
 "metadata": {
  "colab": {
   "provenance": []
  },
  "kernelspec": {
   "display_name": "Python 3 (ipykernel)",
   "language": "python",
   "name": "python3"
  },
  "language_info": {
   "codemirror_mode": {
    "name": "ipython",
    "version": 3
   },
   "file_extension": ".py",
   "mimetype": "text/x-python",
   "name": "python",
   "nbconvert_exporter": "python",
   "pygments_lexer": "ipython3",
   "version": "3.9.7"
  }
 },
 "nbformat": 4,
 "nbformat_minor": 5
}
