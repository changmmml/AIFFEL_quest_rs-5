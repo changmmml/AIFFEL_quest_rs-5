{
 "cells": [
  {
   "cell_type": "code",
   "execution_count": 30,
   "id": "b13060cc",
   "metadata": {
    "id": "393df693",
    "outputId": "d0293e08-77f7-49ac-a803-86ab74b185ea"
   },
   "outputs": [
    {
     "name": "stdout",
     "output_type": "stream",
     "text": [
      "2.6.0\n",
      "1.21.4\n"
     ]
    }
   ],
   "source": [
    "# TensorFlow and tf.keras\n",
    "import tensorflow as tf\n",
    "from tensorflow import keras\n",
    "\n",
    "# Helper libraries\n",
    "import numpy as np\n",
    "import matplotlib.pyplot as plt\n",
    "\n",
    "import tensorflow_datasets as tfds\n",
    "\n",
    "print(tf.__version__)\n",
    "print(np.__version__)"
   ]
  },
  {
   "cell_type": "code",
   "execution_count": 2,
   "id": "10df6569",
   "metadata": {
    "id": "45c47ce2"
   },
   "outputs": [],
   "source": [
    "# Out Of Memory 문제 방지 (메모리 청소)\n",
    "\n",
    "tf.keras.backend.clear_session()"
   ]
  },
  {
   "cell_type": "code",
   "execution_count": 3,
   "id": "52dcd7fc",
   "metadata": {
    "id": "dbf96836",
    "outputId": "13154681-684c-446b-80f6-912bdf2b8176"
   },
   "outputs": [
    {
     "data": {
      "text/plain": [
       "[PhysicalDevice(name='/physical_device:GPU:0', device_type='GPU')]"
      ]
     },
     "execution_count": 3,
     "metadata": {},
     "output_type": "execute_result"
    }
   ],
   "source": [
    "# Tensorflow가 활용할 GPU가 장착되어 있는지 확인\n",
    "tf.config.list_physical_devices('GPU')"
   ]
  },
  {
   "cell_type": "markdown",
   "id": "434da543",
   "metadata": {
    "id": "1dd5ad86"
   },
   "source": [
    "## 1. Augmentation 적용한 데이터셋 만들기"
   ]
  },
  {
   "cell_type": "code",
   "execution_count": 7,
   "id": "d8f29c58",
   "metadata": {
    "colab": {
     "referenced_widgets": [
      "39041d97e4f7473cabdb3622dcba0be7",
      "736bf015a1274c768a1e62ac0d8652b5",
      "4841af9dee11482899dbb6a7161c348e",
      "86b0a20e845a4b79849457536a4296e4",
      "86a3775da5174cc2acde16aa08739a59",
      ""
     ]
    },
    "id": "032f5714",
    "outputId": "c6fc3434-e9ad-4e21-f603-1f9e4ce50209"
   },
   "outputs": [
    {
     "name": "stdout",
     "output_type": "stream",
     "text": [
      "\u001b[1mDownloading and preparing dataset 778.12 MiB (download: 778.12 MiB, generated: Unknown size, total: 778.12 MiB) to /aiffel/tensorflow_datasets/stanford_dogs/0.2.0...\u001b[0m\n"
     ]
    },
    {
     "data": {
      "application/vnd.jupyter.widget-view+json": {
       "model_id": "a55987ec01474091819cc4d90f187e65",
       "version_major": 2,
       "version_minor": 0
      },
      "text/plain": [
       "Dl Completed...: 0 url [00:00, ? url/s]"
      ]
     },
     "metadata": {},
     "output_type": "display_data"
    },
    {
     "data": {
      "application/vnd.jupyter.widget-view+json": {
       "model_id": "a494bcc442d64d0d86125e55138bcac8",
       "version_major": 2,
       "version_minor": 0
      },
      "text/plain": [
       "Dl Size...: 0 MiB [00:00, ? MiB/s]"
      ]
     },
     "metadata": {},
     "output_type": "display_data"
    },
    {
     "data": {
      "application/vnd.jupyter.widget-view+json": {
       "model_id": "864220c93b7a4161ba522a6cc2860a72",
       "version_major": 2,
       "version_minor": 0
      },
      "text/plain": [
       "Dl Completed...: 0 url [00:00, ? url/s]"
      ]
     },
     "metadata": {},
     "output_type": "display_data"
    },
    {
     "data": {
      "application/vnd.jupyter.widget-view+json": {
       "model_id": "8bd51a59af0e42b78130694a5f11237f",
       "version_major": 2,
       "version_minor": 0
      },
      "text/plain": [
       "Dl Size...: 0 MiB [00:00, ? MiB/s]"
      ]
     },
     "metadata": {},
     "output_type": "display_data"
    },
    {
     "data": {
      "application/vnd.jupyter.widget-view+json": {
       "model_id": "8995ad0de67848378c46baa39298f168",
       "version_major": 2,
       "version_minor": 0
      },
      "text/plain": [
       "Extraction completed...: 0 file [00:00, ? file/s]"
      ]
     },
     "metadata": {},
     "output_type": "display_data"
    },
    {
     "data": {
      "application/vnd.jupyter.widget-view+json": {
       "model_id": "",
       "version_major": 2,
       "version_minor": 0
      },
      "text/plain": [
       "Generating splits...:   0%|          | 0/2 [00:00<?, ? splits/s]"
      ]
     },
     "metadata": {},
     "output_type": "display_data"
    },
    {
     "data": {
      "application/vnd.jupyter.widget-view+json": {
       "model_id": "",
       "version_major": 2,
       "version_minor": 0
      },
      "text/plain": [
       "Generating train examples...:   0%|          | 0/12000 [00:00<?, ? examples/s]"
      ]
     },
     "metadata": {},
     "output_type": "display_data"
    },
    {
     "data": {
      "application/vnd.jupyter.widget-view+json": {
       "model_id": "",
       "version_major": 2,
       "version_minor": 0
      },
      "text/plain": [
       "Shuffling stanford_dogs-train.tfrecord...:   0%|          | 0/12000 [00:00<?, ? examples/s]"
      ]
     },
     "metadata": {},
     "output_type": "display_data"
    },
    {
     "data": {
      "application/vnd.jupyter.widget-view+json": {
       "model_id": "",
       "version_major": 2,
       "version_minor": 0
      },
      "text/plain": [
       "Generating test examples...:   0%|          | 0/8580 [00:00<?, ? examples/s]"
      ]
     },
     "metadata": {},
     "output_type": "display_data"
    },
    {
     "data": {
      "application/vnd.jupyter.widget-view+json": {
       "model_id": "",
       "version_major": 2,
       "version_minor": 0
      },
      "text/plain": [
       "Shuffling stanford_dogs-test.tfrecord...:   0%|          | 0/8580 [00:00<?, ? examples/s]"
      ]
     },
     "metadata": {},
     "output_type": "display_data"
    },
    {
     "name": "stdout",
     "output_type": "stream",
     "text": [
      "\u001b[1mDataset stanford_dogs downloaded and prepared to /aiffel/tensorflow_datasets/stanford_dogs/0.2.0. Subsequent calls will reuse this data.\u001b[0m\n"
     ]
    }
   ],
   "source": [
    "from collections import Counter\n",
    "\n",
    "# Define a function to shuffle with a fixed seed\n",
    "def shuffle_with_seed(dataset, seed):\n",
    "    return dataset.shuffle(buffer_size=1000, seed=seed, reshuffle_each_iteration=False)\n",
    "\n",
    "# Load the dataset\n",
    "(ds_train, ds_test), ds_info = tfds.load(\n",
    "    'stanford_dogs',\n",
    "    split=['train', 'test'],\n",
    "    as_supervised=True,\n",
    "    shuffle_files=False,\n",
    "    with_info=True\n",
    ")\n",
    "\n",
    "# Apply the shuffle function with a fixed seed\n",
    "RANDOM_SEED = 42\n",
    "ds_train = shuffle_with_seed(ds_train, RANDOM_SEED)\n",
    "ds_test = shuffle_with_seed(ds_test, RANDOM_SEED)"
   ]
  },
  {
   "cell_type": "markdown",
   "id": "53fc2648",
   "metadata": {
    "id": "b705233c"
   },
   "source": [
    "### mixup 구현하기"
   ]
  },
  {
   "cell_type": "code",
   "execution_count": 8,
   "id": "2deecfd2",
   "metadata": {
    "id": "29ce5ca1"
   },
   "outputs": [],
   "source": [
    "# num classes 변수 미리 지정\n",
    "num_classes = ds_info.features[\"label\"].num_classes"
   ]
  },
  {
   "cell_type": "code",
   "execution_count": 9,
   "id": "478f43a4",
   "metadata": {
    "id": "5c3974b5"
   },
   "outputs": [],
   "source": [
    "# clip box 활용하여 2개의 이미지 섞기\n",
    "def mix_2_images(image_a, image_b, x_min, y_min, x_max, y_max):\n",
    "    # image.shape = (height, width, channel)\n",
    "    image_size_x = image_a.shape[1]\n",
    "    image_size_y = image_a.shape[0]\n",
    "\n",
    "    middle_left = image_a[y_min:y_max, 0:x_min, :] # image_b의 왼쪽 바깥 영역\n",
    "    middle_center = image_b[y_min:y_max, x_min:x_max, :]  # image_b의 안쪽 영역\n",
    "    middle_right = image_a[y_min:y_max, x_max:image_size_x, :] # image_b의 오른쪽 바깥 영역\n",
    "    middle = tf.concat([middle_left,middle_center,middle_right], axis=1)\n",
    "    top = image_a[0:y_min, :, :]\n",
    "    bottom = image_a[y_max:image_size_y, :, :]\n",
    "    mixed_img = tf.concat([top, middle, bottom],axis=0)\n",
    "\n",
    "    return mixed_img"
   ]
  },
  {
   "cell_type": "code",
   "execution_count": 10,
   "id": "c57048e5",
   "metadata": {
    "id": "d0274945"
   },
   "outputs": [],
   "source": [
    "# mix two labels\n",
    "def mix_2_labels(image_a, image_b, label_a, label_b, x_min, y_min, x_max, y_max, num_classes=num_classes):\n",
    "    # image.shape = (height, width, channel)\n",
    "    image_size_x = image_a.shape[1]\n",
    "    image_size_y = image_a.shape[0]\n",
    "\n",
    "    mixed_area = (x_max-x_min)*(y_max-y_min)\n",
    "    total_area = image_size_x*image_size_y\n",
    "    ratio = tf.cast(mixed_area/total_area, tf.float32)    # cutmix 비율 만큼 label mix\n",
    "\n",
    "    # 원핫 인코딩 처리하기\n",
    "    if len(label_a.shape)==0:\n",
    "        label_a = tf.one_hot(label_a, num_classes)\n",
    "    if len(label_b.shape)==0:\n",
    "        label_b = tf.one_hot(label_b, num_classes)\n",
    "    mixed_label = (1-ratio)*label_a + ratio*label_b\n",
    "\n",
    "    return mixed_label"
   ]
  },
  {
   "cell_type": "code",
   "execution_count": 11,
   "id": "e5dee1b9",
   "metadata": {
    "id": "48d31422"
   },
   "outputs": [],
   "source": [
    "# Cutmix 함수 구현\n",
    "\n",
    "def cutmix(images, labels, img_size=224, batch_size=16, num_classes=num_classes):\n",
    "    mixed_images = []\n",
    "    mixed_labels = []\n",
    "\n",
    "    for i in range(batch_size):\n",
    "        # 배치에서 각 이미지와 라벨 추출\n",
    "        image_a = images[i]\n",
    "        label_a = labels[i]\n",
    "\n",
    "        # 랜덤 인덱스 생성\n",
    "        j = tf.random.uniform([], 0, batch_size, dtype=tf.int32)\n",
    "        image_b = images[j]\n",
    "        label_b = labels[j]\n",
    "\n",
    "        # 클리핑 박스 계산\n",
    "        x_min, y_min, x_max, y_max = get_clip_box(image_a, image_b)\n",
    "\n",
    "        mixed_image = mix_2_images(image_a, image_b, x_min, y_min, x_max, y_max)\n",
    "        mixed_label = mix_2_labels(image_a, image_b, label_a, label_b, x_min, y_min, x_max, y_max)\n",
    "\n",
    "        # 이미지와 라벨 혼합, 결과 리스트에 추가\n",
    "        mixed_images.append(mixed_image)\n",
    "        mixed_labels.append(mixed_label)\n",
    "\n",
    "\n",
    "    # 배치 크기에 맞게 텐서로 변환\n",
    "    mixed_images = tf.reshape(tf.stack(mixed_images), (batch_size, img_size, img_size, 3))\n",
    "    mixed_labels = tf.reshape(tf.stack(mixed_labels), (batch_size, num_classes))\n",
    "\n",
    "    return mixed_images, mixed_labels"
   ]
  },
  {
   "cell_type": "code",
   "execution_count": 12,
   "id": "2a623019",
   "metadata": {
    "id": "986cc469"
   },
   "outputs": [],
   "source": [
    "# function for mixup\n",
    "def mixup(image, label, img_size=224, batch_size=16, num_classes=num_classes):\n",
    "\n",
    "    ratio = tf.random.uniform([], 0, 1)\n",
    "\n",
    "    mixed_images = []\n",
    "    mixed_labels = []\n",
    "\n",
    "    for i in range(batch_size):\n",
    "        # 배치에서 각 이미지와 라벨 추출\n",
    "        image_a = image[i]\n",
    "        label_a = label[i]\n",
    "        # 랜덤 인덱스 생성\n",
    "        j = tf.cast(tf.random.uniform([],0, batch_size),tf.int32)\n",
    "        image_b = image[j]\n",
    "        label_b = label[j]\n",
    "\n",
    "        # 원핫 인코딩 처리하기\n",
    "        if len(label_a.shape)==0:\n",
    "            label_a = tf.one_hot(label_a, num_classes)\n",
    "        if len(label_b.shape)==0:\n",
    "            label_b = tf.one_hot(label_b, num_classes)\n",
    "\n",
    "        # 비율에 맞게 이미지와 라벨 혼합\n",
    "        mixed_image= (1-ratio)*image_a + ratio*image_b\n",
    "        mixed_label = (1-ratio)*label_a + ratio*label_b\n",
    "\n",
    "        # 결과 리스트에 추가\n",
    "        mixed_images.append(mixed_image)\n",
    "        mixed_labels.append(mixed_label)\n",
    "\n",
    "    # 배치 크기에 맞게 텐서로 변환\n",
    "    mixed_images = tf.reshape(tf.stack(mixed_images), (batch_size, img_size, img_size, 3))\n",
    "    mixed_labels = tf.reshape(tf.stack(mixed_labels), (batch_size, num_classes))\n",
    "\n",
    "\n",
    "    return mixed_images, mixed_labels"
   ]
  },
  {
   "cell_type": "code",
   "execution_count": 22,
   "id": "94f3feec",
   "metadata": {
    "id": "e5fd3f65"
   },
   "outputs": [],
   "source": [
    "def normalize_and_resize_img(image, label):\n",
    "    # Normalizes images: `uint8` -> `float32`\n",
    "    image = tf.image.resize(image, [224, 224])\n",
    "    return tf.cast(image, tf.float32) / 255., label\n",
    "\n",
    "def onehot(image, label):\n",
    "    label = tf.cast(label, tf.int32)\n",
    "    label = tf.one_hot(label, num_classes)\n",
    "    return image, label\n",
    "\n",
    "# 메인함수\n",
    "def apply_normalize_on_dataset(ds,is_test=False,batch_size=16, with_mixup=False):\n",
    "    ds = ds.map(\n",
    "        normalize_and_resize_img,\n",
    "        num_parallel_calls=2\n",
    "    )\n",
    "    ds = ds.batch(batch_size)\n",
    "    if not is_test and with_mixup:\n",
    "        ds = ds.map(\n",
    "            mixup,\n",
    "            num_parallel_calls=2\n",
    "        )\n",
    "    else:\n",
    "        ds = ds.map(\n",
    "            onehot,\n",
    "            num_parallel_calls=2\n",
    "        )\n",
    "    if not is_test:\n",
    "        ds = ds.repeat()\n",
    "    ds = ds.prefetch(tf.data.experimental.AUTOTUNE)\n",
    "    return ds"
   ]
  },
  {
   "cell_type": "code",
   "execution_count": 14,
   "id": "daca61ee",
   "metadata": {
    "id": "505c2fda"
   },
   "outputs": [],
   "source": [
    "# augmentation 적용하기\n",
    "ds_train_mixup = apply_normalize_on_dataset(ds_train, with_mixup=True)\n",
    "ds_test = apply_normalize_on_dataset(ds_test, is_test=True)"
   ]
  },
  {
   "cell_type": "markdown",
   "id": "2bf95e3f",
   "metadata": {
    "id": "e36c5f33"
   },
   "source": [
    "## 2. 모델 만들기"
   ]
  },
  {
   "cell_type": "code",
   "execution_count": 15,
   "id": "702fedc9",
   "metadata": {
    "id": "e633cdd3"
   },
   "outputs": [],
   "source": [
    "# 4. Mixup 모델\n",
    "\n",
    "mixup_resnet50 = keras.models.Sequential([\n",
    "    keras.applications.resnet.ResNet50(\n",
    "        include_top=False,\n",
    "        weights='imagenet',\n",
    "        input_shape=(224,224,3),\n",
    "        pooling='avg',\n",
    "    ),\n",
    "    keras.layers.Dense(num_classes, activation='softmax')\n",
    "])"
   ]
  },
  {
   "cell_type": "markdown",
   "id": "8da611a9",
   "metadata": {
    "id": "cd4700f4"
   },
   "source": [
    "## 3. 모델 학습"
   ]
  },
  {
   "cell_type": "markdown",
   "id": "34926989",
   "metadata": {
    "id": "3384a73d"
   },
   "source": [
    "일반 데이터셋 모델"
   ]
  },
  {
   "cell_type": "code",
   "execution_count": 15,
   "id": "b9e997b3",
   "metadata": {
    "id": "742bdc24"
   },
   "outputs": [],
   "source": [
    "EPOCH = 100"
   ]
  },
  {
   "cell_type": "markdown",
   "id": "7bcd7971",
   "metadata": {
    "id": "3ee49c33"
   },
   "source": [
    "Mixup 데이터셋 모델"
   ]
  },
  {
   "cell_type": "code",
   "execution_count": 16,
   "id": "eeef90f2",
   "metadata": {
    "id": "773b141d",
    "outputId": "0fde0c58-c746-4baa-989e-be92d77dc7aa",
    "scrolled": true
   },
   "outputs": [
    {
     "name": "stdout",
     "output_type": "stream",
     "text": [
      "Epoch 1/100\n",
      "750/750 [==============================] - 199s 211ms/step - loss: 3.6865 - accuracy: 0.2482 - val_loss: 3.6663 - val_accuracy: 0.1735\n",
      "\n",
      "Epoch 00001: val_loss improved from inf to 3.66626, saving model to history/mixup_resnet50.h5\n"
     ]
    },
    {
     "name": "stderr",
     "output_type": "stream",
     "text": [
      "/opt/conda/lib/python3.9/site-packages/keras/utils/generic_utils.py:494: CustomMaskWarning: Custom mask layers require a config and must override get_config. When loading, the custom mask layer must be passed to the custom_objects argument.\n",
      "  warnings.warn('Custom mask layers require a config and must override '\n"
     ]
    },
    {
     "name": "stdout",
     "output_type": "stream",
     "text": [
      "Epoch 2/100\n",
      "750/750 [==============================] - 158s 210ms/step - loss: 2.7991 - accuracy: 0.5138 - val_loss: 1.6673 - val_accuracy: 0.5479\n",
      "\n",
      "Epoch 00002: val_loss improved from 3.66626 to 1.66729, saving model to history/mixup_resnet50.h5\n",
      "Epoch 3/100\n",
      "750/750 [==============================] - 158s 210ms/step - loss: 2.4867 - accuracy: 0.6328 - val_loss: 1.4343 - val_accuracy: 0.6011\n",
      "\n",
      "Epoch 00003: val_loss improved from 1.66729 to 1.43433, saving model to history/mixup_resnet50.h5\n",
      "Epoch 4/100\n",
      "750/750 [==============================] - 157s 210ms/step - loss: 2.3579 - accuracy: 0.6911 - val_loss: 1.5431 - val_accuracy: 0.5813\n",
      "\n",
      "Epoch 00004: val_loss did not improve from 1.43433\n",
      "Epoch 5/100\n",
      "750/750 [==============================] - 158s 210ms/step - loss: 2.1824 - accuracy: 0.7458 - val_loss: 1.4314 - val_accuracy: 0.6129\n",
      "\n",
      "Epoch 00005: val_loss improved from 1.43433 to 1.43136, saving model to history/mixup_resnet50.h5\n",
      "Epoch 6/100\n",
      "750/750 [==============================] - 157s 210ms/step - loss: 2.1034 - accuracy: 0.7775 - val_loss: 1.2508 - val_accuracy: 0.6486\n",
      "\n",
      "Epoch 00006: val_loss improved from 1.43136 to 1.25075, saving model to history/mixup_resnet50.h5\n",
      "Epoch 7/100\n",
      "750/750 [==============================] - 157s 210ms/step - loss: 2.0024 - accuracy: 0.8079 - val_loss: 1.3081 - val_accuracy: 0.6568\n",
      "\n",
      "Epoch 00007: val_loss did not improve from 1.25075\n",
      "Epoch 8/100\n",
      "750/750 [==============================] - 157s 210ms/step - loss: 1.9735 - accuracy: 0.8194 - val_loss: 1.3840 - val_accuracy: 0.6437\n",
      "\n",
      "Epoch 00008: val_loss did not improve from 1.25075\n",
      "Epoch 9/100\n",
      "750/750 [==============================] - 157s 210ms/step - loss: 1.9394 - accuracy: 0.8288 - val_loss: 1.5467 - val_accuracy: 0.6044\n",
      "\n",
      "Epoch 00009: val_loss did not improve from 1.25075\n",
      "Epoch 10/100\n",
      "750/750 [==============================] - 157s 210ms/step - loss: 1.9081 - accuracy: 0.8322 - val_loss: 1.3925 - val_accuracy: 0.6370\n",
      "\n",
      "Epoch 00010: val_loss did not improve from 1.25075\n",
      "Epoch 11/100\n",
      "750/750 [==============================] - 157s 210ms/step - loss: 1.8119 - accuracy: 0.8656 - val_loss: 1.2536 - val_accuracy: 0.6732\n",
      "\n",
      "Epoch 00011: val_loss did not improve from 1.25075\n",
      "Epoch 12/100\n",
      "750/750 [==============================] - 157s 210ms/step - loss: 1.8165 - accuracy: 0.8576 - val_loss: 1.3006 - val_accuracy: 0.6637\n",
      "\n",
      "Epoch 00012: val_loss did not improve from 1.25075\n",
      "Epoch 13/100\n",
      "750/750 [==============================] - 157s 210ms/step - loss: 1.7796 - accuracy: 0.8674 - val_loss: 1.2750 - val_accuracy: 0.6813\n",
      "\n",
      "Epoch 00013: val_loss did not improve from 1.25075\n",
      "Epoch 14/100\n",
      "750/750 [==============================] - 157s 210ms/step - loss: 1.7893 - accuracy: 0.8636 - val_loss: 1.4228 - val_accuracy: 0.6470\n",
      "\n",
      "Epoch 00014: val_loss did not improve from 1.25075\n",
      "Epoch 15/100\n",
      "750/750 [==============================] - 157s 210ms/step - loss: 1.8021 - accuracy: 0.8524 - val_loss: 1.3223 - val_accuracy: 0.6650\n",
      "\n",
      "Epoch 00015: val_loss did not improve from 1.25075\n",
      "Epoch 16/100\n",
      "750/750 [==============================] - 171s 228ms/step - loss: 1.7493 - accuracy: 0.8659 - val_loss: 1.4745 - val_accuracy: 0.6356\n",
      "\n",
      "Epoch 00016: val_loss did not improve from 1.25075\n",
      "Epoch 17/100\n",
      "750/750 [==============================] - 158s 210ms/step - loss: 1.7034 - accuracy: 0.8704 - val_loss: 1.4393 - val_accuracy: 0.6392\n",
      "\n",
      "Epoch 00017: val_loss did not improve from 1.25075\n",
      "Epoch 18/100\n",
      "750/750 [==============================] - 157s 210ms/step - loss: 1.7067 - accuracy: 0.8814 - val_loss: 1.3850 - val_accuracy: 0.6574\n",
      "\n",
      "Epoch 00018: val_loss did not improve from 1.25075\n",
      "Epoch 19/100\n",
      "750/750 [==============================] - 157s 209ms/step - loss: 1.7078 - accuracy: 0.8748 - val_loss: 1.3720 - val_accuracy: 0.6610\n",
      "\n",
      "Epoch 00019: val_loss did not improve from 1.25075\n",
      "Epoch 20/100\n",
      "750/750 [==============================] - 157s 210ms/step - loss: 1.6961 - accuracy: 0.8742 - val_loss: 1.4248 - val_accuracy: 0.6503\n",
      "\n",
      "Epoch 00020: val_loss did not improve from 1.25075\n",
      "Epoch 21/100\n",
      "750/750 [==============================] - 157s 210ms/step - loss: 1.6536 - accuracy: 0.8895 - val_loss: 1.6060 - val_accuracy: 0.6200\n",
      "\n",
      "Epoch 00021: val_loss did not improve from 1.25075\n",
      "Epoch 22/100\n",
      "750/750 [==============================] - 157s 210ms/step - loss: 1.6597 - accuracy: 0.8837 - val_loss: 1.5410 - val_accuracy: 0.6288\n",
      "\n",
      "Epoch 00022: val_loss did not improve from 1.25075\n",
      "Epoch 23/100\n",
      "750/750 [==============================] - 157s 210ms/step - loss: 1.7090 - accuracy: 0.8745 - val_loss: 1.3221 - val_accuracy: 0.6734\n",
      "\n",
      "Epoch 00023: val_loss did not improve from 1.25075\n",
      "Epoch 24/100\n",
      "750/750 [==============================] - 157s 210ms/step - loss: 1.6171 - accuracy: 0.8864 - val_loss: 1.3516 - val_accuracy: 0.6714\n",
      "\n",
      "Epoch 00024: val_loss did not improve from 1.25075\n",
      "Epoch 25/100\n",
      "750/750 [==============================] - 157s 210ms/step - loss: 1.6779 - accuracy: 0.8777 - val_loss: 1.4977 - val_accuracy: 0.6379\n",
      "\n",
      "Epoch 00025: val_loss did not improve from 1.25075\n",
      "Epoch 26/100\n",
      "750/750 [==============================] - 157s 210ms/step - loss: 1.5943 - accuracy: 0.8866 - val_loss: 1.4056 - val_accuracy: 0.6590\n",
      "\n",
      "Epoch 00026: val_loss did not improve from 1.25075\n",
      "Epoch 27/100\n",
      "750/750 [==============================] - 157s 210ms/step - loss: 1.6122 - accuracy: 0.8903 - val_loss: 1.3531 - val_accuracy: 0.6804\n",
      "\n",
      "Epoch 00027: val_loss did not improve from 1.25075\n",
      "Epoch 28/100\n",
      "750/750 [==============================] - 157s 210ms/step - loss: 1.5934 - accuracy: 0.8932 - val_loss: 1.4035 - val_accuracy: 0.6706\n",
      "\n",
      "Epoch 00028: val_loss did not improve from 1.25075\n",
      "Epoch 29/100\n",
      "750/750 [==============================] - 157s 210ms/step - loss: 1.5563 - accuracy: 0.9069 - val_loss: 1.4175 - val_accuracy: 0.6594\n",
      "\n",
      "Epoch 00029: val_loss did not improve from 1.25075\n",
      "Epoch 30/100\n",
      "750/750 [==============================] - 157s 210ms/step - loss: 1.5477 - accuracy: 0.9016 - val_loss: 1.4000 - val_accuracy: 0.6812\n",
      "\n",
      "Epoch 00030: val_loss did not improve from 1.25075\n",
      "Epoch 31/100\n",
      "750/750 [==============================] - 157s 210ms/step - loss: 1.5446 - accuracy: 0.8954 - val_loss: 1.4490 - val_accuracy: 0.6600\n",
      "\n",
      "Epoch 00031: val_loss did not improve from 1.25075\n",
      "Epoch 32/100\n",
      "750/750 [==============================] - 157s 210ms/step - loss: 1.5636 - accuracy: 0.8916 - val_loss: 1.4343 - val_accuracy: 0.6673\n",
      "\n",
      "Epoch 00032: val_loss did not improve from 1.25075\n",
      "Epoch 33/100\n",
      "750/750 [==============================] - 157s 210ms/step - loss: 1.5605 - accuracy: 0.8904 - val_loss: 1.5163 - val_accuracy: 0.6487\n",
      "\n",
      "Epoch 00033: val_loss did not improve from 1.25075\n",
      "Epoch 34/100\n",
      "750/750 [==============================] - 157s 210ms/step - loss: 1.5374 - accuracy: 0.8903 - val_loss: 1.3967 - val_accuracy: 0.6744\n",
      "\n",
      "Epoch 00034: val_loss did not improve from 1.25075\n",
      "Epoch 35/100\n",
      "750/750 [==============================] - 157s 210ms/step - loss: 1.5283 - accuracy: 0.8882 - val_loss: 1.4078 - val_accuracy: 0.6650\n",
      "\n",
      "Epoch 00035: val_loss did not improve from 1.25075\n",
      "Epoch 36/100\n",
      "750/750 [==============================] - 157s 210ms/step - loss: 1.5032 - accuracy: 0.9030 - val_loss: 1.4774 - val_accuracy: 0.6599\n",
      "\n",
      "Epoch 00036: val_loss did not improve from 1.25075\n",
      "Epoch 37/100\n",
      "750/750 [==============================] - 157s 209ms/step - loss: 1.5067 - accuracy: 0.8996 - val_loss: 1.4636 - val_accuracy: 0.6590\n",
      "\n",
      "Epoch 00037: val_loss did not improve from 1.25075\n",
      "Epoch 38/100\n",
      "750/750 [==============================] - 157s 210ms/step - loss: 1.4982 - accuracy: 0.8990 - val_loss: 1.5451 - val_accuracy: 0.6339\n",
      "\n",
      "Epoch 00038: val_loss did not improve from 1.25075\n",
      "Epoch 39/100\n",
      "750/750 [==============================] - 157s 210ms/step - loss: 1.4501 - accuracy: 0.9092 - val_loss: 1.4961 - val_accuracy: 0.6477\n",
      "\n",
      "Epoch 00039: val_loss did not improve from 1.25075\n",
      "Epoch 40/100\n",
      "750/750 [==============================] - 157s 210ms/step - loss: 1.4975 - accuracy: 0.8985 - val_loss: 1.4489 - val_accuracy: 0.6557\n",
      "\n",
      "Epoch 00040: val_loss did not improve from 1.25075\n",
      "Epoch 41/100\n",
      "750/750 [==============================] - 157s 210ms/step - loss: 1.5051 - accuracy: 0.8940 - val_loss: 1.4612 - val_accuracy: 0.6620\n",
      "\n",
      "Epoch 00041: val_loss did not improve from 1.25075\n",
      "Epoch 42/100\n"
     ]
    },
    {
     "name": "stdout",
     "output_type": "stream",
     "text": [
      "750/750 [==============================] - 157s 210ms/step - loss: 1.4578 - accuracy: 0.9019 - val_loss: 1.5521 - val_accuracy: 0.6405\n",
      "\n",
      "Epoch 00042: val_loss did not improve from 1.25075\n",
      "Epoch 43/100\n",
      "750/750 [==============================] - 157s 210ms/step - loss: 1.4910 - accuracy: 0.8921 - val_loss: 1.6439 - val_accuracy: 0.6185\n",
      "\n",
      "Epoch 00043: val_loss did not improve from 1.25075\n",
      "Epoch 44/100\n",
      "750/750 [==============================] - 157s 210ms/step - loss: 1.4691 - accuracy: 0.8908 - val_loss: 1.5044 - val_accuracy: 0.6475\n",
      "\n",
      "Epoch 00044: val_loss did not improve from 1.25075\n",
      "Epoch 45/100\n",
      "750/750 [==============================] - 157s 210ms/step - loss: 1.4515 - accuracy: 0.8934 - val_loss: 1.7085 - val_accuracy: 0.6170\n",
      "\n",
      "Epoch 00045: val_loss did not improve from 1.25075\n",
      "Epoch 46/100\n",
      "750/750 [==============================] - 157s 210ms/step - loss: 1.4705 - accuracy: 0.8968 - val_loss: 1.5476 - val_accuracy: 0.6369\n",
      "\n",
      "Epoch 00046: val_loss did not improve from 1.25075\n",
      "Epoch 47/100\n",
      "750/750 [==============================] - 157s 210ms/step - loss: 1.3988 - accuracy: 0.9036 - val_loss: 1.6114 - val_accuracy: 0.6192\n",
      "\n",
      "Epoch 00047: val_loss did not improve from 1.25075\n",
      "Epoch 48/100\n",
      "750/750 [==============================] - 157s 210ms/step - loss: 1.4258 - accuracy: 0.8988 - val_loss: 1.5102 - val_accuracy: 0.6531\n",
      "\n",
      "Epoch 00048: val_loss did not improve from 1.25075\n",
      "Epoch 49/100\n",
      "750/750 [==============================] - 157s 210ms/step - loss: 1.4254 - accuracy: 0.8900 - val_loss: 1.5450 - val_accuracy: 0.6467\n",
      "\n",
      "Epoch 00049: val_loss did not improve from 1.25075\n",
      "Epoch 50/100\n",
      "750/750 [==============================] - 157s 209ms/step - loss: 1.4490 - accuracy: 0.8898 - val_loss: 1.5999 - val_accuracy: 0.6336\n",
      "\n",
      "Epoch 00050: val_loss did not improve from 1.25075\n",
      "Epoch 51/100\n",
      "750/750 [==============================] - 157s 210ms/step - loss: 1.4205 - accuracy: 0.9006 - val_loss: 1.5378 - val_accuracy: 0.6396\n",
      "\n",
      "Epoch 00051: val_loss did not improve from 1.25075\n",
      "Epoch 52/100\n",
      "750/750 [==============================] - 157s 210ms/step - loss: 1.4005 - accuracy: 0.8963 - val_loss: 1.5753 - val_accuracy: 0.6348\n",
      "\n",
      "Epoch 00052: val_loss did not improve from 1.25075\n",
      "Epoch 53/100\n",
      "750/750 [==============================] - 157s 209ms/step - loss: 1.3561 - accuracy: 0.9058 - val_loss: 1.6522 - val_accuracy: 0.6238\n",
      "\n",
      "Epoch 00053: val_loss did not improve from 1.25075\n",
      "Epoch 54/100\n",
      "750/750 [==============================] - 157s 210ms/step - loss: 1.4157 - accuracy: 0.8929 - val_loss: 1.9174 - val_accuracy: 0.5485\n",
      "\n",
      "Epoch 00054: val_loss did not improve from 1.25075\n",
      "Epoch 55/100\n",
      "750/750 [==============================] - 157s 210ms/step - loss: 1.3540 - accuracy: 0.9125 - val_loss: 1.5582 - val_accuracy: 0.6435\n",
      "\n",
      "Epoch 00055: val_loss did not improve from 1.25075\n",
      "Epoch 56/100\n",
      "750/750 [==============================] - 157s 209ms/step - loss: 1.3570 - accuracy: 0.9028 - val_loss: 1.5682 - val_accuracy: 0.6418\n",
      "\n",
      "Epoch 00056: val_loss did not improve from 1.25075\n",
      "Epoch 57/100\n",
      "750/750 [==============================] - 157s 210ms/step - loss: 1.3865 - accuracy: 0.9007 - val_loss: 1.6218 - val_accuracy: 0.6221\n",
      "\n",
      "Epoch 00057: val_loss did not improve from 1.25075\n",
      "Epoch 58/100\n",
      "750/750 [==============================] - 157s 210ms/step - loss: 1.3975 - accuracy: 0.8963 - val_loss: 1.5547 - val_accuracy: 0.6341\n",
      "\n",
      "Epoch 00058: val_loss did not improve from 1.25075\n",
      "Epoch 59/100\n",
      "750/750 [==============================] - 157s 209ms/step - loss: 1.3420 - accuracy: 0.9031 - val_loss: 1.5234 - val_accuracy: 0.6564\n",
      "\n",
      "Epoch 00059: val_loss did not improve from 1.25075\n",
      "Epoch 60/100\n",
      "750/750 [==============================] - 157s 209ms/step - loss: 1.3163 - accuracy: 0.9072 - val_loss: 1.6319 - val_accuracy: 0.6242\n",
      "\n",
      "Epoch 00060: val_loss did not improve from 1.25075\n",
      "Epoch 61/100\n",
      "750/750 [==============================] - 157s 209ms/step - loss: 1.3159 - accuracy: 0.9090 - val_loss: 1.6940 - val_accuracy: 0.6165\n",
      "\n",
      "Epoch 00061: val_loss did not improve from 1.25075\n",
      "Epoch 62/100\n",
      "750/750 [==============================] - 157s 210ms/step - loss: 1.3908 - accuracy: 0.8854 - val_loss: 1.7623 - val_accuracy: 0.6080\n",
      "\n",
      "Epoch 00062: val_loss did not improve from 1.25075\n",
      "Epoch 63/100\n",
      "750/750 [==============================] - 157s 210ms/step - loss: 1.2921 - accuracy: 0.9093 - val_loss: 1.5270 - val_accuracy: 0.6540\n",
      "\n",
      "Epoch 00063: val_loss did not improve from 1.25075\n",
      "Epoch 64/100\n",
      "750/750 [==============================] - 171s 228ms/step - loss: 1.3462 - accuracy: 0.9028 - val_loss: 1.5314 - val_accuracy: 0.6479\n",
      "\n",
      "Epoch 00064: val_loss did not improve from 1.25075\n",
      "Epoch 65/100\n",
      "750/750 [==============================] - 157s 210ms/step - loss: 1.3552 - accuracy: 0.8932 - val_loss: 1.6890 - val_accuracy: 0.6335\n",
      "\n",
      "Epoch 00065: val_loss did not improve from 1.25075\n",
      "Epoch 66/100\n",
      "750/750 [==============================] - 157s 209ms/step - loss: 1.3342 - accuracy: 0.9089 - val_loss: 1.8198 - val_accuracy: 0.5935\n",
      "\n",
      "Epoch 00066: val_loss did not improve from 1.25075\n",
      "Epoch 67/100\n",
      "750/750 [==============================] - 157s 210ms/step - loss: 1.3229 - accuracy: 0.9025 - val_loss: 1.5917 - val_accuracy: 0.6219\n",
      "\n",
      "Epoch 00067: val_loss did not improve from 1.25075\n",
      "Epoch 68/100\n",
      "750/750 [==============================] - 157s 209ms/step - loss: 1.3300 - accuracy: 0.9015 - val_loss: 1.5987 - val_accuracy: 0.6277\n",
      "\n",
      "Epoch 00068: val_loss did not improve from 1.25075\n",
      "Epoch 69/100\n",
      "750/750 [==============================] - 157s 210ms/step - loss: 1.3102 - accuracy: 0.9007 - val_loss: 1.6284 - val_accuracy: 0.6316\n",
      "\n",
      "Epoch 00069: val_loss did not improve from 1.25075\n",
      "Epoch 70/100\n",
      "750/750 [==============================] - 157s 210ms/step - loss: 1.3629 - accuracy: 0.9007 - val_loss: 1.6031 - val_accuracy: 0.6262\n",
      "\n",
      "Epoch 00070: val_loss did not improve from 1.25075\n",
      "Epoch 71/100\n",
      "750/750 [==============================] - 157s 209ms/step - loss: 1.3006 - accuracy: 0.8992 - val_loss: 1.6165 - val_accuracy: 0.6299\n",
      "\n",
      "Epoch 00071: val_loss did not improve from 1.25075\n",
      "Epoch 72/100\n",
      "750/750 [==============================] - 157s 210ms/step - loss: 1.3341 - accuracy: 0.8890 - val_loss: 1.5820 - val_accuracy: 0.6421\n",
      "\n",
      "Epoch 00072: val_loss did not improve from 1.25075\n",
      "Epoch 73/100\n",
      "750/750 [==============================] - 157s 210ms/step - loss: 1.2771 - accuracy: 0.9053 - val_loss: 1.6356 - val_accuracy: 0.6164\n",
      "\n",
      "Epoch 00073: val_loss did not improve from 1.25075\n",
      "Epoch 74/100\n",
      "750/750 [==============================] - 157s 210ms/step - loss: 1.2790 - accuracy: 0.9104 - val_loss: 1.6540 - val_accuracy: 0.6247\n",
      "\n",
      "Epoch 00074: val_loss did not improve from 1.25075\n",
      "Epoch 75/100\n",
      "750/750 [==============================] - 171s 228ms/step - loss: 1.2825 - accuracy: 0.8901 - val_loss: 1.5128 - val_accuracy: 0.6468\n",
      "\n",
      "Epoch 00075: val_loss did not improve from 1.25075\n",
      "Epoch 76/100\n",
      "750/750 [==============================] - 157s 210ms/step - loss: 1.2599 - accuracy: 0.9074 - val_loss: 1.5721 - val_accuracy: 0.6389\n",
      "\n",
      "Epoch 00076: val_loss did not improve from 1.25075\n",
      "Epoch 77/100\n",
      "750/750 [==============================] - 157s 209ms/step - loss: 1.2609 - accuracy: 0.9010 - val_loss: 1.6754 - val_accuracy: 0.6163\n",
      "\n",
      "Epoch 00077: val_loss did not improve from 1.25075\n",
      "Epoch 78/100\n",
      "750/750 [==============================] - 157s 210ms/step - loss: 1.2552 - accuracy: 0.9018 - val_loss: 1.6398 - val_accuracy: 0.6210\n",
      "\n",
      "Epoch 00078: val_loss did not improve from 1.25075\n",
      "Epoch 79/100\n",
      "750/750 [==============================] - 157s 209ms/step - loss: 1.2671 - accuracy: 0.9050 - val_loss: 1.6757 - val_accuracy: 0.6242\n",
      "\n",
      "Epoch 00079: val_loss did not improve from 1.25075\n",
      "Epoch 80/100\n",
      "750/750 [==============================] - 157s 210ms/step - loss: 1.3148 - accuracy: 0.8931 - val_loss: 1.6379 - val_accuracy: 0.6229\n",
      "\n",
      "Epoch 00080: val_loss did not improve from 1.25075\n",
      "Epoch 81/100\n",
      "750/750 [==============================] - 157s 210ms/step - loss: 1.2790 - accuracy: 0.8899 - val_loss: 1.6316 - val_accuracy: 0.6231\n",
      "\n",
      "Epoch 00081: val_loss did not improve from 1.25075\n",
      "Epoch 82/100\n",
      "750/750 [==============================] - 171s 228ms/step - loss: 1.2220 - accuracy: 0.9034 - val_loss: 1.6073 - val_accuracy: 0.6379\n",
      "\n",
      "Epoch 00082: val_loss did not improve from 1.25075\n",
      "Epoch 83/100\n"
     ]
    },
    {
     "name": "stdout",
     "output_type": "stream",
     "text": [
      "750/750 [==============================] - 157s 210ms/step - loss: 1.2359 - accuracy: 0.9061 - val_loss: 1.6594 - val_accuracy: 0.6166\n",
      "\n",
      "Epoch 00083: val_loss did not improve from 1.25075\n",
      "Epoch 84/100\n",
      "750/750 [==============================] - 157s 210ms/step - loss: 1.2286 - accuracy: 0.9064 - val_loss: 1.6097 - val_accuracy: 0.6343\n",
      "\n",
      "Epoch 00084: val_loss did not improve from 1.25075\n",
      "Epoch 85/100\n",
      "750/750 [==============================] - 157s 209ms/step - loss: 1.2483 - accuracy: 0.8982 - val_loss: 1.6846 - val_accuracy: 0.6091\n",
      "\n",
      "Epoch 00085: val_loss did not improve from 1.25075\n",
      "Epoch 86/100\n",
      "750/750 [==============================] - 157s 210ms/step - loss: 1.2322 - accuracy: 0.9032 - val_loss: 1.7008 - val_accuracy: 0.6223\n",
      "\n",
      "Epoch 00087: val_loss did not improve from 1.25075\n",
      "Epoch 88/100\n",
      "750/750 [==============================] - 157s 210ms/step - loss: 1.2296 - accuracy: 0.8968 - val_loss: 1.6506 - val_accuracy: 0.6238\n",
      "\n",
      "Epoch 00088: val_loss did not improve from 1.25075\n",
      "Epoch 89/100\n",
      "750/750 [==============================] - 157s 210ms/step - loss: 1.1664 - accuracy: 0.9085 - val_loss: 1.6338 - val_accuracy: 0.6283\n",
      "\n",
      "Epoch 00089: val_loss did not improve from 1.25075\n",
      "Epoch 90/100\n",
      "750/750 [==============================] - 157s 210ms/step - loss: 1.2281 - accuracy: 0.8909 - val_loss: 1.8395 - val_accuracy: 0.5922\n",
      "\n",
      "Epoch 00090: val_loss did not improve from 1.25075\n",
      "Epoch 91/100\n",
      "750/750 [==============================] - 157s 210ms/step - loss: 1.2448 - accuracy: 0.8927 - val_loss: 1.6346 - val_accuracy: 0.6440\n",
      "\n",
      "Epoch 00091: val_loss did not improve from 1.25075\n",
      "Epoch 92/100\n",
      "750/750 [==============================] - 157s 210ms/step - loss: 1.2351 - accuracy: 0.8928 - val_loss: 1.6634 - val_accuracy: 0.6161\n",
      "\n",
      "Epoch 00092: val_loss did not improve from 1.25075\n",
      "Epoch 93/100\n",
      "750/750 [==============================] - 157s 210ms/step - loss: 1.2250 - accuracy: 0.8860 - val_loss: 1.7022 - val_accuracy: 0.6131\n",
      "\n",
      "Epoch 00093: val_loss did not improve from 1.25075\n",
      "Epoch 94/100\n",
      "750/750 [==============================] - 157s 210ms/step - loss: 1.1768 - accuracy: 0.9087 - val_loss: 1.6811 - val_accuracy: 0.6094\n",
      "\n",
      "Epoch 00094: val_loss did not improve from 1.25075\n",
      "Epoch 95/100\n",
      "750/750 [==============================] - 157s 209ms/step - loss: 1.1749 - accuracy: 0.9027 - val_loss: 1.6506 - val_accuracy: 0.6240\n",
      "\n",
      "Epoch 00095: val_loss did not improve from 1.25075\n",
      "Epoch 96/100\n",
      "750/750 [==============================] - 157s 210ms/step - loss: 1.2190 - accuracy: 0.8973 - val_loss: 1.6481 - val_accuracy: 0.6248\n",
      "\n",
      "Epoch 00096: val_loss did not improve from 1.25075\n",
      "Epoch 97/100\n",
      "750/750 [==============================] - 157s 210ms/step - loss: 1.2097 - accuracy: 0.8953 - val_loss: 1.7448 - val_accuracy: 0.5978\n",
      "\n",
      "Epoch 00097: val_loss did not improve from 1.25075\n",
      "Epoch 98/100\n",
      "750/750 [==============================] - 157s 210ms/step - loss: 1.1733 - accuracy: 0.9038 - val_loss: 1.8349 - val_accuracy: 0.5813\n",
      "\n",
      "Epoch 00098: val_loss did not improve from 1.25075\n",
      "Epoch 99/100\n",
      "750/750 [==============================] - 157s 210ms/step - loss: 1.1637 - accuracy: 0.8986 - val_loss: 1.6900 - val_accuracy: 0.6207\n",
      "\n",
      "Epoch 00099: val_loss did not improve from 1.25075\n",
      "Epoch 100/100\n",
      "750/750 [==============================] - 157s 210ms/step - loss: 1.1596 - accuracy: 0.8958 - val_loss: 1.6755 - val_accuracy: 0.6165\n",
      "\n",
      "Epoch 00100: val_loss did not improve from 1.25075\n"
     ]
    }
   ],
   "source": [
    "mixup_resnet50.compile(\n",
    "    loss='categorical_crossentropy',\n",
    "    optimizer=tf.keras.optimizers.SGD(learning_rate=0.01),\n",
    "    metrics=['accuracy'],\n",
    ")\n",
    "\n",
    "callbacks=tf.keras.callbacks.ModelCheckpoint(\n",
    "    'history/mixup_resnet50.h5',\n",
    "    monitor='val_loss',\n",
    "    verbose=1,\n",
    "    save_best_only=True)\n",
    "\n",
    "history_resnet50_mixup100 = mixup_resnet50.fit(\n",
    "    ds_train_mixup, # mixup 적용한 데이터셋 사용\n",
    "    steps_per_epoch=int(ds_info.splits['train'].num_examples/16),\n",
    "    validation_steps=int(ds_info.splits['test'].num_examples/16),\n",
    "    epochs=EPOCH,\n",
    "    validation_data=ds_test,\n",
    "    callbacks=[callbacks],\n",
    "    verbose=1)"
   ]
  },
  {
   "cell_type": "code",
   "execution_count": 20,
   "id": "c878f418",
   "metadata": {},
   "outputs": [],
   "source": [
    "mixup_resnet50.save_weights('history/mixup_resnet50_100.h5')"
   ]
  },
  {
   "cell_type": "markdown",
   "id": "b88bdef6",
   "metadata": {
    "id": "c10bb009"
   },
   "source": [
    "학습 후 히스토리 저장하기"
   ]
  },
  {
   "cell_type": "code",
   "execution_count": 21,
   "id": "67deff37",
   "metadata": {
    "id": "ee43d8a3"
   },
   "outputs": [],
   "source": [
    "import pandas as pd\n",
    "import json\n",
    "\n",
    "with open('history/history_resnet50_mixup100.json', 'w') as f:\n",
    "    pd.DataFrame(history_resnet50_mixup100.history).to_json(f)"
   ]
  },
  {
   "cell_type": "code",
   "execution_count": 22,
   "id": "5056e772",
   "metadata": {
    "id": "98e461fa"
   },
   "outputs": [],
   "source": [
    "def history_conv(history):\n",
    "    return_history = {'loss' : list(history['loss'].values()),\n",
    "                      'accuracy' : list(history['accuracy'].values()),\n",
    "                      'val_loss' : list(history['val_loss'].values()),\n",
    "                      'val_accuracy' : list(history['val_accuracy'].values())}\n",
    "\n",
    "    return return_history"
   ]
  },
  {
   "cell_type": "code",
   "execution_count": 24,
   "id": "ffbbd8e4",
   "metadata": {
    "id": "720d95c3",
    "scrolled": false
   },
   "outputs": [],
   "source": [
    "# 저장된 히스토리 불러오기\n",
    "import pandas as pd\n",
    "import json\n",
    "\n",
    "with open('history/history_resnet50_mixup100.json', 'r') as f:\n",
    "    history_resnet50_mixup100 = json.load(f)\n",
    "\n",
    "history_resnet50_mixup100 = history_conv(history_resnet50_mixup100)"
   ]
  },
  {
   "cell_type": "markdown",
   "id": "806d7bab",
   "metadata": {
    "id": "9f6456ec"
   },
   "source": [
    "## 4. 시각화 하기"
   ]
  },
  {
   "cell_type": "code",
   "execution_count": 26,
   "id": "d6dcc1d9",
   "metadata": {
    "id": "e7f271ad",
    "outputId": "e72fb921-dd83-45ca-c4a4-6f8f2b254d06",
    "scrolled": true
   },
   "outputs": [
    {
     "data": {
      "image/png": "[encoded data removed]",
      "text/plain": [
       "<Figure size 1008x360 with 2 Axes>"
      ]
     },
     "metadata": {
      "needs_background": "light"
     },
     "output_type": "display_data"
    }
   ],
   "source": [
    "import matplotlib.pyplot as plt\n",
    "plt.figure(figsize=(14, 5))\n",
    "\n",
    "plt.subplot(121)\n",
    "plt.plot(history_resnet50_mixup100['loss'], 'r')\n",
    "plt.plot(history_resnet50_mixup100['val_loss'], 'y')\n",
    "plt.title('Mixup Model loss')\n",
    "plt.ylabel('Loss')\n",
    "plt.xlabel('Epoch')\n",
    "plt.legend(['loss', 'val_loss'], loc='best')\n",
    "\n",
    "plt.subplot(122)\n",
    "plt.plot(history_resnet50_mixup100['accuracy'], 'r')\n",
    "plt.plot(history_resnet50_mixup100['val_accuracy'], 'y')\n",
    "plt.title('Mixup Model accuracy')\n",
    "plt.ylabel('Accuracy')\n",
    "plt.xlabel('Epoch')\n",
    "plt.legend(['accuracy', 'val_accuracy'], loc='best')\n",
    "plt.show()"
   ]
  },
  {
   "cell_type": "markdown",
   "id": "49470660",
   "metadata": {},
   "source": [
    "## 5. 평가하기"
   ]
  },
  {
   "cell_type": "code",
   "execution_count": 96,
   "id": "a0093932",
   "metadata": {},
   "outputs": [],
   "source": [
    "mixup_resnet50.load_weights(\"history/mixup_resnet50_100.h5\")\n",
    "\n",
    "mixup_resnet50.compile(\n",
    "    loss='categorical_crossentropy',\n",
    "    optimizer=tf.keras.optimizers.SGD(learning_rate=0.01),\n",
    "    metrics=['accuracy'],\n",
    ")"
   ]
  },
  {
   "cell_type": "code",
   "execution_count": 143,
   "id": "e8dd2f0c",
   "metadata": {},
   "outputs": [],
   "source": [
    "# Create a dictionary describing the features.\n",
    "def decode_image(image):\n",
    "    image = tf.image.decode_jpeg(image, channels=3)\n",
    "    image = tf.cast(image, tf.float32)\n",
    "    image = tf.image.resize(image, [224, 224])\n",
    "    return image\n",
    "\n",
    "def read_tfrecord(example_proto):\n",
    "    tfrecord_format = {\n",
    "        'image': tf.io.FixedLenFeature([], tf.string),\n",
    "        'label': tf.io.FixedLenFeature([], tf.string)\n",
    "    }\n",
    "    \n",
    "    example = tf.io.parse_single_example(example_proto, tfrecord_format)\n",
    "    image = decode_image(example[\"image\"])\n",
    "    label = tf.cast(example[\"label\"], tf.string)\n",
    "    return image, label\n",
    "\n",
    "def load_dataset(dataset):\n",
    "    ignore_order = tf.data.Options()\n",
    "    ignore_order.experimental_deterministic = False\n",
    "    dataset = dataset.with_options(ignore_order)\n",
    "    dataset = dataset.map(read_tfrecord)\n",
    "    return dataset"
   ]
  },
  {
   "cell_type": "code",
   "execution_count": 144,
   "id": "9c07f5da",
   "metadata": {},
   "outputs": [],
   "source": [
    "import os\n",
    "\n",
    "final_test = tf.data.TFRecordDataset(os.getenv('HOME')+\"/aiffel/node_data/GD02/dataset.tfrecord\")\n",
    "test_data = load_dataset(final_test)"
   ]
  },
  {
   "cell_type": "code",
   "execution_count": 145,
   "id": "95aa3173",
   "metadata": {},
   "outputs": [
    {
     "data": {
      "text/plain": [
       "<MapDataset shapes: ((224, 224, 3), ()), types: (tf.float32, tf.string)>"
      ]
     },
     "execution_count": 145,
     "metadata": {},
     "output_type": "execute_result"
    }
   ],
   "source": [
    "test_data"
   ]
  },
  {
   "cell_type": "code",
   "execution_count": 152,
   "id": "061aff54",
   "metadata": {},
   "outputs": [
    {
     "name": "stdout",
     "output_type": "stream",
     "text": [
      "0: n02085620-chihuahua\n",
      "1: n02085782-japanese_spaniel\n",
      "2: n02085936-maltese_dog\n",
      "3: n02086079-pekinese\n",
      "4: n02086240-shih-tzu\n",
      "5: n02086646-blenheim_spaniel\n",
      "6: n02086910-papillon\n",
      "7: n02087046-toy_terrier\n",
      "8: n02087394-rhodesian_ridgeback\n",
      "9: n02088094-afghan_hound\n",
      "10: n02088238-basset\n",
      "11: n02088364-beagle\n",
      "12: n02088466-bloodhound\n",
      "13: n02088632-bluetick\n",
      "14: n02089078-black-and-tan_coonhound\n",
      "15: n02089867-walker_hound\n",
      "16: n02089973-english_foxhound\n",
      "17: n02090379-redbone\n",
      "18: n02090622-borzoi\n",
      "19: n02090721-irish_wolfhound\n",
      "20: n02091032-italian_greyhound\n",
      "21: n02091134-whippet\n",
      "22: n02091244-ibizan_hound\n",
      "23: n02091467-norwegian_elkhound\n",
      "24: n02091635-otterhound\n",
      "25: n02091831-saluki\n",
      "26: n02092002-scottish_deerhound\n",
      "27: n02092339-weimaraner\n",
      "28: n02093256-staffordshire_bullterrier\n",
      "29: n02093428-american_staffordshire_terrier\n",
      "30: n02093647-bedlington_terrier\n",
      "31: n02093754-border_terrier\n",
      "32: n02093859-kerry_blue_terrier\n",
      "33: n02093991-irish_terrier\n",
      "34: n02094114-norfolk_terrier\n",
      "35: n02094258-norwich_terrier\n",
      "36: n02094433-yorkshire_terrier\n",
      "37: n02095314-wire-haired_fox_terrier\n",
      "38: n02095570-lakeland_terrier\n",
      "39: n02095889-sealyham_terrier\n",
      "40: n02096051-airedale\n",
      "41: n02096177-cairn\n",
      "42: n02096294-australian_terrier\n",
      "43: n02096437-dandie_dinmont\n",
      "44: n02096585-boston_bull\n",
      "45: n02097047-miniature_schnauzer\n",
      "46: n02097130-giant_schnauzer\n",
      "47: n02097209-standard_schnauzer\n",
      "48: n02097298-scotch_terrier\n",
      "49: n02097474-tibetan_terrier\n",
      "50: n02097658-silky_terrier\n",
      "51: n02098105-soft-coated_wheaten_terrier\n",
      "52: n02098286-west_highland_white_terrier\n",
      "53: n02098413-lhasa\n",
      "54: n02099267-flat-coated_retriever\n",
      "55: n02099429-curly-coated_retriever\n",
      "56: n02099601-golden_retriever\n",
      "57: n02099712-labrador_retriever\n",
      "58: n02099849-chesapeake_bay_retriever\n",
      "59: n02100236-german_short-haired_pointer\n",
      "60: n02100583-vizsla\n",
      "61: n02100735-english_setter\n",
      "62: n02100877-irish_setter\n",
      "63: n02101006-gordon_setter\n",
      "64: n02101388-brittany_spaniel\n",
      "65: n02101556-clumber\n",
      "66: n02102040-english_springer\n",
      "67: n02102177-welsh_springer_spaniel\n",
      "68: n02102318-cocker_spaniel\n",
      "69: n02102480-sussex_spaniel\n",
      "70: n02102973-irish_water_spaniel\n",
      "71: n02104029-kuvasz\n",
      "72: n02104365-schipperke\n",
      "73: n02105056-groenendael\n",
      "74: n02105162-malinois\n",
      "75: n02105251-briard\n",
      "76: n02105412-kelpie\n",
      "77: n02105505-komondor\n",
      "78: n02105641-old_english_sheepdog\n",
      "79: n02105855-shetland_sheepdog\n",
      "80: n02106030-collie\n",
      "81: n02106166-border_collie\n",
      "82: n02106382-bouvier_des_flandres\n",
      "83: n02106550-rottweiler\n",
      "84: n02106662-german_shepherd\n",
      "85: n02107142-doberman\n",
      "86: n02107312-miniature_pinscher\n",
      "87: n02107574-greater_swiss_mountain_dog\n",
      "88: n02107683-bernese_mountain_dog\n",
      "89: n02107908-appenzeller\n",
      "90: n02108000-entlebucher\n",
      "91: n02108089-boxer\n",
      "92: n02108422-bull_mastiff\n",
      "93: n02108551-tibetan_mastiff\n",
      "94: n02108915-french_bulldog\n",
      "95: n02109047-great_dane\n",
      "96: n02109525-saint_bernard\n",
      "97: n02109961-eskimo_dog\n",
      "98: n02110063-malamute\n",
      "99: n02110185-siberian_husky\n",
      "100: n02110627-affenpinscher\n",
      "101: n02110806-basenji\n",
      "102: n02110958-pug\n",
      "103: n02111129-leonberg\n",
      "104: n02111277-newfoundland\n",
      "105: n02111500-great_pyrenees\n",
      "106: n02111889-samoyed\n",
      "107: n02112018-pomeranian\n",
      "108: n02112137-chow\n",
      "109: n02112350-keeshond\n",
      "110: n02112706-brabancon_griffon\n",
      "111: n02113023-pembroke\n",
      "112: n02113186-cardigan\n",
      "113: n02113624-toy_poodle\n",
      "114: n02113712-miniature_poodle\n",
      "115: n02113799-standard_poodle\n",
      "116: n02113978-mexican_hairless\n",
      "117: n02115641-dingo\n",
      "118: n02115913-dhole\n",
      "119: n02116738-african_hunting_dog\n"
     ]
    }
   ],
   "source": [
    "for i, label in enumerate(ds_info.features[\"label\"].names):\n",
    "    print(f\"{i}: {label}\")"
   ]
  },
  {
   "cell_type": "code",
   "execution_count": 151,
   "id": "ac48c3d7",
   "metadata": {},
   "outputs": [
    {
     "name": "stdout",
     "output_type": "stream",
     "text": [
      "tf.Tensor(b'n02096585-boston_bull', shape=(), dtype=string)\n",
      "tf.Tensor(b'n02115641-dingo', shape=(), dtype=string)\n",
      "tf.Tensor(b'n02086079-pekinese', shape=(), dtype=string)\n",
      "tf.Tensor(b'n02088632-bluetick', shape=(), dtype=string)\n",
      "tf.Tensor(b'n02099601-golden_retriever', shape=(), dtype=string)\n",
      "tf.Tensor(b'n02093647-bedlington_terrier', shape=(), dtype=string)\n",
      "tf.Tensor(b'n02093647-bedlington_terrier', shape=(), dtype=string)\n",
      "tf.Tensor(b'n02090622-borzoi', shape=(), dtype=string)\n",
      "tf.Tensor(b'n02110806-basenji', shape=(), dtype=string)\n",
      "tf.Tensor(b'n02092002-scottish_deerhound', shape=(), dtype=string)\n"
     ]
    }
   ],
   "source": [
    "for images, labels in test_data.take(10):\n",
    "    print(labels)"
   ]
  },
  {
   "cell_type": "code",
   "execution_count": 121,
   "id": "93a20c18",
   "metadata": {},
   "outputs": [
    {
     "data": {
      "text/plain": [
       "<ShuffleDataset shapes: ((None, None, 3), ()), types: (tf.uint8, tf.int64)>"
      ]
     },
     "execution_count": 121,
     "metadata": {},
     "output_type": "execute_result"
    }
   ],
   "source": [
    "ds_train"
   ]
  },
  {
   "cell_type": "code",
   "execution_count": 126,
   "id": "fee8df4d",
   "metadata": {},
   "outputs": [],
   "source": [
    "just_train_data = apply_normalize_on_dataset(ds_train,is_test=True,batch_size=16)"
   ]
  },
  {
   "cell_type": "code",
   "execution_count": 127,
   "id": "ff5ed349",
   "metadata": {},
   "outputs": [
    {
     "data": {
      "text/plain": [
       "<PrefetchDataset shapes: ((None, 224, 224, 3), (None, 120)), types: (tf.float32, tf.float32)>"
      ]
     },
     "execution_count": 127,
     "metadata": {},
     "output_type": "execute_result"
    }
   ],
   "source": [
    "just_train_data"
   ]
  },
  {
   "cell_type": "code",
   "execution_count": 128,
   "id": "8ffa990f",
   "metadata": {
    "scrolled": false
   },
   "outputs": [],
   "source": [
    "final_test_data = apply_normalize_on_dataset(test_data,is_test=True,batch_size=16)"
   ]
  },
  {
   "cell_type": "code",
   "execution_count": 129,
   "id": "722bf61d",
   "metadata": {},
   "outputs": [
    {
     "data": {
      "text/plain": [
       "<PrefetchDataset shapes: ((None, 224, 224, 3), (None, 120)), types: (tf.float32, tf.float32)>"
      ]
     },
     "execution_count": 129,
     "metadata": {},
     "output_type": "execute_result"
    }
   ],
   "source": [
    "final_test_data"
   ]
  },
  {
   "cell_type": "code",
   "execution_count": 130,
   "id": "443d9cb1",
   "metadata": {},
   "outputs": [
    {
     "ename": "InvalidArgumentError",
     "evalue": "2 root error(s) found.\n  (0) Invalid argument:  StringToNumberOp could not correctly convert string: n02096585-boston_bull\n\t [[{{node StringToNumber}}]]\n\t [[IteratorGetNext]]\n\t [[IteratorGetNext/_2]]\n  (1) Invalid argument:  StringToNumberOp could not correctly convert string: n02096585-boston_bull\n\t [[{{node StringToNumber}}]]\n\t [[IteratorGetNext]]\n0 successful operations.\n0 derived errors ignored. [Op:__inference_test_function_14826]\n\nFunction call stack:\ntest_function -> test_function\n",
     "output_type": "error",
     "traceback": [
      "\u001b[0;31m---------------------------------------------------------------------------\u001b[0m",
      "\u001b[0;31mInvalidArgumentError\u001b[0m                      Traceback (most recent call last)",
      "\u001b[0;32m/tmp/ipykernel_31/1656717070.py\u001b[0m in \u001b[0;36m<module>\u001b[0;34m\u001b[0m\n\u001b[0;32m----> 1\u001b[0;31m \u001b[0mmixup_resnet50\u001b[0m\u001b[0;34m.\u001b[0m\u001b[0mevaluate\u001b[0m\u001b[0;34m(\u001b[0m\u001b[0mfinal_test_data\u001b[0m\u001b[0;34m)\u001b[0m\u001b[0;34m\u001b[0m\u001b[0;34m\u001b[0m\u001b[0m\n\u001b[0m",
      "\u001b[0;32m/opt/conda/lib/python3.9/site-packages/keras/engine/training.py\u001b[0m in \u001b[0;36mevaluate\u001b[0;34m(self, x, y, batch_size, verbose, sample_weight, steps, callbacks, max_queue_size, workers, use_multiprocessing, return_dict, **kwargs)\u001b[0m\n\u001b[1;32m   1499\u001b[0m             \u001b[0;32mwith\u001b[0m \u001b[0mtf\u001b[0m\u001b[0;34m.\u001b[0m\u001b[0mprofiler\u001b[0m\u001b[0;34m.\u001b[0m\u001b[0mexperimental\u001b[0m\u001b[0;34m.\u001b[0m\u001b[0mTrace\u001b[0m\u001b[0;34m(\u001b[0m\u001b[0;34m'test'\u001b[0m\u001b[0;34m,\u001b[0m \u001b[0mstep_num\u001b[0m\u001b[0;34m=\u001b[0m\u001b[0mstep\u001b[0m\u001b[0;34m,\u001b[0m \u001b[0m_r\u001b[0m\u001b[0;34m=\u001b[0m\u001b[0;36m1\u001b[0m\u001b[0;34m)\u001b[0m\u001b[0;34m:\u001b[0m\u001b[0;34m\u001b[0m\u001b[0;34m\u001b[0m\u001b[0m\n\u001b[1;32m   1500\u001b[0m               \u001b[0mcallbacks\u001b[0m\u001b[0;34m.\u001b[0m\u001b[0mon_test_batch_begin\u001b[0m\u001b[0;34m(\u001b[0m\u001b[0mstep\u001b[0m\u001b[0;34m)\u001b[0m\u001b[0;34m\u001b[0m\u001b[0;34m\u001b[0m\u001b[0m\n\u001b[0;32m-> 1501\u001b[0;31m               \u001b[0mtmp_logs\u001b[0m \u001b[0;34m=\u001b[0m \u001b[0mself\u001b[0m\u001b[0;34m.\u001b[0m\u001b[0mtest_function\u001b[0m\u001b[0;34m(\u001b[0m\u001b[0miterator\u001b[0m\u001b[0;34m)\u001b[0m\u001b[0;34m\u001b[0m\u001b[0;34m\u001b[0m\u001b[0m\n\u001b[0m\u001b[1;32m   1502\u001b[0m               \u001b[0;32mif\u001b[0m \u001b[0mdata_handler\u001b[0m\u001b[0;34m.\u001b[0m\u001b[0mshould_sync\u001b[0m\u001b[0;34m:\u001b[0m\u001b[0;34m\u001b[0m\u001b[0;34m\u001b[0m\u001b[0m\n\u001b[1;32m   1503\u001b[0m                 \u001b[0mcontext\u001b[0m\u001b[0;34m.\u001b[0m\u001b[0masync_wait\u001b[0m\u001b[0;34m(\u001b[0m\u001b[0;34m)\u001b[0m\u001b[0;34m\u001b[0m\u001b[0;34m\u001b[0m\u001b[0m\n",
      "\u001b[0;32m/opt/conda/lib/python3.9/site-packages/tensorflow/python/eager/def_function.py\u001b[0m in \u001b[0;36m__call__\u001b[0;34m(self, *args, **kwds)\u001b[0m\n\u001b[1;32m    883\u001b[0m \u001b[0;34m\u001b[0m\u001b[0m\n\u001b[1;32m    884\u001b[0m       \u001b[0;32mwith\u001b[0m \u001b[0mOptionalXlaContext\u001b[0m\u001b[0;34m(\u001b[0m\u001b[0mself\u001b[0m\u001b[0;34m.\u001b[0m\u001b[0m_jit_compile\u001b[0m\u001b[0;34m)\u001b[0m\u001b[0;34m:\u001b[0m\u001b[0;34m\u001b[0m\u001b[0;34m\u001b[0m\u001b[0m\n\u001b[0;32m--> 885\u001b[0;31m         \u001b[0mresult\u001b[0m \u001b[0;34m=\u001b[0m \u001b[0mself\u001b[0m\u001b[0;34m.\u001b[0m\u001b[0m_call\u001b[0m\u001b[0;34m(\u001b[0m\u001b[0;34m*\u001b[0m\u001b[0margs\u001b[0m\u001b[0;34m,\u001b[0m \u001b[0;34m**\u001b[0m\u001b[0mkwds\u001b[0m\u001b[0;34m)\u001b[0m\u001b[0;34m\u001b[0m\u001b[0;34m\u001b[0m\u001b[0m\n\u001b[0m\u001b[1;32m    886\u001b[0m \u001b[0;34m\u001b[0m\u001b[0m\n\u001b[1;32m    887\u001b[0m       \u001b[0mnew_tracing_count\u001b[0m \u001b[0;34m=\u001b[0m \u001b[0mself\u001b[0m\u001b[0;34m.\u001b[0m\u001b[0mexperimental_get_tracing_count\u001b[0m\u001b[0;34m(\u001b[0m\u001b[0;34m)\u001b[0m\u001b[0;34m\u001b[0m\u001b[0;34m\u001b[0m\u001b[0m\n",
      "\u001b[0;32m/opt/conda/lib/python3.9/site-packages/tensorflow/python/eager/def_function.py\u001b[0m in \u001b[0;36m_call\u001b[0;34m(self, *args, **kwds)\u001b[0m\n\u001b[1;32m    915\u001b[0m       \u001b[0;31m# In this case we have created variables on the first call, so we run the\u001b[0m\u001b[0;34m\u001b[0m\u001b[0;34m\u001b[0m\u001b[0m\n\u001b[1;32m    916\u001b[0m       \u001b[0;31m# defunned version which is guaranteed to never create variables.\u001b[0m\u001b[0;34m\u001b[0m\u001b[0;34m\u001b[0m\u001b[0m\n\u001b[0;32m--> 917\u001b[0;31m       \u001b[0;32mreturn\u001b[0m \u001b[0mself\u001b[0m\u001b[0;34m.\u001b[0m\u001b[0m_stateless_fn\u001b[0m\u001b[0;34m(\u001b[0m\u001b[0;34m*\u001b[0m\u001b[0margs\u001b[0m\u001b[0;34m,\u001b[0m \u001b[0;34m**\u001b[0m\u001b[0mkwds\u001b[0m\u001b[0;34m)\u001b[0m  \u001b[0;31m# pylint: disable=not-callable\u001b[0m\u001b[0;34m\u001b[0m\u001b[0;34m\u001b[0m\u001b[0m\n\u001b[0m\u001b[1;32m    918\u001b[0m     \u001b[0;32melif\u001b[0m \u001b[0mself\u001b[0m\u001b[0;34m.\u001b[0m\u001b[0m_stateful_fn\u001b[0m \u001b[0;32mis\u001b[0m \u001b[0;32mnot\u001b[0m \u001b[0;32mNone\u001b[0m\u001b[0;34m:\u001b[0m\u001b[0;34m\u001b[0m\u001b[0;34m\u001b[0m\u001b[0m\n\u001b[1;32m    919\u001b[0m       \u001b[0;31m# Release the lock early so that multiple threads can perform the call\u001b[0m\u001b[0;34m\u001b[0m\u001b[0;34m\u001b[0m\u001b[0m\n",
      "\u001b[0;32m/opt/conda/lib/python3.9/site-packages/tensorflow/python/eager/function.py\u001b[0m in \u001b[0;36m__call__\u001b[0;34m(self, *args, **kwargs)\u001b[0m\n\u001b[1;32m   3037\u001b[0m       (graph_function,\n\u001b[1;32m   3038\u001b[0m        filtered_flat_args) = self._maybe_define_function(args, kwargs)\n\u001b[0;32m-> 3039\u001b[0;31m     return graph_function._call_flat(\n\u001b[0m\u001b[1;32m   3040\u001b[0m         filtered_flat_args, captured_inputs=graph_function.captured_inputs)  # pylint: disable=protected-access\n\u001b[1;32m   3041\u001b[0m \u001b[0;34m\u001b[0m\u001b[0m\n",
      "\u001b[0;32m/opt/conda/lib/python3.9/site-packages/tensorflow/python/eager/function.py\u001b[0m in \u001b[0;36m_call_flat\u001b[0;34m(self, args, captured_inputs, cancellation_manager)\u001b[0m\n\u001b[1;32m   1961\u001b[0m         and executing_eagerly):\n\u001b[1;32m   1962\u001b[0m       \u001b[0;31m# No tape is watching; skip to running the function.\u001b[0m\u001b[0;34m\u001b[0m\u001b[0;34m\u001b[0m\u001b[0m\n\u001b[0;32m-> 1963\u001b[0;31m       return self._build_call_outputs(self._inference_function.call(\n\u001b[0m\u001b[1;32m   1964\u001b[0m           ctx, args, cancellation_manager=cancellation_manager))\n\u001b[1;32m   1965\u001b[0m     forward_backward = self._select_forward_and_backward_functions(\n",
      "\u001b[0;32m/opt/conda/lib/python3.9/site-packages/tensorflow/python/eager/function.py\u001b[0m in \u001b[0;36mcall\u001b[0;34m(self, ctx, args, cancellation_manager)\u001b[0m\n\u001b[1;32m    589\u001b[0m       \u001b[0;32mwith\u001b[0m \u001b[0m_InterpolateFunctionError\u001b[0m\u001b[0;34m(\u001b[0m\u001b[0mself\u001b[0m\u001b[0;34m)\u001b[0m\u001b[0;34m:\u001b[0m\u001b[0;34m\u001b[0m\u001b[0;34m\u001b[0m\u001b[0m\n\u001b[1;32m    590\u001b[0m         \u001b[0;32mif\u001b[0m \u001b[0mcancellation_manager\u001b[0m \u001b[0;32mis\u001b[0m \u001b[0;32mNone\u001b[0m\u001b[0;34m:\u001b[0m\u001b[0;34m\u001b[0m\u001b[0;34m\u001b[0m\u001b[0m\n\u001b[0;32m--> 591\u001b[0;31m           outputs = execute.execute(\n\u001b[0m\u001b[1;32m    592\u001b[0m               \u001b[0mstr\u001b[0m\u001b[0;34m(\u001b[0m\u001b[0mself\u001b[0m\u001b[0;34m.\u001b[0m\u001b[0msignature\u001b[0m\u001b[0;34m.\u001b[0m\u001b[0mname\u001b[0m\u001b[0;34m)\u001b[0m\u001b[0;34m,\u001b[0m\u001b[0;34m\u001b[0m\u001b[0;34m\u001b[0m\u001b[0m\n\u001b[1;32m    593\u001b[0m               \u001b[0mnum_outputs\u001b[0m\u001b[0;34m=\u001b[0m\u001b[0mself\u001b[0m\u001b[0;34m.\u001b[0m\u001b[0m_num_outputs\u001b[0m\u001b[0;34m,\u001b[0m\u001b[0;34m\u001b[0m\u001b[0;34m\u001b[0m\u001b[0m\n",
      "\u001b[0;32m/opt/conda/lib/python3.9/site-packages/tensorflow/python/eager/execute.py\u001b[0m in \u001b[0;36mquick_execute\u001b[0;34m(op_name, num_outputs, inputs, attrs, ctx, name)\u001b[0m\n\u001b[1;32m     57\u001b[0m   \u001b[0;32mtry\u001b[0m\u001b[0;34m:\u001b[0m\u001b[0;34m\u001b[0m\u001b[0;34m\u001b[0m\u001b[0m\n\u001b[1;32m     58\u001b[0m     \u001b[0mctx\u001b[0m\u001b[0;34m.\u001b[0m\u001b[0mensure_initialized\u001b[0m\u001b[0;34m(\u001b[0m\u001b[0;34m)\u001b[0m\u001b[0;34m\u001b[0m\u001b[0;34m\u001b[0m\u001b[0m\n\u001b[0;32m---> 59\u001b[0;31m     tensors = pywrap_tfe.TFE_Py_Execute(ctx._handle, device_name, op_name,\n\u001b[0m\u001b[1;32m     60\u001b[0m                                         inputs, attrs, num_outputs)\n\u001b[1;32m     61\u001b[0m   \u001b[0;32mexcept\u001b[0m \u001b[0mcore\u001b[0m\u001b[0;34m.\u001b[0m\u001b[0m_NotOkStatusException\u001b[0m \u001b[0;32mas\u001b[0m \u001b[0me\u001b[0m\u001b[0;34m:\u001b[0m\u001b[0;34m\u001b[0m\u001b[0;34m\u001b[0m\u001b[0m\n",
      "\u001b[0;31mInvalidArgumentError\u001b[0m: 2 root error(s) found.\n  (0) Invalid argument:  StringToNumberOp could not correctly convert string: n02096585-boston_bull\n\t [[{{node StringToNumber}}]]\n\t [[IteratorGetNext]]\n\t [[IteratorGetNext/_2]]\n  (1) Invalid argument:  StringToNumberOp could not correctly convert string: n02096585-boston_bull\n\t [[{{node StringToNumber}}]]\n\t [[IteratorGetNext]]\n0 successful operations.\n0 derived errors ignored. [Op:__inference_test_function_14826]\n\nFunction call stack:\ntest_function -> test_function\n"
     ]
    }
   ],
   "source": [
    "mixup_resnet50.evaluate(final_test_data)"
   ]
  },
  {
   "cell_type": "code",
   "execution_count": null,
   "id": "56d20725",
   "metadata": {},
   "outputs": [],
   "source": []
  }
 ],
 "metadata": {
  "colab": {
   "provenance": []
  },
  "kernelspec": {
   "display_name": "Python 3 (ipykernel)",
   "language": "python",
   "name": "python3"
  },
  "language_info": {
   "codemirror_mode": {
    "name": "ipython",
    "version": 3
   },
   "file_extension": ".py",
   "mimetype": "text/x-python",
   "name": "python",
   "nbconvert_exporter": "python",
   "pygments_lexer": "ipython3",
   "version": "3.9.7"
  }
 },
 "nbformat": 4,
 "nbformat_minor": 5
}
